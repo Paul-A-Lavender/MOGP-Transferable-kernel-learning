{
 "cells": [
  {
   "cell_type": "code",
   "execution_count": 1,
   "metadata": {},
   "outputs": [
    {
     "name": "stderr",
     "output_type": "stream",
     "text": [
      "2024-08-12 13:46:46,191 - my_logger - INFO - 这是普通信息\n",
      "2024-08-12 13:46:46,192 - my_logger - WARNING - 这是警告信息\n",
      "2024-08-12 13:46:46,193 - my_logger - ERROR - 这是错误信息\n",
      "2024-08-12 13:46:46,193 - my_logger - CRITICAL - 这是严重错误信息\n"
     ]
    }
   ],
   "source": [
    "import logging\n",
    "\n",
    "# 创建一个logger\n",
    "logger = logging.getLogger('my_logger')\n",
    "logger.setLevel(logging.DEBUG)\n",
    "\n",
    "# 创建文件处理器，写入日志文件\n",
    "fh = logging.FileHandler('app.log')\n",
    "fh.setLevel(logging.DEBUG)\n",
    "\n",
    "# 创建控制台处理器，输出到控制台\n",
    "ch = logging.StreamHandler()\n",
    "\n",
    "# 设置日志格式\n",
    "formatter = logging.Formatter('%(asctime)s - %(levelname)s - %(message)s')\n",
    "fh.setFormatter(formatter)\n",
    "\n",
    "# 将处理器添加到logger中\n",
    "logger.addHandler(fh)\n",
    "\n",
    "# 记录日志\n",
    "logger.debug('这是调试信息')\n",
    "logger.info('这是普通信息')\n",
    "logger.warning('这是警告信息')\n",
    "logger.error('这是错误信息')\n",
    "logger.critical('这是严重错误信息')\n"
   ]
  }
 ],
 "metadata": {
  "kernelspec": {
   "display_name": "base",
   "language": "python",
   "name": "python3"
  },
  "language_info": {
   "codemirror_mode": {
    "name": "ipython",
    "version": 3
   },
   "file_extension": ".py",
   "mimetype": "text/x-python",
   "name": "python",
   "nbconvert_exporter": "python",
   "pygments_lexer": "ipython3",
   "version": "3.12.4"
  }
 },
 "nbformat": 4,
 "nbformat_minor": 2
}
