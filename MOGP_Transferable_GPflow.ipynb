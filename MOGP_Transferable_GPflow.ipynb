{
 "cells": [
  {
   "cell_type": "code",
   "execution_count": 126,
   "metadata": {},
   "outputs": [],
   "source": [
    "import matplotlib.pyplot as plt\n",
    "import numpy as np\n",
    "import pandas as pd\n",
    "import gpflow as gpf\n",
    "from gpflow.ci_utils import reduce_in_tests\n",
    "from gpflow.utilities import print_summary\n",
    "from sklearn.model_selection import train_test_split\n",
    "import pickle\n",
    "from sklearn.preprocessing import StandardScaler\n",
    "from sklearn.cluster import KMeans\n",
    "import tensorflow as tf\n",
    "\n",
    "gpf.config.set_default_float(np.float64)\n",
    "gpf.config.set_default_summary_fmt(\"notebook\")\n",
    "np.random.seed(0)\n",
    "%matplotlib inline\n",
    "\n",
    "MAXITER = reduce_in_tests(2000)"
   ]
  },
  {
   "cell_type": "code",
   "execution_count": 127,
   "metadata": {},
   "outputs": [],
   "source": [
    "X_df=None\n",
    "X_domain_info=None\n",
    "y_df=None\n",
    "with open('X_df.pkl', 'rb') as f:\n",
    "    X_df = pickle.load(f)\n",
    "with open('X_domain_info.pkl', 'rb') as f:\n",
    "    X_domain_info = pickle.load(f)\n",
    "with open('y_df.pkl', 'rb') as f:\n",
    "    y_df = pickle.load(f)\n",
    "\n",
    "df = pd.read_csv('GDSC1_melanoma_BRAF_5conc_noreps_v3.csv')\n",
    "X_df = df[['ARID1A_mut', 'ARID2_mut', 'BRAF_mut', 'CDKN2A_mut',\n",
    "       'EZH2_mut', 'MECOM_mut', 'NF1_mut', 'NRAS_mut', 'PLCB1_mut', 'PTEN_mut',\n",
    "       'TP53_mut', 'loss.cnaSKCM3', 'loss.cnaSKCM4..BNC2.CDKN2A.JAK2.PSIP1.',\n",
    "       'loss.cnaSKCM5..PAX5.', 'loss.cnaSKCM9', 'gain.cnaSKCM12..KRAS.',\n",
    "       'gain.cnaSKCM21..FOXP1.MITF.', 'loss.cnaSKCM22', 'loss.cnaSKCM23',\n",
    "       'loss.cnaSKCM24..loss.cnaSKCM25', 'loss.cnaSKCM26',\n",
    "       'loss.cnaSKCM27..CASP1.', 'loss.cnaSKCM28', 'loss.cnaSKCM30']]\n",
    "y_df = df[['norm_cells_1', 'norm_cells_2', 'norm_cells_3',\n",
    "       'norm_cells_4', 'norm_cells_5']]\n",
    "\n",
    "\n",
    "num_conc=y_df.shape[1]\n",
    "X_train, X_test, y_train, y_test = train_test_split(X_df, y_df, test_size=0.1, random_state=42)\n",
    "\n",
    "\n",
    "X_train = np.array(X_train, dtype=np.float64)\n",
    "y_train = np.array(y_train, dtype=np.float64)\n",
    "X_test = np.array(X_test, dtype=np.float64)\n",
    "y_test = np.array(y_test, dtype=np.float64)\n",
    "\n",
    "# scaler = StandardScaler()\n",
    "# X_train = scaler.fit_transform(X_train)\n",
    "# X_test = scaler.transform(X_test)"
   ]
  },
  {
   "cell_type": "code",
   "execution_count": 128,
   "metadata": {},
   "outputs": [
    {
     "name": "stdout",
     "output_type": "stream",
     "text": [
      "MUT features:11.0\n",
      "Met features:0.0\n",
      "CNA features:13.0\n",
      "DC features:0.0\n"
     ]
    }
   ],
   "source": [
    "\n",
    "mask_bool_met = X_df.columns.str.contains(\"HypMET\")\n",
    "mask_bool_mut = X_df.columns.str.contains(\"mut\")\n",
    "mask_bool_cna = X_df.columns.str.contains(\"cna\")\n",
    "mask_bool_dc  = X_df.columns.str.contains(\"dc\")\n",
    "\n",
    "mask_float_met = np.array(mask_bool_met, dtype=np.float64) \n",
    "mask_float_mut = np.array(mask_bool_mut, dtype=np.float64)\n",
    "mask_float_cna = np.array(mask_bool_cna, dtype=np.float64)\n",
    "mask_float_dc  = np.array(mask_bool_dc, dtype=np.float64)\n",
    "\n",
    "diag_matrix_met = np.diag(mask_float_met)\n",
    "diag_matrix_mut = np.diag(mask_float_mut)\n",
    "diag_matrix_cna = np.diag(mask_float_cna)\n",
    "diag_matrix_dc  = np.diag(mask_float_dc)\n",
    "filters=(diag_matrix_mut,diag_matrix_met,diag_matrix_cna,diag_matrix_dc)\n",
    "print(\"MUT features:\"+str(np.sum(mask_float_mut)))\n",
    "print(\"Met features:\"+str(np.sum(mask_float_met)))\n",
    "print(\"CNA features:\"+str(np.sum(mask_float_cna)))\n",
    "print(\"DC features:\"+str(np.sum(mask_float_dc)))"
   ]
  },
  {
   "cell_type": "code",
   "execution_count": 129,
   "metadata": {},
   "outputs": [
    {
     "name": "stdout",
     "output_type": "stream",
     "text": [
      "number of points: 72\n",
      "number of input dimensions: 24\n",
      "number of inducing points: 14\n",
      "number of latent GPs: 5\n",
      "number of observations = output dimensions: 5\n"
     ]
    }
   ],
   "source": [
    "N = X_train.shape[0]  # number of points\n",
    "D = X_train.shape[1]  # number of input dimensions\n",
    "M = 14  # number of inducing points\n",
    "L = 5 # number of latent GPs\n",
    "P = y_train.shape[1]  # number of observations = output dimensions\n",
    "\n",
    "# N = 100  # number of points\n",
    "# D = 1  # number of input dimensions\n",
    "# M = 15  # number of inducing points\n",
    "# L = 2  # number of latent GPs\n",
    "# P = 3  # number of observations = output dimensions\n",
    "\n",
    "print(\"number of points: {}\".format(N))\n",
    "print(\"number of input dimensions: {}\".format(D))\n",
    "print(\"number of inducing points: {}\".format(M))\n",
    "print(\"number of latent GPs: {}\".format(L))\n",
    "print(\"number of observations = output dimensions: {}\".format(P))"
   ]
  },
  {
   "cell_type": "code",
   "execution_count": 130,
   "metadata": {},
   "outputs": [
    {
     "name": "stderr",
     "output_type": "stream",
     "text": [
      "c:\\Users\\25858\\anaconda3\\Lib\\site-packages\\sklearn\\cluster\\_kmeans.py:1446: UserWarning: KMeans is known to have a memory leak on Windows with MKL, when there are less chunks than available threads. You can avoid it by setting the environment variable OMP_NUM_THREADS=1.\n",
      "  warnings.warn(\n"
     ]
    }
   ],
   "source": [
    "X, Y = data =X_train,y_train\n",
    "\n",
    "\n",
    "def select_kmeans_inducing_points(X, M):\n",
    "    # 使用 k-means 聚类找到 M 个中心点\n",
    "    kmeans = KMeans(n_clusters=M, random_state=0).fit(X)\n",
    "    return kmeans.cluster_centers_\n",
    "\n",
    "# 使用示例\n",
    "Zinit = select_kmeans_inducing_points(X, M)\n"
   ]
  },
  {
   "cell_type": "code",
   "execution_count": 131,
   "metadata": {},
   "outputs": [],
   "source": [
    "# def generate_data(N=100):\n",
    "#     X = np.random.rand(N)[:, None] * 10 - 5  # Inputs = N x D\n",
    "#     G = np.hstack((0.5 * np.sin(3 * X) + X, 3.0 * np.cos(X) - X))  # G = N x L\n",
    "#     W = np.array([[0.5, -0.3, 1.5], [-0.4, 0.43, 0.0]])  # L x P\n",
    "#     F = np.matmul(G, W)  # N x P\n",
    "#     Y = F + np.random.randn(*F.shape) * [0.2, 0.2, 0.2]\n",
    "\n",
    "#     return X, Y\n",
    "\n",
    "# X, Y = data = generate_data(N)\n",
    "# Zinit = np.linspace(-5, 5, M)[:, None]"
   ]
  },
  {
   "cell_type": "code",
   "execution_count": 132,
   "metadata": {},
   "outputs": [],
   "source": [
    "class QuadripleRBFKernel(gpf.kernels.Kernel):\n",
    "    def __init__(self, lc_mut=1.0, lc_met=1.0, lc_cna=1.0, variance=1.0, **kwargs):\n",
    "        super().__init__(**kwargs)\n",
    "        self.lc_mut = gpf.Parameter(lc_mut)\n",
    "        self.lc_met = gpf.Parameter(lc_met)\n",
    "        self.lc_cna = gpf.Parameter(lc_cna)\n",
    "        self.variance = gpf.Parameter(variance)\n",
    "\n",
    "        # Define the diagonal matrices as parameters\n",
    "        self.diag_matrix_mut = diag_matrix_mut  \n",
    "        self.diag_matrix_met = diag_matrix_met \n",
    "        self.diag_matrix_cna = diag_matrix_cna \n",
    "\n",
    "    def K(self, X, X2=None):\n",
    "        if X2 is None:\n",
    "            X2 = X\n",
    "        \n",
    "        # Compute the kernel matrix with the parameters\n",
    "        X = tf.matmul(X, self.diag_matrix_mut / self.lc_mut + self.diag_matrix_met / self.lc_met + self.diag_matrix_cna / self.lc_cna)\n",
    "        X2 = tf.matmul(X2, self.diag_matrix_mut / self.lc_mut + self.diag_matrix_met / self.lc_met + self.diag_matrix_cna / self.lc_cna)\n",
    "        sqdist = tf.reduce_sum(tf.square(X[:, None, :] - X2[None, :, :]), axis=-1)\n",
    "        return self.variance * tf.exp(-0.5 * sqdist)\n",
    "\n",
    "    def K_diag(self, X):\n",
    "        return tf.fill([tf.shape(X)[0]], self.variance)\n"
   ]
  },
  {
   "cell_type": "code",
   "execution_count": 133,
   "metadata": {},
   "outputs": [],
   "source": [
    "def plot_model(m, lower=-8.0, upper=8.0):\n",
    "    pX = np.linspace(lower, upper, 100)[:, None]\n",
    "    pY, pYv = m.predict_y(pX)\n",
    "    if pY.ndim == 3:\n",
    "        pY = pY[:, 0, :]\n",
    "    plt.plot(X, Y, \"x\")\n",
    "    plt.gca().set_prop_cycle(None)\n",
    "    plt.plot(pX, pY)\n",
    "    for i in range(pY.shape[1]):\n",
    "        top = pY[:, i] + 2.0 * pYv[:, i] ** 0.5\n",
    "        bot = pY[:, i] - 2.0 * pYv[:, i] ** 0.5\n",
    "        plt.fill_between(pX[:, 0], top, bot, alpha=0.3)\n",
    "    plt.xlabel(\"X\")\n",
    "    plt.ylabel(\"f\")\n",
    "    plt.title(f\"ELBO: {m.elbo(data):.3}\")\n",
    "    plt.plot(Z, Z * 0.0, \"o\")"
   ]
  },
  {
   "cell_type": "code",
   "execution_count": 134,
   "metadata": {},
   "outputs": [],
   "source": [
    "def optimize_model_with_scipy(model):\n",
    "    optimizer = gpf.optimizers.Scipy()\n",
    "    optimizer.minimize(\n",
    "        model.training_loss_closure(data),\n",
    "        variables=model.trainable_variables,\n",
    "        options={\"maxiter\": MAXITER},\n",
    "    )\n"
   ]
  },
  {
   "cell_type": "code",
   "execution_count": 135,
   "metadata": {},
   "outputs": [],
   "source": [
    "# Create list of kernels for each output\n",
    "kern_list = [\n",
    "    # gpf.kernels.SquaredExponential() + gpf.kernels.Linear() for _ in range(L)\n",
    "    gpf.kernels.Linear()  for _ in range(L)\n",
    "]\n",
    "# Create multi-output kernel from kernel list\n",
    "kernel = gpf.kernels.LinearCoregionalization(\n",
    "    kern_list, W=np.random.randn(P, L)\n",
    ")  # Notice that we initialise the mixing matrix W\n",
    "# initialisation of inducing input locations (M random points from the training inputs)\n",
    "Z = Zinit.copy()\n",
    "# create multi-output inducing variables from Z\n",
    "iv = gpf.inducing_variables.SharedIndependentInducingVariables(\n",
    "    gpf.inducing_variables.InducingPoints(Z)\n",
    ")"
   ]
  },
  {
   "cell_type": "code",
   "execution_count": 136,
   "metadata": {},
   "outputs": [],
   "source": [
    "# initialize mean of variational posterior to be of shape MxL\n",
    "q_mu = np.zeros((M, L))\n",
    "# initialize \\sqrt(Σ) of variational posterior to be of shape LxMxM\n",
    "q_sqrt = np.repeat(np.eye(M)[None, ...], L, axis=0) * 1.0\n",
    "\n",
    "# create SVGP model as usual and optimize\n",
    "m = gpf.models.SVGP(\n",
    "    kernel,\n",
    "    gpf.likelihoods.Gaussian(),\n",
    "    inducing_variable=iv,\n",
    "    q_mu=q_mu,\n",
    "    q_sqrt=q_sqrt,\n",
    ")"
   ]
  },
  {
   "cell_type": "code",
   "execution_count": 137,
   "metadata": {},
   "outputs": [],
   "source": [
    "optimize_model_with_scipy(m)"
   ]
  },
  {
   "cell_type": "code",
   "execution_count": 138,
   "metadata": {},
   "outputs": [
    {
     "data": {
      "text/html": [
       "<table>\n",
       "<thead>\n",
       "<tr><th>name                                      </th><th>class    </th><th>transform       </th><th>prior  </th><th>trainable  </th><th>shape      </th><th>dtype  </th><th>value                                               </th></tr>\n",
       "</thead>\n",
       "<tbody>\n",
       "<tr><td>SVGP.kernel.kernels[0].variance           </td><td>Parameter</td><td>Softplus        </td><td>       </td><td>True       </td><td>()         </td><td>float64</td><td>0.021281606402363117                                </td></tr>\n",
       "<tr><td>SVGP.kernel.kernels[1].variance           </td><td>Parameter</td><td>Softplus        </td><td>       </td><td>True       </td><td>()         </td><td>float64</td><td>0.16379404267215755                                 </td></tr>\n",
       "<tr><td>SVGP.kernel.kernels[2].variance           </td><td>Parameter</td><td>Softplus        </td><td>       </td><td>True       </td><td>()         </td><td>float64</td><td>0.5328858964211908                                  </td></tr>\n",
       "<tr><td>SVGP.kernel.kernels[3].variance           </td><td>Parameter</td><td>Softplus        </td><td>       </td><td>True       </td><td>()         </td><td>float64</td><td>0.09239676095643863                                 </td></tr>\n",
       "<tr><td>SVGP.kernel.kernels[4].variance           </td><td>Parameter</td><td>Softplus        </td><td>       </td><td>True       </td><td>()         </td><td>float64</td><td>0.02373185545046562                                 </td></tr>\n",
       "<tr><td>SVGP.kernel.W                             </td><td>Parameter</td><td>Identity        </td><td>       </td><td>True       </td><td>(5, 5)     </td><td>float64</td><td>[[1.90376483e-06, 4.14654889e-01, 5.43607301e-06... </td></tr>\n",
       "<tr><td>SVGP.likelihood.variance                  </td><td>Parameter</td><td>Softplus + Shift</td><td>       </td><td>True       </td><td>()         </td><td>float64</td><td>0.0703120838960479                                  </td></tr>\n",
       "<tr><td>SVGP.inducing_variable.inducing_variable.Z</td><td>Parameter</td><td>Identity        </td><td>       </td><td>True       </td><td>(14, 24)   </td><td>float64</td><td>[[-4.18070257e-02, 1.55958421e-02, 1.40560000e+00...</td></tr>\n",
       "<tr><td>SVGP.q_mu                                 </td><td>Parameter</td><td>Identity        </td><td>       </td><td>True       </td><td>(14, 5)    </td><td>float64</td><td>[[9.74555666e-05, 2.55264000e+00, 2.71274489e-04... </td></tr>\n",
       "<tr><td>SVGP.q_sqrt                               </td><td>Parameter</td><td>FillTriangular  </td><td>       </td><td>True       </td><td>(5, 14, 14)</td><td>float64</td><td>[[[1.00018000e+00, 0.00000000e+00, 0.00000000e+00...</td></tr>\n",
       "</tbody>\n",
       "</table>"
      ],
      "text/plain": [
       "<IPython.core.display.HTML object>"
      ]
     },
     "metadata": {},
     "output_type": "display_data"
    }
   ],
   "source": [
    "# 打印模型摘要\n",
    "print_summary(m)"
   ]
  },
  {
   "cell_type": "code",
   "execution_count": 139,
   "metadata": {},
   "outputs": [],
   "source": [
    "# def plot_model(m, lower=-8.0, upper=8.0):\n",
    "#     pX = np.linspace(lower, upper, 100)[:, None]\n",
    "#     pY, pYv = m.predict_y(pX)\n",
    "#     if pY.ndim == 3:\n",
    "#         pY = pY[:, 0, :]\n",
    "#     plt.plot(X, Y, \"x\")\n",
    "#     plt.gca().set_prop_cycle(None)\n",
    "#     plt.plot(pX, pY)\n",
    "#     for i in range(pY.shape[1]):\n",
    "#         top = pY[:, i] + 2.0 * pYv[:, i] ** 0.5\n",
    "#         bot = pY[:, i] - 2.0 * pYv[:, i] ** 0.5\n",
    "#         plt.fill_between(pX[:, 0], top, bot, alpha=0.3)\n",
    "#     plt.xlabel(\"X\")\n",
    "#     plt.ylabel(\"f\")\n",
    "#     plt.title(f\"ELBO: {m.elbo(data):.3}\")\n",
    "#     plt.plot(Z, Z * 0.0, \"o\")\n",
    "\n",
    "# plot_model(m)"
   ]
  },
  {
   "cell_type": "code",
   "execution_count": 143,
   "metadata": {},
   "outputs": [
    {
     "name": "stdout",
     "output_type": "stream",
     "text": [
      "Num 5 Chosen for display\n",
      "tf.Tensor([1.00764325 0.92982353 0.79082945 0.73738358 0.76538743], shape=(5,), dtype=float64)\n",
      "[[0.95441962 0.93985275 0.90265265 0.98586135 0.92317993]]\n"
     ]
    },
    {
     "data": {
      "image/png": "[encoded data removed]",
      "text/plain": [
       "<Figure size 1000x600 with 1 Axes>"
      ]
     },
     "metadata": {},
     "output_type": "display_data"
    }
   ],
   "source": [
    "\n",
    "random_num = np.random.randint(0, len(X_test), size=1)[0]\n",
    "print(\"Num \"+str(random_num)+\" Chosen for display\")\n",
    "\n",
    "\n",
    "X_test_rnd=X_test[random_num:random_num+1]\n",
    "y_true=y_test[random_num:random_num+1]\n",
    "\n",
    "mean, variance = m.predict_y(X_test_rnd)\n",
    "\n",
    "X_plt_axis=np.arange(y_true.shape[1])\n",
    "print(mean[0])\n",
    "print(y_true)\n",
    "\n",
    "plt.figure(figsize=(10, 6))\n",
    "plt.plot(X_plt_axis, mean[0], label='Predicted', color='blue')\n",
    "plt.plot(X_plt_axis, y_true[0], label='True', color='red')\n",
    "plt.fill_between(X_plt_axis, mean[0]+ 2.0 * variance[0] ** 0.5, mean[0]- 2.0 * variance[0] ** 0.5, alpha=0.5)\n",
    "# 添加标题和标签\n",
    "plt.title('Comparison of Two Smoothed Curves')\n",
    "plt.xlabel('X-axis')\n",
    "# plt.ylim(-0.5, 1.5)\n",
    "plt.ylabel('Y-axis')\n",
    "plt.legend()\n",
    "plt.grid(True)\n",
    "\n"
   ]
  },
  {
   "cell_type": "code",
   "execution_count": null,
   "metadata": {},
   "outputs": [],
   "source": []
  }
 ],
 "metadata": {
  "kernelspec": {
   "display_name": "base",
   "language": "python",
   "name": "python3"
  },
  "language_info": {
   "codemirror_mode": {
    "name": "ipython",
    "version": 3
   },
   "file_extension": ".py",
   "mimetype": "text/x-python",
   "name": "python",
   "nbconvert_exporter": "python",
   "pygments_lexer": "ipython3",
   "version": "3.12.4"
  }
 },
 "nbformat": 4,
 "nbformat_minor": 2
}
