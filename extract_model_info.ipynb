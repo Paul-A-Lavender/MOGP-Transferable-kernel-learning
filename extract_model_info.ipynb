{
 "cells": [
  {
   "cell_type": "code",
   "execution_count": 30,
   "metadata": {},
   "outputs": [],
   "source": [
    "import re\n",
    "\n",
    "# 定义正则表达式模式，允许NLL为负值\n",
    "start_pattern = re.compile(r\"training starts for model <class '([^']+)'> with kernel <class '([^']+)'>; lr: ([\\d\\.e\\-]+); step_size:([\\d\\.e\\-]+); gamma:([\\d\\.e\\-]+)\")\n",
    "nll_pattern = re.compile(r\"NLL: (-?[\\d\\.]+); RMSE: ([\\d\\.]+); NMSE: ([\\d\\.]+)\")\n",
    "\n",
    "# 用于存储所有模型的相关信息\n",
    "models_info = []\n",
    "\n",
    "# 打开并逐行读取文件\n",
    "with open('logs/30_shotsCrossVal.log', 'r', encoding='utf-8') as file:\n",
    "    current_model = {}\n",
    "    for line in file:\n",
    "        # 检查是否是训练开始的信息行\n",
    "        start_match = start_pattern.search(line)\n",
    "        if start_match:\n",
    "            # 如果发现新的训练开始行，重置current_model\n",
    "            current_model = {\n",
    "                'model_class': start_match.group(1),\n",
    "                'kernel_class': start_match.group(2),\n",
    "                'lr': float(start_match.group(3)),\n",
    "                'step_size': float(start_match.group(4)),\n",
    "                'gamma': float(start_match.group(5)),\n",
    "                'NLL': None,\n",
    "                'RMSE': None,\n",
    "                'NMSE': None,\n",
    "                'details': []  # 用于存储该模型的所有相关日志行（可选）\n",
    "            }\n",
    "\n",
    "            current_model['details'].append(line.strip())\n",
    "            if  current_model['kernel_class']!=\"gpytorch.kernels.rbf_kernel.RBFKernel\" or current_model['model_class']!=\"__main__.Linear_Model_Of_Corregionalization\" :\n",
    "                current_model={}\n",
    "            continue  # 继续读取下一行\n",
    "\n",
    "        # 如果已经在一个模型块内，记录相关的日志行（可选）\n",
    "        if current_model:\n",
    "            current_model['details'].append(line.strip())\n",
    "\n",
    "        # 检查是否是NLL信息行\n",
    "        nll_match = nll_pattern.search(line)\n",
    "        if nll_match and current_model:\n",
    "            # 提取NLL, RMSE, NMSE值\n",
    "            current_model['NLL'] = float(nll_match.group(1))\n",
    "            current_model['RMSE'] = float(nll_match.group(2))\n",
    "            current_model['NMSE'] = float(nll_match.group(3))\n",
    "            # 将当前模型的信息添加到models_info列表中\n",
    "            models_info.append(current_model)\n",
    "            # 重置current_model，准备解析下一个模型块\n",
    "            current_model = {}\n",
    "\n",
    "# 按照NLL值对模型进行排序\n",
    "models_info.sort(key=lambda x: x['NLL'])\n",
    "\n",
    "# 选择NLL最低的n个模型\n",
    "n = 10 # 可以根据需要调整n的值\n",
    "top_n_models = models_info[:n]\n",
    "\n",
    "# 输出结果\n",
    "for idx, model in enumerate(top_n_models, 1):\n",
    "    print(f\"第{idx}个NLL最低的模型：\")\n",
    "    print(f\"模型类：{model['model_class']}\")\n",
    "    print(f\"核函数类：{model['kernel_class']}\")\n",
    "    print(f\"学习率 (lr)：{model['lr']}\")\n",
    "    print(f\"步长 (step_size)：{model['step_size']}\")\n",
    "    print(f\"Gamma：{model['gamma']}\")\n",
    "    print(f\"NLL：{model['NLL']}\")\n",
    "    print(f\"RMSE：{model['RMSE']}\")\n",
    "    print(f\"NMSE：{model['NMSE']}\")\n",
    "    # print(\"相关日志详情：\")\n",
    "    # for detail in model['details']:\n",
    "    #     print(detail)\n",
    "    print(\"-\" * 40)\n"
   ]
  },
  {
   "cell_type": "markdown",
   "metadata": {},
   "source": [
    "# RBF"
   ]
  },
  {
   "cell_type": "code",
   "execution_count": 2,
   "metadata": {},
   "outputs": [],
   "source": [
    "# 第1个NLL最低的模型：\n",
    "# 模型类：__main__.MultitaskGP\n",
    "# 核函数类：gpytorch.kernels.rbf_kernel.RBFKernel\n",
    "# 学习率 (lr)：0.17787475883960724\n",
    "# 步长 (step_size)：55.0\n",
    "# Gamma：0.800000011920929\n",
    "# NLL：-1.1935\n",
    "# RMSE：0.1673\n",
    "# NMSE：0.8583\n",
    "\n",
    "# 第1个NLL最低的模型：\n",
    "# 模型类：__main__.Linear_Model_Of_Corregionalization\n",
    "# 核函数类：gpytorch.kernels.rbf_kernel.RBFKernel\n",
    "# 学习率 (lr)：0.6907755732536316\n",
    "# 步长 (step_size)：32.5\n",
    "# Gamma：0.5\n",
    "# NLL：-1.1955\n",
    "# RMSE：0.1698\n",
    "# NMSE：0.871"
   ]
  },
  {
   "cell_type": "markdown",
   "metadata": {},
   "source": [
    "# K_MS"
   ]
  },
  {
   "cell_type": "code",
   "execution_count": 3,
   "metadata": {},
   "outputs": [],
   "source": [
    "# 第1个NLL最低的模型：\n",
    "# 模型类：__main__.MultitaskGP\n",
    "# 核函数类：__main__.K_MS\n",
    "# 学习率 (lr)：0.5198085904121399\n",
    "# 步长 (step_size)：100.0\n",
    "# Gamma：0.5\n",
    "# NLL：-1.2168\n",
    "# RMSE：0.1684\n",
    "# NMSE：0.8635\n",
    "\n",
    "# 第1个NLL最低的模型：\n",
    "# 模型类：__main__.Linear_Model_Of_Corregionalization\n",
    "# 核函数类：__main__.K_MS\n",
    "# 学习率 (lr)：0.17787475883960724\n",
    "# 步长 (step_size)：100.0\n",
    "# Gamma：0.800000011920929\n",
    "# NLL：-1.2433\n",
    "# RMSE：0.1674\n",
    "# NMSE：0.8588"
   ]
  },
  {
   "cell_type": "markdown",
   "metadata": {},
   "source": [
    "K_AB"
   ]
  },
  {
   "cell_type": "code",
   "execution_count": 4,
   "metadata": {},
   "outputs": [],
   "source": [
    "# 第1个NLL最低的模型：\n",
    "# 模型类：__main__.MultitaskGP\n",
    "# 核函数类：__main__.K_Alpha_Beta\n",
    "# 学习率 (lr)：0.17787475883960724\n",
    "# 步长 (step_size)：32.5\n",
    "# Gamma：0.6499999761581421\n",
    "# NLL：-1.1767\n",
    "# RMSE：0.1698\n",
    "# NMSE：0.8709\n",
    "\n",
    "# 第1个NLL最低的模型：\n",
    "# 模型类：__main__.Linear_Model_Of_Corregionalization\n",
    "# 核函数类：__main__.K_Alpha_Beta\n",
    "# 学习率 (lr)：0.6907755732536316\n",
    "# 步长 (step_size)：77.5\n",
    "# Gamma：0.20000000298023224\n",
    "# NLL：-1.2061\n",
    "# RMSE：0.1712\n",
    "# NMSE：0.8784\n"
   ]
  },
  {
   "cell_type": "markdown",
   "metadata": {},
   "source": [
    "# 8 shots"
   ]
  },
  {
   "cell_type": "markdown",
   "metadata": {},
   "source": [
    "## LMC"
   ]
  },
  {
   "cell_type": "code",
   "execution_count": 5,
   "metadata": {},
   "outputs": [],
   "source": [
    "__main__.K_MS_with_Feat_Scaling"
   ]
  },
  {
   "cell_type": "markdown",
   "metadata": {},
   "source": [
    "## MTGP"
   ]
  },
  {
   "cell_type": "code",
   "execution_count": 6,
   "metadata": {},
   "outputs": [],
   "source": [
    "# 第1个NLL最低的模型：\n",
    "# 模型类：__main__.MultitaskGP\n",
    "# 核函数类：gpytorch.kernels.rbf_kernel.RBFKernel\n",
    "# 学习率 (lr)：0.17787475883960724\n",
    "# 步长 (step_size)：100.0\n",
    "# Gamma：0.6499999761581421\n",
    "# NLL：-1.1929\n",
    "# RMSE：0.1698\n",
    "# NMSE：0.8709\n",
    "\n",
    "# 第1个NLL最低的模型：\n",
    "# 模型类：__main__.MultitaskGP\n",
    "# 核函数类：__main__.K_MS\n",
    "# 学习率 (lr)：0.17787475883960724\n",
    "# 步长 (step_size)：32.5\n",
    "# Gamma：0.800000011920929\n",
    "# NLL：-1.2149\n",
    "# RMSE：0.1679\n",
    "# NMSE：0.861\n",
    "\n",
    "# 第1个NLL最低的模型：\n",
    "# 模型类：__main__.MultitaskGP\n",
    "# 核函数类：__main__.K_Alpha_Beta\n",
    "# 学习率 (lr)：0.17787475883960724\n",
    "# 步长 (step_size)：32.5\n",
    "# Gamma：0.6499999761581421\n",
    "# NLL：-1.193\n",
    "# RMSE：0.1698\n",
    "# NMSE：0.871\n"
   ]
  },
  {
   "cell_type": "markdown",
   "metadata": {},
   "source": [
    "# 3 latent_GP LMC"
   ]
  },
  {
   "cell_type": "code",
   "execution_count": null,
   "metadata": {},
   "outputs": [],
   "source": [
    "# 第1个NLL最低的模型：\n",
    "# 模型类：__main__.Linear_Model_Of_Corregionalization\n",
    "# 核函数类：__main__.K_MS\n",
    "# 学习率 (lr)：0.5198085904121399\n",
    "# 步长 (step_size)：55.0\n",
    "# Gamma：0.6499999761581421\n",
    "# NLL：-1.2451\n",
    "# RMSE：0.169\n",
    "# NMSE：0.8671\n",
    "\n",
    "# 第1个NLL最低的模型：\n",
    "# 模型类：__main__.Linear_Model_Of_Corregionalization\n",
    "# 核函数类：gpytorch.kernels.rbf_kernel.RBFKernel\n",
    "# 学习率 (lr)：0.17787475883960724\n",
    "# 步长 (step_size)：32.5\n",
    "# Gamma：0.6499999761581421\n",
    "# NLL：-1.1923\n",
    "# RMSE：0.1698\n",
    "# NMSE：0.871\n",
    "\n",
    "# 第1个NLL最低的模型：\n",
    "# 模型类：__main__.Linear_Model_Of_Corregionalization\n",
    "# 核函数类：__main__.K_Alpha_Beta\n",
    "# 学习率 (lr)：0.6907755732536316\n",
    "# 步长 (step_size)：10.0\n",
    "# Gamma：0.6499999761581421\n",
    "# NLL：-1.2004\n",
    "# RMSE：0.1696\n",
    "# NMSE：0.8701"
   ]
  }
 ],
 "metadata": {
  "kernelspec": {
   "display_name": "base",
   "language": "python",
   "name": "python3"
  },
  "language_info": {
   "codemirror_mode": {
    "name": "ipython",
    "version": 3
   },
   "file_extension": ".py",
   "mimetype": "text/x-python",
   "name": "python",
   "nbconvert_exporter": "python",
   "pygments_lexer": "ipython3",
   "version": "3.12.4"
  }
 },
 "nbformat": 4,
 "nbformat_minor": 2
}
