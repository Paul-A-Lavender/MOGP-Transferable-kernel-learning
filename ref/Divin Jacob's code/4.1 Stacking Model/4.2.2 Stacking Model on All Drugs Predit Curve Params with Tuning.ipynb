{
 "cells": [
  {
   "cell_type": "code",
   "execution_count": 1,
   "metadata": {},
   "outputs": [],
   "source": [
    "import pandas as pd\n",
    "import numpy as np\n",
    "np.__version__\n",
    "import matplotlib.pyplot as plt\n",
    "_FOLDER = \"../data/\"\n",
    "from sklearn.linear_model import Lasso\n",
    "from sklearn.linear_model import Ridge\n",
    "from sklearn.metrics import mean_squared_error\n",
    "from sklearn.model_selection import \\\n",
    "    KFold, RepeatedKFold, GridSearchCV, \\\n",
    "    cross_validate, train_test_split\n",
    "\n",
    "import json"
   ]
  },
  {
   "cell_type": "code",
   "execution_count": 2,
   "metadata": {},
   "outputs": [],
   "source": [
    "def createResponseCurve(iD,model, xValues, yValues, predicted = False):\n",
    "    plt.scatter(xValues, yValues)\n",
    "    plt.title(model + \" \" + iD)\n",
    "    plt.xlabel(\"Scaled dosage\")\n",
    "    if(predicted):\n",
    "        plt.ylabel(\"Predicted Normalised response\")\n",
    "    else:\n",
    "        plt.ylabel(\"Normalised response\")\n",
    "    plt.show()\n",
    "\n",
    "\n",
    "with open(_FOLDER + 'dataSplit.json') as json_file:\n",
    "    trainTestSplit = json.load(json_file)"
   ]
  },
  {
   "cell_type": "code",
   "execution_count": 3,
   "metadata": {},
   "outputs": [
    {
     "data": {
      "text/html": [
       "<div>\n",
       "<style scoped>\n",
       "    .dataframe tbody tr th:only-of-type {\n",
       "        vertical-align: middle;\n",
       "    }\n",
       "\n",
       "    .dataframe tbody tr th {\n",
       "        vertical-align: top;\n",
       "    }\n",
       "\n",
       "    .dataframe thead th {\n",
       "        text-align: right;\n",
       "    }\n",
       "</style>\n",
       "<table border=\"1\" class=\"dataframe\">\n",
       "  <thead>\n",
       "    <tr style=\"text-align: right;\">\n",
       "      <th></th>\n",
       "      <th>CELL_LINE_NAME</th>\n",
       "      <th>COSMIC_ID</th>\n",
       "      <th>DRUG_ID</th>\n",
       "      <th>DRUGID_COSMICID</th>\n",
       "      <th>MAX_CONC</th>\n",
       "      <th>fd_num_0</th>\n",
       "      <th>fd_num_1</th>\n",
       "      <th>fd_num_2</th>\n",
       "      <th>fd_num_3</th>\n",
       "      <th>fd_num_4</th>\n",
       "      <th>...</th>\n",
       "      <th>chr9:104248247-104249501(C9orf125)_HypMET</th>\n",
       "      <th>chr9:115875199-115875738(C9orf109, C9orf110)_HypMET</th>\n",
       "      <th>chr9:123555399-123555899(FBXW2)_HypMET</th>\n",
       "      <th>chr9:140310894-140312457(EXD3)_HypMET</th>\n",
       "      <th>chr9:21974578-21975306(CDKN2A)_HypMET</th>\n",
       "      <th>chr9:35756948-35757339(MSMP)_HypMET</th>\n",
       "      <th>chr9:35791584-35791924(NPR2)_HypMET</th>\n",
       "      <th>chr9:4984543-4985630(JAK2)_HypMET</th>\n",
       "      <th>chr9:86571047-86572027(C9orf64)_HypMET</th>\n",
       "      <th>chr9:98783216-98784364(NCRNA00092)_HypMET</th>\n",
       "    </tr>\n",
       "  </thead>\n",
       "  <tbody>\n",
       "    <tr>\n",
       "      <th>0</th>\n",
       "      <td>HDQ-P1</td>\n",
       "      <td>1290922</td>\n",
       "      <td>344</td>\n",
       "      <td>344_1290922</td>\n",
       "      <td>20.00</td>\n",
       "      <td>0</td>\n",
       "      <td>0.111111</td>\n",
       "      <td>0.222222</td>\n",
       "      <td>0.333333</td>\n",
       "      <td>0.444444</td>\n",
       "      <td>...</td>\n",
       "      <td>0</td>\n",
       "      <td>0</td>\n",
       "      <td>0</td>\n",
       "      <td>0</td>\n",
       "      <td>0</td>\n",
       "      <td>0</td>\n",
       "      <td>0</td>\n",
       "      <td>0</td>\n",
       "      <td>0</td>\n",
       "      <td>0</td>\n",
       "    </tr>\n",
       "    <tr>\n",
       "      <th>1</th>\n",
       "      <td>HDQ-P1</td>\n",
       "      <td>1290922</td>\n",
       "      <td>136</td>\n",
       "      <td>136_1290922</td>\n",
       "      <td>16.00</td>\n",
       "      <td>0</td>\n",
       "      <td>0.111111</td>\n",
       "      <td>0.222222</td>\n",
       "      <td>0.333333</td>\n",
       "      <td>0.444444</td>\n",
       "      <td>...</td>\n",
       "      <td>0</td>\n",
       "      <td>0</td>\n",
       "      <td>0</td>\n",
       "      <td>0</td>\n",
       "      <td>0</td>\n",
       "      <td>0</td>\n",
       "      <td>0</td>\n",
       "      <td>0</td>\n",
       "      <td>0</td>\n",
       "      <td>0</td>\n",
       "    </tr>\n",
       "    <tr>\n",
       "      <th>2</th>\n",
       "      <td>HDQ-P1</td>\n",
       "      <td>1290922</td>\n",
       "      <td>170</td>\n",
       "      <td>170_1290922</td>\n",
       "      <td>16.00</td>\n",
       "      <td>0</td>\n",
       "      <td>0.111111</td>\n",
       "      <td>0.222222</td>\n",
       "      <td>0.333333</td>\n",
       "      <td>0.444444</td>\n",
       "      <td>...</td>\n",
       "      <td>0</td>\n",
       "      <td>0</td>\n",
       "      <td>0</td>\n",
       "      <td>0</td>\n",
       "      <td>0</td>\n",
       "      <td>0</td>\n",
       "      <td>0</td>\n",
       "      <td>0</td>\n",
       "      <td>0</td>\n",
       "      <td>0</td>\n",
       "    </tr>\n",
       "    <tr>\n",
       "      <th>3</th>\n",
       "      <td>NMC-G1</td>\n",
       "      <td>908449</td>\n",
       "      <td>170</td>\n",
       "      <td>170_908449</td>\n",
       "      <td>16.00</td>\n",
       "      <td>0</td>\n",
       "      <td>0.111111</td>\n",
       "      <td>0.222222</td>\n",
       "      <td>0.333333</td>\n",
       "      <td>0.444444</td>\n",
       "      <td>...</td>\n",
       "      <td>0</td>\n",
       "      <td>0</td>\n",
       "      <td>0</td>\n",
       "      <td>0</td>\n",
       "      <td>0</td>\n",
       "      <td>0</td>\n",
       "      <td>0</td>\n",
       "      <td>0</td>\n",
       "      <td>1</td>\n",
       "      <td>0</td>\n",
       "    </tr>\n",
       "    <tr>\n",
       "      <th>4</th>\n",
       "      <td>NMC-G1</td>\n",
       "      <td>908449</td>\n",
       "      <td>331</td>\n",
       "      <td>331_908449</td>\n",
       "      <td>10.24</td>\n",
       "      <td>0</td>\n",
       "      <td>0.111111</td>\n",
       "      <td>0.222222</td>\n",
       "      <td>0.333333</td>\n",
       "      <td>0.444444</td>\n",
       "      <td>...</td>\n",
       "      <td>0</td>\n",
       "      <td>0</td>\n",
       "      <td>0</td>\n",
       "      <td>0</td>\n",
       "      <td>0</td>\n",
       "      <td>0</td>\n",
       "      <td>0</td>\n",
       "      <td>0</td>\n",
       "      <td>1</td>\n",
       "      <td>0</td>\n",
       "    </tr>\n",
       "    <tr>\n",
       "      <th>...</th>\n",
       "      <td>...</td>\n",
       "      <td>...</td>\n",
       "      <td>...</td>\n",
       "      <td>...</td>\n",
       "      <td>...</td>\n",
       "      <td>...</td>\n",
       "      <td>...</td>\n",
       "      <td>...</td>\n",
       "      <td>...</td>\n",
       "      <td>...</td>\n",
       "      <td>...</td>\n",
       "      <td>...</td>\n",
       "      <td>...</td>\n",
       "      <td>...</td>\n",
       "      <td>...</td>\n",
       "      <td>...</td>\n",
       "      <td>...</td>\n",
       "      <td>...</td>\n",
       "      <td>...</td>\n",
       "      <td>...</td>\n",
       "      <td>...</td>\n",
       "    </tr>\n",
       "    <tr>\n",
       "      <th>5579</th>\n",
       "      <td>TC-YIK</td>\n",
       "      <td>946357</td>\n",
       "      <td>1011</td>\n",
       "      <td>1011_946357</td>\n",
       "      <td>2.00</td>\n",
       "      <td>0</td>\n",
       "      <td>0.111111</td>\n",
       "      <td>0.222222</td>\n",
       "      <td>0.333333</td>\n",
       "      <td>0.444444</td>\n",
       "      <td>...</td>\n",
       "      <td>0</td>\n",
       "      <td>0</td>\n",
       "      <td>0</td>\n",
       "      <td>0</td>\n",
       "      <td>0</td>\n",
       "      <td>0</td>\n",
       "      <td>0</td>\n",
       "      <td>0</td>\n",
       "      <td>0</td>\n",
       "      <td>0</td>\n",
       "    </tr>\n",
       "    <tr>\n",
       "      <th>5580</th>\n",
       "      <td>MKN45</td>\n",
       "      <td>925340</td>\n",
       "      <td>1149</td>\n",
       "      <td>1149_925340</td>\n",
       "      <td>5.00</td>\n",
       "      <td>0</td>\n",
       "      <td>0.111111</td>\n",
       "      <td>0.222222</td>\n",
       "      <td>0.333333</td>\n",
       "      <td>0.444444</td>\n",
       "      <td>...</td>\n",
       "      <td>0</td>\n",
       "      <td>0</td>\n",
       "      <td>0</td>\n",
       "      <td>0</td>\n",
       "      <td>0</td>\n",
       "      <td>0</td>\n",
       "      <td>0</td>\n",
       "      <td>0</td>\n",
       "      <td>0</td>\n",
       "      <td>0</td>\n",
       "    </tr>\n",
       "    <tr>\n",
       "      <th>5581</th>\n",
       "      <td>EC-GI-10</td>\n",
       "      <td>753555</td>\n",
       "      <td>1004</td>\n",
       "      <td>1004_753555</td>\n",
       "      <td>0.10</td>\n",
       "      <td>0</td>\n",
       "      <td>0.111111</td>\n",
       "      <td>0.222222</td>\n",
       "      <td>0.333333</td>\n",
       "      <td>0.444444</td>\n",
       "      <td>...</td>\n",
       "      <td>0</td>\n",
       "      <td>0</td>\n",
       "      <td>0</td>\n",
       "      <td>0</td>\n",
       "      <td>0</td>\n",
       "      <td>0</td>\n",
       "      <td>0</td>\n",
       "      <td>0</td>\n",
       "      <td>0</td>\n",
       "      <td>0</td>\n",
       "    </tr>\n",
       "    <tr>\n",
       "      <th>5582</th>\n",
       "      <td>IGROV-1</td>\n",
       "      <td>905968</td>\n",
       "      <td>1031</td>\n",
       "      <td>1031_905968</td>\n",
       "      <td>0.20</td>\n",
       "      <td>0</td>\n",
       "      <td>0.111111</td>\n",
       "      <td>0.222222</td>\n",
       "      <td>0.333333</td>\n",
       "      <td>0.444444</td>\n",
       "      <td>...</td>\n",
       "      <td>0</td>\n",
       "      <td>0</td>\n",
       "      <td>0</td>\n",
       "      <td>0</td>\n",
       "      <td>0</td>\n",
       "      <td>0</td>\n",
       "      <td>0</td>\n",
       "      <td>0</td>\n",
       "      <td>0</td>\n",
       "      <td>0</td>\n",
       "    </tr>\n",
       "    <tr>\n",
       "      <th>5583</th>\n",
       "      <td>SKG-IIIa</td>\n",
       "      <td>930298</td>\n",
       "      <td>1012</td>\n",
       "      <td>1012_930298</td>\n",
       "      <td>10.00</td>\n",
       "      <td>0</td>\n",
       "      <td>0.111111</td>\n",
       "      <td>0.222222</td>\n",
       "      <td>0.333333</td>\n",
       "      <td>0.444444</td>\n",
       "      <td>...</td>\n",
       "      <td>0</td>\n",
       "      <td>0</td>\n",
       "      <td>0</td>\n",
       "      <td>0</td>\n",
       "      <td>0</td>\n",
       "      <td>0</td>\n",
       "      <td>0</td>\n",
       "      <td>0</td>\n",
       "      <td>0</td>\n",
       "      <td>0</td>\n",
       "    </tr>\n",
       "  </tbody>\n",
       "</table>\n",
       "<p>5584 rows × 1102 columns</p>\n",
       "</div>"
      ],
      "text/plain": [
       "     CELL_LINE_NAME  COSMIC_ID  DRUG_ID DRUGID_COSMICID  MAX_CONC  fd_num_0  \\\n",
       "0            HDQ-P1    1290922      344     344_1290922     20.00         0   \n",
       "1            HDQ-P1    1290922      136     136_1290922     16.00         0   \n",
       "2            HDQ-P1    1290922      170     170_1290922     16.00         0   \n",
       "3            NMC-G1     908449      170      170_908449     16.00         0   \n",
       "4            NMC-G1     908449      331      331_908449     10.24         0   \n",
       "...             ...        ...      ...             ...       ...       ...   \n",
       "5579         TC-YIK     946357     1011     1011_946357      2.00         0   \n",
       "5580          MKN45     925340     1149     1149_925340      5.00         0   \n",
       "5581       EC-GI-10     753555     1004     1004_753555      0.10         0   \n",
       "5582        IGROV-1     905968     1031     1031_905968      0.20         0   \n",
       "5583       SKG-IIIa     930298     1012     1012_930298     10.00         0   \n",
       "\n",
       "      fd_num_1  fd_num_2  fd_num_3  fd_num_4  ...  \\\n",
       "0     0.111111  0.222222  0.333333  0.444444  ...   \n",
       "1     0.111111  0.222222  0.333333  0.444444  ...   \n",
       "2     0.111111  0.222222  0.333333  0.444444  ...   \n",
       "3     0.111111  0.222222  0.333333  0.444444  ...   \n",
       "4     0.111111  0.222222  0.333333  0.444444  ...   \n",
       "...        ...       ...       ...       ...  ...   \n",
       "5579  0.111111  0.222222  0.333333  0.444444  ...   \n",
       "5580  0.111111  0.222222  0.333333  0.444444  ...   \n",
       "5581  0.111111  0.222222  0.333333  0.444444  ...   \n",
       "5582  0.111111  0.222222  0.333333  0.444444  ...   \n",
       "5583  0.111111  0.222222  0.333333  0.444444  ...   \n",
       "\n",
       "      chr9:104248247-104249501(C9orf125)_HypMET  \\\n",
       "0                                             0   \n",
       "1                                             0   \n",
       "2                                             0   \n",
       "3                                             0   \n",
       "4                                             0   \n",
       "...                                         ...   \n",
       "5579                                          0   \n",
       "5580                                          0   \n",
       "5581                                          0   \n",
       "5582                                          0   \n",
       "5583                                          0   \n",
       "\n",
       "      chr9:115875199-115875738(C9orf109, C9orf110)_HypMET  \\\n",
       "0                                                     0     \n",
       "1                                                     0     \n",
       "2                                                     0     \n",
       "3                                                     0     \n",
       "4                                                     0     \n",
       "...                                                 ...     \n",
       "5579                                                  0     \n",
       "5580                                                  0     \n",
       "5581                                                  0     \n",
       "5582                                                  0     \n",
       "5583                                                  0     \n",
       "\n",
       "      chr9:123555399-123555899(FBXW2)_HypMET  \\\n",
       "0                                          0   \n",
       "1                                          0   \n",
       "2                                          0   \n",
       "3                                          0   \n",
       "4                                          0   \n",
       "...                                      ...   \n",
       "5579                                       0   \n",
       "5580                                       0   \n",
       "5581                                       0   \n",
       "5582                                       0   \n",
       "5583                                       0   \n",
       "\n",
       "      chr9:140310894-140312457(EXD3)_HypMET  \\\n",
       "0                                         0   \n",
       "1                                         0   \n",
       "2                                         0   \n",
       "3                                         0   \n",
       "4                                         0   \n",
       "...                                     ...   \n",
       "5579                                      0   \n",
       "5580                                      0   \n",
       "5581                                      0   \n",
       "5582                                      0   \n",
       "5583                                      0   \n",
       "\n",
       "      chr9:21974578-21975306(CDKN2A)_HypMET  \\\n",
       "0                                         0   \n",
       "1                                         0   \n",
       "2                                         0   \n",
       "3                                         0   \n",
       "4                                         0   \n",
       "...                                     ...   \n",
       "5579                                      0   \n",
       "5580                                      0   \n",
       "5581                                      0   \n",
       "5582                                      0   \n",
       "5583                                      0   \n",
       "\n",
       "      chr9:35756948-35757339(MSMP)_HypMET  \\\n",
       "0                                       0   \n",
       "1                                       0   \n",
       "2                                       0   \n",
       "3                                       0   \n",
       "4                                       0   \n",
       "...                                   ...   \n",
       "5579                                    0   \n",
       "5580                                    0   \n",
       "5581                                    0   \n",
       "5582                                    0   \n",
       "5583                                    0   \n",
       "\n",
       "      chr9:35791584-35791924(NPR2)_HypMET  chr9:4984543-4985630(JAK2)_HypMET  \\\n",
       "0                                       0                                  0   \n",
       "1                                       0                                  0   \n",
       "2                                       0                                  0   \n",
       "3                                       0                                  0   \n",
       "4                                       0                                  0   \n",
       "...                                   ...                                ...   \n",
       "5579                                    0                                  0   \n",
       "5580                                    0                                  0   \n",
       "5581                                    0                                  0   \n",
       "5582                                    0                                  0   \n",
       "5583                                    0                                  0   \n",
       "\n",
       "      chr9:86571047-86572027(C9orf64)_HypMET  \\\n",
       "0                                          0   \n",
       "1                                          0   \n",
       "2                                          0   \n",
       "3                                          1   \n",
       "4                                          1   \n",
       "...                                      ...   \n",
       "5579                                       0   \n",
       "5580                                       0   \n",
       "5581                                       0   \n",
       "5582                                       0   \n",
       "5583                                       0   \n",
       "\n",
       "      chr9:98783216-98784364(NCRNA00092)_HypMET  \n",
       "0                                             0  \n",
       "1                                             0  \n",
       "2                                             0  \n",
       "3                                             0  \n",
       "4                                             0  \n",
       "...                                         ...  \n",
       "5579                                          0  \n",
       "5580                                          0  \n",
       "5581                                          0  \n",
       "5582                                          0  \n",
       "5583                                          0  \n",
       "\n",
       "[5584 rows x 1102 columns]"
      ]
     },
     "execution_count": 3,
     "metadata": {},
     "output_type": "execute_result"
    }
   ],
   "source": [
    "drugProfiles = pd.read_csv(_FOLDER+'filteredResponsesWithCCLAndParams.csv')\n",
    "drugProfiles"
   ]
  },
  {
   "cell_type": "code",
   "execution_count": 4,
   "metadata": {},
   "outputs": [
    {
     "data": {
      "text/plain": [
       "88"
      ]
     },
     "execution_count": 4,
     "metadata": {},
     "output_type": "execute_result"
    }
   ],
   "source": [
    "len(trainTestSplit.keys())"
   ]
  },
  {
   "cell_type": "code",
   "execution_count": 21,
   "metadata": {},
   "outputs": [
    {
     "name": "stdout",
     "output_type": "stream",
     "text": [
      "{'alpha': 0.1}\n",
      "{'alpha': 0.1}\n",
      "{'alpha': 0.1}\n",
      "{'alpha': 0.1}\n",
      "{'alpha': 0.1}\n",
      "{'alpha': 0.1}\n",
      "{'alpha': 0.1}\n",
      "{'alpha': 0.08888888888888889}\n",
      "{'alpha': 0.1}\n",
      "{'alpha': 0.1}\n",
      "{'alpha': 0.1}\n",
      "{'alpha': 0.1}\n",
      "{'alpha': 0.1}\n"
     ]
    },
    {
     "name": "stderr",
     "output_type": "stream",
     "text": [
      "C:\\Users\\44744\\anaconda3\\lib\\site-packages\\sklearn\\linear_model\\_coordinate_descent.py:529: ConvergenceWarning: Objective did not converge. You might want to increase the number of iterations. Duality gap: 4570.399388626733, tolerance: 602.4840967409245\n",
      "  model = cd_fast.enet_coordinate_descent(\n",
      "C:\\Users\\44744\\anaconda3\\lib\\site-packages\\sklearn\\linear_model\\_coordinate_descent.py:529: ConvergenceWarning: Objective did not converge. You might want to increase the number of iterations. Duality gap: 4570.399388626733, tolerance: 602.4840967409245\n",
      "  model = cd_fast.enet_coordinate_descent(\n"
     ]
    },
    {
     "name": "stdout",
     "output_type": "stream",
     "text": [
      "{'alpha': 0.1}\n",
      "{'alpha': 0.1}\n"
     ]
    },
    {
     "name": "stderr",
     "output_type": "stream",
     "text": [
      "C:\\Users\\44744\\anaconda3\\lib\\site-packages\\sklearn\\linear_model\\_coordinate_descent.py:529: ConvergenceWarning: Objective did not converge. You might want to increase the number of iterations. Duality gap: 4323.116562274714, tolerance: 3062.660193857104\n",
      "  model = cd_fast.enet_coordinate_descent(\n",
      "C:\\Users\\44744\\anaconda3\\lib\\site-packages\\sklearn\\linear_model\\_coordinate_descent.py:529: ConvergenceWarning: Objective did not converge. You might want to increase the number of iterations. Duality gap: 4323.116562274714, tolerance: 3062.660193857104\n",
      "  model = cd_fast.enet_coordinate_descent(\n"
     ]
    },
    {
     "name": "stdout",
     "output_type": "stream",
     "text": [
      "{'alpha': 0.1}\n",
      "{'alpha': 0.1}\n"
     ]
    },
    {
     "name": "stderr",
     "output_type": "stream",
     "text": [
      "C:\\Users\\44744\\anaconda3\\lib\\site-packages\\sklearn\\model_selection\\_search.py:765: UserWarning: With alpha=0, this algorithm does not converge well. You are advised to use the LinearRegression estimator\n",
      "  self.best_estimator_.fit(X, y, **fit_params)\n",
      "C:\\Users\\44744\\anaconda3\\lib\\site-packages\\sklearn\\linear_model\\_coordinate_descent.py:529: UserWarning: Coordinate descent with no regularization may lead to unexpected results and is discouraged.\n",
      "  model = cd_fast.enet_coordinate_descent(\n",
      "<ipython-input-21-8cab97ed6486>:65: UserWarning: With alpha=0, this algorithm does not converge well. You are advised to use the LinearRegression estimator\n",
      "  lasso.fit(trainX, trainY)\n",
      "C:\\Users\\44744\\anaconda3\\lib\\site-packages\\sklearn\\linear_model\\_coordinate_descent.py:529: UserWarning: Coordinate descent with no regularization may lead to unexpected results and is discouraged.\n",
      "  model = cd_fast.enet_coordinate_descent(\n"
     ]
    },
    {
     "name": "stdout",
     "output_type": "stream",
     "text": [
      "{'alpha': 0.0}\n",
      "{'alpha': 0.1}\n",
      "{'alpha': 0.1}\n",
      "{'alpha': 0.0}\n"
     ]
    },
    {
     "name": "stderr",
     "output_type": "stream",
     "text": [
      "C:\\Users\\44744\\anaconda3\\lib\\site-packages\\sklearn\\linear_model\\_ridge.py:190: UserWarning: Singular matrix in solving dual problem. Using least-squares solution instead.\n",
      "  warnings.warn(\"Singular matrix in solving dual problem. Using \"\n",
      "C:\\Users\\44744\\anaconda3\\lib\\site-packages\\sklearn\\linear_model\\_ridge.py:190: UserWarning: Singular matrix in solving dual problem. Using least-squares solution instead.\n",
      "  warnings.warn(\"Singular matrix in solving dual problem. Using \"\n"
     ]
    },
    {
     "name": "stdout",
     "output_type": "stream",
     "text": [
      "{'alpha': 0.1}\n",
      "{'alpha': 0.1}\n",
      "{'alpha': 0.1}\n",
      "{'alpha': 0.1}\n",
      "{'alpha': 0.1}\n",
      "{'alpha': 0.1}\n"
     ]
    },
    {
     "name": "stderr",
     "output_type": "stream",
     "text": [
      "C:\\Users\\44744\\anaconda3\\lib\\site-packages\\sklearn\\linear_model\\_coordinate_descent.py:529: ConvergenceWarning: Objective did not converge. You might want to increase the number of iterations. Duality gap: 33.25869849443296, tolerance: 2.9079951193167015\n",
      "  model = cd_fast.enet_coordinate_descent(\n",
      "C:\\Users\\44744\\anaconda3\\lib\\site-packages\\sklearn\\linear_model\\_coordinate_descent.py:529: ConvergenceWarning: Objective did not converge. You might want to increase the number of iterations. Duality gap: 163.90433875051082, tolerance: 16.55993138511064\n",
      "  model = cd_fast.enet_coordinate_descent(\n",
      "C:\\Users\\44744\\anaconda3\\lib\\site-packages\\sklearn\\linear_model\\_coordinate_descent.py:529: ConvergenceWarning: Objective did not converge. You might want to increase the number of iterations. Duality gap: 1252.7228068230856, tolerance: 520.2120658136399\n",
      "  model = cd_fast.enet_coordinate_descent(\n",
      "C:\\Users\\44744\\anaconda3\\lib\\site-packages\\sklearn\\linear_model\\_coordinate_descent.py:529: ConvergenceWarning: Objective did not converge. You might want to increase the number of iterations. Duality gap: 33.25869849443296, tolerance: 2.9079951193167015\n",
      "  model = cd_fast.enet_coordinate_descent(\n",
      "C:\\Users\\44744\\anaconda3\\lib\\site-packages\\sklearn\\linear_model\\_coordinate_descent.py:529: ConvergenceWarning: Objective did not converge. You might want to increase the number of iterations. Duality gap: 163.90433875051082, tolerance: 16.55993138511064\n",
      "  model = cd_fast.enet_coordinate_descent(\n",
      "C:\\Users\\44744\\anaconda3\\lib\\site-packages\\sklearn\\linear_model\\_coordinate_descent.py:529: ConvergenceWarning: Objective did not converge. You might want to increase the number of iterations. Duality gap: 1252.7228068230856, tolerance: 520.2120658136399\n",
      "  model = cd_fast.enet_coordinate_descent(\n"
     ]
    },
    {
     "name": "stdout",
     "output_type": "stream",
     "text": [
      "{'alpha': 0.011111111111111112}\n",
      "{'alpha': 0.1}\n",
      "{'alpha': 0.011111111111111112}\n",
      "{'alpha': 0.1}\n",
      "{'alpha': 0.1}\n",
      "{'alpha': 0.1}\n",
      "{'alpha': 0.1}\n",
      "{'alpha': 0.1}\n",
      "{'alpha': 0.1}\n",
      "{'alpha': 0.1}\n",
      "{'alpha': 0.1}\n",
      "{'alpha': 0.1}\n"
     ]
    },
    {
     "name": "stderr",
     "output_type": "stream",
     "text": [
      "C:\\Users\\44744\\anaconda3\\lib\\site-packages\\sklearn\\linear_model\\_coordinate_descent.py:529: ConvergenceWarning: Objective did not converge. You might want to increase the number of iterations. Duality gap: 125132.99576555699, tolerance: 4351.169070065608\n",
      "  model = cd_fast.enet_coordinate_descent(\n",
      "C:\\Users\\44744\\anaconda3\\lib\\site-packages\\sklearn\\linear_model\\_coordinate_descent.py:529: ConvergenceWarning: Objective did not converge. You might want to increase the number of iterations. Duality gap: 125132.99576555699, tolerance: 4351.169070065608\n",
      "  model = cd_fast.enet_coordinate_descent(\n"
     ]
    },
    {
     "name": "stdout",
     "output_type": "stream",
     "text": [
      "{'alpha': 0.1}\n",
      "{'alpha': 0.1}\n",
      "{'alpha': 0.1}\n",
      "{'alpha': 0.1}\n"
     ]
    },
    {
     "name": "stderr",
     "output_type": "stream",
     "text": [
      "C:\\Users\\44744\\anaconda3\\lib\\site-packages\\sklearn\\model_selection\\_search.py:765: UserWarning: With alpha=0, this algorithm does not converge well. You are advised to use the LinearRegression estimator\n",
      "  self.best_estimator_.fit(X, y, **fit_params)\n",
      "C:\\Users\\44744\\anaconda3\\lib\\site-packages\\sklearn\\linear_model\\_coordinate_descent.py:529: UserWarning: Coordinate descent with no regularization may lead to unexpected results and is discouraged.\n",
      "  model = cd_fast.enet_coordinate_descent(\n",
      "<ipython-input-21-8cab97ed6486>:65: UserWarning: With alpha=0, this algorithm does not converge well. You are advised to use the LinearRegression estimator\n",
      "  lasso.fit(trainX, trainY)\n",
      "C:\\Users\\44744\\anaconda3\\lib\\site-packages\\sklearn\\linear_model\\_coordinate_descent.py:529: UserWarning: Coordinate descent with no regularization may lead to unexpected results and is discouraged.\n",
      "  model = cd_fast.enet_coordinate_descent(\n",
      "C:\\Users\\44744\\anaconda3\\lib\\site-packages\\sklearn\\linear_model\\_ridge.py:187: LinAlgWarning: Ill-conditioned matrix (rcond=9.19899e-17): result may not be accurate.\n",
      "  dual_coef = linalg.solve(K, y, sym_pos=True,\n",
      "C:\\Users\\44744\\anaconda3\\lib\\site-packages\\sklearn\\linear_model\\_ridge.py:187: LinAlgWarning: Ill-conditioned matrix (rcond=9.19899e-17): result may not be accurate.\n",
      "  dual_coef = linalg.solve(K, y, sym_pos=True,\n"
     ]
    },
    {
     "name": "stdout",
     "output_type": "stream",
     "text": [
      "{'alpha': 0.0}\n",
      "{'alpha': 0.0}\n",
      "{'alpha': 0.07777777777777778}\n",
      "{'alpha': 0.0}\n"
     ]
    },
    {
     "name": "stderr",
     "output_type": "stream",
     "text": [
      "C:\\Users\\44744\\anaconda3\\lib\\site-packages\\sklearn\\linear_model\\_ridge.py:190: UserWarning: Singular matrix in solving dual problem. Using least-squares solution instead.\n",
      "  warnings.warn(\"Singular matrix in solving dual problem. Using \"\n",
      "C:\\Users\\44744\\anaconda3\\lib\\site-packages\\sklearn\\linear_model\\_ridge.py:190: UserWarning: Singular matrix in solving dual problem. Using least-squares solution instead.\n",
      "  warnings.warn(\"Singular matrix in solving dual problem. Using \"\n"
     ]
    },
    {
     "name": "stdout",
     "output_type": "stream",
     "text": [
      "{'alpha': 0.06666666666666667}\n",
      "{'alpha': 0.1}\n",
      "{'alpha': 0.1}\n",
      "{'alpha': 0.1}\n"
     ]
    },
    {
     "name": "stderr",
     "output_type": "stream",
     "text": [
      "C:\\Users\\44744\\anaconda3\\lib\\site-packages\\sklearn\\model_selection\\_search.py:765: UserWarning: With alpha=0, this algorithm does not converge well. You are advised to use the LinearRegression estimator\n",
      "  self.best_estimator_.fit(X, y, **fit_params)\n",
      "C:\\Users\\44744\\anaconda3\\lib\\site-packages\\sklearn\\linear_model\\_coordinate_descent.py:529: UserWarning: Coordinate descent with no regularization may lead to unexpected results and is discouraged.\n",
      "  model = cd_fast.enet_coordinate_descent(\n",
      "<ipython-input-21-8cab97ed6486>:65: UserWarning: With alpha=0, this algorithm does not converge well. You are advised to use the LinearRegression estimator\n",
      "  lasso.fit(trainX, trainY)\n",
      "C:\\Users\\44744\\anaconda3\\lib\\site-packages\\sklearn\\linear_model\\_coordinate_descent.py:529: UserWarning: Coordinate descent with no regularization may lead to unexpected results and is discouraged.\n",
      "  model = cd_fast.enet_coordinate_descent(\n"
     ]
    },
    {
     "name": "stdout",
     "output_type": "stream",
     "text": [
      "{'alpha': 0.0}\n",
      "{'alpha': 0.1}\n",
      "{'alpha': 0.1}\n",
      "{'alpha': 0.1}\n",
      "{'alpha': 0.1}\n",
      "{'alpha': 0.1}\n"
     ]
    },
    {
     "name": "stderr",
     "output_type": "stream",
     "text": [
      "C:\\Users\\44744\\anaconda3\\lib\\site-packages\\sklearn\\linear_model\\_coordinate_descent.py:529: ConvergenceWarning: Objective did not converge. You might want to increase the number of iterations. Duality gap: 4.141868493224706, tolerance: 3.0628349359433606\n",
      "  model = cd_fast.enet_coordinate_descent(\n",
      "C:\\Users\\44744\\anaconda3\\lib\\site-packages\\sklearn\\linear_model\\_coordinate_descent.py:529: ConvergenceWarning: Objective did not converge. You might want to increase the number of iterations. Duality gap: 139.81860020202512, tolerance: 25.991745700554535\n",
      "  model = cd_fast.enet_coordinate_descent(\n",
      "C:\\Users\\44744\\anaconda3\\lib\\site-packages\\sklearn\\linear_model\\_coordinate_descent.py:529: ConvergenceWarning: Objective did not converge. You might want to increase the number of iterations. Duality gap: 4.141868493224706, tolerance: 3.0628349359433606\n",
      "  model = cd_fast.enet_coordinate_descent(\n",
      "C:\\Users\\44744\\anaconda3\\lib\\site-packages\\sklearn\\linear_model\\_coordinate_descent.py:529: ConvergenceWarning: Objective did not converge. You might want to increase the number of iterations. Duality gap: 139.81860020202512, tolerance: 25.991745700554535\n",
      "  model = cd_fast.enet_coordinate_descent(\n"
     ]
    },
    {
     "name": "stdout",
     "output_type": "stream",
     "text": [
      "{'alpha': 0.011111111111111112}\n",
      "{'alpha': 0.1}\n",
      "{'alpha': 0.1}\n",
      "{'alpha': 0.1}\n"
     ]
    },
    {
     "name": "stderr",
     "output_type": "stream",
     "text": [
      "C:\\Users\\44744\\anaconda3\\lib\\site-packages\\sklearn\\linear_model\\_coordinate_descent.py:529: ConvergenceWarning: Objective did not converge. You might want to increase the number of iterations. Duality gap: 2102.6615812166106, tolerance: 1215.630690311239\n",
      "  model = cd_fast.enet_coordinate_descent(\n",
      "C:\\Users\\44744\\anaconda3\\lib\\site-packages\\sklearn\\linear_model\\_coordinate_descent.py:529: ConvergenceWarning: Objective did not converge. You might want to increase the number of iterations. Duality gap: 2102.6615812166106, tolerance: 1215.630690311239\n",
      "  model = cd_fast.enet_coordinate_descent(\n"
     ]
    },
    {
     "name": "stdout",
     "output_type": "stream",
     "text": [
      "{'alpha': 0.1}\n",
      "{'alpha': 0.1}\n"
     ]
    },
    {
     "name": "stderr",
     "output_type": "stream",
     "text": [
      "C:\\Users\\44744\\anaconda3\\lib\\site-packages\\sklearn\\linear_model\\_coordinate_descent.py:529: ConvergenceWarning: Objective did not converge. You might want to increase the number of iterations. Duality gap: 219.3684798127902, tolerance: 192.6229591002464\n",
      "  model = cd_fast.enet_coordinate_descent(\n",
      "C:\\Users\\44744\\anaconda3\\lib\\site-packages\\sklearn\\linear_model\\_coordinate_descent.py:529: ConvergenceWarning: Objective did not converge. You might want to increase the number of iterations. Duality gap: 219.3684798127902, tolerance: 192.6229591002464\n",
      "  model = cd_fast.enet_coordinate_descent(\n"
     ]
    },
    {
     "name": "stdout",
     "output_type": "stream",
     "text": [
      "{'alpha': 0.03333333333333333}\n",
      "{'alpha': 0.1}\n",
      "{'alpha': 0.1}\n",
      "{'alpha': 0.1}\n"
     ]
    },
    {
     "name": "stderr",
     "output_type": "stream",
     "text": [
      "C:\\Users\\44744\\anaconda3\\lib\\site-packages\\sklearn\\model_selection\\_search.py:765: UserWarning: With alpha=0, this algorithm does not converge well. You are advised to use the LinearRegression estimator\n",
      "  self.best_estimator_.fit(X, y, **fit_params)\n",
      "C:\\Users\\44744\\anaconda3\\lib\\site-packages\\sklearn\\linear_model\\_coordinate_descent.py:529: UserWarning: Coordinate descent with no regularization may lead to unexpected results and is discouraged.\n",
      "  model = cd_fast.enet_coordinate_descent(\n",
      "<ipython-input-21-8cab97ed6486>:65: UserWarning: With alpha=0, this algorithm does not converge well. You are advised to use the LinearRegression estimator\n",
      "  lasso.fit(trainX, trainY)\n",
      "C:\\Users\\44744\\anaconda3\\lib\\site-packages\\sklearn\\linear_model\\_coordinate_descent.py:529: UserWarning: Coordinate descent with no regularization may lead to unexpected results and is discouraged.\n",
      "  model = cd_fast.enet_coordinate_descent(\n"
     ]
    },
    {
     "name": "stdout",
     "output_type": "stream",
     "text": [
      "{'alpha': 0.0}\n",
      "{'alpha': 0.1}\n",
      "{'alpha': 0.1}\n",
      "{'alpha': 0.1}\n"
     ]
    },
    {
     "name": "stderr",
     "output_type": "stream",
     "text": [
      "C:\\Users\\44744\\anaconda3\\lib\\site-packages\\sklearn\\linear_model\\_coordinate_descent.py:529: ConvergenceWarning: Objective did not converge. You might want to increase the number of iterations. Duality gap: 35.05383620737574, tolerance: 9.405884710964095\n",
      "  model = cd_fast.enet_coordinate_descent(\n",
      "C:\\Users\\44744\\anaconda3\\lib\\site-packages\\sklearn\\linear_model\\_coordinate_descent.py:529: ConvergenceWarning: Objective did not converge. You might want to increase the number of iterations. Duality gap: 359.9339931944784, tolerance: 38.70791116830076\n",
      "  model = cd_fast.enet_coordinate_descent(\n",
      "C:\\Users\\44744\\anaconda3\\lib\\site-packages\\sklearn\\linear_model\\_coordinate_descent.py:529: ConvergenceWarning: Objective did not converge. You might want to increase the number of iterations. Duality gap: 9653.03349314459, tolerance: 1559.9196861859232\n",
      "  model = cd_fast.enet_coordinate_descent(\n",
      "C:\\Users\\44744\\anaconda3\\lib\\site-packages\\sklearn\\linear_model\\_coordinate_descent.py:529: ConvergenceWarning: Objective did not converge. You might want to increase the number of iterations. Duality gap: 35.05383620737574, tolerance: 9.405884710964095\n",
      "  model = cd_fast.enet_coordinate_descent(\n"
     ]
    },
    {
     "name": "stdout",
     "output_type": "stream",
     "text": [
      "{'alpha': 0.011111111111111112}\n"
     ]
    },
    {
     "name": "stderr",
     "output_type": "stream",
     "text": [
      "C:\\Users\\44744\\anaconda3\\lib\\site-packages\\sklearn\\linear_model\\_coordinate_descent.py:529: ConvergenceWarning: Objective did not converge. You might want to increase the number of iterations. Duality gap: 359.9339931944784, tolerance: 38.70791116830076\n",
      "  model = cd_fast.enet_coordinate_descent(\n",
      "C:\\Users\\44744\\anaconda3\\lib\\site-packages\\sklearn\\linear_model\\_coordinate_descent.py:529: ConvergenceWarning: Objective did not converge. You might want to increase the number of iterations. Duality gap: 9653.03349314459, tolerance: 1559.9196861859232\n",
      "  model = cd_fast.enet_coordinate_descent(\n"
     ]
    },
    {
     "name": "stdout",
     "output_type": "stream",
     "text": [
      "{'alpha': 0.1}\n",
      "{'alpha': 0.1}\n",
      "{'alpha': 0.1}\n",
      "{'alpha': 0.011111111111111112}\n",
      "{'alpha': 0.1}\n",
      "{'alpha': 0.1}\n",
      "{'alpha': 0.1}\n",
      "{'alpha': 0.1}\n",
      "{'alpha': 0.1}\n"
     ]
    },
    {
     "name": "stderr",
     "output_type": "stream",
     "text": [
      "C:\\Users\\44744\\anaconda3\\lib\\site-packages\\sklearn\\model_selection\\_search.py:765: UserWarning: With alpha=0, this algorithm does not converge well. You are advised to use the LinearRegression estimator\n",
      "  self.best_estimator_.fit(X, y, **fit_params)\n",
      "C:\\Users\\44744\\anaconda3\\lib\\site-packages\\sklearn\\linear_model\\_coordinate_descent.py:529: UserWarning: Coordinate descent with no regularization may lead to unexpected results and is discouraged.\n",
      "  model = cd_fast.enet_coordinate_descent(\n",
      "<ipython-input-21-8cab97ed6486>:65: UserWarning: With alpha=0, this algorithm does not converge well. You are advised to use the LinearRegression estimator\n",
      "  lasso.fit(trainX, trainY)\n",
      "C:\\Users\\44744\\anaconda3\\lib\\site-packages\\sklearn\\linear_model\\_coordinate_descent.py:529: UserWarning: Coordinate descent with no regularization may lead to unexpected results and is discouraged.\n",
      "  model = cd_fast.enet_coordinate_descent(\n"
     ]
    },
    {
     "name": "stdout",
     "output_type": "stream",
     "text": [
      "{'alpha': 0.0}\n",
      "{'alpha': 0.1}\n",
      "{'alpha': 0.1}\n",
      "{'alpha': 0.1}\n"
     ]
    },
    {
     "name": "stderr",
     "output_type": "stream",
     "text": [
      "C:\\Users\\44744\\anaconda3\\lib\\site-packages\\sklearn\\model_selection\\_search.py:765: UserWarning: With alpha=0, this algorithm does not converge well. You are advised to use the LinearRegression estimator\n",
      "  self.best_estimator_.fit(X, y, **fit_params)\n",
      "C:\\Users\\44744\\anaconda3\\lib\\site-packages\\sklearn\\linear_model\\_coordinate_descent.py:529: UserWarning: Coordinate descent with no regularization may lead to unexpected results and is discouraged.\n",
      "  model = cd_fast.enet_coordinate_descent(\n",
      "<ipython-input-21-8cab97ed6486>:65: UserWarning: With alpha=0, this algorithm does not converge well. You are advised to use the LinearRegression estimator\n",
      "  lasso.fit(trainX, trainY)\n",
      "C:\\Users\\44744\\anaconda3\\lib\\site-packages\\sklearn\\linear_model\\_coordinate_descent.py:529: UserWarning: Coordinate descent with no regularization may lead to unexpected results and is discouraged.\n",
      "  model = cd_fast.enet_coordinate_descent(\n"
     ]
    },
    {
     "name": "stdout",
     "output_type": "stream",
     "text": [
      "{'alpha': 0.0}\n",
      "{'alpha': 0.1}\n",
      "{'alpha': 0.06666666666666667}\n",
      "{'alpha': 0.0}\n"
     ]
    },
    {
     "name": "stderr",
     "output_type": "stream",
     "text": [
      "C:\\Users\\44744\\anaconda3\\lib\\site-packages\\sklearn\\linear_model\\_ridge.py:187: LinAlgWarning: Ill-conditioned matrix (rcond=1.21115e-17): result may not be accurate.\n",
      "  dual_coef = linalg.solve(K, y, sym_pos=True,\n",
      "C:\\Users\\44744\\anaconda3\\lib\\site-packages\\sklearn\\linear_model\\_ridge.py:187: LinAlgWarning: Ill-conditioned matrix (rcond=1.21115e-17): result may not be accurate.\n",
      "  dual_coef = linalg.solve(K, y, sym_pos=True,\n"
     ]
    },
    {
     "name": "stdout",
     "output_type": "stream",
     "text": [
      "{'alpha': 0.011111111111111112}\n",
      "{'alpha': 0.1}\n",
      "{'alpha': 0.1}\n",
      "{'alpha': 0.1}\n",
      "{'alpha': 0.1}\n",
      "{'alpha': 0.1}\n",
      "{'alpha': 0.1}\n",
      "{'alpha': 0.1}\n"
     ]
    },
    {
     "name": "stderr",
     "output_type": "stream",
     "text": [
      "C:\\Users\\44744\\anaconda3\\lib\\site-packages\\sklearn\\linear_model\\_coordinate_descent.py:529: ConvergenceWarning: Objective did not converge. You might want to increase the number of iterations. Duality gap: 48.52195253755684, tolerance: 30.315128675459864\n",
      "  model = cd_fast.enet_coordinate_descent(\n",
      "C:\\Users\\44744\\anaconda3\\lib\\site-packages\\sklearn\\linear_model\\_coordinate_descent.py:529: ConvergenceWarning: Objective did not converge. You might want to increase the number of iterations. Duality gap: 48.52195253755684, tolerance: 30.315128675459864\n",
      "  model = cd_fast.enet_coordinate_descent(\n",
      "C:\\Users\\44744\\anaconda3\\lib\\site-packages\\sklearn\\linear_model\\_ridge.py:187: LinAlgWarning: Ill-conditioned matrix (rcond=8.02712e-17): result may not be accurate.\n",
      "  dual_coef = linalg.solve(K, y, sym_pos=True,\n",
      "C:\\Users\\44744\\anaconda3\\lib\\site-packages\\sklearn\\linear_model\\_ridge.py:187: LinAlgWarning: Ill-conditioned matrix (rcond=8.02712e-17): result may not be accurate.\n",
      "  dual_coef = linalg.solve(K, y, sym_pos=True,\n"
     ]
    },
    {
     "name": "stdout",
     "output_type": "stream",
     "text": [
      "{'alpha': 0.044444444444444446}\n",
      "{'alpha': 0.0}\n",
      "{'alpha': 0.1}\n",
      "{'alpha': 0.1}\n",
      "{'alpha': 0.1}\n",
      "{'alpha': 0.1}\n",
      "{'alpha': 0.1}\n",
      "{'alpha': 0.1}\n"
     ]
    },
    {
     "name": "stderr",
     "output_type": "stream",
     "text": [
      "C:\\Users\\44744\\anaconda3\\lib\\site-packages\\sklearn\\model_selection\\_search.py:765: UserWarning: With alpha=0, this algorithm does not converge well. You are advised to use the LinearRegression estimator\n",
      "  self.best_estimator_.fit(X, y, **fit_params)\n",
      "C:\\Users\\44744\\anaconda3\\lib\\site-packages\\sklearn\\linear_model\\_coordinate_descent.py:529: UserWarning: Coordinate descent with no regularization may lead to unexpected results and is discouraged.\n",
      "  model = cd_fast.enet_coordinate_descent(\n",
      "<ipython-input-21-8cab97ed6486>:65: UserWarning: With alpha=0, this algorithm does not converge well. You are advised to use the LinearRegression estimator\n",
      "  lasso.fit(trainX, trainY)\n",
      "C:\\Users\\44744\\anaconda3\\lib\\site-packages\\sklearn\\linear_model\\_coordinate_descent.py:529: UserWarning: Coordinate descent with no regularization may lead to unexpected results and is discouraged.\n",
      "  model = cd_fast.enet_coordinate_descent(\n"
     ]
    },
    {
     "name": "stdout",
     "output_type": "stream",
     "text": [
      "{'alpha': 0.0}\n",
      "{'alpha': 0.1}\n",
      "{'alpha': 0.1}\n",
      "{'alpha': 0.1}\n"
     ]
    },
    {
     "name": "stderr",
     "output_type": "stream",
     "text": [
      "C:\\Users\\44744\\anaconda3\\lib\\site-packages\\sklearn\\linear_model\\_coordinate_descent.py:529: ConvergenceWarning: Objective did not converge. You might want to increase the number of iterations. Duality gap: 104260.46686679275, tolerance: 21641.70331321676\n",
      "  model = cd_fast.enet_coordinate_descent(\n",
      "C:\\Users\\44744\\anaconda3\\lib\\site-packages\\sklearn\\linear_model\\_coordinate_descent.py:529: ConvergenceWarning: Objective did not converge. You might want to increase the number of iterations. Duality gap: 104260.46686679275, tolerance: 21641.70331321676\n",
      "  model = cd_fast.enet_coordinate_descent(\n"
     ]
    },
    {
     "name": "stdout",
     "output_type": "stream",
     "text": [
      "{'alpha': 0.1}\n",
      "{'alpha': 0.1}\n",
      "{'alpha': 0.1}\n",
      "{'alpha': 0.1}\n",
      "{'alpha': 0.011111111111111112}\n",
      "{'alpha': 0.1}\n",
      "{'alpha': 0.011111111111111112}\n",
      "{'alpha': 0.1}\n",
      "{'alpha': 0.1}\n",
      "{'alpha': 0.1}\n",
      "{'alpha': 0.044444444444444446}\n",
      "{'alpha': 0.1}\n",
      "{'alpha': 0.1}\n",
      "{'alpha': 0.1}\n",
      "{'alpha': 0.1}\n",
      "{'alpha': 0.1}\n",
      "{'alpha': 0.1}\n",
      "{'alpha': 0.1}\n"
     ]
    },
    {
     "name": "stderr",
     "output_type": "stream",
     "text": [
      "C:\\Users\\44744\\anaconda3\\lib\\site-packages\\sklearn\\model_selection\\_search.py:765: UserWarning: With alpha=0, this algorithm does not converge well. You are advised to use the LinearRegression estimator\n",
      "  self.best_estimator_.fit(X, y, **fit_params)\n",
      "C:\\Users\\44744\\anaconda3\\lib\\site-packages\\sklearn\\linear_model\\_coordinate_descent.py:529: UserWarning: Coordinate descent with no regularization may lead to unexpected results and is discouraged.\n",
      "  model = cd_fast.enet_coordinate_descent(\n",
      "<ipython-input-21-8cab97ed6486>:65: UserWarning: With alpha=0, this algorithm does not converge well. You are advised to use the LinearRegression estimator\n",
      "  lasso.fit(trainX, trainY)\n",
      "C:\\Users\\44744\\anaconda3\\lib\\site-packages\\sklearn\\linear_model\\_coordinate_descent.py:529: UserWarning: Coordinate descent with no regularization may lead to unexpected results and is discouraged.\n",
      "  model = cd_fast.enet_coordinate_descent(\n"
     ]
    },
    {
     "name": "stdout",
     "output_type": "stream",
     "text": [
      "{'alpha': 0.0}\n",
      "{'alpha': 0.1}\n",
      "{'alpha': 0.1}\n",
      "{'alpha': 0.1}\n",
      "{'alpha': 0.1}\n",
      "{'alpha': 0.1}\n",
      "{'alpha': 0.03333333333333333}\n",
      "{'alpha': 0.0}\n"
     ]
    },
    {
     "name": "stderr",
     "output_type": "stream",
     "text": [
      "C:\\Users\\44744\\anaconda3\\lib\\site-packages\\sklearn\\linear_model\\_ridge.py:190: UserWarning: Singular matrix in solving dual problem. Using least-squares solution instead.\n",
      "  warnings.warn(\"Singular matrix in solving dual problem. Using \"\n",
      "C:\\Users\\44744\\anaconda3\\lib\\site-packages\\sklearn\\linear_model\\_ridge.py:190: UserWarning: Singular matrix in solving dual problem. Using least-squares solution instead.\n",
      "  warnings.warn(\"Singular matrix in solving dual problem. Using \"\n"
     ]
    },
    {
     "name": "stdout",
     "output_type": "stream",
     "text": [
      "{'alpha': 0.1}\n",
      "{'alpha': 0.1}\n",
      "{'alpha': 0.1}\n",
      "{'alpha': 0.1}\n",
      "{'alpha': 0.1}\n",
      "{'alpha': 0.1}\n",
      "{'alpha': 0.1}\n",
      "{'alpha': 0.0}\n"
     ]
    },
    {
     "name": "stderr",
     "output_type": "stream",
     "text": [
      "C:\\Users\\44744\\anaconda3\\lib\\site-packages\\sklearn\\linear_model\\_ridge.py:187: LinAlgWarning: Ill-conditioned matrix (rcond=1.14944e-17): result may not be accurate.\n",
      "  dual_coef = linalg.solve(K, y, sym_pos=True,\n",
      "C:\\Users\\44744\\anaconda3\\lib\\site-packages\\sklearn\\linear_model\\_ridge.py:187: LinAlgWarning: Ill-conditioned matrix (rcond=1.14944e-17): result may not be accurate.\n",
      "  dual_coef = linalg.solve(K, y, sym_pos=True,\n"
     ]
    },
    {
     "name": "stdout",
     "output_type": "stream",
     "text": [
      "{'alpha': 0.1}\n",
      "{'alpha': 0.1}\n",
      "{'alpha': 0.1}\n",
      "{'alpha': 0.1}\n"
     ]
    },
    {
     "name": "stderr",
     "output_type": "stream",
     "text": [
      "C:\\Users\\44744\\anaconda3\\lib\\site-packages\\sklearn\\linear_model\\_coordinate_descent.py:529: ConvergenceWarning: Objective did not converge. You might want to increase the number of iterations. Duality gap: 4.525516775731436, tolerance: 3.497244166974545\n",
      "  model = cd_fast.enet_coordinate_descent(\n",
      "C:\\Users\\44744\\anaconda3\\lib\\site-packages\\sklearn\\linear_model\\_coordinate_descent.py:529: ConvergenceWarning: Objective did not converge. You might want to increase the number of iterations. Duality gap: 4.525516775731436, tolerance: 3.497244166974545\n",
      "  model = cd_fast.enet_coordinate_descent(\n"
     ]
    },
    {
     "name": "stdout",
     "output_type": "stream",
     "text": [
      "{'alpha': 0.011111111111111112}\n",
      "{'alpha': 0.1}\n",
      "{'alpha': 0.08888888888888889}\n",
      "{'alpha': 0.1}\n"
     ]
    },
    {
     "name": "stderr",
     "output_type": "stream",
     "text": [
      "C:\\Users\\44744\\anaconda3\\lib\\site-packages\\sklearn\\model_selection\\_search.py:765: UserWarning: With alpha=0, this algorithm does not converge well. You are advised to use the LinearRegression estimator\n",
      "  self.best_estimator_.fit(X, y, **fit_params)\n",
      "C:\\Users\\44744\\anaconda3\\lib\\site-packages\\sklearn\\linear_model\\_coordinate_descent.py:529: UserWarning: Coordinate descent with no regularization may lead to unexpected results and is discouraged.\n",
      "  model = cd_fast.enet_coordinate_descent(\n",
      "<ipython-input-21-8cab97ed6486>:65: UserWarning: With alpha=0, this algorithm does not converge well. You are advised to use the LinearRegression estimator\n",
      "  lasso.fit(trainX, trainY)\n",
      "C:\\Users\\44744\\anaconda3\\lib\\site-packages\\sklearn\\linear_model\\_coordinate_descent.py:529: UserWarning: Coordinate descent with no regularization may lead to unexpected results and is discouraged.\n",
      "  model = cd_fast.enet_coordinate_descent(\n",
      "C:\\Users\\44744\\anaconda3\\lib\\site-packages\\sklearn\\linear_model\\_ridge.py:190: UserWarning: Singular matrix in solving dual problem. Using least-squares solution instead.\n",
      "  warnings.warn(\"Singular matrix in solving dual problem. Using \"\n",
      "C:\\Users\\44744\\anaconda3\\lib\\site-packages\\sklearn\\linear_model\\_ridge.py:190: UserWarning: Singular matrix in solving dual problem. Using least-squares solution instead.\n",
      "  warnings.warn(\"Singular matrix in solving dual problem. Using \"\n"
     ]
    },
    {
     "name": "stdout",
     "output_type": "stream",
     "text": [
      "{'alpha': 0.0}\n",
      "{'alpha': 0.0}\n",
      "{'alpha': 0.1}\n",
      "{'alpha': 0.1}\n"
     ]
    },
    {
     "name": "stderr",
     "output_type": "stream",
     "text": [
      "C:\\Users\\44744\\anaconda3\\lib\\site-packages\\sklearn\\linear_model\\_coordinate_descent.py:529: ConvergenceWarning: Objective did not converge. You might want to increase the number of iterations. Duality gap: 39.45746629875195, tolerance: 10.16269188823569\n",
      "  model = cd_fast.enet_coordinate_descent(\n",
      "C:\\Users\\44744\\anaconda3\\lib\\site-packages\\sklearn\\linear_model\\_coordinate_descent.py:529: ConvergenceWarning: Objective did not converge. You might want to increase the number of iterations. Duality gap: 39.45746629875195, tolerance: 10.16269188823569\n",
      "  model = cd_fast.enet_coordinate_descent(\n",
      "C:\\Users\\44744\\anaconda3\\lib\\site-packages\\sklearn\\linear_model\\_ridge.py:187: LinAlgWarning: Ill-conditioned matrix (rcond=7.6529e-18): result may not be accurate.\n",
      "  dual_coef = linalg.solve(K, y, sym_pos=True,\n",
      "C:\\Users\\44744\\anaconda3\\lib\\site-packages\\sklearn\\linear_model\\_ridge.py:187: LinAlgWarning: Ill-conditioned matrix (rcond=7.6529e-18): result may not be accurate.\n",
      "  dual_coef = linalg.solve(K, y, sym_pos=True,\n"
     ]
    },
    {
     "name": "stdout",
     "output_type": "stream",
     "text": [
      "{'alpha': 0.011111111111111112}\n",
      "{'alpha': 0.0}\n",
      "{'alpha': 0.011111111111111112}\n",
      "{'alpha': 0.1}\n",
      "{'alpha': 0.1}\n",
      "{'alpha': 0.1}\n"
     ]
    },
    {
     "name": "stderr",
     "output_type": "stream",
     "text": [
      "C:\\Users\\44744\\anaconda3\\lib\\site-packages\\sklearn\\model_selection\\_search.py:765: UserWarning: With alpha=0, this algorithm does not converge well. You are advised to use the LinearRegression estimator\n",
      "  self.best_estimator_.fit(X, y, **fit_params)\n",
      "C:\\Users\\44744\\anaconda3\\lib\\site-packages\\sklearn\\linear_model\\_coordinate_descent.py:529: UserWarning: Coordinate descent with no regularization may lead to unexpected results and is discouraged.\n",
      "  model = cd_fast.enet_coordinate_descent(\n",
      "<ipython-input-21-8cab97ed6486>:65: UserWarning: With alpha=0, this algorithm does not converge well. You are advised to use the LinearRegression estimator\n",
      "  lasso.fit(trainX, trainY)\n",
      "C:\\Users\\44744\\anaconda3\\lib\\site-packages\\sklearn\\linear_model\\_coordinate_descent.py:529: UserWarning: Coordinate descent with no regularization may lead to unexpected results and is discouraged.\n",
      "  model = cd_fast.enet_coordinate_descent(\n",
      "C:\\Users\\44744\\anaconda3\\lib\\site-packages\\sklearn\\model_selection\\_search.py:765: UserWarning: With alpha=0, this algorithm does not converge well. You are advised to use the LinearRegression estimator\n",
      "  self.best_estimator_.fit(X, y, **fit_params)\n"
     ]
    },
    {
     "name": "stdout",
     "output_type": "stream",
     "text": [
      "{'alpha': 0.0}\n",
      "{'alpha': 0.1}\n"
     ]
    },
    {
     "name": "stderr",
     "output_type": "stream",
     "text": [
      "C:\\Users\\44744\\anaconda3\\lib\\site-packages\\sklearn\\linear_model\\_coordinate_descent.py:529: UserWarning: Coordinate descent with no regularization may lead to unexpected results and is discouraged.\n",
      "  model = cd_fast.enet_coordinate_descent(\n",
      "<ipython-input-21-8cab97ed6486>:65: UserWarning: With alpha=0, this algorithm does not converge well. You are advised to use the LinearRegression estimator\n",
      "  lasso.fit(trainX, trainY)\n",
      "C:\\Users\\44744\\anaconda3\\lib\\site-packages\\sklearn\\linear_model\\_coordinate_descent.py:529: UserWarning: Coordinate descent with no regularization may lead to unexpected results and is discouraged.\n",
      "  model = cd_fast.enet_coordinate_descent(\n"
     ]
    },
    {
     "name": "stdout",
     "output_type": "stream",
     "text": [
      "{'alpha': 0.0}\n",
      "{'alpha': 0.1}\n"
     ]
    },
    {
     "name": "stderr",
     "output_type": "stream",
     "text": [
      "C:\\Users\\44744\\anaconda3\\lib\\site-packages\\sklearn\\model_selection\\_search.py:765: UserWarning: With alpha=0, this algorithm does not converge well. You are advised to use the LinearRegression estimator\n",
      "  self.best_estimator_.fit(X, y, **fit_params)\n",
      "C:\\Users\\44744\\anaconda3\\lib\\site-packages\\sklearn\\linear_model\\_coordinate_descent.py:529: UserWarning: Coordinate descent with no regularization may lead to unexpected results and is discouraged.\n",
      "  model = cd_fast.enet_coordinate_descent(\n",
      "<ipython-input-21-8cab97ed6486>:65: UserWarning: With alpha=0, this algorithm does not converge well. You are advised to use the LinearRegression estimator\n",
      "  lasso.fit(trainX, trainY)\n",
      "C:\\Users\\44744\\anaconda3\\lib\\site-packages\\sklearn\\linear_model\\_coordinate_descent.py:529: UserWarning: Coordinate descent with no regularization may lead to unexpected results and is discouraged.\n",
      "  model = cd_fast.enet_coordinate_descent(\n"
     ]
    },
    {
     "name": "stdout",
     "output_type": "stream",
     "text": [
      "{'alpha': 0.0}\n",
      "{'alpha': 0.1}\n"
     ]
    },
    {
     "name": "stderr",
     "output_type": "stream",
     "text": [
      "C:\\Users\\44744\\anaconda3\\lib\\site-packages\\sklearn\\model_selection\\_search.py:765: UserWarning: With alpha=0, this algorithm does not converge well. You are advised to use the LinearRegression estimator\n",
      "  self.best_estimator_.fit(X, y, **fit_params)\n",
      "C:\\Users\\44744\\anaconda3\\lib\\site-packages\\sklearn\\linear_model\\_coordinate_descent.py:529: UserWarning: Coordinate descent with no regularization may lead to unexpected results and is discouraged.\n",
      "  model = cd_fast.enet_coordinate_descent(\n",
      "<ipython-input-21-8cab97ed6486>:65: UserWarning: With alpha=0, this algorithm does not converge well. You are advised to use the LinearRegression estimator\n",
      "  lasso.fit(trainX, trainY)\n",
      "C:\\Users\\44744\\anaconda3\\lib\\site-packages\\sklearn\\linear_model\\_coordinate_descent.py:529: UserWarning: Coordinate descent with no regularization may lead to unexpected results and is discouraged.\n",
      "  model = cd_fast.enet_coordinate_descent(\n"
     ]
    },
    {
     "name": "stdout",
     "output_type": "stream",
     "text": [
      "{'alpha': 0.0}\n",
      "{'alpha': 0.0}\n"
     ]
    },
    {
     "name": "stderr",
     "output_type": "stream",
     "text": [
      "C:\\Users\\44744\\anaconda3\\lib\\site-packages\\sklearn\\model_selection\\_search.py:765: UserWarning: With alpha=0, this algorithm does not converge well. You are advised to use the LinearRegression estimator\n",
      "  self.best_estimator_.fit(X, y, **fit_params)\n",
      "C:\\Users\\44744\\anaconda3\\lib\\site-packages\\sklearn\\linear_model\\_coordinate_descent.py:529: UserWarning: Coordinate descent with no regularization may lead to unexpected results and is discouraged.\n",
      "  model = cd_fast.enet_coordinate_descent(\n",
      "<ipython-input-21-8cab97ed6486>:65: UserWarning: With alpha=0, this algorithm does not converge well. You are advised to use the LinearRegression estimator\n",
      "  lasso.fit(trainX, trainY)\n",
      "C:\\Users\\44744\\anaconda3\\lib\\site-packages\\sklearn\\linear_model\\_coordinate_descent.py:529: UserWarning: Coordinate descent with no regularization may lead to unexpected results and is discouraged.\n",
      "  model = cd_fast.enet_coordinate_descent(\n"
     ]
    },
    {
     "name": "stdout",
     "output_type": "stream",
     "text": [
      "{'alpha': 0.0}\n",
      "{'alpha': 0.1}\n",
      "{'alpha': 0.1}\n",
      "{'alpha': 0.0}\n"
     ]
    },
    {
     "name": "stderr",
     "output_type": "stream",
     "text": [
      "C:\\Users\\44744\\anaconda3\\lib\\site-packages\\sklearn\\linear_model\\_ridge.py:187: LinAlgWarning: Ill-conditioned matrix (rcond=1.2878e-17): result may not be accurate.\n",
      "  dual_coef = linalg.solve(K, y, sym_pos=True,\n",
      "C:\\Users\\44744\\anaconda3\\lib\\site-packages\\sklearn\\linear_model\\_ridge.py:187: LinAlgWarning: Ill-conditioned matrix (rcond=1.2878e-17): result may not be accurate.\n",
      "  dual_coef = linalg.solve(K, y, sym_pos=True,\n",
      "C:\\Users\\44744\\anaconda3\\lib\\site-packages\\sklearn\\model_selection\\_search.py:765: UserWarning: With alpha=0, this algorithm does not converge well. You are advised to use the LinearRegression estimator\n",
      "  self.best_estimator_.fit(X, y, **fit_params)\n",
      "C:\\Users\\44744\\anaconda3\\lib\\site-packages\\sklearn\\linear_model\\_coordinate_descent.py:529: UserWarning: Coordinate descent with no regularization may lead to unexpected results and is discouraged.\n",
      "  model = cd_fast.enet_coordinate_descent(\n",
      "<ipython-input-21-8cab97ed6486>:65: UserWarning: With alpha=0, this algorithm does not converge well. You are advised to use the LinearRegression estimator\n",
      "  lasso.fit(trainX, trainY)\n",
      "C:\\Users\\44744\\anaconda3\\lib\\site-packages\\sklearn\\linear_model\\_coordinate_descent.py:529: UserWarning: Coordinate descent with no regularization may lead to unexpected results and is discouraged.\n",
      "  model = cd_fast.enet_coordinate_descent(\n"
     ]
    },
    {
     "name": "stdout",
     "output_type": "stream",
     "text": [
      "{'alpha': 0.0}\n",
      "{'alpha': 0.1}\n",
      "{'alpha': 0.0}\n"
     ]
    },
    {
     "name": "stderr",
     "output_type": "stream",
     "text": [
      "C:\\Users\\44744\\anaconda3\\lib\\site-packages\\sklearn\\model_selection\\_search.py:765: UserWarning: With alpha=0, this algorithm does not converge well. You are advised to use the LinearRegression estimator\n",
      "  self.best_estimator_.fit(X, y, **fit_params)\n",
      "C:\\Users\\44744\\anaconda3\\lib\\site-packages\\sklearn\\linear_model\\_coordinate_descent.py:529: UserWarning: Coordinate descent with no regularization may lead to unexpected results and is discouraged.\n",
      "  model = cd_fast.enet_coordinate_descent(\n",
      "<ipython-input-21-8cab97ed6486>:65: UserWarning: With alpha=0, this algorithm does not converge well. You are advised to use the LinearRegression estimator\n",
      "  lasso.fit(trainX, trainY)\n",
      "C:\\Users\\44744\\anaconda3\\lib\\site-packages\\sklearn\\linear_model\\_coordinate_descent.py:529: UserWarning: Coordinate descent with no regularization may lead to unexpected results and is discouraged.\n",
      "  model = cd_fast.enet_coordinate_descent(\n"
     ]
    }
   ],
   "source": [
    "# filterPlateau = filterPlateau[~filterPlateau['DRUG_ID'].isin(toDropDrugs)]\n",
    "conc_labels = [\"fd_num_\"+str(i) for i in range(10)]\n",
    "resp_labels = ['norm_cells_'+str(i) for i in range(10)]\n",
    "param_labels = ['param_'+str(i) for i in range(1,5)]\n",
    "pred_param_labels = ['pred_param_'+str(i) for i in range(1,5)]\n",
    "notIncludeColumns = ['CELL_LINE_NAME', 'COSMIC_ID', 'DRUG_ID', 'DRUGID_COSMICID','MAX_CONC'] + resp_labels\n",
    "\n",
    "fullPredLabels = ['DRUG_COSMICID'] + pred_param_labels\n",
    "ridgeResults = pd.DataFrame(columns=fullPredLabels)\n",
    "lassoResults = pd.DataFrame(columns=fullPredLabels)\n",
    "combinedResults = pd.DataFrame(columns=fullPredLabels)\n",
    "trueResults = pd.DataFrame(columns= ['DRUG_COSMICID']+ param_labels)\n",
    "df = None\n",
    "for drugId in trainTestSplit.keys():\n",
    "    drugProfile = drugProfiles[drugProfiles['DRUG_ID'] == int(drugId)]\n",
    "    trainData = drugProfile[drugProfile['DRUGID_COSMICID'].isin(trainTestSplit[str(drugId)][0])]\n",
    "    testData = drugProfile[drugProfile['DRUGID_COSMICID'].isin(trainTestSplit[str(drugId)][1])]\n",
    "    testDataCosmicIds = np.array(testData['DRUGID_COSMICID'])\n",
    "    notXValuesFilter = resp_labels + notIncludeColumns + conc_labels + param_labels\n",
    "    trainXValues = trainData.drop(columns = notXValuesFilter)\n",
    "    trainYValues = trainData[param_labels]\n",
    "\n",
    "    trainX = trainXValues.reset_index(drop=True).to_numpy()\n",
    "    trainY = trainYValues.reset_index(drop=True).to_numpy()\n",
    "\n",
    "    testXValues = testData.drop(columns = notXValuesFilter)\n",
    "    testYValues = testData[param_labels]\n",
    "\n",
    "    testX = testXValues.reset_index(drop=True).to_numpy()\n",
    "    testY = testYValues.reset_index(drop=True).to_numpy()\n",
    "\n",
    "    cv = RepeatedKFold(n_splits=5, n_repeats=3, random_state=1)\n",
    "#     ridge_alphas = np.linspace(0, 600, 40)\n",
    "    ridge_alphas = np.linspace(0, 0.1, 10)\n",
    "    ridge = Ridge()\n",
    "    grid = dict()\n",
    "    grid['alpha'] = ridge_alphas\n",
    "    gscv = GridSearchCV( \\\n",
    "        ridge, grid, scoring='neg_mean_absolute_error', \\\n",
    "        cv=cv, n_jobs=-1)\n",
    "    results = gscv.fit(trainX, trainY)\n",
    "    print(results.best_params_)\n",
    "\n",
    "    ridge = Ridge(alpha=results.best_params_['alpha'])\n",
    "    ridge.fit(trainX, trainY)\n",
    "    pred_train = ridge.predict(trainX)\n",
    "    pred_test= ridge.predict(testX)\n",
    "    resultsRidge = pd.DataFrame(testDataCosmicIds, columns=['DRUG_COSMICID'])\n",
    "    resultsRidge[pred_param_labels] = pred_test\n",
    "    ridgeResults = ridgeResults.append(resultsRidge,ignore_index=True,sort=False)\n",
    "\n",
    "    cv = RepeatedKFold(n_splits=5, n_repeats=3, random_state=1)\n",
    "#     lasso_alphas = np.linspace(0, 7, 10)\n",
    "    lasso_alphas = np.linspace(0, 0.1, 10)\n",
    "    lasso = Lasso()\n",
    "    grid = dict()\n",
    "    grid['alpha'] = lasso_alphas\n",
    "    gscv = GridSearchCV( \\\n",
    "        lasso, grid, scoring='neg_mean_absolute_error', \\\n",
    "        cv=cv, n_jobs=-1)\n",
    "    results = gscv.fit(trainX, trainY)\n",
    "    print(results.best_params_)\n",
    "\n",
    "    lasso = Lasso(alpha=results.best_params_['alpha'])\n",
    "    lasso.fit(trainX, trainY)\n",
    "    pred_trainL = lasso.predict(trainX)\n",
    "    pred_testL= lasso.predict(testX)\n",
    "    resultsLasso = pd.DataFrame(testDataCosmicIds, columns=['DRUG_COSMICID'])\n",
    "    resultsLasso[pred_param_labels] = pred_testL\n",
    "    lassoResults = lassoResults.append(resultsLasso,ignore_index=True,sort=False)\n",
    "\n",
    "    trueResult = pd.DataFrame(testDataCosmicIds, columns=['DRUG_COSMICID'])\n",
    "    trueResult[param_labels] = testY\n",
    "    trueResults = trueResults.append(trueResult,ignore_index=True,sort=False)\n",
    "\n",
    "\n",
    "    combinedResult = np.add(pred_test, pred_testL)\n",
    "    divide2 = lambda i: float(i) / 2\n",
    "\n",
    "    vectorized_divide2 = np.vectorize(divide2)\n",
    "\n",
    "    combinedResult = np.asmatrix(vectorized_divide2(combinedResult))\n",
    "    resultsComb = pd.DataFrame(testDataCosmicIds, columns=['DRUG_COSMICID'])\n",
    "    resultsComb[pred_param_labels] = combinedResult\n",
    "    combinedResults = combinedResults.append(resultsComb,ignore_index=True,sort=False)\n",
    "\n"
   ]
  },
  {
   "cell_type": "code",
   "execution_count": 22,
   "metadata": {},
   "outputs": [
    {
     "data": {
      "text/html": [
       "<div>\n",
       "<style scoped>\n",
       "    .dataframe tbody tr th:only-of-type {\n",
       "        vertical-align: middle;\n",
       "    }\n",
       "\n",
       "    .dataframe tbody tr th {\n",
       "        vertical-align: top;\n",
       "    }\n",
       "\n",
       "    .dataframe thead th {\n",
       "        text-align: right;\n",
       "    }\n",
       "</style>\n",
       "<table border=\"1\" class=\"dataframe\">\n",
       "  <thead>\n",
       "    <tr style=\"text-align: right;\">\n",
       "      <th></th>\n",
       "      <th>DRUG_COSMICID</th>\n",
       "      <th>pred_param_1</th>\n",
       "      <th>pred_param_2</th>\n",
       "      <th>pred_param_3</th>\n",
       "      <th>pred_param_4</th>\n",
       "    </tr>\n",
       "  </thead>\n",
       "  <tbody>\n",
       "    <tr>\n",
       "      <th>0</th>\n",
       "      <td>344_910851</td>\n",
       "      <td>-14.768345</td>\n",
       "      <td>0.998760</td>\n",
       "      <td>26.839528</td>\n",
       "      <td>-0.026728</td>\n",
       "    </tr>\n",
       "    <tr>\n",
       "      <th>1</th>\n",
       "      <td>344_717431</td>\n",
       "      <td>-7.886457</td>\n",
       "      <td>0.998760</td>\n",
       "      <td>35.834216</td>\n",
       "      <td>-0.026728</td>\n",
       "    </tr>\n",
       "    <tr>\n",
       "      <th>2</th>\n",
       "      <td>344_910925</td>\n",
       "      <td>14.615991</td>\n",
       "      <td>0.998760</td>\n",
       "      <td>-49.704941</td>\n",
       "      <td>-0.026728</td>\n",
       "    </tr>\n",
       "    <tr>\n",
       "      <th>3</th>\n",
       "      <td>344_908457</td>\n",
       "      <td>-20.821359</td>\n",
       "      <td>0.998760</td>\n",
       "      <td>-6.501579</td>\n",
       "      <td>-0.026728</td>\n",
       "    </tr>\n",
       "    <tr>\n",
       "      <th>4</th>\n",
       "      <td>344_910853</td>\n",
       "      <td>-9.000013</td>\n",
       "      <td>0.998760</td>\n",
       "      <td>43.394285</td>\n",
       "      <td>-0.026728</td>\n",
       "    </tr>\n",
       "    <tr>\n",
       "      <th>...</th>\n",
       "      <td>...</td>\n",
       "      <td>...</td>\n",
       "      <td>...</td>\n",
       "      <td>...</td>\n",
       "      <td>...</td>\n",
       "    </tr>\n",
       "    <tr>\n",
       "      <th>1150</th>\n",
       "      <td>330_910688</td>\n",
       "      <td>-3.801606</td>\n",
       "      <td>0.970703</td>\n",
       "      <td>7.601086</td>\n",
       "      <td>0.197611</td>\n",
       "    </tr>\n",
       "    <tr>\n",
       "      <th>1151</th>\n",
       "      <td>330_908146</td>\n",
       "      <td>-7.418834</td>\n",
       "      <td>1.006637</td>\n",
       "      <td>13.846179</td>\n",
       "      <td>1.011145</td>\n",
       "    </tr>\n",
       "    <tr>\n",
       "      <th>1152</th>\n",
       "      <td>330_949088</td>\n",
       "      <td>-3.491516</td>\n",
       "      <td>0.973220</td>\n",
       "      <td>7.789739</td>\n",
       "      <td>-0.051634</td>\n",
       "    </tr>\n",
       "    <tr>\n",
       "      <th>1153</th>\n",
       "      <td>1058_753531</td>\n",
       "      <td>-1.734232</td>\n",
       "      <td>1.004027</td>\n",
       "      <td>4.527408</td>\n",
       "      <td>-0.015901</td>\n",
       "    </tr>\n",
       "    <tr>\n",
       "      <th>1154</th>\n",
       "      <td>1058_909722</td>\n",
       "      <td>-1.899182</td>\n",
       "      <td>1.020931</td>\n",
       "      <td>1.607941</td>\n",
       "      <td>-0.364377</td>\n",
       "    </tr>\n",
       "  </tbody>\n",
       "</table>\n",
       "<p>1155 rows × 5 columns</p>\n",
       "</div>"
      ],
      "text/plain": [
       "     DRUG_COSMICID  pred_param_1  pred_param_2  pred_param_3  pred_param_4\n",
       "0       344_910851    -14.768345      0.998760     26.839528     -0.026728\n",
       "1       344_717431     -7.886457      0.998760     35.834216     -0.026728\n",
       "2       344_910925     14.615991      0.998760    -49.704941     -0.026728\n",
       "3       344_908457    -20.821359      0.998760     -6.501579     -0.026728\n",
       "4       344_910853     -9.000013      0.998760     43.394285     -0.026728\n",
       "...            ...           ...           ...           ...           ...\n",
       "1150    330_910688     -3.801606      0.970703      7.601086      0.197611\n",
       "1151    330_908146     -7.418834      1.006637     13.846179      1.011145\n",
       "1152    330_949088     -3.491516      0.973220      7.789739     -0.051634\n",
       "1153   1058_753531     -1.734232      1.004027      4.527408     -0.015901\n",
       "1154   1058_909722     -1.899182      1.020931      1.607941     -0.364377\n",
       "\n",
       "[1155 rows x 5 columns]"
      ]
     },
     "execution_count": 22,
     "metadata": {},
     "output_type": "execute_result"
    }
   ],
   "source": [
    "lassoResults"
   ]
  },
  {
   "cell_type": "code",
   "execution_count": 23,
   "metadata": {},
   "outputs": [
    {
     "data": {
      "text/html": [
       "<div>\n",
       "<style scoped>\n",
       "    .dataframe tbody tr th:only-of-type {\n",
       "        vertical-align: middle;\n",
       "    }\n",
       "\n",
       "    .dataframe tbody tr th {\n",
       "        vertical-align: top;\n",
       "    }\n",
       "\n",
       "    .dataframe thead th {\n",
       "        text-align: right;\n",
       "    }\n",
       "</style>\n",
       "<table border=\"1\" class=\"dataframe\">\n",
       "  <thead>\n",
       "    <tr style=\"text-align: right;\">\n",
       "      <th></th>\n",
       "      <th>DRUG_COSMICID</th>\n",
       "      <th>pred_param_1</th>\n",
       "      <th>pred_param_2</th>\n",
       "      <th>pred_param_3</th>\n",
       "      <th>pred_param_4</th>\n",
       "    </tr>\n",
       "  </thead>\n",
       "  <tbody>\n",
       "    <tr>\n",
       "      <th>0</th>\n",
       "      <td>344_910851</td>\n",
       "      <td>-37.762935</td>\n",
       "      <td>0.965850</td>\n",
       "      <td>95.485471</td>\n",
       "      <td>0.030885</td>\n",
       "    </tr>\n",
       "    <tr>\n",
       "      <th>1</th>\n",
       "      <td>344_717431</td>\n",
       "      <td>-36.424377</td>\n",
       "      <td>0.986589</td>\n",
       "      <td>58.772381</td>\n",
       "      <td>-0.047023</td>\n",
       "    </tr>\n",
       "    <tr>\n",
       "      <th>2</th>\n",
       "      <td>344_910925</td>\n",
       "      <td>-2.099124</td>\n",
       "      <td>0.940652</td>\n",
       "      <td>6.610399</td>\n",
       "      <td>-0.079135</td>\n",
       "    </tr>\n",
       "    <tr>\n",
       "      <th>3</th>\n",
       "      <td>344_908457</td>\n",
       "      <td>-33.911407</td>\n",
       "      <td>1.018169</td>\n",
       "      <td>31.106745</td>\n",
       "      <td>0.069242</td>\n",
       "    </tr>\n",
       "    <tr>\n",
       "      <th>4</th>\n",
       "      <td>344_910853</td>\n",
       "      <td>-15.356437</td>\n",
       "      <td>0.977817</td>\n",
       "      <td>61.265332</td>\n",
       "      <td>0.119835</td>\n",
       "    </tr>\n",
       "    <tr>\n",
       "      <th>...</th>\n",
       "      <td>...</td>\n",
       "      <td>...</td>\n",
       "      <td>...</td>\n",
       "      <td>...</td>\n",
       "      <td>...</td>\n",
       "    </tr>\n",
       "    <tr>\n",
       "      <th>1150</th>\n",
       "      <td>330_910688</td>\n",
       "      <td>-4.677134</td>\n",
       "      <td>0.992349</td>\n",
       "      <td>10.790022</td>\n",
       "      <td>0.440160</td>\n",
       "    </tr>\n",
       "    <tr>\n",
       "      <th>1151</th>\n",
       "      <td>330_908146</td>\n",
       "      <td>-2.686476</td>\n",
       "      <td>1.001687</td>\n",
       "      <td>6.135182</td>\n",
       "      <td>-0.405924</td>\n",
       "    </tr>\n",
       "    <tr>\n",
       "      <th>1152</th>\n",
       "      <td>330_949088</td>\n",
       "      <td>-2.567558</td>\n",
       "      <td>0.990297</td>\n",
       "      <td>5.413283</td>\n",
       "      <td>-0.347693</td>\n",
       "    </tr>\n",
       "    <tr>\n",
       "      <th>1153</th>\n",
       "      <td>1058_753531</td>\n",
       "      <td>-2.070608</td>\n",
       "      <td>0.995777</td>\n",
       "      <td>4.827072</td>\n",
       "      <td>0.019187</td>\n",
       "    </tr>\n",
       "    <tr>\n",
       "      <th>1154</th>\n",
       "      <td>1058_909722</td>\n",
       "      <td>-2.696489</td>\n",
       "      <td>0.990495</td>\n",
       "      <td>4.109565</td>\n",
       "      <td>-0.022500</td>\n",
       "    </tr>\n",
       "  </tbody>\n",
       "</table>\n",
       "<p>1155 rows × 5 columns</p>\n",
       "</div>"
      ],
      "text/plain": [
       "     DRUG_COSMICID  pred_param_1  pred_param_2  pred_param_3  pred_param_4\n",
       "0       344_910851    -37.762935      0.965850     95.485471      0.030885\n",
       "1       344_717431    -36.424377      0.986589     58.772381     -0.047023\n",
       "2       344_910925     -2.099124      0.940652      6.610399     -0.079135\n",
       "3       344_908457    -33.911407      1.018169     31.106745      0.069242\n",
       "4       344_910853    -15.356437      0.977817     61.265332      0.119835\n",
       "...            ...           ...           ...           ...           ...\n",
       "1150    330_910688     -4.677134      0.992349     10.790022      0.440160\n",
       "1151    330_908146     -2.686476      1.001687      6.135182     -0.405924\n",
       "1152    330_949088     -2.567558      0.990297      5.413283     -0.347693\n",
       "1153   1058_753531     -2.070608      0.995777      4.827072      0.019187\n",
       "1154   1058_909722     -2.696489      0.990495      4.109565     -0.022500\n",
       "\n",
       "[1155 rows x 5 columns]"
      ]
     },
     "execution_count": 23,
     "metadata": {},
     "output_type": "execute_result"
    }
   ],
   "source": [
    "ridgeResults"
   ]
  },
  {
   "cell_type": "code",
   "execution_count": 24,
   "metadata": {},
   "outputs": [
    {
     "data": {
      "text/html": [
       "<div>\n",
       "<style scoped>\n",
       "    .dataframe tbody tr th:only-of-type {\n",
       "        vertical-align: middle;\n",
       "    }\n",
       "\n",
       "    .dataframe tbody tr th {\n",
       "        vertical-align: top;\n",
       "    }\n",
       "\n",
       "    .dataframe thead th {\n",
       "        text-align: right;\n",
       "    }\n",
       "</style>\n",
       "<table border=\"1\" class=\"dataframe\">\n",
       "  <thead>\n",
       "    <tr style=\"text-align: right;\">\n",
       "      <th></th>\n",
       "      <th>DRUG_COSMICID</th>\n",
       "      <th>pred_param_1</th>\n",
       "      <th>pred_param_2</th>\n",
       "      <th>pred_param_3</th>\n",
       "      <th>pred_param_4</th>\n",
       "    </tr>\n",
       "  </thead>\n",
       "  <tbody>\n",
       "    <tr>\n",
       "      <th>0</th>\n",
       "      <td>344_910851</td>\n",
       "      <td>-26.265640</td>\n",
       "      <td>0.982305</td>\n",
       "      <td>61.162499</td>\n",
       "      <td>0.002078</td>\n",
       "    </tr>\n",
       "    <tr>\n",
       "      <th>1</th>\n",
       "      <td>344_717431</td>\n",
       "      <td>-22.155417</td>\n",
       "      <td>0.992674</td>\n",
       "      <td>47.303299</td>\n",
       "      <td>-0.036875</td>\n",
       "    </tr>\n",
       "    <tr>\n",
       "      <th>2</th>\n",
       "      <td>344_910925</td>\n",
       "      <td>6.258433</td>\n",
       "      <td>0.969706</td>\n",
       "      <td>-21.547271</td>\n",
       "      <td>-0.052931</td>\n",
       "    </tr>\n",
       "    <tr>\n",
       "      <th>3</th>\n",
       "      <td>344_908457</td>\n",
       "      <td>-27.366383</td>\n",
       "      <td>1.008465</td>\n",
       "      <td>12.302583</td>\n",
       "      <td>0.021257</td>\n",
       "    </tr>\n",
       "    <tr>\n",
       "      <th>4</th>\n",
       "      <td>344_910853</td>\n",
       "      <td>-12.178225</td>\n",
       "      <td>0.988289</td>\n",
       "      <td>52.329809</td>\n",
       "      <td>0.046554</td>\n",
       "    </tr>\n",
       "    <tr>\n",
       "      <th>...</th>\n",
       "      <td>...</td>\n",
       "      <td>...</td>\n",
       "      <td>...</td>\n",
       "      <td>...</td>\n",
       "      <td>...</td>\n",
       "    </tr>\n",
       "    <tr>\n",
       "      <th>1150</th>\n",
       "      <td>330_910688</td>\n",
       "      <td>-4.239370</td>\n",
       "      <td>0.981526</td>\n",
       "      <td>9.195554</td>\n",
       "      <td>0.318885</td>\n",
       "    </tr>\n",
       "    <tr>\n",
       "      <th>1151</th>\n",
       "      <td>330_908146</td>\n",
       "      <td>-5.052655</td>\n",
       "      <td>1.004162</td>\n",
       "      <td>9.990681</td>\n",
       "      <td>0.302610</td>\n",
       "    </tr>\n",
       "    <tr>\n",
       "      <th>1152</th>\n",
       "      <td>330_949088</td>\n",
       "      <td>-3.029537</td>\n",
       "      <td>0.981758</td>\n",
       "      <td>6.601511</td>\n",
       "      <td>-0.199663</td>\n",
       "    </tr>\n",
       "    <tr>\n",
       "      <th>1153</th>\n",
       "      <td>1058_753531</td>\n",
       "      <td>-1.902420</td>\n",
       "      <td>0.999902</td>\n",
       "      <td>4.677240</td>\n",
       "      <td>0.001643</td>\n",
       "    </tr>\n",
       "    <tr>\n",
       "      <th>1154</th>\n",
       "      <td>1058_909722</td>\n",
       "      <td>-2.297836</td>\n",
       "      <td>1.005713</td>\n",
       "      <td>2.858753</td>\n",
       "      <td>-0.193439</td>\n",
       "    </tr>\n",
       "  </tbody>\n",
       "</table>\n",
       "<p>1155 rows × 5 columns</p>\n",
       "</div>"
      ],
      "text/plain": [
       "     DRUG_COSMICID  pred_param_1  pred_param_2  pred_param_3  pred_param_4\n",
       "0       344_910851    -26.265640      0.982305     61.162499      0.002078\n",
       "1       344_717431    -22.155417      0.992674     47.303299     -0.036875\n",
       "2       344_910925      6.258433      0.969706    -21.547271     -0.052931\n",
       "3       344_908457    -27.366383      1.008465     12.302583      0.021257\n",
       "4       344_910853    -12.178225      0.988289     52.329809      0.046554\n",
       "...            ...           ...           ...           ...           ...\n",
       "1150    330_910688     -4.239370      0.981526      9.195554      0.318885\n",
       "1151    330_908146     -5.052655      1.004162      9.990681      0.302610\n",
       "1152    330_949088     -3.029537      0.981758      6.601511     -0.199663\n",
       "1153   1058_753531     -1.902420      0.999902      4.677240      0.001643\n",
       "1154   1058_909722     -2.297836      1.005713      2.858753     -0.193439\n",
       "\n",
       "[1155 rows x 5 columns]"
      ]
     },
     "execution_count": 24,
     "metadata": {},
     "output_type": "execute_result"
    }
   ],
   "source": [
    "combinedResults"
   ]
  },
  {
   "cell_type": "code",
   "execution_count": 25,
   "metadata": {},
   "outputs": [
    {
     "data": {
      "text/html": [
       "<div>\n",
       "<style scoped>\n",
       "    .dataframe tbody tr th:only-of-type {\n",
       "        vertical-align: middle;\n",
       "    }\n",
       "\n",
       "    .dataframe tbody tr th {\n",
       "        vertical-align: top;\n",
       "    }\n",
       "\n",
       "    .dataframe thead th {\n",
       "        text-align: right;\n",
       "    }\n",
       "</style>\n",
       "<table border=\"1\" class=\"dataframe\">\n",
       "  <thead>\n",
       "    <tr style=\"text-align: right;\">\n",
       "      <th></th>\n",
       "      <th>DRUG_COSMICID</th>\n",
       "      <th>param_1</th>\n",
       "      <th>param_2</th>\n",
       "      <th>param_3</th>\n",
       "      <th>param_4</th>\n",
       "    </tr>\n",
       "  </thead>\n",
       "  <tbody>\n",
       "    <tr>\n",
       "      <th>0</th>\n",
       "      <td>344_910851</td>\n",
       "      <td>-16.424564</td>\n",
       "      <td>0.958175</td>\n",
       "      <td>23.736499</td>\n",
       "      <td>0.222941</td>\n",
       "    </tr>\n",
       "    <tr>\n",
       "      <th>1</th>\n",
       "      <td>344_717431</td>\n",
       "      <td>-9.979214</td>\n",
       "      <td>1.054327</td>\n",
       "      <td>25.806256</td>\n",
       "      <td>0.003961</td>\n",
       "    </tr>\n",
       "    <tr>\n",
       "      <th>2</th>\n",
       "      <td>344_910925</td>\n",
       "      <td>-19.679407</td>\n",
       "      <td>0.997509</td>\n",
       "      <td>25.848962</td>\n",
       "      <td>0.004848</td>\n",
       "    </tr>\n",
       "    <tr>\n",
       "      <th>3</th>\n",
       "      <td>344_908457</td>\n",
       "      <td>-2.704682</td>\n",
       "      <td>0.995417</td>\n",
       "      <td>6.327667</td>\n",
       "      <td>-0.086482</td>\n",
       "    </tr>\n",
       "    <tr>\n",
       "      <th>4</th>\n",
       "      <td>344_910853</td>\n",
       "      <td>-5.761424</td>\n",
       "      <td>0.934020</td>\n",
       "      <td>7.109135</td>\n",
       "      <td>-0.029411</td>\n",
       "    </tr>\n",
       "    <tr>\n",
       "      <th>...</th>\n",
       "      <td>...</td>\n",
       "      <td>...</td>\n",
       "      <td>...</td>\n",
       "      <td>...</td>\n",
       "      <td>...</td>\n",
       "    </tr>\n",
       "    <tr>\n",
       "      <th>1150</th>\n",
       "      <td>330_910688</td>\n",
       "      <td>-1.897305</td>\n",
       "      <td>0.981859</td>\n",
       "      <td>7.344160</td>\n",
       "      <td>-0.130963</td>\n",
       "    </tr>\n",
       "    <tr>\n",
       "      <th>1151</th>\n",
       "      <td>330_908146</td>\n",
       "      <td>-14.114180</td>\n",
       "      <td>1.023774</td>\n",
       "      <td>33.474336</td>\n",
       "      <td>0.124503</td>\n",
       "    </tr>\n",
       "    <tr>\n",
       "      <th>1152</th>\n",
       "      <td>330_949088</td>\n",
       "      <td>-4.187456</td>\n",
       "      <td>0.939049</td>\n",
       "      <td>7.541476</td>\n",
       "      <td>0.058395</td>\n",
       "    </tr>\n",
       "    <tr>\n",
       "      <th>1153</th>\n",
       "      <td>1058_753531</td>\n",
       "      <td>-2.474842</td>\n",
       "      <td>1.031552</td>\n",
       "      <td>5.599440</td>\n",
       "      <td>0.051272</td>\n",
       "    </tr>\n",
       "    <tr>\n",
       "      <th>1154</th>\n",
       "      <td>1058_909722</td>\n",
       "      <td>-2.496057</td>\n",
       "      <td>1.001111</td>\n",
       "      <td>3.036352</td>\n",
       "      <td>0.037264</td>\n",
       "    </tr>\n",
       "  </tbody>\n",
       "</table>\n",
       "<p>1155 rows × 5 columns</p>\n",
       "</div>"
      ],
      "text/plain": [
       "     DRUG_COSMICID    param_1   param_2    param_3   param_4\n",
       "0       344_910851 -16.424564  0.958175  23.736499  0.222941\n",
       "1       344_717431  -9.979214  1.054327  25.806256  0.003961\n",
       "2       344_910925 -19.679407  0.997509  25.848962  0.004848\n",
       "3       344_908457  -2.704682  0.995417   6.327667 -0.086482\n",
       "4       344_910853  -5.761424  0.934020   7.109135 -0.029411\n",
       "...            ...        ...       ...        ...       ...\n",
       "1150    330_910688  -1.897305  0.981859   7.344160 -0.130963\n",
       "1151    330_908146 -14.114180  1.023774  33.474336  0.124503\n",
       "1152    330_949088  -4.187456  0.939049   7.541476  0.058395\n",
       "1153   1058_753531  -2.474842  1.031552   5.599440  0.051272\n",
       "1154   1058_909722  -2.496057  1.001111   3.036352  0.037264\n",
       "\n",
       "[1155 rows x 5 columns]"
      ]
     },
     "execution_count": 25,
     "metadata": {},
     "output_type": "execute_result"
    }
   ],
   "source": [
    "trueResults"
   ]
  },
  {
   "cell_type": "code",
   "execution_count": 26,
   "metadata": {},
   "outputs": [],
   "source": [
    "ridgeResults = ridgeResults.drop_duplicates()\n",
    "lassoResults = lassoResults.drop_duplicates()\n",
    "combinedResults = combinedResults.drop_duplicates()"
   ]
  },
  {
   "cell_type": "code",
   "execution_count": 27,
   "metadata": {},
   "outputs": [],
   "source": [
    "def ll4_R(x, c, a, b, d):\n",
    "    return ( (a-d)/(1+np.exp(b*np.log(x)- c)) + d)\n",
    "\n",
    "def showTestPredResponses(drugIdCosmic):\n",
    "    sampleRidge = ridgeResults[ridgeResults['DRUG_COSMICID'] == drugIdCosmic].iloc[0:1,:]\n",
    "    ridgeY = sampleRidge[pred_param_labels]\n",
    "    ridgeY = np.array(ridgeY[pred_param_labels]).squeeze()\n",
    "    sampleLasso = lassoResults[ridgeResults['DRUG_COSMICID'] == drugIdCosmic].iloc[0:1,:]\n",
    "    lassoY = sampleLasso[pred_param_labels]\n",
    "    lassoY = np.array(lassoY[pred_param_labels]).squeeze()\n",
    "    sampleComb = combinedResults[ridgeResults['DRUG_COSMICID'] == drugIdCosmic].iloc[0:1,:]\n",
    "    combY = sampleComb[pred_param_labels]\n",
    "    combY = np.array(combY[pred_param_labels]).squeeze()\n",
    "    trueY = trueResults[trueResults['DRUG_COSMICID'] == drugIdCosmic].iloc[0:1,:]\n",
    "    trueY = np.array(trueY[param_labels]).squeeze()\n",
    "    print(trueY)\n",
    "    xValues = np.linspace(0.0, 1.0, 100)\n",
    "    \n",
    "    plt.title(drugIdCosmic + \" dosage against response\")\n",
    "    plt.plot(xValues, ll4_R(xValues, *trueY), color=\"b\", label = \"True\")\n",
    "    plt.plot(xValues, ll4_R(xValues, *ridgeY), color=\"g\", label = \"Ridge\")\n",
    "    plt.plot(xValues, ll4_R(xValues, *lassoY), color=\"r\", label = \"Lasso\")\n",
    "    plt.plot(xValues, ll4_R(xValues, *combY), color=\"y\", label = \"Combined\")\n",
    "    plt.xlabel(\"Scaled dosage\")\n",
    "    plt.ylabel(\"Normalised response\")\n",
    "    plt.legend()\n",
    "    plt.show()"
   ]
  },
  {
   "cell_type": "code",
   "execution_count": 28,
   "metadata": {},
   "outputs": [
    {
     "name": "stdout",
     "output_type": "stream",
     "text": [
      "[-9.12772914  0.96793451 14.81668286  0.1688162 ]\n"
     ]
    },
    {
     "name": "stderr",
     "output_type": "stream",
     "text": [
      "<ipython-input-27-6e4e3105d331>:2: RuntimeWarning: divide by zero encountered in log\n",
      "  return ( (a-d)/(1+np.exp(b*np.log(x)- c)) + d)\n",
      "<ipython-input-27-6e4e3105d331>:2: RuntimeWarning: divide by zero encountered in log\n",
      "  return ( (a-d)/(1+np.exp(b*np.log(x)- c)) + d)\n",
      "<ipython-input-27-6e4e3105d331>:2: RuntimeWarning: divide by zero encountered in log\n",
      "  return ( (a-d)/(1+np.exp(b*np.log(x)- c)) + d)\n",
      "<ipython-input-27-6e4e3105d331>:2: RuntimeWarning: divide by zero encountered in log\n",
      "  return ( (a-d)/(1+np.exp(b*np.log(x)- c)) + d)\n"
     ]
    },
    {
     "data": {
      "image/png": "[encoded data removed]",
      "text/plain": [
       "<Figure size 432x288 with 1 Axes>"
      ]
     },
     "metadata": {
      "needs_background": "light"
     },
     "output_type": "display_data"
    },
    {
     "name": "stdout",
     "output_type": "stream",
     "text": [
      "[-4.11787921  0.93311657  7.72929482 -0.01763427]\n"
     ]
    },
    {
     "name": "stderr",
     "output_type": "stream",
     "text": [
      "<ipython-input-27-6e4e3105d331>:2: RuntimeWarning: divide by zero encountered in log\n",
      "  return ( (a-d)/(1+np.exp(b*np.log(x)- c)) + d)\n",
      "<ipython-input-27-6e4e3105d331>:2: RuntimeWarning: divide by zero encountered in log\n",
      "  return ( (a-d)/(1+np.exp(b*np.log(x)- c)) + d)\n",
      "<ipython-input-27-6e4e3105d331>:2: RuntimeWarning: divide by zero encountered in log\n",
      "  return ( (a-d)/(1+np.exp(b*np.log(x)- c)) + d)\n",
      "<ipython-input-27-6e4e3105d331>:2: RuntimeWarning: divide by zero encountered in log\n",
      "  return ( (a-d)/(1+np.exp(b*np.log(x)- c)) + d)\n"
     ]
    },
    {
     "data": {
      "image/png": "[encoded data removed]",
      "text/plain": [
       "<Figure size 432x288 with 1 Axes>"
      ]
     },
     "metadata": {
      "needs_background": "light"
     },
     "output_type": "display_data"
    },
    {
     "name": "stdout",
     "output_type": "stream",
     "text": [
      "[-4.58654936  0.97038058  8.04171309  0.15725474]\n"
     ]
    },
    {
     "name": "stderr",
     "output_type": "stream",
     "text": [
      "<ipython-input-27-6e4e3105d331>:2: RuntimeWarning: divide by zero encountered in log\n",
      "  return ( (a-d)/(1+np.exp(b*np.log(x)- c)) + d)\n",
      "<ipython-input-27-6e4e3105d331>:2: RuntimeWarning: divide by zero encountered in log\n",
      "  return ( (a-d)/(1+np.exp(b*np.log(x)- c)) + d)\n",
      "<ipython-input-27-6e4e3105d331>:2: RuntimeWarning: divide by zero encountered in log\n",
      "  return ( (a-d)/(1+np.exp(b*np.log(x)- c)) + d)\n",
      "<ipython-input-27-6e4e3105d331>:2: RuntimeWarning: divide by zero encountered in log\n",
      "  return ( (a-d)/(1+np.exp(b*np.log(x)- c)) + d)\n"
     ]
    },
    {
     "data": {
      "image/png": "[encoded data removed]",
      "text/plain": [
       "<Figure size 432x288 with 1 Axes>"
      ]
     },
     "metadata": {
      "needs_background": "light"
     },
     "output_type": "display_data"
    },
    {
     "name": "stdout",
     "output_type": "stream",
     "text": [
      "[-10.56815109   0.98788046   7.7356094    0.05397964]\n"
     ]
    },
    {
     "name": "stderr",
     "output_type": "stream",
     "text": [
      "<ipython-input-27-6e4e3105d331>:2: RuntimeWarning: divide by zero encountered in log\n",
      "  return ( (a-d)/(1+np.exp(b*np.log(x)- c)) + d)\n",
      "<ipython-input-27-6e4e3105d331>:2: RuntimeWarning: divide by zero encountered in log\n",
      "  return ( (a-d)/(1+np.exp(b*np.log(x)- c)) + d)\n",
      "<ipython-input-27-6e4e3105d331>:2: RuntimeWarning: divide by zero encountered in log\n",
      "  return ( (a-d)/(1+np.exp(b*np.log(x)- c)) + d)\n",
      "<ipython-input-27-6e4e3105d331>:2: RuntimeWarning: divide by zero encountered in log\n",
      "  return ( (a-d)/(1+np.exp(b*np.log(x)- c)) + d)\n"
     ]
    },
    {
     "data": {
      "image/png": "[encoded data removed]",
      "text/plain": [
       "<Figure size 432x288 with 1 Axes>"
      ]
     },
     "metadata": {
      "needs_background": "light"
     },
     "output_type": "display_data"
    },
    {
     "name": "stdout",
     "output_type": "stream",
     "text": [
      "[-2.05325529e+01  9.75347385e-01  2.01574018e+01  7.65233228e-03]\n"
     ]
    },
    {
     "name": "stderr",
     "output_type": "stream",
     "text": [
      "<ipython-input-27-6e4e3105d331>:2: RuntimeWarning: divide by zero encountered in log\n",
      "  return ( (a-d)/(1+np.exp(b*np.log(x)- c)) + d)\n",
      "<ipython-input-27-6e4e3105d331>:2: RuntimeWarning: divide by zero encountered in log\n",
      "  return ( (a-d)/(1+np.exp(b*np.log(x)- c)) + d)\n",
      "<ipython-input-27-6e4e3105d331>:2: RuntimeWarning: divide by zero encountered in log\n",
      "  return ( (a-d)/(1+np.exp(b*np.log(x)- c)) + d)\n",
      "<ipython-input-27-6e4e3105d331>:2: RuntimeWarning: divide by zero encountered in log\n",
      "  return ( (a-d)/(1+np.exp(b*np.log(x)- c)) + d)\n"
     ]
    },
    {
     "data": {
      "image/png": "[encoded data removed]",
      "text/plain": [
       "<Figure size 432x288 with 1 Axes>"
      ]
     },
     "metadata": {
      "needs_background": "light"
     },
     "output_type": "display_data"
    },
    {
     "name": "stderr",
     "output_type": "stream",
     "text": [
      "<ipython-input-27-6e4e3105d331>:2: RuntimeWarning: divide by zero encountered in log\n",
      "  return ( (a-d)/(1+np.exp(b*np.log(x)- c)) + d)\n",
      "<ipython-input-27-6e4e3105d331>:2: RuntimeWarning: divide by zero encountered in log\n",
      "  return ( (a-d)/(1+np.exp(b*np.log(x)- c)) + d)\n",
      "<ipython-input-27-6e4e3105d331>:2: RuntimeWarning: divide by zero encountered in log\n",
      "  return ( (a-d)/(1+np.exp(b*np.log(x)- c)) + d)\n",
      "<ipython-input-27-6e4e3105d331>:2: RuntimeWarning: divide by zero encountered in log\n",
      "  return ( (a-d)/(1+np.exp(b*np.log(x)- c)) + d)\n"
     ]
    },
    {
     "name": "stdout",
     "output_type": "stream",
     "text": [
      "[-4.46017482e+00  1.00482040e+00  9.31209293e+00 -8.81311705e-03]\n"
     ]
    },
    {
     "data": {
      "image/png": "[encoded data removed]",
      "text/plain": [
       "<Figure size 432x288 with 1 Axes>"
      ]
     },
     "metadata": {
      "needs_background": "light"
     },
     "output_type": "display_data"
    },
    {
     "name": "stdout",
     "output_type": "stream",
     "text": [
      "[-7.90200907e+00  9.57580865e-01  2.23535323e+01  1.44997725e-02]\n"
     ]
    },
    {
     "name": "stderr",
     "output_type": "stream",
     "text": [
      "<ipython-input-27-6e4e3105d331>:2: RuntimeWarning: divide by zero encountered in log\n",
      "  return ( (a-d)/(1+np.exp(b*np.log(x)- c)) + d)\n",
      "<ipython-input-27-6e4e3105d331>:2: RuntimeWarning: divide by zero encountered in log\n",
      "  return ( (a-d)/(1+np.exp(b*np.log(x)- c)) + d)\n",
      "<ipython-input-27-6e4e3105d331>:2: RuntimeWarning: divide by zero encountered in log\n",
      "  return ( (a-d)/(1+np.exp(b*np.log(x)- c)) + d)\n",
      "<ipython-input-27-6e4e3105d331>:2: RuntimeWarning: divide by zero encountered in log\n",
      "  return ( (a-d)/(1+np.exp(b*np.log(x)- c)) + d)\n"
     ]
    },
    {
     "data": {
      "image/png": "[encoded data removed]",
      "text/plain": [
       "<Figure size 432x288 with 1 Axes>"
      ]
     },
     "metadata": {
      "needs_background": "light"
     },
     "output_type": "display_data"
    },
    {
     "name": "stdout",
     "output_type": "stream",
     "text": [
      "[-6.16039278e+01  1.03477229e+00  3.42258384e+02  4.96317304e-02]\n"
     ]
    },
    {
     "name": "stderr",
     "output_type": "stream",
     "text": [
      "<ipython-input-27-6e4e3105d331>:2: RuntimeWarning: divide by zero encountered in log\n",
      "  return ( (a-d)/(1+np.exp(b*np.log(x)- c)) + d)\n",
      "<ipython-input-27-6e4e3105d331>:2: RuntimeWarning: divide by zero encountered in log\n",
      "  return ( (a-d)/(1+np.exp(b*np.log(x)- c)) + d)\n",
      "<ipython-input-27-6e4e3105d331>:2: RuntimeWarning: divide by zero encountered in log\n",
      "  return ( (a-d)/(1+np.exp(b*np.log(x)- c)) + d)\n",
      "<ipython-input-27-6e4e3105d331>:2: RuntimeWarning: divide by zero encountered in log\n",
      "  return ( (a-d)/(1+np.exp(b*np.log(x)- c)) + d)\n"
     ]
    },
    {
     "data": {
      "image/png": "[encoded data removed]",
      "text/plain": [
       "<Figure size 432x288 with 1 Axes>"
      ]
     },
     "metadata": {
      "needs_background": "light"
     },
     "output_type": "display_data"
    },
    {
     "name": "stderr",
     "output_type": "stream",
     "text": [
      "<ipython-input-27-6e4e3105d331>:2: RuntimeWarning: divide by zero encountered in log\n",
      "  return ( (a-d)/(1+np.exp(b*np.log(x)- c)) + d)\n"
     ]
    },
    {
     "name": "stdout",
     "output_type": "stream",
     "text": [
      "[-5.46752768  0.99399261  4.81362707  0.06441134]\n"
     ]
    },
    {
     "name": "stderr",
     "output_type": "stream",
     "text": [
      "<ipython-input-27-6e4e3105d331>:2: RuntimeWarning: divide by zero encountered in log\n",
      "  return ( (a-d)/(1+np.exp(b*np.log(x)- c)) + d)\n",
      "<ipython-input-27-6e4e3105d331>:2: RuntimeWarning: divide by zero encountered in log\n",
      "  return ( (a-d)/(1+np.exp(b*np.log(x)- c)) + d)\n",
      "<ipython-input-27-6e4e3105d331>:2: RuntimeWarning: divide by zero encountered in log\n",
      "  return ( (a-d)/(1+np.exp(b*np.log(x)- c)) + d)\n"
     ]
    },
    {
     "data": {
      "image/png": "[encoded data removed]",
      "text/plain": [
       "<Figure size 432x288 with 1 Axes>"
      ]
     },
     "metadata": {
      "needs_background": "light"
     },
     "output_type": "display_data"
    }
   ],
   "source": [
    "max_int = len(trueResults.index)\n",
    "rand_int = np.random.randint(0, max_int, 9)\n",
    "for index in rand_int:\n",
    "    showTestPredResponses(trueResults.loc[index]['DRUG_COSMICID'])"
   ]
  },
  {
   "cell_type": "code",
   "execution_count": null,
   "metadata": {},
   "outputs": [],
   "source": []
  }
 ],
 "metadata": {
  "kernelspec": {
   "display_name": "Python 3",
   "language": "python",
   "name": "python3"
  },
  "language_info": {
   "codemirror_mode": {
    "name": "ipython",
    "version": 3
   },
   "file_extension": ".py",
   "mimetype": "text/x-python",
   "name": "python",
   "nbconvert_exporter": "python",
   "pygments_lexer": "ipython3",
   "version": "3.8.5"
  }
 },
 "nbformat": 4,
 "nbformat_minor": 4
}
