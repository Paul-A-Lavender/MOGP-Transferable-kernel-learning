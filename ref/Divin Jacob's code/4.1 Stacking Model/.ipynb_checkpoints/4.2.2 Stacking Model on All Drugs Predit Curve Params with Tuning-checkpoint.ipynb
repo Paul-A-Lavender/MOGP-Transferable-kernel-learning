{
 "cells": [
  {
   "cell_type": "code",
   "execution_count": 1,
   "metadata": {},
   "outputs": [],
   "source": [
    "import pandas as pd\n",
    "import numpy as np\n",
    "np.__version__\n",
    "import matplotlib.pyplot as plt\n",
    "_FOLDER = \"../data/\"\n",
    "from sklearn.linear_model import Lasso\n",
    "from sklearn.linear_model import Ridge\n",
    "from sklearn.metrics import mean_squared_error\n",
    "from sklearn.model_selection import \\\n",
    "    KFold, RepeatedKFold, GridSearchCV, \\\n",
    "    cross_validate, train_test_split\n",
    "\n",
    "import json"
   ]
  },
  {
   "cell_type": "code",
   "execution_count": 2,
   "metadata": {},
   "outputs": [],
   "source": [
    "def createResponseCurve(iD,model, xValues, yValues, predicted = False):\n",
    "    plt.scatter(xValues, yValues)\n",
    "    plt.title(model + \" \" + iD)\n",
    "    plt.xlabel(\"Scaled dosage\")\n",
    "    if(predicted):\n",
    "        plt.ylabel(\"Predicted Normalised response\")\n",
    "    else:\n",
    "        plt.ylabel(\"Normalised response\")\n",
    "    plt.show()\n",
    "\n",
    "\n",
    "with open(_FOLDER + 'dataSplit.json') as json_file:\n",
    "    trainTestSplit = json.load(json_file)"
   ]
  },
  {
   "cell_type": "code",
   "execution_count": 3,
   "metadata": {},
   "outputs": [
    {
     "data": {
      "text/html": [
       "<div>\n",
       "<style scoped>\n",
       "    .dataframe tbody tr th:only-of-type {\n",
       "        vertical-align: middle;\n",
       "    }\n",
       "\n",
       "    .dataframe tbody tr th {\n",
       "        vertical-align: top;\n",
       "    }\n",
       "\n",
       "    .dataframe thead th {\n",
       "        text-align: right;\n",
       "    }\n",
       "</style>\n",
       "<table border=\"1\" class=\"dataframe\">\n",
       "  <thead>\n",
       "    <tr style=\"text-align: right;\">\n",
       "      <th></th>\n",
       "      <th>CELL_LINE_NAME</th>\n",
       "      <th>COSMIC_ID</th>\n",
       "      <th>DRUG_ID</th>\n",
       "      <th>DRUGID_COSMICID</th>\n",
       "      <th>MAX_CONC</th>\n",
       "      <th>fd_num_0</th>\n",
       "      <th>fd_num_1</th>\n",
       "      <th>fd_num_2</th>\n",
       "      <th>fd_num_3</th>\n",
       "      <th>fd_num_4</th>\n",
       "      <th>...</th>\n",
       "      <th>chr9:104248247-104249501(C9orf125)_HypMET</th>\n",
       "      <th>chr9:115875199-115875738(C9orf109, C9orf110)_HypMET</th>\n",
       "      <th>chr9:123555399-123555899(FBXW2)_HypMET</th>\n",
       "      <th>chr9:140310894-140312457(EXD3)_HypMET</th>\n",
       "      <th>chr9:21974578-21975306(CDKN2A)_HypMET</th>\n",
       "      <th>chr9:35756948-35757339(MSMP)_HypMET</th>\n",
       "      <th>chr9:35791584-35791924(NPR2)_HypMET</th>\n",
       "      <th>chr9:4984543-4985630(JAK2)_HypMET</th>\n",
       "      <th>chr9:86571047-86572027(C9orf64)_HypMET</th>\n",
       "      <th>chr9:98783216-98784364(NCRNA00092)_HypMET</th>\n",
       "    </tr>\n",
       "  </thead>\n",
       "  <tbody>\n",
       "    <tr>\n",
       "      <th>0</th>\n",
       "      <td>HDQ-P1</td>\n",
       "      <td>1290922</td>\n",
       "      <td>344</td>\n",
       "      <td>344_1290922</td>\n",
       "      <td>20.00</td>\n",
       "      <td>0</td>\n",
       "      <td>0.111111</td>\n",
       "      <td>0.222222</td>\n",
       "      <td>0.333333</td>\n",
       "      <td>0.444444</td>\n",
       "      <td>...</td>\n",
       "      <td>0</td>\n",
       "      <td>0</td>\n",
       "      <td>0</td>\n",
       "      <td>0</td>\n",
       "      <td>0</td>\n",
       "      <td>0</td>\n",
       "      <td>0</td>\n",
       "      <td>0</td>\n",
       "      <td>0</td>\n",
       "      <td>0</td>\n",
       "    </tr>\n",
       "    <tr>\n",
       "      <th>1</th>\n",
       "      <td>HDQ-P1</td>\n",
       "      <td>1290922</td>\n",
       "      <td>136</td>\n",
       "      <td>136_1290922</td>\n",
       "      <td>16.00</td>\n",
       "      <td>0</td>\n",
       "      <td>0.111111</td>\n",
       "      <td>0.222222</td>\n",
       "      <td>0.333333</td>\n",
       "      <td>0.444444</td>\n",
       "      <td>...</td>\n",
       "      <td>0</td>\n",
       "      <td>0</td>\n",
       "      <td>0</td>\n",
       "      <td>0</td>\n",
       "      <td>0</td>\n",
       "      <td>0</td>\n",
       "      <td>0</td>\n",
       "      <td>0</td>\n",
       "      <td>0</td>\n",
       "      <td>0</td>\n",
       "    </tr>\n",
       "    <tr>\n",
       "      <th>2</th>\n",
       "      <td>HDQ-P1</td>\n",
       "      <td>1290922</td>\n",
       "      <td>170</td>\n",
       "      <td>170_1290922</td>\n",
       "      <td>16.00</td>\n",
       "      <td>0</td>\n",
       "      <td>0.111111</td>\n",
       "      <td>0.222222</td>\n",
       "      <td>0.333333</td>\n",
       "      <td>0.444444</td>\n",
       "      <td>...</td>\n",
       "      <td>0</td>\n",
       "      <td>0</td>\n",
       "      <td>0</td>\n",
       "      <td>0</td>\n",
       "      <td>0</td>\n",
       "      <td>0</td>\n",
       "      <td>0</td>\n",
       "      <td>0</td>\n",
       "      <td>0</td>\n",
       "      <td>0</td>\n",
       "    </tr>\n",
       "    <tr>\n",
       "      <th>3</th>\n",
       "      <td>NMC-G1</td>\n",
       "      <td>908449</td>\n",
       "      <td>170</td>\n",
       "      <td>170_908449</td>\n",
       "      <td>16.00</td>\n",
       "      <td>0</td>\n",
       "      <td>0.111111</td>\n",
       "      <td>0.222222</td>\n",
       "      <td>0.333333</td>\n",
       "      <td>0.444444</td>\n",
       "      <td>...</td>\n",
       "      <td>0</td>\n",
       "      <td>0</td>\n",
       "      <td>0</td>\n",
       "      <td>0</td>\n",
       "      <td>0</td>\n",
       "      <td>0</td>\n",
       "      <td>0</td>\n",
       "      <td>0</td>\n",
       "      <td>1</td>\n",
       "      <td>0</td>\n",
       "    </tr>\n",
       "    <tr>\n",
       "      <th>4</th>\n",
       "      <td>NMC-G1</td>\n",
       "      <td>908449</td>\n",
       "      <td>331</td>\n",
       "      <td>331_908449</td>\n",
       "      <td>10.24</td>\n",
       "      <td>0</td>\n",
       "      <td>0.111111</td>\n",
       "      <td>0.222222</td>\n",
       "      <td>0.333333</td>\n",
       "      <td>0.444444</td>\n",
       "      <td>...</td>\n",
       "      <td>0</td>\n",
       "      <td>0</td>\n",
       "      <td>0</td>\n",
       "      <td>0</td>\n",
       "      <td>0</td>\n",
       "      <td>0</td>\n",
       "      <td>0</td>\n",
       "      <td>0</td>\n",
       "      <td>1</td>\n",
       "      <td>0</td>\n",
       "    </tr>\n",
       "    <tr>\n",
       "      <th>...</th>\n",
       "      <td>...</td>\n",
       "      <td>...</td>\n",
       "      <td>...</td>\n",
       "      <td>...</td>\n",
       "      <td>...</td>\n",
       "      <td>...</td>\n",
       "      <td>...</td>\n",
       "      <td>...</td>\n",
       "      <td>...</td>\n",
       "      <td>...</td>\n",
       "      <td>...</td>\n",
       "      <td>...</td>\n",
       "      <td>...</td>\n",
       "      <td>...</td>\n",
       "      <td>...</td>\n",
       "      <td>...</td>\n",
       "      <td>...</td>\n",
       "      <td>...</td>\n",
       "      <td>...</td>\n",
       "      <td>...</td>\n",
       "      <td>...</td>\n",
       "    </tr>\n",
       "    <tr>\n",
       "      <th>5579</th>\n",
       "      <td>TC-YIK</td>\n",
       "      <td>946357</td>\n",
       "      <td>1011</td>\n",
       "      <td>1011_946357</td>\n",
       "      <td>2.00</td>\n",
       "      <td>0</td>\n",
       "      <td>0.111111</td>\n",
       "      <td>0.222222</td>\n",
       "      <td>0.333333</td>\n",
       "      <td>0.444444</td>\n",
       "      <td>...</td>\n",
       "      <td>0</td>\n",
       "      <td>0</td>\n",
       "      <td>0</td>\n",
       "      <td>0</td>\n",
       "      <td>0</td>\n",
       "      <td>0</td>\n",
       "      <td>0</td>\n",
       "      <td>0</td>\n",
       "      <td>0</td>\n",
       "      <td>0</td>\n",
       "    </tr>\n",
       "    <tr>\n",
       "      <th>5580</th>\n",
       "      <td>MKN45</td>\n",
       "      <td>925340</td>\n",
       "      <td>1149</td>\n",
       "      <td>1149_925340</td>\n",
       "      <td>5.00</td>\n",
       "      <td>0</td>\n",
       "      <td>0.111111</td>\n",
       "      <td>0.222222</td>\n",
       "      <td>0.333333</td>\n",
       "      <td>0.444444</td>\n",
       "      <td>...</td>\n",
       "      <td>0</td>\n",
       "      <td>0</td>\n",
       "      <td>0</td>\n",
       "      <td>0</td>\n",
       "      <td>0</td>\n",
       "      <td>0</td>\n",
       "      <td>0</td>\n",
       "      <td>0</td>\n",
       "      <td>0</td>\n",
       "      <td>0</td>\n",
       "    </tr>\n",
       "    <tr>\n",
       "      <th>5581</th>\n",
       "      <td>EC-GI-10</td>\n",
       "      <td>753555</td>\n",
       "      <td>1004</td>\n",
       "      <td>1004_753555</td>\n",
       "      <td>0.10</td>\n",
       "      <td>0</td>\n",
       "      <td>0.111111</td>\n",
       "      <td>0.222222</td>\n",
       "      <td>0.333333</td>\n",
       "      <td>0.444444</td>\n",
       "      <td>...</td>\n",
       "      <td>0</td>\n",
       "      <td>0</td>\n",
       "      <td>0</td>\n",
       "      <td>0</td>\n",
       "      <td>0</td>\n",
       "      <td>0</td>\n",
       "      <td>0</td>\n",
       "      <td>0</td>\n",
       "      <td>0</td>\n",
       "      <td>0</td>\n",
       "    </tr>\n",
       "    <tr>\n",
       "      <th>5582</th>\n",
       "      <td>IGROV-1</td>\n",
       "      <td>905968</td>\n",
       "      <td>1031</td>\n",
       "      <td>1031_905968</td>\n",
       "      <td>0.20</td>\n",
       "      <td>0</td>\n",
       "      <td>0.111111</td>\n",
       "      <td>0.222222</td>\n",
       "      <td>0.333333</td>\n",
       "      <td>0.444444</td>\n",
       "      <td>...</td>\n",
       "      <td>0</td>\n",
       "      <td>0</td>\n",
       "      <td>0</td>\n",
       "      <td>0</td>\n",
       "      <td>0</td>\n",
       "      <td>0</td>\n",
       "      <td>0</td>\n",
       "      <td>0</td>\n",
       "      <td>0</td>\n",
       "      <td>0</td>\n",
       "    </tr>\n",
       "    <tr>\n",
       "      <th>5583</th>\n",
       "      <td>SKG-IIIa</td>\n",
       "      <td>930298</td>\n",
       "      <td>1012</td>\n",
       "      <td>1012_930298</td>\n",
       "      <td>10.00</td>\n",
       "      <td>0</td>\n",
       "      <td>0.111111</td>\n",
       "      <td>0.222222</td>\n",
       "      <td>0.333333</td>\n",
       "      <td>0.444444</td>\n",
       "      <td>...</td>\n",
       "      <td>0</td>\n",
       "      <td>0</td>\n",
       "      <td>0</td>\n",
       "      <td>0</td>\n",
       "      <td>0</td>\n",
       "      <td>0</td>\n",
       "      <td>0</td>\n",
       "      <td>0</td>\n",
       "      <td>0</td>\n",
       "      <td>0</td>\n",
       "    </tr>\n",
       "  </tbody>\n",
       "</table>\n",
       "<p>5584 rows × 1102 columns</p>\n",
       "</div>"
      ],
      "text/plain": [
       "     CELL_LINE_NAME  COSMIC_ID  DRUG_ID DRUGID_COSMICID  MAX_CONC  fd_num_0  \\\n",
       "0            HDQ-P1    1290922      344     344_1290922     20.00         0   \n",
       "1            HDQ-P1    1290922      136     136_1290922     16.00         0   \n",
       "2            HDQ-P1    1290922      170     170_1290922     16.00         0   \n",
       "3            NMC-G1     908449      170      170_908449     16.00         0   \n",
       "4            NMC-G1     908449      331      331_908449     10.24         0   \n",
       "...             ...        ...      ...             ...       ...       ...   \n",
       "5579         TC-YIK     946357     1011     1011_946357      2.00         0   \n",
       "5580          MKN45     925340     1149     1149_925340      5.00         0   \n",
       "5581       EC-GI-10     753555     1004     1004_753555      0.10         0   \n",
       "5582        IGROV-1     905968     1031     1031_905968      0.20         0   \n",
       "5583       SKG-IIIa     930298     1012     1012_930298     10.00         0   \n",
       "\n",
       "      fd_num_1  fd_num_2  fd_num_3  fd_num_4  ...  \\\n",
       "0     0.111111  0.222222  0.333333  0.444444  ...   \n",
       "1     0.111111  0.222222  0.333333  0.444444  ...   \n",
       "2     0.111111  0.222222  0.333333  0.444444  ...   \n",
       "3     0.111111  0.222222  0.333333  0.444444  ...   \n",
       "4     0.111111  0.222222  0.333333  0.444444  ...   \n",
       "...        ...       ...       ...       ...  ...   \n",
       "5579  0.111111  0.222222  0.333333  0.444444  ...   \n",
       "5580  0.111111  0.222222  0.333333  0.444444  ...   \n",
       "5581  0.111111  0.222222  0.333333  0.444444  ...   \n",
       "5582  0.111111  0.222222  0.333333  0.444444  ...   \n",
       "5583  0.111111  0.222222  0.333333  0.444444  ...   \n",
       "\n",
       "      chr9:104248247-104249501(C9orf125)_HypMET  \\\n",
       "0                                             0   \n",
       "1                                             0   \n",
       "2                                             0   \n",
       "3                                             0   \n",
       "4                                             0   \n",
       "...                                         ...   \n",
       "5579                                          0   \n",
       "5580                                          0   \n",
       "5581                                          0   \n",
       "5582                                          0   \n",
       "5583                                          0   \n",
       "\n",
       "      chr9:115875199-115875738(C9orf109, C9orf110)_HypMET  \\\n",
       "0                                                     0     \n",
       "1                                                     0     \n",
       "2                                                     0     \n",
       "3                                                     0     \n",
       "4                                                     0     \n",
       "...                                                 ...     \n",
       "5579                                                  0     \n",
       "5580                                                  0     \n",
       "5581                                                  0     \n",
       "5582                                                  0     \n",
       "5583                                                  0     \n",
       "\n",
       "      chr9:123555399-123555899(FBXW2)_HypMET  \\\n",
       "0                                          0   \n",
       "1                                          0   \n",
       "2                                          0   \n",
       "3                                          0   \n",
       "4                                          0   \n",
       "...                                      ...   \n",
       "5579                                       0   \n",
       "5580                                       0   \n",
       "5581                                       0   \n",
       "5582                                       0   \n",
       "5583                                       0   \n",
       "\n",
       "      chr9:140310894-140312457(EXD3)_HypMET  \\\n",
       "0                                         0   \n",
       "1                                         0   \n",
       "2                                         0   \n",
       "3                                         0   \n",
       "4                                         0   \n",
       "...                                     ...   \n",
       "5579                                      0   \n",
       "5580                                      0   \n",
       "5581                                      0   \n",
       "5582                                      0   \n",
       "5583                                      0   \n",
       "\n",
       "      chr9:21974578-21975306(CDKN2A)_HypMET  \\\n",
       "0                                         0   \n",
       "1                                         0   \n",
       "2                                         0   \n",
       "3                                         0   \n",
       "4                                         0   \n",
       "...                                     ...   \n",
       "5579                                      0   \n",
       "5580                                      0   \n",
       "5581                                      0   \n",
       "5582                                      0   \n",
       "5583                                      0   \n",
       "\n",
       "      chr9:35756948-35757339(MSMP)_HypMET  \\\n",
       "0                                       0   \n",
       "1                                       0   \n",
       "2                                       0   \n",
       "3                                       0   \n",
       "4                                       0   \n",
       "...                                   ...   \n",
       "5579                                    0   \n",
       "5580                                    0   \n",
       "5581                                    0   \n",
       "5582                                    0   \n",
       "5583                                    0   \n",
       "\n",
       "      chr9:35791584-35791924(NPR2)_HypMET  chr9:4984543-4985630(JAK2)_HypMET  \\\n",
       "0                                       0                                  0   \n",
       "1                                       0                                  0   \n",
       "2                                       0                                  0   \n",
       "3                                       0                                  0   \n",
       "4                                       0                                  0   \n",
       "...                                   ...                                ...   \n",
       "5579                                    0                                  0   \n",
       "5580                                    0                                  0   \n",
       "5581                                    0                                  0   \n",
       "5582                                    0                                  0   \n",
       "5583                                    0                                  0   \n",
       "\n",
       "      chr9:86571047-86572027(C9orf64)_HypMET  \\\n",
       "0                                          0   \n",
       "1                                          0   \n",
       "2                                          0   \n",
       "3                                          1   \n",
       "4                                          1   \n",
       "...                                      ...   \n",
       "5579                                       0   \n",
       "5580                                       0   \n",
       "5581                                       0   \n",
       "5582                                       0   \n",
       "5583                                       0   \n",
       "\n",
       "      chr9:98783216-98784364(NCRNA00092)_HypMET  \n",
       "0                                             0  \n",
       "1                                             0  \n",
       "2                                             0  \n",
       "3                                             0  \n",
       "4                                             0  \n",
       "...                                         ...  \n",
       "5579                                          0  \n",
       "5580                                          0  \n",
       "5581                                          0  \n",
       "5582                                          0  \n",
       "5583                                          0  \n",
       "\n",
       "[5584 rows x 1102 columns]"
      ]
     },
     "execution_count": 3,
     "metadata": {},
     "output_type": "execute_result"
    }
   ],
   "source": [
    "drugProfiles = pd.read_csv(_FOLDER+'filteredResponsesWithCCLAndParams.csv')\n",
    "drugProfiles"
   ]
  },
  {
   "cell_type": "code",
   "execution_count": 4,
   "metadata": {},
   "outputs": [
    {
     "data": {
      "text/plain": [
       "88"
      ]
     },
     "execution_count": 4,
     "metadata": {},
     "output_type": "execute_result"
    }
   ],
   "source": [
    "len(trainTestSplit.keys())"
   ]
  },
  {
   "cell_type": "code",
   "execution_count": 5,
   "metadata": {},
   "outputs": [
    {
     "name": "stdout",
     "output_type": "stream",
     "text": [
      "{'alpha': 61.53846153846155}\n",
      "{'alpha': 1.6666666666666667}\n",
      "{'alpha': 225.64102564102566}\n",
      "{'alpha': 3.3333333333333335}\n",
      "{'alpha': 287.1794871794872}\n",
      "{'alpha': 2.2222222222222223}\n",
      "{'alpha': 235.8974358974359}\n",
      "{'alpha': 0.5555555555555556}\n",
      "{'alpha': 400.0}\n",
      "{'alpha': 3.3333333333333335}\n",
      "{'alpha': 92.30769230769232}\n",
      "{'alpha': 2.2222222222222223}\n",
      "{'alpha': 400.0}\n",
      "{'alpha': 5.0}\n",
      "{'alpha': 164.10256410256412}\n",
      "{'alpha': 3.3333333333333335}\n",
      "{'alpha': 400.0}\n",
      "{'alpha': 2.7777777777777777}\n",
      "{'alpha': 276.92307692307696}\n",
      "{'alpha': 2.2222222222222223}\n",
      "{'alpha': 400.0}\n",
      "{'alpha': 3.8888888888888893}\n",
      "{'alpha': 400.0}\n",
      "{'alpha': 3.3333333333333335}\n",
      "{'alpha': 400.0}\n",
      "{'alpha': 2.2222222222222223}\n",
      "{'alpha': 400.0}\n",
      "{'alpha': 5.0}\n",
      "{'alpha': 400.0}\n",
      "{'alpha': 5.0}\n",
      "{'alpha': 400.0}\n",
      "{'alpha': 1.1111111111111112}\n",
      "{'alpha': 400.0}\n",
      "{'alpha': 0.5555555555555556}\n",
      "{'alpha': 400.0}\n",
      "{'alpha': 3.3333333333333335}\n",
      "{'alpha': 400.0}\n",
      "{'alpha': 3.8888888888888893}\n",
      "{'alpha': 400.0}\n"
     ]
    },
    {
     "name": "stderr",
     "output_type": "stream",
     "text": [
      "C:\\Users\\44744\\anaconda3\\lib\\site-packages\\sklearn\\linear_model\\_coordinate_descent.py:529: ConvergenceWarning: Objective did not converge. You might want to increase the number of iterations. Duality gap: 6978.426911290211, tolerance: 4351.169070065608\n",
      "  model = cd_fast.enet_coordinate_descent(\n",
      "C:\\Users\\44744\\anaconda3\\lib\\site-packages\\sklearn\\linear_model\\_coordinate_descent.py:529: ConvergenceWarning: Objective did not converge. You might want to increase the number of iterations. Duality gap: 6978.426911290211, tolerance: 4351.169070065608\n",
      "  model = cd_fast.enet_coordinate_descent(\n"
     ]
    },
    {
     "name": "stdout",
     "output_type": "stream",
     "text": [
      "{'alpha': 1.1111111111111112}\n",
      "{'alpha': 400.0}\n",
      "{'alpha': 0.5555555555555556}\n",
      "{'alpha': 400.0}\n",
      "{'alpha': 0.0}\n"
     ]
    },
    {
     "name": "stderr",
     "output_type": "stream",
     "text": [
      "C:\\Users\\44744\\anaconda3\\lib\\site-packages\\sklearn\\model_selection\\_search.py:765: UserWarning: With alpha=0, this algorithm does not converge well. You are advised to use the LinearRegression estimator\n",
      "  self.best_estimator_.fit(X, y, **fit_params)\n",
      "C:\\Users\\44744\\anaconda3\\lib\\site-packages\\sklearn\\linear_model\\_coordinate_descent.py:529: UserWarning: Coordinate descent with no regularization may lead to unexpected results and is discouraged.\n",
      "  model = cd_fast.enet_coordinate_descent(\n",
      "<ipython-input-5-50d2026bedd9>:63: UserWarning: With alpha=0, this algorithm does not converge well. You are advised to use the LinearRegression estimator\n",
      "  lasso.fit(trainX, trainY)\n",
      "C:\\Users\\44744\\anaconda3\\lib\\site-packages\\sklearn\\linear_model\\_coordinate_descent.py:529: UserWarning: Coordinate descent with no regularization may lead to unexpected results and is discouraged.\n",
      "  model = cd_fast.enet_coordinate_descent(\n",
      "C:\\Users\\44744\\anaconda3\\lib\\site-packages\\sklearn\\linear_model\\_ridge.py:187: LinAlgWarning: Ill-conditioned matrix (rcond=9.19899e-17): result may not be accurate.\n",
      "  dual_coef = linalg.solve(K, y, sym_pos=True,\n",
      "C:\\Users\\44744\\anaconda3\\lib\\site-packages\\sklearn\\linear_model\\_ridge.py:187: LinAlgWarning: Ill-conditioned matrix (rcond=9.19899e-17): result may not be accurate.\n",
      "  dual_coef = linalg.solve(K, y, sym_pos=True,\n"
     ]
    },
    {
     "name": "stdout",
     "output_type": "stream",
     "text": [
      "{'alpha': 0.0}\n",
      "{'alpha': 0.5555555555555556}\n"
     ]
    },
    {
     "name": "stderr",
     "output_type": "stream",
     "text": [
      "C:\\Users\\44744\\anaconda3\\lib\\site-packages\\sklearn\\linear_model\\_ridge.py:190: UserWarning: Singular matrix in solving dual problem. Using least-squares solution instead.\n",
      "  warnings.warn(\"Singular matrix in solving dual problem. Using \"\n",
      "C:\\Users\\44744\\anaconda3\\lib\\site-packages\\sklearn\\linear_model\\_ridge.py:190: UserWarning: Singular matrix in solving dual problem. Using least-squares solution instead.\n",
      "  warnings.warn(\"Singular matrix in solving dual problem. Using \"\n"
     ]
    },
    {
     "name": "stdout",
     "output_type": "stream",
     "text": [
      "{'alpha': 0.0}\n",
      "{'alpha': 0.5555555555555556}\n",
      "{'alpha': 400.0}\n",
      "{'alpha': 3.3333333333333335}\n",
      "{'alpha': 400.0}\n",
      "{'alpha': 0.5555555555555556}\n",
      "{'alpha': 194.8717948717949}\n",
      "{'alpha': 1.6666666666666667}\n",
      "{'alpha': 400.0}\n",
      "{'alpha': 3.8888888888888893}\n",
      "{'alpha': 92.30769230769232}\n",
      "{'alpha': 5.0}\n",
      "{'alpha': 184.61538461538464}\n",
      "{'alpha': 2.7777777777777777}\n",
      "{'alpha': 400.0}\n",
      "{'alpha': 1.6666666666666667}\n",
      "{'alpha': 10.256410256410257}\n",
      "{'alpha': 5.0}\n",
      "{'alpha': 123.0769230769231}\n",
      "{'alpha': 1.1111111111111112}\n",
      "{'alpha': 400.0}\n",
      "{'alpha': 5.0}\n",
      "{'alpha': 338.4615384615385}\n",
      "{'alpha': 2.7777777777777777}\n",
      "{'alpha': 400.0}\n",
      "{'alpha': 5.0}\n",
      "{'alpha': 400.0}\n",
      "{'alpha': 0.5555555555555556}\n",
      "{'alpha': 400.0}\n",
      "{'alpha': 1.6666666666666667}\n",
      "{'alpha': 400.0}\n",
      "{'alpha': 5.0}\n",
      "{'alpha': 400.0}\n",
      "{'alpha': 2.2222222222222223}\n",
      "{'alpha': 400.0}\n",
      "{'alpha': 5.0}\n",
      "{'alpha': 400.0}\n",
      "{'alpha': 5.0}\n",
      "{'alpha': 400.0}\n",
      "{'alpha': 0.5555555555555556}\n",
      "{'alpha': 61.53846153846155}\n",
      "{'alpha': 5.0}\n"
     ]
    },
    {
     "name": "stderr",
     "output_type": "stream",
     "text": [
      "C:\\Users\\44744\\anaconda3\\lib\\site-packages\\sklearn\\linear_model\\_ridge.py:187: LinAlgWarning: Ill-conditioned matrix (rcond=1.21115e-17): result may not be accurate.\n",
      "  dual_coef = linalg.solve(K, y, sym_pos=True,\n",
      "C:\\Users\\44744\\anaconda3\\lib\\site-packages\\sklearn\\linear_model\\_ridge.py:187: LinAlgWarning: Ill-conditioned matrix (rcond=1.21115e-17): result may not be accurate.\n",
      "  dual_coef = linalg.solve(K, y, sym_pos=True,\n"
     ]
    },
    {
     "name": "stdout",
     "output_type": "stream",
     "text": [
      "{'alpha': 0.0}\n",
      "{'alpha': 0.5555555555555556}\n",
      "{'alpha': 400.0}\n",
      "{'alpha': 4.444444444444445}\n",
      "{'alpha': 400.0}\n",
      "{'alpha': 2.7777777777777777}\n",
      "{'alpha': 400.0}\n",
      "{'alpha': 5.0}\n",
      "{'alpha': 20.512820512820515}\n",
      "{'alpha': 1.6666666666666667}\n"
     ]
    },
    {
     "name": "stderr",
     "output_type": "stream",
     "text": [
      "C:\\Users\\44744\\anaconda3\\lib\\site-packages\\sklearn\\linear_model\\_ridge.py:187: LinAlgWarning: Ill-conditioned matrix (rcond=8.02712e-17): result may not be accurate.\n",
      "  dual_coef = linalg.solve(K, y, sym_pos=True,\n",
      "C:\\Users\\44744\\anaconda3\\lib\\site-packages\\sklearn\\linear_model\\_ridge.py:187: LinAlgWarning: Ill-conditioned matrix (rcond=8.02712e-17): result may not be accurate.\n",
      "  dual_coef = linalg.solve(K, y, sym_pos=True,\n"
     ]
    },
    {
     "name": "stdout",
     "output_type": "stream",
     "text": [
      "{'alpha': 0.0}\n",
      "{'alpha': 0.5555555555555556}\n",
      "{'alpha': 400.0}\n",
      "{'alpha': 0.5555555555555556}\n",
      "{'alpha': 400.0}\n",
      "{'alpha': 1.1111111111111112}\n",
      "{'alpha': 400.0}\n",
      "{'alpha': 1.1111111111111112}\n",
      "{'alpha': 400.0}\n",
      "{'alpha': 0.5555555555555556}\n",
      "{'alpha': 400.0}\n",
      "{'alpha': 5.0}\n",
      "{'alpha': 400.0}\n",
      "{'alpha': 1.6666666666666667}\n",
      "{'alpha': 30.769230769230774}\n",
      "{'alpha': 0.5555555555555556}\n",
      "{'alpha': 20.512820512820515}\n",
      "{'alpha': 2.2222222222222223}\n",
      "{'alpha': 10.256410256410257}\n",
      "{'alpha': 0.5555555555555556}\n",
      "{'alpha': 30.769230769230774}\n",
      "{'alpha': 5.0}\n",
      "{'alpha': 400.0}\n",
      "{'alpha': 1.6666666666666667}\n",
      "{'alpha': 400.0}\n",
      "{'alpha': 1.1111111111111112}\n",
      "{'alpha': 400.0}\n",
      "{'alpha': 1.6666666666666667}\n",
      "{'alpha': 266.6666666666667}\n",
      "{'alpha': 1.6666666666666667}\n",
      "{'alpha': 102.56410256410257}\n",
      "{'alpha': 1.1111111111111112}\n",
      "{'alpha': 307.69230769230774}\n",
      "{'alpha': 0.5555555555555556}\n",
      "{'alpha': 400.0}\n",
      "{'alpha': 0.5555555555555556}\n"
     ]
    },
    {
     "name": "stderr",
     "output_type": "stream",
     "text": [
      "C:\\Users\\44744\\anaconda3\\lib\\site-packages\\sklearn\\linear_model\\_ridge.py:190: UserWarning: Singular matrix in solving dual problem. Using least-squares solution instead.\n",
      "  warnings.warn(\"Singular matrix in solving dual problem. Using \"\n",
      "C:\\Users\\44744\\anaconda3\\lib\\site-packages\\sklearn\\linear_model\\_ridge.py:190: UserWarning: Singular matrix in solving dual problem. Using least-squares solution instead.\n",
      "  warnings.warn(\"Singular matrix in solving dual problem. Using \"\n"
     ]
    },
    {
     "name": "stdout",
     "output_type": "stream",
     "text": [
      "{'alpha': 0.0}\n",
      "{'alpha': 0.5555555555555556}\n",
      "{'alpha': 61.53846153846155}\n",
      "{'alpha': 1.1111111111111112}\n",
      "{'alpha': 400.0}\n",
      "{'alpha': 3.8888888888888893}\n",
      "{'alpha': 400.0}\n",
      "{'alpha': 0.5555555555555556}\n"
     ]
    },
    {
     "name": "stderr",
     "output_type": "stream",
     "text": [
      "C:\\Users\\44744\\anaconda3\\lib\\site-packages\\sklearn\\linear_model\\_ridge.py:187: LinAlgWarning: Ill-conditioned matrix (rcond=1.14944e-17): result may not be accurate.\n",
      "  dual_coef = linalg.solve(K, y, sym_pos=True,\n",
      "C:\\Users\\44744\\anaconda3\\lib\\site-packages\\sklearn\\linear_model\\_ridge.py:187: LinAlgWarning: Ill-conditioned matrix (rcond=1.14944e-17): result may not be accurate.\n",
      "  dual_coef = linalg.solve(K, y, sym_pos=True,\n"
     ]
    },
    {
     "name": "stdout",
     "output_type": "stream",
     "text": [
      "{'alpha': 0.0}\n",
      "{'alpha': 0.5555555555555556}\n",
      "{'alpha': 400.0}\n",
      "{'alpha': 1.1111111111111112}\n",
      "{'alpha': 369.2307692307693}\n",
      "{'alpha': 3.8888888888888893}\n",
      "{'alpha': 10.256410256410257}\n",
      "{'alpha': 1.1111111111111112}\n",
      "{'alpha': 400.0}\n",
      "{'alpha': 0.0}\n"
     ]
    },
    {
     "name": "stderr",
     "output_type": "stream",
     "text": [
      "C:\\Users\\44744\\anaconda3\\lib\\site-packages\\sklearn\\model_selection\\_search.py:765: UserWarning: With alpha=0, this algorithm does not converge well. You are advised to use the LinearRegression estimator\n",
      "  self.best_estimator_.fit(X, y, **fit_params)\n",
      "C:\\Users\\44744\\anaconda3\\lib\\site-packages\\sklearn\\linear_model\\_coordinate_descent.py:529: UserWarning: Coordinate descent with no regularization may lead to unexpected results and is discouraged.\n",
      "  model = cd_fast.enet_coordinate_descent(\n",
      "<ipython-input-5-50d2026bedd9>:63: UserWarning: With alpha=0, this algorithm does not converge well. You are advised to use the LinearRegression estimator\n",
      "  lasso.fit(trainX, trainY)\n",
      "C:\\Users\\44744\\anaconda3\\lib\\site-packages\\sklearn\\linear_model\\_coordinate_descent.py:529: UserWarning: Coordinate descent with no regularization may lead to unexpected results and is discouraged.\n",
      "  model = cd_fast.enet_coordinate_descent(\n"
     ]
    },
    {
     "name": "stdout",
     "output_type": "stream",
     "text": [
      "{'alpha': 20.512820512820515}\n",
      "{'alpha': 0.5555555555555556}\n",
      "{'alpha': 82.05128205128206}\n",
      "{'alpha': 5.0}\n"
     ]
    },
    {
     "name": "stderr",
     "output_type": "stream",
     "text": [
      "C:\\Users\\44744\\anaconda3\\lib\\site-packages\\sklearn\\linear_model\\_ridge.py:187: LinAlgWarning: Ill-conditioned matrix (rcond=7.6529e-18): result may not be accurate.\n",
      "  dual_coef = linalg.solve(K, y, sym_pos=True,\n",
      "C:\\Users\\44744\\anaconda3\\lib\\site-packages\\sklearn\\linear_model\\_ridge.py:187: LinAlgWarning: Ill-conditioned matrix (rcond=7.6529e-18): result may not be accurate.\n",
      "  dual_coef = linalg.solve(K, y, sym_pos=True,\n"
     ]
    },
    {
     "name": "stdout",
     "output_type": "stream",
     "text": [
      "{'alpha': 0.0}\n",
      "{'alpha': 0.5555555555555556}\n",
      "{'alpha': 41.02564102564103}\n",
      "{'alpha': 2.2222222222222223}\n"
     ]
    },
    {
     "name": "stderr",
     "output_type": "stream",
     "text": [
      "C:\\Users\\44744\\anaconda3\\lib\\site-packages\\sklearn\\linear_model\\_ridge.py:190: UserWarning: Singular matrix in solving dual problem. Using least-squares solution instead.\n",
      "  warnings.warn(\"Singular matrix in solving dual problem. Using \"\n",
      "C:\\Users\\44744\\anaconda3\\lib\\site-packages\\sklearn\\linear_model\\_ridge.py:190: UserWarning: Singular matrix in solving dual problem. Using least-squares solution instead.\n",
      "  warnings.warn(\"Singular matrix in solving dual problem. Using \"\n",
      "C:\\Users\\44744\\anaconda3\\lib\\site-packages\\sklearn\\model_selection\\_search.py:765: UserWarning: With alpha=0, this algorithm does not converge well. You are advised to use the LinearRegression estimator\n",
      "  self.best_estimator_.fit(X, y, **fit_params)\n",
      "C:\\Users\\44744\\anaconda3\\lib\\site-packages\\sklearn\\linear_model\\_coordinate_descent.py:529: UserWarning: Coordinate descent with no regularization may lead to unexpected results and is discouraged.\n",
      "  model = cd_fast.enet_coordinate_descent(\n",
      "<ipython-input-5-50d2026bedd9>:63: UserWarning: With alpha=0, this algorithm does not converge well. You are advised to use the LinearRegression estimator\n",
      "  lasso.fit(trainX, trainY)\n",
      "C:\\Users\\44744\\anaconda3\\lib\\site-packages\\sklearn\\linear_model\\_coordinate_descent.py:529: UserWarning: Coordinate descent with no regularization may lead to unexpected results and is discouraged.\n",
      "  model = cd_fast.enet_coordinate_descent(\n"
     ]
    },
    {
     "name": "stdout",
     "output_type": "stream",
     "text": [
      "{'alpha': 0.0}\n",
      "{'alpha': 0.0}\n",
      "{'alpha': 400.0}\n",
      "{'alpha': 0.0}\n"
     ]
    },
    {
     "name": "stderr",
     "output_type": "stream",
     "text": [
      "C:\\Users\\44744\\anaconda3\\lib\\site-packages\\sklearn\\model_selection\\_search.py:765: UserWarning: With alpha=0, this algorithm does not converge well. You are advised to use the LinearRegression estimator\n",
      "  self.best_estimator_.fit(X, y, **fit_params)\n",
      "C:\\Users\\44744\\anaconda3\\lib\\site-packages\\sklearn\\linear_model\\_coordinate_descent.py:529: UserWarning: Coordinate descent with no regularization may lead to unexpected results and is discouraged.\n",
      "  model = cd_fast.enet_coordinate_descent(\n",
      "<ipython-input-5-50d2026bedd9>:63: UserWarning: With alpha=0, this algorithm does not converge well. You are advised to use the LinearRegression estimator\n",
      "  lasso.fit(trainX, trainY)\n",
      "C:\\Users\\44744\\anaconda3\\lib\\site-packages\\sklearn\\linear_model\\_coordinate_descent.py:529: UserWarning: Coordinate descent with no regularization may lead to unexpected results and is discouraged.\n",
      "  model = cd_fast.enet_coordinate_descent(\n"
     ]
    },
    {
     "name": "stdout",
     "output_type": "stream",
     "text": [
      "{'alpha': 10.256410256410257}\n",
      "{'alpha': 0.0}\n"
     ]
    },
    {
     "name": "stderr",
     "output_type": "stream",
     "text": [
      "C:\\Users\\44744\\anaconda3\\lib\\site-packages\\sklearn\\model_selection\\_search.py:765: UserWarning: With alpha=0, this algorithm does not converge well. You are advised to use the LinearRegression estimator\n",
      "  self.best_estimator_.fit(X, y, **fit_params)\n",
      "C:\\Users\\44744\\anaconda3\\lib\\site-packages\\sklearn\\linear_model\\_coordinate_descent.py:529: UserWarning: Coordinate descent with no regularization may lead to unexpected results and is discouraged.\n",
      "  model = cd_fast.enet_coordinate_descent(\n",
      "<ipython-input-5-50d2026bedd9>:63: UserWarning: With alpha=0, this algorithm does not converge well. You are advised to use the LinearRegression estimator\n",
      "  lasso.fit(trainX, trainY)\n",
      "C:\\Users\\44744\\anaconda3\\lib\\site-packages\\sklearn\\linear_model\\_coordinate_descent.py:529: UserWarning: Coordinate descent with no regularization may lead to unexpected results and is discouraged.\n",
      "  model = cd_fast.enet_coordinate_descent(\n"
     ]
    },
    {
     "name": "stdout",
     "output_type": "stream",
     "text": [
      "{'alpha': 338.4615384615385}\n",
      "{'alpha': 0.5555555555555556}\n",
      "{'alpha': 0.0}\n",
      "{'alpha': 0.0}\n"
     ]
    },
    {
     "name": "stderr",
     "output_type": "stream",
     "text": [
      "C:\\Users\\44744\\anaconda3\\lib\\site-packages\\sklearn\\model_selection\\_search.py:765: UserWarning: With alpha=0, this algorithm does not converge well. You are advised to use the LinearRegression estimator\n",
      "  self.best_estimator_.fit(X, y, **fit_params)\n",
      "C:\\Users\\44744\\anaconda3\\lib\\site-packages\\sklearn\\linear_model\\_coordinate_descent.py:529: UserWarning: Coordinate descent with no regularization may lead to unexpected results and is discouraged.\n",
      "  model = cd_fast.enet_coordinate_descent(\n",
      "<ipython-input-5-50d2026bedd9>:63: UserWarning: With alpha=0, this algorithm does not converge well. You are advised to use the LinearRegression estimator\n",
      "  lasso.fit(trainX, trainY)\n",
      "C:\\Users\\44744\\anaconda3\\lib\\site-packages\\sklearn\\linear_model\\_coordinate_descent.py:529: UserWarning: Coordinate descent with no regularization may lead to unexpected results and is discouraged.\n",
      "  model = cd_fast.enet_coordinate_descent(\n"
     ]
    },
    {
     "name": "stdout",
     "output_type": "stream",
     "text": [
      "{'alpha': 400.0}\n",
      "{'alpha': 0.5555555555555556}\n",
      "{'alpha': 400.0}\n",
      "{'alpha': 1.6666666666666667}\n",
      "{'alpha': 92.30769230769232}\n",
      "{'alpha': 0.5555555555555556}\n"
     ]
    }
   ],
   "source": [
    "# filterPlateau = filterPlateau[~filterPlateau['DRUG_ID'].isin(toDropDrugs)]\n",
    "conc_labels = [\"fd_num_\"+str(i) for i in range(10)]\n",
    "resp_labels = ['norm_cells_'+str(i) for i in range(10)]\n",
    "param_labels = ['param_'+str(i) for i in range(1,5)]\n",
    "pred_param_labels = ['pred_param_'+str(i) for i in range(1,5)]\n",
    "notIncludeColumns = ['CELL_LINE_NAME', 'COSMIC_ID', 'DRUG_ID', 'DRUGID_COSMICID','MAX_CONC'] + resp_labels\n",
    "\n",
    "fullPredLabels = ['DRUG_COSMICID'] + pred_param_labels\n",
    "ridgeResults = pd.DataFrame(columns=fullPredLabels)\n",
    "lassoResults = pd.DataFrame(columns=fullPredLabels)\n",
    "combinedResults = pd.DataFrame(columns=fullPredLabels)\n",
    "trueResults = pd.DataFrame(columns= ['DRUG_COSMICID']+ param_labels)\n",
    "df = None\n",
    "for drugId in trainTestSplit.keys():\n",
    "    drugProfile = drugProfiles[drugProfiles['DRUG_ID'] == int(drugId)]\n",
    "    trainData = drugProfile[drugProfile['DRUGID_COSMICID'].isin(trainTestSplit[str(drugId)][0])]\n",
    "    testData = drugProfile[drugProfile['DRUGID_COSMICID'].isin(trainTestSplit[str(drugId)][1])]\n",
    "    testDataCosmicIds = np.array(testData['DRUGID_COSMICID'])\n",
    "    notXValuesFilter = resp_labels + notIncludeColumns + conc_labels + param_labels\n",
    "    trainXValues = trainData.drop(columns = notXValuesFilter)\n",
    "    trainYValues = trainData[param_labels]\n",
    "\n",
    "    trainX = trainXValues.reset_index(drop=True).to_numpy()\n",
    "    trainY = trainYValues.reset_index(drop=True).to_numpy()\n",
    "\n",
    "    testXValues = testData.drop(columns = notXValuesFilter)\n",
    "    testYValues = testData[param_labels]\n",
    "\n",
    "    testX = testXValues.reset_index(drop=True).to_numpy()\n",
    "    testY = testYValues.reset_index(drop=True).to_numpy()\n",
    "\n",
    "    cv = RepeatedKFold(n_splits=5, n_repeats=3, random_state=1)\n",
    "    ridge_alphas = np.linspace(0, 600, 40)\n",
    "    ridge = Ridge()\n",
    "    grid = dict()\n",
    "    grid['alpha'] = ridge_alphas\n",
    "    gscv = GridSearchCV( \\\n",
    "        ridge, grid, scoring='neg_mean_absolute_error', \\\n",
    "        cv=cv, n_jobs=-1)\n",
    "    results = gscv.fit(trainX, trainY)\n",
    "    print(results.best_params_)\n",
    "\n",
    "    ridge = Ridge(alpha=results.best_params_['alpha'])\n",
    "    ridge.fit(trainX, trainY)\n",
    "    pred_train = ridge.predict(trainX)\n",
    "    pred_test= ridge.predict(testX)\n",
    "    resultsRidge = pd.DataFrame(testDataCosmicIds, columns=['DRUG_COSMICID'])\n",
    "    resultsRidge[pred_param_labels] = pred_test\n",
    "    ridgeResults = ridgeResults.append(resultsRidge,ignore_index=True,sort=False)\n",
    "\n",
    "    cv = RepeatedKFold(n_splits=5, n_repeats=3, random_state=1)\n",
    "    lasso_alphas = np.linspace(0, 7, 10)\n",
    "    lasso = Lasso()\n",
    "    grid = dict()\n",
    "    grid['alpha'] = lasso_alphas\n",
    "    gscv = GridSearchCV( \\\n",
    "        lasso, grid, scoring='neg_mean_absolute_error', \\\n",
    "        cv=cv, n_jobs=-1)\n",
    "    results = gscv.fit(trainX, trainY)\n",
    "    print(results.best_params_)\n",
    "\n",
    "    lasso = Lasso(alpha=results.best_params_['alpha'])\n",
    "    lasso.fit(trainX, trainY)\n",
    "    pred_trainL = lasso.predict(trainX)\n",
    "    pred_testL= lasso.predict(testX)\n",
    "    resultsLasso = pd.DataFrame(testDataCosmicIds, columns=['DRUG_COSMICID'])\n",
    "    resultsLasso[pred_param_labels] = pred_testL\n",
    "    lassoResults = lassoResults.append(resultsLasso,ignore_index=True,sort=False)\n",
    "\n",
    "    trueResult = pd.DataFrame(testDataCosmicIds, columns=['DRUG_COSMICID'])\n",
    "    trueResult[param_labels] = testY\n",
    "    trueResults = trueResults.append(trueResult,ignore_index=True,sort=False)\n",
    "\n",
    "\n",
    "    combinedResult = np.add(pred_test, pred_testL)\n",
    "    divide2 = lambda i: float(i) / 2\n",
    "\n",
    "    vectorized_divide2 = np.vectorize(divide2)\n",
    "\n",
    "    combinedResult = np.asmatrix(vectorized_divide2(combinedResult))\n",
    "    resultsComb = pd.DataFrame(testDataCosmicIds, columns=['DRUG_COSMICID'])\n",
    "    resultsComb[pred_param_labels] = combinedResult\n",
    "    combinedResults = combinedResults.append(resultsComb,ignore_index=True,sort=False)\n",
    "\n"
   ]
  },
  {
   "cell_type": "code",
   "execution_count": 6,
   "metadata": {},
   "outputs": [
    {
     "data": {
      "text/html": [
       "<div>\n",
       "<style scoped>\n",
       "    .dataframe tbody tr th:only-of-type {\n",
       "        vertical-align: middle;\n",
       "    }\n",
       "\n",
       "    .dataframe tbody tr th {\n",
       "        vertical-align: top;\n",
       "    }\n",
       "\n",
       "    .dataframe thead th {\n",
       "        text-align: right;\n",
       "    }\n",
       "</style>\n",
       "<table border=\"1\" class=\"dataframe\">\n",
       "  <thead>\n",
       "    <tr style=\"text-align: right;\">\n",
       "      <th></th>\n",
       "      <th>DRUG_COSMICID</th>\n",
       "      <th>pred_param_1</th>\n",
       "      <th>pred_param_2</th>\n",
       "      <th>pred_param_3</th>\n",
       "      <th>pred_param_4</th>\n",
       "    </tr>\n",
       "  </thead>\n",
       "  <tbody>\n",
       "    <tr>\n",
       "      <th>0</th>\n",
       "      <td>344_910851</td>\n",
       "      <td>-21.170060</td>\n",
       "      <td>0.998760</td>\n",
       "      <td>35.195235</td>\n",
       "      <td>-0.026728</td>\n",
       "    </tr>\n",
       "    <tr>\n",
       "      <th>1</th>\n",
       "      <td>344_717431</td>\n",
       "      <td>-17.113802</td>\n",
       "      <td>0.998760</td>\n",
       "      <td>23.947916</td>\n",
       "      <td>-0.026728</td>\n",
       "    </tr>\n",
       "    <tr>\n",
       "      <th>2</th>\n",
       "      <td>344_910925</td>\n",
       "      <td>-18.768128</td>\n",
       "      <td>0.998760</td>\n",
       "      <td>27.488653</td>\n",
       "      <td>-0.026728</td>\n",
       "    </tr>\n",
       "    <tr>\n",
       "      <th>3</th>\n",
       "      <td>344_908457</td>\n",
       "      <td>-20.870930</td>\n",
       "      <td>0.998760</td>\n",
       "      <td>27.558327</td>\n",
       "      <td>-0.026728</td>\n",
       "    </tr>\n",
       "    <tr>\n",
       "      <th>4</th>\n",
       "      <td>344_910853</td>\n",
       "      <td>-14.711871</td>\n",
       "      <td>0.998760</td>\n",
       "      <td>37.491631</td>\n",
       "      <td>-0.026728</td>\n",
       "    </tr>\n",
       "    <tr>\n",
       "      <th>...</th>\n",
       "      <td>...</td>\n",
       "      <td>...</td>\n",
       "      <td>...</td>\n",
       "      <td>...</td>\n",
       "      <td>...</td>\n",
       "    </tr>\n",
       "    <tr>\n",
       "      <th>1150</th>\n",
       "      <td>330_910688</td>\n",
       "      <td>-3.146573</td>\n",
       "      <td>0.988373</td>\n",
       "      <td>7.718505</td>\n",
       "      <td>-0.145673</td>\n",
       "    </tr>\n",
       "    <tr>\n",
       "      <th>1151</th>\n",
       "      <td>330_908146</td>\n",
       "      <td>-3.146573</td>\n",
       "      <td>0.988373</td>\n",
       "      <td>7.718505</td>\n",
       "      <td>-0.145673</td>\n",
       "    </tr>\n",
       "    <tr>\n",
       "      <th>1152</th>\n",
       "      <td>330_949088</td>\n",
       "      <td>-3.146573</td>\n",
       "      <td>0.988373</td>\n",
       "      <td>7.718505</td>\n",
       "      <td>-0.145673</td>\n",
       "    </tr>\n",
       "    <tr>\n",
       "      <th>1153</th>\n",
       "      <td>1058_753531</td>\n",
       "      <td>-2.469001</td>\n",
       "      <td>0.997530</td>\n",
       "      <td>3.527184</td>\n",
       "      <td>-0.032447</td>\n",
       "    </tr>\n",
       "    <tr>\n",
       "      <th>1154</th>\n",
       "      <td>1058_909722</td>\n",
       "      <td>-2.469001</td>\n",
       "      <td>0.997530</td>\n",
       "      <td>3.527184</td>\n",
       "      <td>-0.032447</td>\n",
       "    </tr>\n",
       "  </tbody>\n",
       "</table>\n",
       "<p>1155 rows × 5 columns</p>\n",
       "</div>"
      ],
      "text/plain": [
       "     DRUG_COSMICID  pred_param_1  pred_param_2  pred_param_3  pred_param_4\n",
       "0       344_910851    -21.170060      0.998760     35.195235     -0.026728\n",
       "1       344_717431    -17.113802      0.998760     23.947916     -0.026728\n",
       "2       344_910925    -18.768128      0.998760     27.488653     -0.026728\n",
       "3       344_908457    -20.870930      0.998760     27.558327     -0.026728\n",
       "4       344_910853    -14.711871      0.998760     37.491631     -0.026728\n",
       "...            ...           ...           ...           ...           ...\n",
       "1150    330_910688     -3.146573      0.988373      7.718505     -0.145673\n",
       "1151    330_908146     -3.146573      0.988373      7.718505     -0.145673\n",
       "1152    330_949088     -3.146573      0.988373      7.718505     -0.145673\n",
       "1153   1058_753531     -2.469001      0.997530      3.527184     -0.032447\n",
       "1154   1058_909722     -2.469001      0.997530      3.527184     -0.032447\n",
       "\n",
       "[1155 rows x 5 columns]"
      ]
     },
     "execution_count": 6,
     "metadata": {},
     "output_type": "execute_result"
    }
   ],
   "source": [
    "lassoResults"
   ]
  },
  {
   "cell_type": "code",
   "execution_count": 7,
   "metadata": {},
   "outputs": [
    {
     "data": {
      "text/html": [
       "<div>\n",
       "<style scoped>\n",
       "    .dataframe tbody tr th:only-of-type {\n",
       "        vertical-align: middle;\n",
       "    }\n",
       "\n",
       "    .dataframe tbody tr th {\n",
       "        vertical-align: top;\n",
       "    }\n",
       "\n",
       "    .dataframe thead th {\n",
       "        text-align: right;\n",
       "    }\n",
       "</style>\n",
       "<table border=\"1\" class=\"dataframe\">\n",
       "  <thead>\n",
       "    <tr style=\"text-align: right;\">\n",
       "      <th></th>\n",
       "      <th>DRUG_COSMICID</th>\n",
       "      <th>pred_param_1</th>\n",
       "      <th>pred_param_2</th>\n",
       "      <th>pred_param_3</th>\n",
       "      <th>pred_param_4</th>\n",
       "    </tr>\n",
       "  </thead>\n",
       "  <tbody>\n",
       "    <tr>\n",
       "      <th>0</th>\n",
       "      <td>344_910851</td>\n",
       "      <td>-23.224927</td>\n",
       "      <td>0.994137</td>\n",
       "      <td>42.775081</td>\n",
       "      <td>-0.001058</td>\n",
       "    </tr>\n",
       "    <tr>\n",
       "      <th>1</th>\n",
       "      <td>344_717431</td>\n",
       "      <td>-23.574245</td>\n",
       "      <td>0.994588</td>\n",
       "      <td>39.060505</td>\n",
       "      <td>-0.030780</td>\n",
       "    </tr>\n",
       "    <tr>\n",
       "      <th>2</th>\n",
       "      <td>344_910925</td>\n",
       "      <td>-16.748118</td>\n",
       "      <td>0.994314</td>\n",
       "      <td>29.622762</td>\n",
       "      <td>-0.009197</td>\n",
       "    </tr>\n",
       "    <tr>\n",
       "      <th>3</th>\n",
       "      <td>344_908457</td>\n",
       "      <td>-10.798728</td>\n",
       "      <td>1.005688</td>\n",
       "      <td>17.848413</td>\n",
       "      <td>-0.015707</td>\n",
       "    </tr>\n",
       "    <tr>\n",
       "      <th>4</th>\n",
       "      <td>344_910853</td>\n",
       "      <td>-19.200615</td>\n",
       "      <td>0.998410</td>\n",
       "      <td>51.366619</td>\n",
       "      <td>-0.010146</td>\n",
       "    </tr>\n",
       "    <tr>\n",
       "      <th>...</th>\n",
       "      <td>...</td>\n",
       "      <td>...</td>\n",
       "      <td>...</td>\n",
       "      <td>...</td>\n",
       "      <td>...</td>\n",
       "    </tr>\n",
       "    <tr>\n",
       "      <th>1150</th>\n",
       "      <td>330_910688</td>\n",
       "      <td>-3.187024</td>\n",
       "      <td>0.988587</td>\n",
       "      <td>7.802961</td>\n",
       "      <td>-0.131748</td>\n",
       "    </tr>\n",
       "    <tr>\n",
       "      <th>1151</th>\n",
       "      <td>330_908146</td>\n",
       "      <td>-3.128954</td>\n",
       "      <td>0.988853</td>\n",
       "      <td>7.665807</td>\n",
       "      <td>-0.154857</td>\n",
       "    </tr>\n",
       "    <tr>\n",
       "      <th>1152</th>\n",
       "      <td>330_949088</td>\n",
       "      <td>-3.139822</td>\n",
       "      <td>0.989042</td>\n",
       "      <td>7.653244</td>\n",
       "      <td>-0.150477</td>\n",
       "    </tr>\n",
       "    <tr>\n",
       "      <th>1153</th>\n",
       "      <td>1058_753531</td>\n",
       "      <td>-2.438347</td>\n",
       "      <td>0.996393</td>\n",
       "      <td>3.944862</td>\n",
       "      <td>-0.008884</td>\n",
       "    </tr>\n",
       "    <tr>\n",
       "      <th>1154</th>\n",
       "      <td>1058_909722</td>\n",
       "      <td>-2.531129</td>\n",
       "      <td>0.995061</td>\n",
       "      <td>3.707296</td>\n",
       "      <td>-0.028644</td>\n",
       "    </tr>\n",
       "  </tbody>\n",
       "</table>\n",
       "<p>1155 rows × 5 columns</p>\n",
       "</div>"
      ],
      "text/plain": [
       "     DRUG_COSMICID  pred_param_1  pred_param_2  pred_param_3  pred_param_4\n",
       "0       344_910851    -23.224927      0.994137     42.775081     -0.001058\n",
       "1       344_717431    -23.574245      0.994588     39.060505     -0.030780\n",
       "2       344_910925    -16.748118      0.994314     29.622762     -0.009197\n",
       "3       344_908457    -10.798728      1.005688     17.848413     -0.015707\n",
       "4       344_910853    -19.200615      0.998410     51.366619     -0.010146\n",
       "...            ...           ...           ...           ...           ...\n",
       "1150    330_910688     -3.187024      0.988587      7.802961     -0.131748\n",
       "1151    330_908146     -3.128954      0.988853      7.665807     -0.154857\n",
       "1152    330_949088     -3.139822      0.989042      7.653244     -0.150477\n",
       "1153   1058_753531     -2.438347      0.996393      3.944862     -0.008884\n",
       "1154   1058_909722     -2.531129      0.995061      3.707296     -0.028644\n",
       "\n",
       "[1155 rows x 5 columns]"
      ]
     },
     "execution_count": 7,
     "metadata": {},
     "output_type": "execute_result"
    }
   ],
   "source": [
    "ridgeResults"
   ]
  },
  {
   "cell_type": "code",
   "execution_count": 8,
   "metadata": {},
   "outputs": [
    {
     "data": {
      "text/html": [
       "<div>\n",
       "<style scoped>\n",
       "    .dataframe tbody tr th:only-of-type {\n",
       "        vertical-align: middle;\n",
       "    }\n",
       "\n",
       "    .dataframe tbody tr th {\n",
       "        vertical-align: top;\n",
       "    }\n",
       "\n",
       "    .dataframe thead th {\n",
       "        text-align: right;\n",
       "    }\n",
       "</style>\n",
       "<table border=\"1\" class=\"dataframe\">\n",
       "  <thead>\n",
       "    <tr style=\"text-align: right;\">\n",
       "      <th></th>\n",
       "      <th>DRUG_COSMICID</th>\n",
       "      <th>pred_param_1</th>\n",
       "      <th>pred_param_2</th>\n",
       "      <th>pred_param_3</th>\n",
       "      <th>pred_param_4</th>\n",
       "    </tr>\n",
       "  </thead>\n",
       "  <tbody>\n",
       "    <tr>\n",
       "      <th>0</th>\n",
       "      <td>344_910851</td>\n",
       "      <td>-22.197493</td>\n",
       "      <td>0.996449</td>\n",
       "      <td>38.985158</td>\n",
       "      <td>-0.013893</td>\n",
       "    </tr>\n",
       "    <tr>\n",
       "      <th>1</th>\n",
       "      <td>344_717431</td>\n",
       "      <td>-20.344023</td>\n",
       "      <td>0.996674</td>\n",
       "      <td>31.504211</td>\n",
       "      <td>-0.028754</td>\n",
       "    </tr>\n",
       "    <tr>\n",
       "      <th>2</th>\n",
       "      <td>344_910925</td>\n",
       "      <td>-17.758123</td>\n",
       "      <td>0.996537</td>\n",
       "      <td>28.555707</td>\n",
       "      <td>-0.017962</td>\n",
       "    </tr>\n",
       "    <tr>\n",
       "      <th>3</th>\n",
       "      <td>344_908457</td>\n",
       "      <td>-15.834829</td>\n",
       "      <td>1.002224</td>\n",
       "      <td>22.703370</td>\n",
       "      <td>-0.021217</td>\n",
       "    </tr>\n",
       "    <tr>\n",
       "      <th>4</th>\n",
       "      <td>344_910853</td>\n",
       "      <td>-16.956243</td>\n",
       "      <td>0.998585</td>\n",
       "      <td>44.429125</td>\n",
       "      <td>-0.018437</td>\n",
       "    </tr>\n",
       "    <tr>\n",
       "      <th>...</th>\n",
       "      <td>...</td>\n",
       "      <td>...</td>\n",
       "      <td>...</td>\n",
       "      <td>...</td>\n",
       "      <td>...</td>\n",
       "    </tr>\n",
       "    <tr>\n",
       "      <th>1150</th>\n",
       "      <td>330_910688</td>\n",
       "      <td>-3.166798</td>\n",
       "      <td>0.988480</td>\n",
       "      <td>7.760733</td>\n",
       "      <td>-0.138710</td>\n",
       "    </tr>\n",
       "    <tr>\n",
       "      <th>1151</th>\n",
       "      <td>330_908146</td>\n",
       "      <td>-3.137763</td>\n",
       "      <td>0.988613</td>\n",
       "      <td>7.692156</td>\n",
       "      <td>-0.150265</td>\n",
       "    </tr>\n",
       "    <tr>\n",
       "      <th>1152</th>\n",
       "      <td>330_949088</td>\n",
       "      <td>-3.143197</td>\n",
       "      <td>0.988707</td>\n",
       "      <td>7.685874</td>\n",
       "      <td>-0.148075</td>\n",
       "    </tr>\n",
       "    <tr>\n",
       "      <th>1153</th>\n",
       "      <td>1058_753531</td>\n",
       "      <td>-2.453674</td>\n",
       "      <td>0.996961</td>\n",
       "      <td>3.736023</td>\n",
       "      <td>-0.020665</td>\n",
       "    </tr>\n",
       "    <tr>\n",
       "      <th>1154</th>\n",
       "      <td>1058_909722</td>\n",
       "      <td>-2.500065</td>\n",
       "      <td>0.996295</td>\n",
       "      <td>3.617240</td>\n",
       "      <td>-0.030545</td>\n",
       "    </tr>\n",
       "  </tbody>\n",
       "</table>\n",
       "<p>1155 rows × 5 columns</p>\n",
       "</div>"
      ],
      "text/plain": [
       "     DRUG_COSMICID  pred_param_1  pred_param_2  pred_param_3  pred_param_4\n",
       "0       344_910851    -22.197493      0.996449     38.985158     -0.013893\n",
       "1       344_717431    -20.344023      0.996674     31.504211     -0.028754\n",
       "2       344_910925    -17.758123      0.996537     28.555707     -0.017962\n",
       "3       344_908457    -15.834829      1.002224     22.703370     -0.021217\n",
       "4       344_910853    -16.956243      0.998585     44.429125     -0.018437\n",
       "...            ...           ...           ...           ...           ...\n",
       "1150    330_910688     -3.166798      0.988480      7.760733     -0.138710\n",
       "1151    330_908146     -3.137763      0.988613      7.692156     -0.150265\n",
       "1152    330_949088     -3.143197      0.988707      7.685874     -0.148075\n",
       "1153   1058_753531     -2.453674      0.996961      3.736023     -0.020665\n",
       "1154   1058_909722     -2.500065      0.996295      3.617240     -0.030545\n",
       "\n",
       "[1155 rows x 5 columns]"
      ]
     },
     "execution_count": 8,
     "metadata": {},
     "output_type": "execute_result"
    }
   ],
   "source": [
    "combinedResults"
   ]
  },
  {
   "cell_type": "code",
   "execution_count": 9,
   "metadata": {},
   "outputs": [
    {
     "data": {
      "text/html": [
       "<div>\n",
       "<style scoped>\n",
       "    .dataframe tbody tr th:only-of-type {\n",
       "        vertical-align: middle;\n",
       "    }\n",
       "\n",
       "    .dataframe tbody tr th {\n",
       "        vertical-align: top;\n",
       "    }\n",
       "\n",
       "    .dataframe thead th {\n",
       "        text-align: right;\n",
       "    }\n",
       "</style>\n",
       "<table border=\"1\" class=\"dataframe\">\n",
       "  <thead>\n",
       "    <tr style=\"text-align: right;\">\n",
       "      <th></th>\n",
       "      <th>DRUG_COSMICID</th>\n",
       "      <th>param_1</th>\n",
       "      <th>param_2</th>\n",
       "      <th>param_3</th>\n",
       "      <th>param_4</th>\n",
       "    </tr>\n",
       "  </thead>\n",
       "  <tbody>\n",
       "    <tr>\n",
       "      <th>0</th>\n",
       "      <td>344_910851</td>\n",
       "      <td>-16.424564</td>\n",
       "      <td>0.958175</td>\n",
       "      <td>23.736499</td>\n",
       "      <td>0.222941</td>\n",
       "    </tr>\n",
       "    <tr>\n",
       "      <th>1</th>\n",
       "      <td>344_717431</td>\n",
       "      <td>-9.979214</td>\n",
       "      <td>1.054327</td>\n",
       "      <td>25.806256</td>\n",
       "      <td>0.003961</td>\n",
       "    </tr>\n",
       "    <tr>\n",
       "      <th>2</th>\n",
       "      <td>344_910925</td>\n",
       "      <td>-19.679407</td>\n",
       "      <td>0.997509</td>\n",
       "      <td>25.848962</td>\n",
       "      <td>0.004848</td>\n",
       "    </tr>\n",
       "    <tr>\n",
       "      <th>3</th>\n",
       "      <td>344_908457</td>\n",
       "      <td>-2.704682</td>\n",
       "      <td>0.995417</td>\n",
       "      <td>6.327667</td>\n",
       "      <td>-0.086482</td>\n",
       "    </tr>\n",
       "    <tr>\n",
       "      <th>4</th>\n",
       "      <td>344_910853</td>\n",
       "      <td>-5.761424</td>\n",
       "      <td>0.934020</td>\n",
       "      <td>7.109135</td>\n",
       "      <td>-0.029411</td>\n",
       "    </tr>\n",
       "    <tr>\n",
       "      <th>...</th>\n",
       "      <td>...</td>\n",
       "      <td>...</td>\n",
       "      <td>...</td>\n",
       "      <td>...</td>\n",
       "      <td>...</td>\n",
       "    </tr>\n",
       "    <tr>\n",
       "      <th>1150</th>\n",
       "      <td>330_910688</td>\n",
       "      <td>-1.897305</td>\n",
       "      <td>0.981859</td>\n",
       "      <td>7.344160</td>\n",
       "      <td>-0.130963</td>\n",
       "    </tr>\n",
       "    <tr>\n",
       "      <th>1151</th>\n",
       "      <td>330_908146</td>\n",
       "      <td>-14.114180</td>\n",
       "      <td>1.023774</td>\n",
       "      <td>33.474336</td>\n",
       "      <td>0.124503</td>\n",
       "    </tr>\n",
       "    <tr>\n",
       "      <th>1152</th>\n",
       "      <td>330_949088</td>\n",
       "      <td>-4.187456</td>\n",
       "      <td>0.939049</td>\n",
       "      <td>7.541476</td>\n",
       "      <td>0.058395</td>\n",
       "    </tr>\n",
       "    <tr>\n",
       "      <th>1153</th>\n",
       "      <td>1058_753531</td>\n",
       "      <td>-2.474842</td>\n",
       "      <td>1.031552</td>\n",
       "      <td>5.599440</td>\n",
       "      <td>0.051272</td>\n",
       "    </tr>\n",
       "    <tr>\n",
       "      <th>1154</th>\n",
       "      <td>1058_909722</td>\n",
       "      <td>-2.496057</td>\n",
       "      <td>1.001111</td>\n",
       "      <td>3.036352</td>\n",
       "      <td>0.037264</td>\n",
       "    </tr>\n",
       "  </tbody>\n",
       "</table>\n",
       "<p>1155 rows × 5 columns</p>\n",
       "</div>"
      ],
      "text/plain": [
       "     DRUG_COSMICID    param_1   param_2    param_3   param_4\n",
       "0       344_910851 -16.424564  0.958175  23.736499  0.222941\n",
       "1       344_717431  -9.979214  1.054327  25.806256  0.003961\n",
       "2       344_910925 -19.679407  0.997509  25.848962  0.004848\n",
       "3       344_908457  -2.704682  0.995417   6.327667 -0.086482\n",
       "4       344_910853  -5.761424  0.934020   7.109135 -0.029411\n",
       "...            ...        ...       ...        ...       ...\n",
       "1150    330_910688  -1.897305  0.981859   7.344160 -0.130963\n",
       "1151    330_908146 -14.114180  1.023774  33.474336  0.124503\n",
       "1152    330_949088  -4.187456  0.939049   7.541476  0.058395\n",
       "1153   1058_753531  -2.474842  1.031552   5.599440  0.051272\n",
       "1154   1058_909722  -2.496057  1.001111   3.036352  0.037264\n",
       "\n",
       "[1155 rows x 5 columns]"
      ]
     },
     "execution_count": 9,
     "metadata": {},
     "output_type": "execute_result"
    }
   ],
   "source": [
    "trueResults"
   ]
  },
  {
   "cell_type": "code",
   "execution_count": 10,
   "metadata": {},
   "outputs": [],
   "source": [
    "ridgeResults = ridgeResults.drop_duplicates()\n",
    "lassoResults = lassoResults.drop_duplicates()\n",
    "combinedResults = combinedResults.drop_duplicates()"
   ]
  },
  {
   "cell_type": "code",
   "execution_count": 11,
   "metadata": {},
   "outputs": [],
   "source": [
    "def ll4_R(x, c, a, b, d):\n",
    "    return ( (a-d)/(1+np.exp(b*np.log(x)- c)) + d)\n",
    "\n",
    "def showTestPredResponses(drugIdCosmic):\n",
    "    sampleRidge = ridgeResults[ridgeResults['DRUG_COSMICID'] == drugIdCosmic].iloc[0:1,:]\n",
    "    ridgeY = sampleRidge[pred_param_labels]\n",
    "    ridgeY = np.array(ridgeY[pred_param_labels]).squeeze()\n",
    "    sampleLasso = lassoResults[ridgeResults['DRUG_COSMICID'] == drugIdCosmic].iloc[0:1,:]\n",
    "    lassoY = sampleLasso[pred_param_labels]\n",
    "    lassoY = np.array(lassoY[pred_param_labels]).squeeze()\n",
    "    sampleComb = combinedResults[ridgeResults['DRUG_COSMICID'] == drugIdCosmic].iloc[0:1,:]\n",
    "    combY = sampleComb[pred_param_labels]\n",
    "    combY = np.array(combY[pred_param_labels]).squeeze()\n",
    "    trueY = trueResults[trueResults['DRUG_COSMICID'] == drugIdCosmic].iloc[0:1,:]\n",
    "    trueY = np.array(trueY[param_labels]).squeeze()\n",
    "    print(trueY)\n",
    "    xValues = np.linspace(0.0, 1.0, 100)\n",
    "    \n",
    "    plt.title(drugIdCosmic + \" dosage against response\")\n",
    "    plt.plot(xValues, ll4_R(xValues, *trueY), color=\"b\", label = \"True\")\n",
    "    plt.plot(xValues, ll4_R(xValues, *ridgeY), color=\"g\", label = \"Ridge\")\n",
    "    plt.plot(xValues, ll4_R(xValues, *lassoY), color=\"r\", label = \"Lasso\")\n",
    "    plt.plot(xValues, ll4_R(xValues, *combY), color=\"y\", label = \"Combined\")\n",
    "    plt.xlabel(\"Scaled dosage\")\n",
    "    plt.ylabel(\"Normalised response\")\n",
    "    plt.legend()\n",
    "    plt.show()"
   ]
  },
  {
   "cell_type": "code",
   "execution_count": 12,
   "metadata": {},
   "outputs": [
    {
     "name": "stdout",
     "output_type": "stream",
     "text": [
      "[-16.42456381   0.95817463  23.73649913   0.22294058]\n"
     ]
    },
    {
     "name": "stderr",
     "output_type": "stream",
     "text": [
      "<ipython-input-11-6e4e3105d331>:2: RuntimeWarning: divide by zero encountered in log\n",
      "  return ( (a-d)/(1+np.exp(b*np.log(x)- c)) + d)\n",
      "<ipython-input-11-6e4e3105d331>:2: RuntimeWarning: divide by zero encountered in log\n",
      "  return ( (a-d)/(1+np.exp(b*np.log(x)- c)) + d)\n",
      "<ipython-input-11-6e4e3105d331>:2: RuntimeWarning: divide by zero encountered in log\n",
      "  return ( (a-d)/(1+np.exp(b*np.log(x)- c)) + d)\n",
      "<ipython-input-11-6e4e3105d331>:2: RuntimeWarning: divide by zero encountered in log\n",
      "  return ( (a-d)/(1+np.exp(b*np.log(x)- c)) + d)\n"
     ]
    },
    {
     "data": {
      "image/png": "[encoded data removed]",
      "text/plain": [
       "<Figure size 432x288 with 1 Axes>"
      ]
     },
     "metadata": {
      "needs_background": "light"
     },
     "output_type": "display_data"
    }
   ],
   "source": [
    "showTestPredResponses('344_910851')"
   ]
  },
  {
   "cell_type": "code",
   "execution_count": 13,
   "metadata": {},
   "outputs": [
    {
     "name": "stdout",
     "output_type": "stream",
     "text": [
      "[-9.97921396e+00  1.05432725e+00  2.58062563e+01  3.96075799e-03]\n"
     ]
    },
    {
     "name": "stderr",
     "output_type": "stream",
     "text": [
      "<ipython-input-11-6e4e3105d331>:2: RuntimeWarning: divide by zero encountered in log\n",
      "  return ( (a-d)/(1+np.exp(b*np.log(x)- c)) + d)\n",
      "<ipython-input-11-6e4e3105d331>:2: RuntimeWarning: divide by zero encountered in log\n",
      "  return ( (a-d)/(1+np.exp(b*np.log(x)- c)) + d)\n",
      "<ipython-input-11-6e4e3105d331>:2: RuntimeWarning: divide by zero encountered in log\n",
      "  return ( (a-d)/(1+np.exp(b*np.log(x)- c)) + d)\n",
      "<ipython-input-11-6e4e3105d331>:2: RuntimeWarning: divide by zero encountered in log\n",
      "  return ( (a-d)/(1+np.exp(b*np.log(x)- c)) + d)\n"
     ]
    },
    {
     "data": {
      "image/png": "[encoded data removed]",
      "text/plain": [
       "<Figure size 432x288 with 1 Axes>"
      ]
     },
     "metadata": {
      "needs_background": "light"
     },
     "output_type": "display_data"
    }
   ],
   "source": [
    "showTestPredResponses('344_717431')"
   ]
  },
  {
   "cell_type": "code",
   "execution_count": 14,
   "metadata": {},
   "outputs": [
    {
     "name": "stdout",
     "output_type": "stream",
     "text": [
      "[-2.70468186  0.9954165   6.32766721 -0.0864821 ]\n"
     ]
    },
    {
     "name": "stderr",
     "output_type": "stream",
     "text": [
      "<ipython-input-11-6e4e3105d331>:2: RuntimeWarning: divide by zero encountered in log\n",
      "  return ( (a-d)/(1+np.exp(b*np.log(x)- c)) + d)\n",
      "<ipython-input-11-6e4e3105d331>:2: RuntimeWarning: divide by zero encountered in log\n",
      "  return ( (a-d)/(1+np.exp(b*np.log(x)- c)) + d)\n",
      "<ipython-input-11-6e4e3105d331>:2: RuntimeWarning: divide by zero encountered in log\n",
      "  return ( (a-d)/(1+np.exp(b*np.log(x)- c)) + d)\n",
      "<ipython-input-11-6e4e3105d331>:2: RuntimeWarning: divide by zero encountered in log\n",
      "  return ( (a-d)/(1+np.exp(b*np.log(x)- c)) + d)\n"
     ]
    },
    {
     "data": {
      "image/png": "[encoded data removed]",
      "text/plain": [
       "<Figure size 432x288 with 1 Axes>"
      ]
     },
     "metadata": {
      "needs_background": "light"
     },
     "output_type": "display_data"
    }
   ],
   "source": [
    "showTestPredResponses('344_908457')"
   ]
  },
  {
   "cell_type": "code",
   "execution_count": 15,
   "metadata": {},
   "outputs": [
    {
     "name": "stdout",
     "output_type": "stream",
     "text": [
      "[-1.17265489e+01  9.80967674e-01  1.51631772e+01  4.60009456e-03]\n"
     ]
    },
    {
     "name": "stderr",
     "output_type": "stream",
     "text": [
      "<ipython-input-11-6e4e3105d331>:2: RuntimeWarning: divide by zero encountered in log\n",
      "  return ( (a-d)/(1+np.exp(b*np.log(x)- c)) + d)\n",
      "<ipython-input-11-6e4e3105d331>:2: RuntimeWarning: divide by zero encountered in log\n",
      "  return ( (a-d)/(1+np.exp(b*np.log(x)- c)) + d)\n",
      "<ipython-input-11-6e4e3105d331>:2: RuntimeWarning: divide by zero encountered in log\n",
      "  return ( (a-d)/(1+np.exp(b*np.log(x)- c)) + d)\n",
      "<ipython-input-11-6e4e3105d331>:2: RuntimeWarning: divide by zero encountered in log\n",
      "  return ( (a-d)/(1+np.exp(b*np.log(x)- c)) + d)\n"
     ]
    },
    {
     "data": {
      "image/png": "[encoded data removed]",
      "text/plain": [
       "<Figure size 432x288 with 1 Axes>"
      ]
     },
     "metadata": {
      "needs_background": "light"
     },
     "output_type": "display_data"
    }
   ],
   "source": [
    "showTestPredResponses('344_909696')"
   ]
  },
  {
   "cell_type": "code",
   "execution_count": 16,
   "metadata": {},
   "outputs": [
    {
     "data": {
      "text/plain": [
       "array([ 582, 1150,   25,  685,  860,   70,  997, 1067,  449])"
      ]
     },
     "execution_count": 16,
     "metadata": {},
     "output_type": "execute_result"
    }
   ],
   "source": [
    "max_int = len(trueResults.index)\n",
    "rand_int = np.random.randint(0, max_int, 9)\n",
    "rand_int"
   ]
  },
  {
   "cell_type": "code",
   "execution_count": 18,
   "metadata": {},
   "outputs": [
    {
     "name": "stdout",
     "output_type": "stream",
     "text": [
      "[-3.62686449  0.99824455  4.71693635  0.03560131]\n"
     ]
    },
    {
     "name": "stderr",
     "output_type": "stream",
     "text": [
      "<ipython-input-11-6e4e3105d331>:2: RuntimeWarning: divide by zero encountered in log\n",
      "  return ( (a-d)/(1+np.exp(b*np.log(x)- c)) + d)\n",
      "<ipython-input-11-6e4e3105d331>:2: RuntimeWarning: divide by zero encountered in log\n",
      "  return ( (a-d)/(1+np.exp(b*np.log(x)- c)) + d)\n",
      "<ipython-input-11-6e4e3105d331>:2: RuntimeWarning: divide by zero encountered in log\n",
      "  return ( (a-d)/(1+np.exp(b*np.log(x)- c)) + d)\n",
      "<ipython-input-11-6e4e3105d331>:2: RuntimeWarning: divide by zero encountered in log\n",
      "  return ( (a-d)/(1+np.exp(b*np.log(x)- c)) + d)\n"
     ]
    },
    {
     "data": {
      "image/png": "[encoded data removed]",
      "text/plain": [
       "<Figure size 432x288 with 1 Axes>"
      ]
     },
     "metadata": {
      "needs_background": "light"
     },
     "output_type": "display_data"
    },
    {
     "name": "stdout",
     "output_type": "stream",
     "text": [
      "[-1.89730514  0.98185913  7.34416001 -0.13096266]\n"
     ]
    },
    {
     "name": "stderr",
     "output_type": "stream",
     "text": [
      "<ipython-input-11-6e4e3105d331>:2: RuntimeWarning: divide by zero encountered in log\n",
      "  return ( (a-d)/(1+np.exp(b*np.log(x)- c)) + d)\n",
      "<ipython-input-11-6e4e3105d331>:2: RuntimeWarning: divide by zero encountered in log\n",
      "  return ( (a-d)/(1+np.exp(b*np.log(x)- c)) + d)\n",
      "<ipython-input-11-6e4e3105d331>:2: RuntimeWarning: divide by zero encountered in log\n",
      "  return ( (a-d)/(1+np.exp(b*np.log(x)- c)) + d)\n",
      "<ipython-input-11-6e4e3105d331>:2: RuntimeWarning: divide by zero encountered in log\n",
      "  return ( (a-d)/(1+np.exp(b*np.log(x)- c)) + d)\n"
     ]
    },
    {
     "data": {
      "image/png": "[encoded data removed]",
      "text/plain": [
       "<Figure size 432x288 with 1 Axes>"
      ]
     },
     "metadata": {
      "needs_background": "light"
     },
     "output_type": "display_data"
    },
    {
     "name": "stdout",
     "output_type": "stream",
     "text": [
      "[-1.17265489e+01  9.80967674e-01  1.51631772e+01  4.60009456e-03]\n"
     ]
    },
    {
     "name": "stderr",
     "output_type": "stream",
     "text": [
      "<ipython-input-11-6e4e3105d331>:2: RuntimeWarning: divide by zero encountered in log\n",
      "  return ( (a-d)/(1+np.exp(b*np.log(x)- c)) + d)\n",
      "<ipython-input-11-6e4e3105d331>:2: RuntimeWarning: divide by zero encountered in log\n",
      "  return ( (a-d)/(1+np.exp(b*np.log(x)- c)) + d)\n",
      "<ipython-input-11-6e4e3105d331>:2: RuntimeWarning: divide by zero encountered in log\n",
      "  return ( (a-d)/(1+np.exp(b*np.log(x)- c)) + d)\n",
      "<ipython-input-11-6e4e3105d331>:2: RuntimeWarning: divide by zero encountered in log\n",
      "  return ( (a-d)/(1+np.exp(b*np.log(x)- c)) + d)\n"
     ]
    },
    {
     "data": {
      "image/png": "[encoded data removed]",
      "text/plain": [
       "<Figure size 432x288 with 1 Axes>"
      ]
     },
     "metadata": {
      "needs_background": "light"
     },
     "output_type": "display_data"
    },
    {
     "name": "stdout",
     "output_type": "stream",
     "text": [
      "[-4.96000689e+00  9.99891194e-01  1.63532032e+01 -1.19158948e-02]\n"
     ]
    },
    {
     "name": "stderr",
     "output_type": "stream",
     "text": [
      "<ipython-input-11-6e4e3105d331>:2: RuntimeWarning: divide by zero encountered in log\n",
      "  return ( (a-d)/(1+np.exp(b*np.log(x)- c)) + d)\n",
      "<ipython-input-11-6e4e3105d331>:2: RuntimeWarning: divide by zero encountered in log\n",
      "  return ( (a-d)/(1+np.exp(b*np.log(x)- c)) + d)\n",
      "<ipython-input-11-6e4e3105d331>:2: RuntimeWarning: divide by zero encountered in log\n",
      "  return ( (a-d)/(1+np.exp(b*np.log(x)- c)) + d)\n",
      "<ipython-input-11-6e4e3105d331>:2: RuntimeWarning: divide by zero encountered in log\n",
      "  return ( (a-d)/(1+np.exp(b*np.log(x)- c)) + d)\n"
     ]
    },
    {
     "data": {
      "image/png": "[encoded data removed]",
      "text/plain": [
       "<Figure size 432x288 with 1 Axes>"
      ]
     },
     "metadata": {
      "needs_background": "light"
     },
     "output_type": "display_data"
    },
    {
     "name": "stdout",
     "output_type": "stream",
     "text": [
      "[-6.83184668e+00  9.37298352e-01  1.27379586e+01 -4.13381974e-03]\n"
     ]
    },
    {
     "name": "stderr",
     "output_type": "stream",
     "text": [
      "<ipython-input-11-6e4e3105d331>:2: RuntimeWarning: divide by zero encountered in log\n",
      "  return ( (a-d)/(1+np.exp(b*np.log(x)- c)) + d)\n",
      "<ipython-input-11-6e4e3105d331>:2: RuntimeWarning: divide by zero encountered in log\n",
      "  return ( (a-d)/(1+np.exp(b*np.log(x)- c)) + d)\n",
      "<ipython-input-11-6e4e3105d331>:2: RuntimeWarning: divide by zero encountered in log\n",
      "  return ( (a-d)/(1+np.exp(b*np.log(x)- c)) + d)\n",
      "<ipython-input-11-6e4e3105d331>:2: RuntimeWarning: divide by zero encountered in log\n",
      "  return ( (a-d)/(1+np.exp(b*np.log(x)- c)) + d)\n"
     ]
    },
    {
     "data": {
      "image/png": "[encoded data removed]",
      "text/plain": [
       "<Figure size 432x288 with 1 Axes>"
      ]
     },
     "metadata": {
      "needs_background": "light"
     },
     "output_type": "display_data"
    },
    {
     "name": "stdout",
     "output_type": "stream",
     "text": [
      "[-2.69555277e+01  9.37207615e-01  4.91761793e+01  4.55310025e-02]\n"
     ]
    },
    {
     "name": "stderr",
     "output_type": "stream",
     "text": [
      "<ipython-input-11-6e4e3105d331>:2: RuntimeWarning: divide by zero encountered in log\n",
      "  return ( (a-d)/(1+np.exp(b*np.log(x)- c)) + d)\n",
      "<ipython-input-11-6e4e3105d331>:2: RuntimeWarning: divide by zero encountered in log\n",
      "  return ( (a-d)/(1+np.exp(b*np.log(x)- c)) + d)\n",
      "<ipython-input-11-6e4e3105d331>:2: RuntimeWarning: divide by zero encountered in log\n",
      "  return ( (a-d)/(1+np.exp(b*np.log(x)- c)) + d)\n",
      "<ipython-input-11-6e4e3105d331>:2: RuntimeWarning: divide by zero encountered in log\n",
      "  return ( (a-d)/(1+np.exp(b*np.log(x)- c)) + d)\n"
     ]
    },
    {
     "data": {
      "image/png": "[encoded data removed]",
      "text/plain": [
       "<Figure size 432x288 with 1 Axes>"
      ]
     },
     "metadata": {
      "needs_background": "light"
     },
     "output_type": "display_data"
    },
    {
     "name": "stdout",
     "output_type": "stream",
     "text": [
      "[-5.66068875  0.97663807  5.7267286   0.12576257]\n"
     ]
    },
    {
     "name": "stderr",
     "output_type": "stream",
     "text": [
      "<ipython-input-11-6e4e3105d331>:2: RuntimeWarning: divide by zero encountered in log\n",
      "  return ( (a-d)/(1+np.exp(b*np.log(x)- c)) + d)\n",
      "<ipython-input-11-6e4e3105d331>:2: RuntimeWarning: divide by zero encountered in log\n",
      "  return ( (a-d)/(1+np.exp(b*np.log(x)- c)) + d)\n",
      "<ipython-input-11-6e4e3105d331>:2: RuntimeWarning: divide by zero encountered in log\n",
      "  return ( (a-d)/(1+np.exp(b*np.log(x)- c)) + d)\n",
      "<ipython-input-11-6e4e3105d331>:2: RuntimeWarning: divide by zero encountered in log\n",
      "  return ( (a-d)/(1+np.exp(b*np.log(x)- c)) + d)\n"
     ]
    },
    {
     "data": {
      "image/png": "[encoded data removed]",
      "text/plain": [
       "<Figure size 432x288 with 1 Axes>"
      ]
     },
     "metadata": {
      "needs_background": "light"
     },
     "output_type": "display_data"
    },
    {
     "name": "stdout",
     "output_type": "stream",
     "text": [
      "[-5.47810695  0.94887924  7.29161192  0.1039858 ]\n"
     ]
    },
    {
     "name": "stderr",
     "output_type": "stream",
     "text": [
      "<ipython-input-11-6e4e3105d331>:2: RuntimeWarning: divide by zero encountered in log\n",
      "  return ( (a-d)/(1+np.exp(b*np.log(x)- c)) + d)\n",
      "<ipython-input-11-6e4e3105d331>:2: RuntimeWarning: divide by zero encountered in log\n",
      "  return ( (a-d)/(1+np.exp(b*np.log(x)- c)) + d)\n",
      "<ipython-input-11-6e4e3105d331>:2: RuntimeWarning: divide by zero encountered in log\n",
      "  return ( (a-d)/(1+np.exp(b*np.log(x)- c)) + d)\n",
      "<ipython-input-11-6e4e3105d331>:2: RuntimeWarning: divide by zero encountered in log\n",
      "  return ( (a-d)/(1+np.exp(b*np.log(x)- c)) + d)\n"
     ]
    },
    {
     "data": {
      "image/png": "[encoded data removed]",
      "text/plain": [
       "<Figure size 432x288 with 1 Axes>"
      ]
     },
     "metadata": {
      "needs_background": "light"
     },
     "output_type": "display_data"
    },
    {
     "name": "stdout",
     "output_type": "stream",
     "text": [
      "[-6.70659583  1.01429285  8.08694282  0.00898178]\n"
     ]
    },
    {
     "name": "stderr",
     "output_type": "stream",
     "text": [
      "<ipython-input-11-6e4e3105d331>:2: RuntimeWarning: divide by zero encountered in log\n",
      "  return ( (a-d)/(1+np.exp(b*np.log(x)- c)) + d)\n",
      "<ipython-input-11-6e4e3105d331>:2: RuntimeWarning: divide by zero encountered in log\n",
      "  return ( (a-d)/(1+np.exp(b*np.log(x)- c)) + d)\n",
      "<ipython-input-11-6e4e3105d331>:2: RuntimeWarning: divide by zero encountered in log\n",
      "  return ( (a-d)/(1+np.exp(b*np.log(x)- c)) + d)\n",
      "<ipython-input-11-6e4e3105d331>:2: RuntimeWarning: divide by zero encountered in log\n",
      "  return ( (a-d)/(1+np.exp(b*np.log(x)- c)) + d)\n"
     ]
    },
    {
     "data": {
      "image/png": "[encoded data removed]",
      "text/plain": [
       "<Figure size 432x288 with 1 Axes>"
      ]
     },
     "metadata": {
      "needs_background": "light"
     },
     "output_type": "display_data"
    }
   ],
   "source": [
    "for index in rand_int:\n",
    "    showTestPredResponses(trueResults.loc[index]['DRUG_COSMICID'])"
   ]
  },
  {
   "cell_type": "code",
   "execution_count": null,
   "metadata": {},
   "outputs": [],
   "source": []
  }
 ],
 "metadata": {
  "kernelspec": {
   "display_name": "Python 3",
   "language": "python",
   "name": "python3"
  },
  "language_info": {
   "codemirror_mode": {
    "name": "ipython",
    "version": 3
   },
   "file_extension": ".py",
   "mimetype": "text/x-python",
   "name": "python",
   "nbconvert_exporter": "python",
   "pygments_lexer": "ipython3",
   "version": "3.8.5"
  }
 },
 "nbformat": 4,
 "nbformat_minor": 4
}
