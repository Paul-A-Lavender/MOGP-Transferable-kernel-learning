{
 "cells": [
  {
   "cell_type": "code",
   "execution_count": 1,
   "metadata": {},
   "outputs": [],
   "source": [
    "import pandas as pd\n",
    "import numpy as np\n",
    "np.__version__\n",
    "import matplotlib.pyplot as plt\n",
    "_FOLDER = \"../data/\"\n",
    "_FOLDER2 = \"../results/\"\n",
    "from sklearn.linear_model import Lasso\n",
    "from sklearn.linear_model import Ridge\n",
    "from scipy.optimize import curve_fit\n",
    "from sklearn.metrics import mean_squared_error, r2_score\n",
    "from sklearn.model_selection import \\\n",
    "    KFold, RepeatedKFold, GridSearchCV, \\\n",
    "    cross_validate, train_test_split\n",
    "import json"
   ]
  },
  {
   "cell_type": "code",
   "execution_count": 2,
   "metadata": {},
   "outputs": [],
   "source": [
    "def createResponseCurve(iD,model, xValues, yValues, predicted = False):\n",
    "    plt.scatter(xValues, yValues)\n",
    "    plt.title(model + \" \" + iD)\n",
    "    plt.xlabel(\"Scaled dosage\")\n",
    "    if(predicted):\n",
    "        plt.ylabel(\"Predicted Normalised response\")\n",
    "    else:\n",
    "        plt.ylabel(\"Normalised response\")\n",
    "    plt.show()\n",
    "\n",
    "\n",
    "with open(_FOLDER + 'dataSplit.json') as json_file:\n",
    "    trainTestSplit = json.load(json_file)"
   ]
  },
  {
   "cell_type": "code",
   "execution_count": 3,
   "metadata": {},
   "outputs": [
    {
     "data": {
      "text/html": [
       "<div>\n",
       "<style scoped>\n",
       "    .dataframe tbody tr th:only-of-type {\n",
       "        vertical-align: middle;\n",
       "    }\n",
       "\n",
       "    .dataframe tbody tr th {\n",
       "        vertical-align: top;\n",
       "    }\n",
       "\n",
       "    .dataframe thead th {\n",
       "        text-align: right;\n",
       "    }\n",
       "</style>\n",
       "<table border=\"1\" class=\"dataframe\">\n",
       "  <thead>\n",
       "    <tr style=\"text-align: right;\">\n",
       "      <th></th>\n",
       "      <th>CELL_LINE_NAME</th>\n",
       "      <th>COSMIC_ID</th>\n",
       "      <th>DRUG_ID</th>\n",
       "      <th>DRUGID_COSMICID</th>\n",
       "      <th>MAX_CONC</th>\n",
       "      <th>fd_num_0</th>\n",
       "      <th>fd_num_1</th>\n",
       "      <th>fd_num_2</th>\n",
       "      <th>fd_num_3</th>\n",
       "      <th>fd_num_4</th>\n",
       "      <th>...</th>\n",
       "      <th>chr9:104248247-104249501(C9orf125)_HypMET</th>\n",
       "      <th>chr9:115875199-115875738(C9orf109, C9orf110)_HypMET</th>\n",
       "      <th>chr9:123555399-123555899(FBXW2)_HypMET</th>\n",
       "      <th>chr9:140310894-140312457(EXD3)_HypMET</th>\n",
       "      <th>chr9:21974578-21975306(CDKN2A)_HypMET</th>\n",
       "      <th>chr9:35756948-35757339(MSMP)_HypMET</th>\n",
       "      <th>chr9:35791584-35791924(NPR2)_HypMET</th>\n",
       "      <th>chr9:4984543-4985630(JAK2)_HypMET</th>\n",
       "      <th>chr9:86571047-86572027(C9orf64)_HypMET</th>\n",
       "      <th>chr9:98783216-98784364(NCRNA00092)_HypMET</th>\n",
       "    </tr>\n",
       "  </thead>\n",
       "  <tbody>\n",
       "    <tr>\n",
       "      <th>0</th>\n",
       "      <td>HDQ-P1</td>\n",
       "      <td>1290922</td>\n",
       "      <td>344</td>\n",
       "      <td>344_1290922</td>\n",
       "      <td>20.00</td>\n",
       "      <td>0</td>\n",
       "      <td>0.111111</td>\n",
       "      <td>0.222222</td>\n",
       "      <td>0.333333</td>\n",
       "      <td>0.444444</td>\n",
       "      <td>...</td>\n",
       "      <td>0</td>\n",
       "      <td>0</td>\n",
       "      <td>0</td>\n",
       "      <td>0</td>\n",
       "      <td>0</td>\n",
       "      <td>0</td>\n",
       "      <td>0</td>\n",
       "      <td>0</td>\n",
       "      <td>0</td>\n",
       "      <td>0</td>\n",
       "    </tr>\n",
       "    <tr>\n",
       "      <th>1</th>\n",
       "      <td>HDQ-P1</td>\n",
       "      <td>1290922</td>\n",
       "      <td>136</td>\n",
       "      <td>136_1290922</td>\n",
       "      <td>16.00</td>\n",
       "      <td>0</td>\n",
       "      <td>0.111111</td>\n",
       "      <td>0.222222</td>\n",
       "      <td>0.333333</td>\n",
       "      <td>0.444444</td>\n",
       "      <td>...</td>\n",
       "      <td>0</td>\n",
       "      <td>0</td>\n",
       "      <td>0</td>\n",
       "      <td>0</td>\n",
       "      <td>0</td>\n",
       "      <td>0</td>\n",
       "      <td>0</td>\n",
       "      <td>0</td>\n",
       "      <td>0</td>\n",
       "      <td>0</td>\n",
       "    </tr>\n",
       "    <tr>\n",
       "      <th>2</th>\n",
       "      <td>HDQ-P1</td>\n",
       "      <td>1290922</td>\n",
       "      <td>170</td>\n",
       "      <td>170_1290922</td>\n",
       "      <td>16.00</td>\n",
       "      <td>0</td>\n",
       "      <td>0.111111</td>\n",
       "      <td>0.222222</td>\n",
       "      <td>0.333333</td>\n",
       "      <td>0.444444</td>\n",
       "      <td>...</td>\n",
       "      <td>0</td>\n",
       "      <td>0</td>\n",
       "      <td>0</td>\n",
       "      <td>0</td>\n",
       "      <td>0</td>\n",
       "      <td>0</td>\n",
       "      <td>0</td>\n",
       "      <td>0</td>\n",
       "      <td>0</td>\n",
       "      <td>0</td>\n",
       "    </tr>\n",
       "    <tr>\n",
       "      <th>3</th>\n",
       "      <td>NMC-G1</td>\n",
       "      <td>908449</td>\n",
       "      <td>170</td>\n",
       "      <td>170_908449</td>\n",
       "      <td>16.00</td>\n",
       "      <td>0</td>\n",
       "      <td>0.111111</td>\n",
       "      <td>0.222222</td>\n",
       "      <td>0.333333</td>\n",
       "      <td>0.444444</td>\n",
       "      <td>...</td>\n",
       "      <td>0</td>\n",
       "      <td>0</td>\n",
       "      <td>0</td>\n",
       "      <td>0</td>\n",
       "      <td>0</td>\n",
       "      <td>0</td>\n",
       "      <td>0</td>\n",
       "      <td>0</td>\n",
       "      <td>1</td>\n",
       "      <td>0</td>\n",
       "    </tr>\n",
       "    <tr>\n",
       "      <th>4</th>\n",
       "      <td>NMC-G1</td>\n",
       "      <td>908449</td>\n",
       "      <td>331</td>\n",
       "      <td>331_908449</td>\n",
       "      <td>10.24</td>\n",
       "      <td>0</td>\n",
       "      <td>0.111111</td>\n",
       "      <td>0.222222</td>\n",
       "      <td>0.333333</td>\n",
       "      <td>0.444444</td>\n",
       "      <td>...</td>\n",
       "      <td>0</td>\n",
       "      <td>0</td>\n",
       "      <td>0</td>\n",
       "      <td>0</td>\n",
       "      <td>0</td>\n",
       "      <td>0</td>\n",
       "      <td>0</td>\n",
       "      <td>0</td>\n",
       "      <td>1</td>\n",
       "      <td>0</td>\n",
       "    </tr>\n",
       "    <tr>\n",
       "      <th>...</th>\n",
       "      <td>...</td>\n",
       "      <td>...</td>\n",
       "      <td>...</td>\n",
       "      <td>...</td>\n",
       "      <td>...</td>\n",
       "      <td>...</td>\n",
       "      <td>...</td>\n",
       "      <td>...</td>\n",
       "      <td>...</td>\n",
       "      <td>...</td>\n",
       "      <td>...</td>\n",
       "      <td>...</td>\n",
       "      <td>...</td>\n",
       "      <td>...</td>\n",
       "      <td>...</td>\n",
       "      <td>...</td>\n",
       "      <td>...</td>\n",
       "      <td>...</td>\n",
       "      <td>...</td>\n",
       "      <td>...</td>\n",
       "      <td>...</td>\n",
       "    </tr>\n",
       "    <tr>\n",
       "      <th>5579</th>\n",
       "      <td>TC-YIK</td>\n",
       "      <td>946357</td>\n",
       "      <td>1011</td>\n",
       "      <td>1011_946357</td>\n",
       "      <td>2.00</td>\n",
       "      <td>0</td>\n",
       "      <td>0.111111</td>\n",
       "      <td>0.222222</td>\n",
       "      <td>0.333333</td>\n",
       "      <td>0.444444</td>\n",
       "      <td>...</td>\n",
       "      <td>0</td>\n",
       "      <td>0</td>\n",
       "      <td>0</td>\n",
       "      <td>0</td>\n",
       "      <td>0</td>\n",
       "      <td>0</td>\n",
       "      <td>0</td>\n",
       "      <td>0</td>\n",
       "      <td>0</td>\n",
       "      <td>0</td>\n",
       "    </tr>\n",
       "    <tr>\n",
       "      <th>5580</th>\n",
       "      <td>MKN45</td>\n",
       "      <td>925340</td>\n",
       "      <td>1149</td>\n",
       "      <td>1149_925340</td>\n",
       "      <td>5.00</td>\n",
       "      <td>0</td>\n",
       "      <td>0.111111</td>\n",
       "      <td>0.222222</td>\n",
       "      <td>0.333333</td>\n",
       "      <td>0.444444</td>\n",
       "      <td>...</td>\n",
       "      <td>0</td>\n",
       "      <td>0</td>\n",
       "      <td>0</td>\n",
       "      <td>0</td>\n",
       "      <td>0</td>\n",
       "      <td>0</td>\n",
       "      <td>0</td>\n",
       "      <td>0</td>\n",
       "      <td>0</td>\n",
       "      <td>0</td>\n",
       "    </tr>\n",
       "    <tr>\n",
       "      <th>5581</th>\n",
       "      <td>EC-GI-10</td>\n",
       "      <td>753555</td>\n",
       "      <td>1004</td>\n",
       "      <td>1004_753555</td>\n",
       "      <td>0.10</td>\n",
       "      <td>0</td>\n",
       "      <td>0.111111</td>\n",
       "      <td>0.222222</td>\n",
       "      <td>0.333333</td>\n",
       "      <td>0.444444</td>\n",
       "      <td>...</td>\n",
       "      <td>0</td>\n",
       "      <td>0</td>\n",
       "      <td>0</td>\n",
       "      <td>0</td>\n",
       "      <td>0</td>\n",
       "      <td>0</td>\n",
       "      <td>0</td>\n",
       "      <td>0</td>\n",
       "      <td>0</td>\n",
       "      <td>0</td>\n",
       "    </tr>\n",
       "    <tr>\n",
       "      <th>5582</th>\n",
       "      <td>IGROV-1</td>\n",
       "      <td>905968</td>\n",
       "      <td>1031</td>\n",
       "      <td>1031_905968</td>\n",
       "      <td>0.20</td>\n",
       "      <td>0</td>\n",
       "      <td>0.111111</td>\n",
       "      <td>0.222222</td>\n",
       "      <td>0.333333</td>\n",
       "      <td>0.444444</td>\n",
       "      <td>...</td>\n",
       "      <td>0</td>\n",
       "      <td>0</td>\n",
       "      <td>0</td>\n",
       "      <td>0</td>\n",
       "      <td>0</td>\n",
       "      <td>0</td>\n",
       "      <td>0</td>\n",
       "      <td>0</td>\n",
       "      <td>0</td>\n",
       "      <td>0</td>\n",
       "    </tr>\n",
       "    <tr>\n",
       "      <th>5583</th>\n",
       "      <td>SKG-IIIa</td>\n",
       "      <td>930298</td>\n",
       "      <td>1012</td>\n",
       "      <td>1012_930298</td>\n",
       "      <td>10.00</td>\n",
       "      <td>0</td>\n",
       "      <td>0.111111</td>\n",
       "      <td>0.222222</td>\n",
       "      <td>0.333333</td>\n",
       "      <td>0.444444</td>\n",
       "      <td>...</td>\n",
       "      <td>0</td>\n",
       "      <td>0</td>\n",
       "      <td>0</td>\n",
       "      <td>0</td>\n",
       "      <td>0</td>\n",
       "      <td>0</td>\n",
       "      <td>0</td>\n",
       "      <td>0</td>\n",
       "      <td>0</td>\n",
       "      <td>0</td>\n",
       "    </tr>\n",
       "  </tbody>\n",
       "</table>\n",
       "<p>5584 rows × 1102 columns</p>\n",
       "</div>"
      ],
      "text/plain": [
       "     CELL_LINE_NAME  COSMIC_ID  DRUG_ID DRUGID_COSMICID  MAX_CONC  fd_num_0  \\\n",
       "0            HDQ-P1    1290922      344     344_1290922     20.00         0   \n",
       "1            HDQ-P1    1290922      136     136_1290922     16.00         0   \n",
       "2            HDQ-P1    1290922      170     170_1290922     16.00         0   \n",
       "3            NMC-G1     908449      170      170_908449     16.00         0   \n",
       "4            NMC-G1     908449      331      331_908449     10.24         0   \n",
       "...             ...        ...      ...             ...       ...       ...   \n",
       "5579         TC-YIK     946357     1011     1011_946357      2.00         0   \n",
       "5580          MKN45     925340     1149     1149_925340      5.00         0   \n",
       "5581       EC-GI-10     753555     1004     1004_753555      0.10         0   \n",
       "5582        IGROV-1     905968     1031     1031_905968      0.20         0   \n",
       "5583       SKG-IIIa     930298     1012     1012_930298     10.00         0   \n",
       "\n",
       "      fd_num_1  fd_num_2  fd_num_3  fd_num_4  ...  \\\n",
       "0     0.111111  0.222222  0.333333  0.444444  ...   \n",
       "1     0.111111  0.222222  0.333333  0.444444  ...   \n",
       "2     0.111111  0.222222  0.333333  0.444444  ...   \n",
       "3     0.111111  0.222222  0.333333  0.444444  ...   \n",
       "4     0.111111  0.222222  0.333333  0.444444  ...   \n",
       "...        ...       ...       ...       ...  ...   \n",
       "5579  0.111111  0.222222  0.333333  0.444444  ...   \n",
       "5580  0.111111  0.222222  0.333333  0.444444  ...   \n",
       "5581  0.111111  0.222222  0.333333  0.444444  ...   \n",
       "5582  0.111111  0.222222  0.333333  0.444444  ...   \n",
       "5583  0.111111  0.222222  0.333333  0.444444  ...   \n",
       "\n",
       "      chr9:104248247-104249501(C9orf125)_HypMET  \\\n",
       "0                                             0   \n",
       "1                                             0   \n",
       "2                                             0   \n",
       "3                                             0   \n",
       "4                                             0   \n",
       "...                                         ...   \n",
       "5579                                          0   \n",
       "5580                                          0   \n",
       "5581                                          0   \n",
       "5582                                          0   \n",
       "5583                                          0   \n",
       "\n",
       "      chr9:115875199-115875738(C9orf109, C9orf110)_HypMET  \\\n",
       "0                                                     0     \n",
       "1                                                     0     \n",
       "2                                                     0     \n",
       "3                                                     0     \n",
       "4                                                     0     \n",
       "...                                                 ...     \n",
       "5579                                                  0     \n",
       "5580                                                  0     \n",
       "5581                                                  0     \n",
       "5582                                                  0     \n",
       "5583                                                  0     \n",
       "\n",
       "      chr9:123555399-123555899(FBXW2)_HypMET  \\\n",
       "0                                          0   \n",
       "1                                          0   \n",
       "2                                          0   \n",
       "3                                          0   \n",
       "4                                          0   \n",
       "...                                      ...   \n",
       "5579                                       0   \n",
       "5580                                       0   \n",
       "5581                                       0   \n",
       "5582                                       0   \n",
       "5583                                       0   \n",
       "\n",
       "      chr9:140310894-140312457(EXD3)_HypMET  \\\n",
       "0                                         0   \n",
       "1                                         0   \n",
       "2                                         0   \n",
       "3                                         0   \n",
       "4                                         0   \n",
       "...                                     ...   \n",
       "5579                                      0   \n",
       "5580                                      0   \n",
       "5581                                      0   \n",
       "5582                                      0   \n",
       "5583                                      0   \n",
       "\n",
       "      chr9:21974578-21975306(CDKN2A)_HypMET  \\\n",
       "0                                         0   \n",
       "1                                         0   \n",
       "2                                         0   \n",
       "3                                         0   \n",
       "4                                         0   \n",
       "...                                     ...   \n",
       "5579                                      0   \n",
       "5580                                      0   \n",
       "5581                                      0   \n",
       "5582                                      0   \n",
       "5583                                      0   \n",
       "\n",
       "      chr9:35756948-35757339(MSMP)_HypMET  \\\n",
       "0                                       0   \n",
       "1                                       0   \n",
       "2                                       0   \n",
       "3                                       0   \n",
       "4                                       0   \n",
       "...                                   ...   \n",
       "5579                                    0   \n",
       "5580                                    0   \n",
       "5581                                    0   \n",
       "5582                                    0   \n",
       "5583                                    0   \n",
       "\n",
       "      chr9:35791584-35791924(NPR2)_HypMET  chr9:4984543-4985630(JAK2)_HypMET  \\\n",
       "0                                       0                                  0   \n",
       "1                                       0                                  0   \n",
       "2                                       0                                  0   \n",
       "3                                       0                                  0   \n",
       "4                                       0                                  0   \n",
       "...                                   ...                                ...   \n",
       "5579                                    0                                  0   \n",
       "5580                                    0                                  0   \n",
       "5581                                    0                                  0   \n",
       "5582                                    0                                  0   \n",
       "5583                                    0                                  0   \n",
       "\n",
       "      chr9:86571047-86572027(C9orf64)_HypMET  \\\n",
       "0                                          0   \n",
       "1                                          0   \n",
       "2                                          0   \n",
       "3                                          1   \n",
       "4                                          1   \n",
       "...                                      ...   \n",
       "5579                                       0   \n",
       "5580                                       0   \n",
       "5581                                       0   \n",
       "5582                                       0   \n",
       "5583                                       0   \n",
       "\n",
       "      chr9:98783216-98784364(NCRNA00092)_HypMET  \n",
       "0                                             0  \n",
       "1                                             0  \n",
       "2                                             0  \n",
       "3                                             0  \n",
       "4                                             0  \n",
       "...                                         ...  \n",
       "5579                                          0  \n",
       "5580                                          0  \n",
       "5581                                          0  \n",
       "5582                                          0  \n",
       "5583                                          0  \n",
       "\n",
       "[5584 rows x 1102 columns]"
      ]
     },
     "execution_count": 3,
     "metadata": {},
     "output_type": "execute_result"
    }
   ],
   "source": [
    "drugProfiles = pd.read_csv(_FOLDER+'filteredResponsesWithCCLAndParams.csv')\n",
    "drugProfiles"
   ]
  },
  {
   "cell_type": "code",
   "execution_count": 4,
   "metadata": {},
   "outputs": [
    {
     "data": {
      "text/plain": [
       "88"
      ]
     },
     "execution_count": 4,
     "metadata": {},
     "output_type": "execute_result"
    }
   ],
   "source": [
    "len(trainTestSplit.keys())"
   ]
  },
  {
   "cell_type": "code",
   "execution_count": 5,
   "metadata": {},
   "outputs": [
    {
     "name": "stdout",
     "output_type": "stream",
     "text": [
      "{'alpha': 123.07692307692308}\n"
     ]
    },
    {
     "name": "stderr",
     "output_type": "stream",
     "text": [
      "C:\\Users\\44744\\anaconda3\\lib\\site-packages\\sklearn\\linear_model\\_coordinate_descent.py:529: ConvergenceWarning: Objective did not converge. You might want to increase the number of iterations. Duality gap: 0.0, tolerance: 0.0\n",
      "  model = cd_fast.enet_coordinate_descent(\n",
      "C:\\Users\\44744\\anaconda3\\lib\\site-packages\\sklearn\\linear_model\\_coordinate_descent.py:529: ConvergenceWarning: Objective did not converge. You might want to increase the number of iterations. Duality gap: 0.0, tolerance: 0.0\n",
      "  model = cd_fast.enet_coordinate_descent(\n"
     ]
    },
    {
     "name": "stdout",
     "output_type": "stream",
     "text": [
      "{'alpha': 0.5555555555555556}\n",
      "{'alpha': 123.07692307692308}\n"
     ]
    },
    {
     "name": "stderr",
     "output_type": "stream",
     "text": [
      "C:\\Users\\44744\\anaconda3\\lib\\site-packages\\sklearn\\linear_model\\_coordinate_descent.py:529: ConvergenceWarning: Objective did not converge. You might want to increase the number of iterations. Duality gap: 0.0, tolerance: 0.0\n",
      "  model = cd_fast.enet_coordinate_descent(\n",
      "C:\\Users\\44744\\anaconda3\\lib\\site-packages\\sklearn\\linear_model\\_coordinate_descent.py:529: ConvergenceWarning: Objective did not converge. You might want to increase the number of iterations. Duality gap: 0.0, tolerance: 0.0\n",
      "  model = cd_fast.enet_coordinate_descent(\n"
     ]
    },
    {
     "name": "stdout",
     "output_type": "stream",
     "text": [
      "{'alpha': 0.5555555555555556}\n",
      "{'alpha': 600.0}\n"
     ]
    },
    {
     "name": "stderr",
     "output_type": "stream",
     "text": [
      "C:\\Users\\44744\\anaconda3\\lib\\site-packages\\sklearn\\linear_model\\_coordinate_descent.py:529: ConvergenceWarning: Objective did not converge. You might want to increase the number of iterations. Duality gap: 0.0, tolerance: 0.0\n",
      "  model = cd_fast.enet_coordinate_descent(\n",
      "C:\\Users\\44744\\anaconda3\\lib\\site-packages\\sklearn\\linear_model\\_coordinate_descent.py:529: ConvergenceWarning: Objective did not converge. You might want to increase the number of iterations. Duality gap: 0.0, tolerance: 0.0\n",
      "  model = cd_fast.enet_coordinate_descent(\n"
     ]
    },
    {
     "name": "stdout",
     "output_type": "stream",
     "text": [
      "{'alpha': 0.5555555555555556}\n",
      "{'alpha': 76.92307692307692}\n"
     ]
    },
    {
     "name": "stderr",
     "output_type": "stream",
     "text": [
      "C:\\Users\\44744\\anaconda3\\lib\\site-packages\\sklearn\\linear_model\\_coordinate_descent.py:529: ConvergenceWarning: Objective did not converge. You might want to increase the number of iterations. Duality gap: 0.0, tolerance: 0.0\n",
      "  model = cd_fast.enet_coordinate_descent(\n",
      "C:\\Users\\44744\\anaconda3\\lib\\site-packages\\sklearn\\linear_model\\_coordinate_descent.py:529: ConvergenceWarning: Objective did not converge. You might want to increase the number of iterations. Duality gap: 0.0, tolerance: 0.0\n",
      "  model = cd_fast.enet_coordinate_descent(\n"
     ]
    },
    {
     "name": "stdout",
     "output_type": "stream",
     "text": [
      "{'alpha': 0.5555555555555556}\n",
      "{'alpha': 61.53846153846154}\n"
     ]
    },
    {
     "name": "stderr",
     "output_type": "stream",
     "text": [
      "C:\\Users\\44744\\anaconda3\\lib\\site-packages\\sklearn\\linear_model\\_coordinate_descent.py:529: ConvergenceWarning: Objective did not converge. You might want to increase the number of iterations. Duality gap: 0.0, tolerance: 0.0\n",
      "  model = cd_fast.enet_coordinate_descent(\n",
      "C:\\Users\\44744\\anaconda3\\lib\\site-packages\\sklearn\\linear_model\\_coordinate_descent.py:529: ConvergenceWarning: Objective did not converge. You might want to increase the number of iterations. Duality gap: 0.0, tolerance: 0.0\n",
      "  model = cd_fast.enet_coordinate_descent(\n"
     ]
    },
    {
     "name": "stdout",
     "output_type": "stream",
     "text": [
      "{'alpha': 0.5555555555555556}\n",
      "{'alpha': 169.23076923076923}\n"
     ]
    },
    {
     "name": "stderr",
     "output_type": "stream",
     "text": [
      "C:\\Users\\44744\\anaconda3\\lib\\site-packages\\sklearn\\linear_model\\_coordinate_descent.py:529: ConvergenceWarning: Objective did not converge. You might want to increase the number of iterations. Duality gap: 0.0, tolerance: 0.0\n",
      "  model = cd_fast.enet_coordinate_descent(\n",
      "C:\\Users\\44744\\anaconda3\\lib\\site-packages\\sklearn\\linear_model\\_coordinate_descent.py:529: ConvergenceWarning: Objective did not converge. You might want to increase the number of iterations. Duality gap: 0.0, tolerance: 0.0\n",
      "  model = cd_fast.enet_coordinate_descent(\n"
     ]
    },
    {
     "name": "stdout",
     "output_type": "stream",
     "text": [
      "{'alpha': 0.5555555555555556}\n",
      "{'alpha': 323.0769230769231}\n"
     ]
    },
    {
     "name": "stderr",
     "output_type": "stream",
     "text": [
      "C:\\Users\\44744\\anaconda3\\lib\\site-packages\\sklearn\\linear_model\\_coordinate_descent.py:529: ConvergenceWarning: Objective did not converge. You might want to increase the number of iterations. Duality gap: 0.0, tolerance: 0.0\n",
      "  model = cd_fast.enet_coordinate_descent(\n",
      "C:\\Users\\44744\\anaconda3\\lib\\site-packages\\sklearn\\linear_model\\_coordinate_descent.py:529: ConvergenceWarning: Objective did not converge. You might want to increase the number of iterations. Duality gap: 0.0, tolerance: 0.0\n",
      "  model = cd_fast.enet_coordinate_descent(\n"
     ]
    },
    {
     "name": "stdout",
     "output_type": "stream",
     "text": [
      "{'alpha': 0.5555555555555556}\n",
      "{'alpha': 107.6923076923077}\n"
     ]
    },
    {
     "name": "stderr",
     "output_type": "stream",
     "text": [
      "C:\\Users\\44744\\anaconda3\\lib\\site-packages\\sklearn\\linear_model\\_coordinate_descent.py:529: ConvergenceWarning: Objective did not converge. You might want to increase the number of iterations. Duality gap: 0.0, tolerance: 0.0\n",
      "  model = cd_fast.enet_coordinate_descent(\n",
      "C:\\Users\\44744\\anaconda3\\lib\\site-packages\\sklearn\\linear_model\\_coordinate_descent.py:529: ConvergenceWarning: Objective did not converge. You might want to increase the number of iterations. Duality gap: 0.0, tolerance: 0.0\n",
      "  model = cd_fast.enet_coordinate_descent(\n"
     ]
    },
    {
     "name": "stdout",
     "output_type": "stream",
     "text": [
      "{'alpha': 0.5555555555555556}\n",
      "{'alpha': 600.0}\n"
     ]
    },
    {
     "name": "stderr",
     "output_type": "stream",
     "text": [
      "C:\\Users\\44744\\anaconda3\\lib\\site-packages\\sklearn\\linear_model\\_coordinate_descent.py:529: ConvergenceWarning: Objective did not converge. You might want to increase the number of iterations. Duality gap: 0.0, tolerance: 0.0\n",
      "  model = cd_fast.enet_coordinate_descent(\n",
      "C:\\Users\\44744\\anaconda3\\lib\\site-packages\\sklearn\\linear_model\\_coordinate_descent.py:529: ConvergenceWarning: Objective did not converge. You might want to increase the number of iterations. Duality gap: 0.0, tolerance: 0.0\n",
      "  model = cd_fast.enet_coordinate_descent(\n"
     ]
    },
    {
     "name": "stdout",
     "output_type": "stream",
     "text": [
      "{'alpha': 0.5555555555555556}\n",
      "{'alpha': 400.0}\n"
     ]
    },
    {
     "name": "stderr",
     "output_type": "stream",
     "text": [
      "C:\\Users\\44744\\anaconda3\\lib\\site-packages\\sklearn\\linear_model\\_coordinate_descent.py:529: ConvergenceWarning: Objective did not converge. You might want to increase the number of iterations. Duality gap: 0.0, tolerance: 0.0\n",
      "  model = cd_fast.enet_coordinate_descent(\n",
      "C:\\Users\\44744\\anaconda3\\lib\\site-packages\\sklearn\\linear_model\\_coordinate_descent.py:529: ConvergenceWarning: Objective did not converge. You might want to increase the number of iterations. Duality gap: 0.0, tolerance: 0.0\n",
      "  model = cd_fast.enet_coordinate_descent(\n"
     ]
    },
    {
     "name": "stdout",
     "output_type": "stream",
     "text": [
      "{'alpha': 0.5555555555555556}\n",
      "{'alpha': 15.384615384615385}\n"
     ]
    },
    {
     "name": "stderr",
     "output_type": "stream",
     "text": [
      "C:\\Users\\44744\\anaconda3\\lib\\site-packages\\sklearn\\linear_model\\_coordinate_descent.py:529: ConvergenceWarning: Objective did not converge. You might want to increase the number of iterations. Duality gap: 0.0, tolerance: 0.0\n",
      "  model = cd_fast.enet_coordinate_descent(\n",
      "C:\\Users\\44744\\anaconda3\\lib\\site-packages\\sklearn\\linear_model\\_coordinate_descent.py:529: ConvergenceWarning: Objective did not converge. You might want to increase the number of iterations. Duality gap: 0.0, tolerance: 0.0\n",
      "  model = cd_fast.enet_coordinate_descent(\n"
     ]
    },
    {
     "name": "stdout",
     "output_type": "stream",
     "text": [
      "{'alpha': 0.5555555555555556}\n",
      "{'alpha': 323.0769230769231}\n"
     ]
    },
    {
     "name": "stderr",
     "output_type": "stream",
     "text": [
      "C:\\Users\\44744\\anaconda3\\lib\\site-packages\\sklearn\\linear_model\\_coordinate_descent.py:529: ConvergenceWarning: Objective did not converge. You might want to increase the number of iterations. Duality gap: 0.0, tolerance: 0.0\n",
      "  model = cd_fast.enet_coordinate_descent(\n",
      "C:\\Users\\44744\\anaconda3\\lib\\site-packages\\sklearn\\linear_model\\_coordinate_descent.py:529: ConvergenceWarning: Objective did not converge. You might want to increase the number of iterations. Duality gap: 0.0, tolerance: 0.0\n",
      "  model = cd_fast.enet_coordinate_descent(\n"
     ]
    },
    {
     "name": "stdout",
     "output_type": "stream",
     "text": [
      "{'alpha': 0.5555555555555556}\n",
      "{'alpha': 76.92307692307692}\n"
     ]
    },
    {
     "name": "stderr",
     "output_type": "stream",
     "text": [
      "C:\\Users\\44744\\anaconda3\\lib\\site-packages\\sklearn\\linear_model\\_coordinate_descent.py:529: ConvergenceWarning: Objective did not converge. You might want to increase the number of iterations. Duality gap: 0.0, tolerance: 0.0\n",
      "  model = cd_fast.enet_coordinate_descent(\n",
      "C:\\Users\\44744\\anaconda3\\lib\\site-packages\\sklearn\\linear_model\\_coordinate_descent.py:529: ConvergenceWarning: Objective did not converge. You might want to increase the number of iterations. Duality gap: 0.0, tolerance: 0.0\n",
      "  model = cd_fast.enet_coordinate_descent(\n"
     ]
    },
    {
     "name": "stdout",
     "output_type": "stream",
     "text": [
      "{'alpha': 0.5555555555555556}\n",
      "{'alpha': 600.0}\n"
     ]
    },
    {
     "name": "stderr",
     "output_type": "stream",
     "text": [
      "C:\\Users\\44744\\anaconda3\\lib\\site-packages\\sklearn\\linear_model\\_coordinate_descent.py:529: ConvergenceWarning: Objective did not converge. You might want to increase the number of iterations. Duality gap: 0.0, tolerance: 0.0\n",
      "  model = cd_fast.enet_coordinate_descent(\n",
      "C:\\Users\\44744\\anaconda3\\lib\\site-packages\\sklearn\\linear_model\\_coordinate_descent.py:529: ConvergenceWarning: Objective did not converge. You might want to increase the number of iterations. Duality gap: 0.0, tolerance: 0.0\n",
      "  model = cd_fast.enet_coordinate_descent(\n"
     ]
    },
    {
     "name": "stdout",
     "output_type": "stream",
     "text": [
      "{'alpha': 0.5555555555555556}\n",
      "{'alpha': 30.76923076923077}\n"
     ]
    },
    {
     "name": "stderr",
     "output_type": "stream",
     "text": [
      "C:\\Users\\44744\\anaconda3\\lib\\site-packages\\sklearn\\linear_model\\_coordinate_descent.py:529: ConvergenceWarning: Objective did not converge. You might want to increase the number of iterations. Duality gap: 0.0, tolerance: 0.0\n",
      "  model = cd_fast.enet_coordinate_descent(\n",
      "C:\\Users\\44744\\anaconda3\\lib\\site-packages\\sklearn\\linear_model\\_coordinate_descent.py:529: ConvergenceWarning: Objective did not converge. You might want to increase the number of iterations. Duality gap: 0.0, tolerance: 0.0\n",
      "  model = cd_fast.enet_coordinate_descent(\n"
     ]
    },
    {
     "name": "stdout",
     "output_type": "stream",
     "text": [
      "{'alpha': 0.5555555555555556}\n",
      "{'alpha': 600.0}\n"
     ]
    },
    {
     "name": "stderr",
     "output_type": "stream",
     "text": [
      "C:\\Users\\44744\\anaconda3\\lib\\site-packages\\sklearn\\linear_model\\_coordinate_descent.py:529: ConvergenceWarning: Objective did not converge. You might want to increase the number of iterations. Duality gap: 0.0, tolerance: 0.0\n",
      "  model = cd_fast.enet_coordinate_descent(\n",
      "C:\\Users\\44744\\anaconda3\\lib\\site-packages\\sklearn\\linear_model\\_coordinate_descent.py:529: ConvergenceWarning: Objective did not converge. You might want to increase the number of iterations. Duality gap: 0.0, tolerance: 0.0\n",
      "  model = cd_fast.enet_coordinate_descent(\n"
     ]
    },
    {
     "name": "stdout",
     "output_type": "stream",
     "text": [
      "{'alpha': 0.5555555555555556}\n",
      "{'alpha': 415.3846153846154}\n"
     ]
    },
    {
     "name": "stderr",
     "output_type": "stream",
     "text": [
      "C:\\Users\\44744\\anaconda3\\lib\\site-packages\\sklearn\\linear_model\\_coordinate_descent.py:529: ConvergenceWarning: Objective did not converge. You might want to increase the number of iterations. Duality gap: 0.0, tolerance: 0.0\n",
      "  model = cd_fast.enet_coordinate_descent(\n",
      "C:\\Users\\44744\\anaconda3\\lib\\site-packages\\sklearn\\linear_model\\_coordinate_descent.py:529: ConvergenceWarning: Objective did not converge. You might want to increase the number of iterations. Duality gap: 0.0, tolerance: 0.0\n",
      "  model = cd_fast.enet_coordinate_descent(\n"
     ]
    },
    {
     "name": "stdout",
     "output_type": "stream",
     "text": [
      "{'alpha': 0.5555555555555556}\n",
      "{'alpha': 30.76923076923077}\n"
     ]
    },
    {
     "name": "stderr",
     "output_type": "stream",
     "text": [
      "C:\\Users\\44744\\anaconda3\\lib\\site-packages\\sklearn\\linear_model\\_coordinate_descent.py:529: ConvergenceWarning: Objective did not converge. You might want to increase the number of iterations. Duality gap: 0.0, tolerance: 0.0\n",
      "  model = cd_fast.enet_coordinate_descent(\n",
      "C:\\Users\\44744\\anaconda3\\lib\\site-packages\\sklearn\\linear_model\\_coordinate_descent.py:529: ConvergenceWarning: Objective did not converge. You might want to increase the number of iterations. Duality gap: 0.0, tolerance: 0.0\n",
      "  model = cd_fast.enet_coordinate_descent(\n"
     ]
    },
    {
     "name": "stdout",
     "output_type": "stream",
     "text": [
      "{'alpha': 0.5555555555555556}\n",
      "{'alpha': 61.53846153846154}\n"
     ]
    },
    {
     "name": "stderr",
     "output_type": "stream",
     "text": [
      "C:\\Users\\44744\\anaconda3\\lib\\site-packages\\sklearn\\linear_model\\_coordinate_descent.py:529: ConvergenceWarning: Objective did not converge. You might want to increase the number of iterations. Duality gap: 0.0, tolerance: 0.0\n",
      "  model = cd_fast.enet_coordinate_descent(\n",
      "C:\\Users\\44744\\anaconda3\\lib\\site-packages\\sklearn\\linear_model\\_coordinate_descent.py:529: ConvergenceWarning: Objective did not converge. You might want to increase the number of iterations. Duality gap: 0.0, tolerance: 0.0\n",
      "  model = cd_fast.enet_coordinate_descent(\n"
     ]
    },
    {
     "name": "stdout",
     "output_type": "stream",
     "text": [
      "{'alpha': 0.5555555555555556}\n",
      "{'alpha': 261.53846153846155}\n"
     ]
    },
    {
     "name": "stderr",
     "output_type": "stream",
     "text": [
      "C:\\Users\\44744\\anaconda3\\lib\\site-packages\\sklearn\\linear_model\\_coordinate_descent.py:529: ConvergenceWarning: Objective did not converge. You might want to increase the number of iterations. Duality gap: 0.0, tolerance: 0.0\n",
      "  model = cd_fast.enet_coordinate_descent(\n",
      "C:\\Users\\44744\\anaconda3\\lib\\site-packages\\sklearn\\linear_model\\_coordinate_descent.py:529: ConvergenceWarning: Objective did not converge. You might want to increase the number of iterations. Duality gap: 0.0, tolerance: 0.0\n",
      "  model = cd_fast.enet_coordinate_descent(\n"
     ]
    },
    {
     "name": "stdout",
     "output_type": "stream",
     "text": [
      "{'alpha': 0.5555555555555556}\n",
      "{'alpha': 600.0}\n"
     ]
    },
    {
     "name": "stderr",
     "output_type": "stream",
     "text": [
      "C:\\Users\\44744\\anaconda3\\lib\\site-packages\\sklearn\\linear_model\\_coordinate_descent.py:529: ConvergenceWarning: Objective did not converge. You might want to increase the number of iterations. Duality gap: 0.0, tolerance: 0.0\n",
      "  model = cd_fast.enet_coordinate_descent(\n"
     ]
    },
    {
     "name": "stdout",
     "output_type": "stream",
     "text": [
      "{'alpha': 0.5555555555555556}\n"
     ]
    },
    {
     "name": "stderr",
     "output_type": "stream",
     "text": [
      "C:\\Users\\44744\\anaconda3\\lib\\site-packages\\sklearn\\linear_model\\_coordinate_descent.py:529: ConvergenceWarning: Objective did not converge. You might want to increase the number of iterations. Duality gap: 0.0, tolerance: 0.0\n",
      "  model = cd_fast.enet_coordinate_descent(\n"
     ]
    },
    {
     "name": "stdout",
     "output_type": "stream",
     "text": [
      "{'alpha': 200.0}\n"
     ]
    },
    {
     "name": "stderr",
     "output_type": "stream",
     "text": [
      "C:\\Users\\44744\\anaconda3\\lib\\site-packages\\sklearn\\linear_model\\_coordinate_descent.py:529: ConvergenceWarning: Objective did not converge. You might want to increase the number of iterations. Duality gap: 0.0, tolerance: 0.0\n",
      "  model = cd_fast.enet_coordinate_descent(\n",
      "C:\\Users\\44744\\anaconda3\\lib\\site-packages\\sklearn\\linear_model\\_coordinate_descent.py:529: ConvergenceWarning: Objective did not converge. You might want to increase the number of iterations. Duality gap: 0.0, tolerance: 0.0\n",
      "  model = cd_fast.enet_coordinate_descent(\n"
     ]
    },
    {
     "name": "stdout",
     "output_type": "stream",
     "text": [
      "{'alpha': 0.5555555555555556}\n",
      "{'alpha': 600.0}\n"
     ]
    },
    {
     "name": "stderr",
     "output_type": "stream",
     "text": [
      "C:\\Users\\44744\\anaconda3\\lib\\site-packages\\sklearn\\linear_model\\_coordinate_descent.py:529: ConvergenceWarning: Objective did not converge. You might want to increase the number of iterations. Duality gap: 0.0, tolerance: 0.0\n",
      "  model = cd_fast.enet_coordinate_descent(\n",
      "C:\\Users\\44744\\anaconda3\\lib\\site-packages\\sklearn\\linear_model\\_coordinate_descent.py:529: ConvergenceWarning: Objective did not converge. You might want to increase the number of iterations. Duality gap: 0.0, tolerance: 0.0\n",
      "  model = cd_fast.enet_coordinate_descent(\n"
     ]
    },
    {
     "name": "stdout",
     "output_type": "stream",
     "text": [
      "{'alpha': 0.5555555555555556}\n",
      "{'alpha': 30.76923076923077}\n"
     ]
    },
    {
     "name": "stderr",
     "output_type": "stream",
     "text": [
      "C:\\Users\\44744\\anaconda3\\lib\\site-packages\\sklearn\\linear_model\\_coordinate_descent.py:529: ConvergenceWarning: Objective did not converge. You might want to increase the number of iterations. Duality gap: 0.0, tolerance: 0.0\n",
      "  model = cd_fast.enet_coordinate_descent(\n",
      "C:\\Users\\44744\\anaconda3\\lib\\site-packages\\sklearn\\linear_model\\_coordinate_descent.py:529: ConvergenceWarning: Objective did not converge. You might want to increase the number of iterations. Duality gap: 0.0, tolerance: 0.0\n",
      "  model = cd_fast.enet_coordinate_descent(\n"
     ]
    },
    {
     "name": "stdout",
     "output_type": "stream",
     "text": [
      "{'alpha': 0.5555555555555556}\n",
      "{'alpha': 61.53846153846154}\n"
     ]
    },
    {
     "name": "stderr",
     "output_type": "stream",
     "text": [
      "C:\\Users\\44744\\anaconda3\\lib\\site-packages\\sklearn\\linear_model\\_coordinate_descent.py:529: ConvergenceWarning: Objective did not converge. You might want to increase the number of iterations. Duality gap: 0.0, tolerance: 0.0\n",
      "  model = cd_fast.enet_coordinate_descent(\n",
      "C:\\Users\\44744\\anaconda3\\lib\\site-packages\\sklearn\\linear_model\\_coordinate_descent.py:529: ConvergenceWarning: Objective did not converge. You might want to increase the number of iterations. Duality gap: 0.0, tolerance: 0.0\n",
      "  model = cd_fast.enet_coordinate_descent(\n"
     ]
    },
    {
     "name": "stdout",
     "output_type": "stream",
     "text": [
      "{'alpha': 0.5555555555555556}\n",
      "{'alpha': 15.384615384615385}\n"
     ]
    },
    {
     "name": "stderr",
     "output_type": "stream",
     "text": [
      "C:\\Users\\44744\\anaconda3\\lib\\site-packages\\sklearn\\linear_model\\_coordinate_descent.py:529: ConvergenceWarning: Objective did not converge. You might want to increase the number of iterations. Duality gap: 0.0, tolerance: 0.0\n",
      "  model = cd_fast.enet_coordinate_descent(\n",
      "C:\\Users\\44744\\anaconda3\\lib\\site-packages\\sklearn\\linear_model\\_coordinate_descent.py:529: ConvergenceWarning: Objective did not converge. You might want to increase the number of iterations. Duality gap: 0.0, tolerance: 0.0\n",
      "  model = cd_fast.enet_coordinate_descent(\n"
     ]
    },
    {
     "name": "stdout",
     "output_type": "stream",
     "text": [
      "{'alpha': 0.5555555555555556}\n",
      "{'alpha': 600.0}\n"
     ]
    },
    {
     "name": "stderr",
     "output_type": "stream",
     "text": [
      "C:\\Users\\44744\\anaconda3\\lib\\site-packages\\sklearn\\linear_model\\_coordinate_descent.py:529: ConvergenceWarning: Objective did not converge. You might want to increase the number of iterations. Duality gap: 0.0, tolerance: 0.0\n",
      "  model = cd_fast.enet_coordinate_descent(\n",
      "C:\\Users\\44744\\anaconda3\\lib\\site-packages\\sklearn\\linear_model\\_coordinate_descent.py:529: ConvergenceWarning: Objective did not converge. You might want to increase the number of iterations. Duality gap: 0.0, tolerance: 0.0\n",
      "  model = cd_fast.enet_coordinate_descent(\n"
     ]
    },
    {
     "name": "stdout",
     "output_type": "stream",
     "text": [
      "{'alpha': 0.5555555555555556}\n",
      "{'alpha': 92.3076923076923}\n"
     ]
    },
    {
     "name": "stderr",
     "output_type": "stream",
     "text": [
      "C:\\Users\\44744\\anaconda3\\lib\\site-packages\\sklearn\\linear_model\\_coordinate_descent.py:529: ConvergenceWarning: Objective did not converge. You might want to increase the number of iterations. Duality gap: 0.0, tolerance: 0.0\n",
      "  model = cd_fast.enet_coordinate_descent(\n",
      "C:\\Users\\44744\\anaconda3\\lib\\site-packages\\sklearn\\linear_model\\_coordinate_descent.py:529: ConvergenceWarning: Objective did not converge. You might want to increase the number of iterations. Duality gap: 0.0, tolerance: 0.0\n",
      "  model = cd_fast.enet_coordinate_descent(\n"
     ]
    },
    {
     "name": "stdout",
     "output_type": "stream",
     "text": [
      "{'alpha': 0.5555555555555556}\n",
      "{'alpha': 76.92307692307692}\n"
     ]
    },
    {
     "name": "stderr",
     "output_type": "stream",
     "text": [
      "C:\\Users\\44744\\anaconda3\\lib\\site-packages\\sklearn\\linear_model\\_coordinate_descent.py:529: ConvergenceWarning: Objective did not converge. You might want to increase the number of iterations. Duality gap: 0.0, tolerance: 0.0\n",
      "  model = cd_fast.enet_coordinate_descent(\n",
      "C:\\Users\\44744\\anaconda3\\lib\\site-packages\\sklearn\\linear_model\\_coordinate_descent.py:529: ConvergenceWarning: Objective did not converge. You might want to increase the number of iterations. Duality gap: 0.0, tolerance: 0.0\n",
      "  model = cd_fast.enet_coordinate_descent(\n"
     ]
    },
    {
     "name": "stdout",
     "output_type": "stream",
     "text": [
      "{'alpha': 0.5555555555555556}\n",
      "{'alpha': 46.15384615384615}\n"
     ]
    },
    {
     "name": "stderr",
     "output_type": "stream",
     "text": [
      "C:\\Users\\44744\\anaconda3\\lib\\site-packages\\sklearn\\linear_model\\_coordinate_descent.py:529: ConvergenceWarning: Objective did not converge. You might want to increase the number of iterations. Duality gap: 0.0, tolerance: 0.0\n",
      "  model = cd_fast.enet_coordinate_descent(\n",
      "C:\\Users\\44744\\anaconda3\\lib\\site-packages\\sklearn\\linear_model\\_coordinate_descent.py:529: ConvergenceWarning: Objective did not converge. You might want to increase the number of iterations. Duality gap: 0.0, tolerance: 0.0\n",
      "  model = cd_fast.enet_coordinate_descent(\n"
     ]
    },
    {
     "name": "stdout",
     "output_type": "stream",
     "text": [
      "{'alpha': 0.5555555555555556}\n",
      "{'alpha': 600.0}\n"
     ]
    },
    {
     "name": "stderr",
     "output_type": "stream",
     "text": [
      "C:\\Users\\44744\\anaconda3\\lib\\site-packages\\sklearn\\linear_model\\_coordinate_descent.py:529: ConvergenceWarning: Objective did not converge. You might want to increase the number of iterations. Duality gap: 0.0, tolerance: 0.0\n",
      "  model = cd_fast.enet_coordinate_descent(\n",
      "C:\\Users\\44744\\anaconda3\\lib\\site-packages\\sklearn\\linear_model\\_coordinate_descent.py:529: ConvergenceWarning: Objective did not converge. You might want to increase the number of iterations. Duality gap: 0.0, tolerance: 0.0\n",
      "  model = cd_fast.enet_coordinate_descent(\n"
     ]
    },
    {
     "name": "stdout",
     "output_type": "stream",
     "text": [
      "{'alpha': 0.5555555555555556}\n",
      "{'alpha': 61.53846153846154}\n"
     ]
    },
    {
     "name": "stderr",
     "output_type": "stream",
     "text": [
      "C:\\Users\\44744\\anaconda3\\lib\\site-packages\\sklearn\\linear_model\\_coordinate_descent.py:529: ConvergenceWarning: Objective did not converge. You might want to increase the number of iterations. Duality gap: 0.0, tolerance: 0.0\n",
      "  model = cd_fast.enet_coordinate_descent(\n",
      "C:\\Users\\44744\\anaconda3\\lib\\site-packages\\sklearn\\linear_model\\_coordinate_descent.py:529: ConvergenceWarning: Objective did not converge. You might want to increase the number of iterations. Duality gap: 0.0, tolerance: 0.0\n",
      "  model = cd_fast.enet_coordinate_descent(\n"
     ]
    },
    {
     "name": "stdout",
     "output_type": "stream",
     "text": [
      "{'alpha': 0.5555555555555556}\n",
      "{'alpha': 46.15384615384615}\n"
     ]
    },
    {
     "name": "stderr",
     "output_type": "stream",
     "text": [
      "C:\\Users\\44744\\anaconda3\\lib\\site-packages\\sklearn\\linear_model\\_coordinate_descent.py:529: ConvergenceWarning: Objective did not converge. You might want to increase the number of iterations. Duality gap: 0.0, tolerance: 0.0\n",
      "  model = cd_fast.enet_coordinate_descent(\n",
      "C:\\Users\\44744\\anaconda3\\lib\\site-packages\\sklearn\\linear_model\\_coordinate_descent.py:529: ConvergenceWarning: Objective did not converge. You might want to increase the number of iterations. Duality gap: 0.0, tolerance: 0.0\n",
      "  model = cd_fast.enet_coordinate_descent(\n"
     ]
    },
    {
     "name": "stdout",
     "output_type": "stream",
     "text": [
      "{'alpha': 0.5555555555555556}\n",
      "{'alpha': 600.0}\n"
     ]
    },
    {
     "name": "stderr",
     "output_type": "stream",
     "text": [
      "C:\\Users\\44744\\anaconda3\\lib\\site-packages\\sklearn\\linear_model\\_coordinate_descent.py:529: ConvergenceWarning: Objective did not converge. You might want to increase the number of iterations. Duality gap: 0.0, tolerance: 0.0\n",
      "  model = cd_fast.enet_coordinate_descent(\n",
      "C:\\Users\\44744\\anaconda3\\lib\\site-packages\\sklearn\\linear_model\\_coordinate_descent.py:529: ConvergenceWarning: Objective did not converge. You might want to increase the number of iterations. Duality gap: 0.0, tolerance: 0.0\n",
      "  model = cd_fast.enet_coordinate_descent(\n"
     ]
    },
    {
     "name": "stdout",
     "output_type": "stream",
     "text": [
      "{'alpha': 0.5555555555555556}\n",
      "{'alpha': 15.384615384615385}\n"
     ]
    },
    {
     "name": "stderr",
     "output_type": "stream",
     "text": [
      "C:\\Users\\44744\\anaconda3\\lib\\site-packages\\sklearn\\linear_model\\_coordinate_descent.py:529: ConvergenceWarning: Objective did not converge. You might want to increase the number of iterations. Duality gap: 0.0, tolerance: 0.0\n",
      "  model = cd_fast.enet_coordinate_descent(\n",
      "C:\\Users\\44744\\anaconda3\\lib\\site-packages\\sklearn\\linear_model\\_coordinate_descent.py:529: ConvergenceWarning: Objective did not converge. You might want to increase the number of iterations. Duality gap: 0.0, tolerance: 0.0\n",
      "  model = cd_fast.enet_coordinate_descent(\n"
     ]
    },
    {
     "name": "stdout",
     "output_type": "stream",
     "text": [
      "{'alpha': 0.5555555555555556}\n",
      "{'alpha': 276.9230769230769}\n"
     ]
    },
    {
     "name": "stderr",
     "output_type": "stream",
     "text": [
      "C:\\Users\\44744\\anaconda3\\lib\\site-packages\\sklearn\\linear_model\\_coordinate_descent.py:529: ConvergenceWarning: Objective did not converge. You might want to increase the number of iterations. Duality gap: 0.0, tolerance: 0.0\n",
      "  model = cd_fast.enet_coordinate_descent(\n",
      "C:\\Users\\44744\\anaconda3\\lib\\site-packages\\sklearn\\linear_model\\_coordinate_descent.py:529: ConvergenceWarning: Objective did not converge. You might want to increase the number of iterations. Duality gap: 0.0, tolerance: 0.0\n",
      "  model = cd_fast.enet_coordinate_descent(\n"
     ]
    },
    {
     "name": "stdout",
     "output_type": "stream",
     "text": [
      "{'alpha': 0.5555555555555556}\n",
      "{'alpha': 600.0}\n"
     ]
    },
    {
     "name": "stderr",
     "output_type": "stream",
     "text": [
      "C:\\Users\\44744\\anaconda3\\lib\\site-packages\\sklearn\\linear_model\\_coordinate_descent.py:529: ConvergenceWarning: Objective did not converge. You might want to increase the number of iterations. Duality gap: 0.0, tolerance: 0.0\n",
      "  model = cd_fast.enet_coordinate_descent(\n",
      "C:\\Users\\44744\\anaconda3\\lib\\site-packages\\sklearn\\linear_model\\_coordinate_descent.py:529: ConvergenceWarning: Objective did not converge. You might want to increase the number of iterations. Duality gap: 0.0, tolerance: 0.0\n",
      "  model = cd_fast.enet_coordinate_descent(\n"
     ]
    },
    {
     "name": "stdout",
     "output_type": "stream",
     "text": [
      "{'alpha': 0.5555555555555556}\n",
      "{'alpha': 600.0}\n"
     ]
    },
    {
     "name": "stderr",
     "output_type": "stream",
     "text": [
      "C:\\Users\\44744\\anaconda3\\lib\\site-packages\\sklearn\\linear_model\\_coordinate_descent.py:529: ConvergenceWarning: Objective did not converge. You might want to increase the number of iterations. Duality gap: 0.0, tolerance: 0.0\n",
      "  model = cd_fast.enet_coordinate_descent(\n",
      "C:\\Users\\44744\\anaconda3\\lib\\site-packages\\sklearn\\linear_model\\_coordinate_descent.py:529: ConvergenceWarning: Objective did not converge. You might want to increase the number of iterations. Duality gap: 0.0, tolerance: 0.0\n",
      "  model = cd_fast.enet_coordinate_descent(\n"
     ]
    },
    {
     "name": "stdout",
     "output_type": "stream",
     "text": [
      "{'alpha': 0.5555555555555556}\n",
      "{'alpha': 600.0}\n"
     ]
    },
    {
     "name": "stderr",
     "output_type": "stream",
     "text": [
      "C:\\Users\\44744\\anaconda3\\lib\\site-packages\\sklearn\\linear_model\\_coordinate_descent.py:529: ConvergenceWarning: Objective did not converge. You might want to increase the number of iterations. Duality gap: 0.0, tolerance: 0.0\n",
      "  model = cd_fast.enet_coordinate_descent(\n",
      "C:\\Users\\44744\\anaconda3\\lib\\site-packages\\sklearn\\linear_model\\_coordinate_descent.py:529: ConvergenceWarning: Objective did not converge. You might want to increase the number of iterations. Duality gap: 0.0, tolerance: 0.0\n",
      "  model = cd_fast.enet_coordinate_descent(\n"
     ]
    },
    {
     "name": "stdout",
     "output_type": "stream",
     "text": [
      "{'alpha': 0.5555555555555556}\n",
      "{'alpha': 92.3076923076923}\n"
     ]
    },
    {
     "name": "stderr",
     "output_type": "stream",
     "text": [
      "C:\\Users\\44744\\anaconda3\\lib\\site-packages\\sklearn\\linear_model\\_coordinate_descent.py:529: ConvergenceWarning: Objective did not converge. You might want to increase the number of iterations. Duality gap: 0.0, tolerance: 0.0\n",
      "  model = cd_fast.enet_coordinate_descent(\n",
      "C:\\Users\\44744\\anaconda3\\lib\\site-packages\\sklearn\\linear_model\\_coordinate_descent.py:529: ConvergenceWarning: Objective did not converge. You might want to increase the number of iterations. Duality gap: 0.0, tolerance: 0.0\n",
      "  model = cd_fast.enet_coordinate_descent(\n"
     ]
    },
    {
     "name": "stdout",
     "output_type": "stream",
     "text": [
      "{'alpha': 0.5555555555555556}\n",
      "{'alpha': 523.0769230769231}\n"
     ]
    },
    {
     "name": "stderr",
     "output_type": "stream",
     "text": [
      "C:\\Users\\44744\\anaconda3\\lib\\site-packages\\sklearn\\linear_model\\_coordinate_descent.py:529: ConvergenceWarning: Objective did not converge. You might want to increase the number of iterations. Duality gap: 0.0, tolerance: 0.0\n",
      "  model = cd_fast.enet_coordinate_descent(\n",
      "C:\\Users\\44744\\anaconda3\\lib\\site-packages\\sklearn\\linear_model\\_coordinate_descent.py:529: ConvergenceWarning: Objective did not converge. You might want to increase the number of iterations. Duality gap: 0.0, tolerance: 0.0\n",
      "  model = cd_fast.enet_coordinate_descent(\n"
     ]
    },
    {
     "name": "stdout",
     "output_type": "stream",
     "text": [
      "{'alpha': 0.5555555555555556}\n",
      "{'alpha': 15.384615384615385}\n"
     ]
    },
    {
     "name": "stderr",
     "output_type": "stream",
     "text": [
      "C:\\Users\\44744\\anaconda3\\lib\\site-packages\\sklearn\\linear_model\\_coordinate_descent.py:529: ConvergenceWarning: Objective did not converge. You might want to increase the number of iterations. Duality gap: 0.0, tolerance: 0.0\n",
      "  model = cd_fast.enet_coordinate_descent(\n",
      "C:\\Users\\44744\\anaconda3\\lib\\site-packages\\sklearn\\linear_model\\_coordinate_descent.py:529: ConvergenceWarning: Objective did not converge. You might want to increase the number of iterations. Duality gap: 0.0, tolerance: 0.0\n",
      "  model = cd_fast.enet_coordinate_descent(\n"
     ]
    },
    {
     "name": "stdout",
     "output_type": "stream",
     "text": [
      "{'alpha': 0.5555555555555556}\n",
      "{'alpha': 46.15384615384615}\n"
     ]
    },
    {
     "name": "stderr",
     "output_type": "stream",
     "text": [
      "C:\\Users\\44744\\anaconda3\\lib\\site-packages\\sklearn\\linear_model\\_coordinate_descent.py:529: ConvergenceWarning: Objective did not converge. You might want to increase the number of iterations. Duality gap: 0.0, tolerance: 0.0\n",
      "  model = cd_fast.enet_coordinate_descent(\n",
      "C:\\Users\\44744\\anaconda3\\lib\\site-packages\\sklearn\\linear_model\\_coordinate_descent.py:529: ConvergenceWarning: Objective did not converge. You might want to increase the number of iterations. Duality gap: 0.0, tolerance: 0.0\n",
      "  model = cd_fast.enet_coordinate_descent(\n"
     ]
    },
    {
     "name": "stdout",
     "output_type": "stream",
     "text": [
      "{'alpha': 0.5555555555555556}\n",
      "{'alpha': 107.6923076923077}\n"
     ]
    },
    {
     "name": "stderr",
     "output_type": "stream",
     "text": [
      "C:\\Users\\44744\\anaconda3\\lib\\site-packages\\sklearn\\linear_model\\_coordinate_descent.py:529: ConvergenceWarning: Objective did not converge. You might want to increase the number of iterations. Duality gap: 0.0, tolerance: 0.0\n",
      "  model = cd_fast.enet_coordinate_descent(\n",
      "C:\\Users\\44744\\anaconda3\\lib\\site-packages\\sklearn\\linear_model\\_coordinate_descent.py:529: ConvergenceWarning: Objective did not converge. You might want to increase the number of iterations. Duality gap: 0.0, tolerance: 0.0\n",
      "  model = cd_fast.enet_coordinate_descent(\n"
     ]
    },
    {
     "name": "stdout",
     "output_type": "stream",
     "text": [
      "{'alpha': 0.5555555555555556}\n",
      "{'alpha': 600.0}\n"
     ]
    },
    {
     "name": "stderr",
     "output_type": "stream",
     "text": [
      "C:\\Users\\44744\\anaconda3\\lib\\site-packages\\sklearn\\linear_model\\_coordinate_descent.py:529: ConvergenceWarning: Objective did not converge. You might want to increase the number of iterations. Duality gap: 0.0, tolerance: 0.0\n",
      "  model = cd_fast.enet_coordinate_descent(\n",
      "C:\\Users\\44744\\anaconda3\\lib\\site-packages\\sklearn\\linear_model\\_coordinate_descent.py:529: ConvergenceWarning: Objective did not converge. You might want to increase the number of iterations. Duality gap: 0.0, tolerance: 0.0\n",
      "  model = cd_fast.enet_coordinate_descent(\n"
     ]
    },
    {
     "name": "stdout",
     "output_type": "stream",
     "text": [
      "{'alpha': 0.5555555555555556}\n",
      "{'alpha': 584.6153846153846}\n"
     ]
    },
    {
     "name": "stderr",
     "output_type": "stream",
     "text": [
      "C:\\Users\\44744\\anaconda3\\lib\\site-packages\\sklearn\\linear_model\\_coordinate_descent.py:529: ConvergenceWarning: Objective did not converge. You might want to increase the number of iterations. Duality gap: 0.0, tolerance: 0.0\n",
      "  model = cd_fast.enet_coordinate_descent(\n",
      "C:\\Users\\44744\\anaconda3\\lib\\site-packages\\sklearn\\linear_model\\_coordinate_descent.py:529: ConvergenceWarning: Objective did not converge. You might want to increase the number of iterations. Duality gap: 0.0, tolerance: 0.0\n",
      "  model = cd_fast.enet_coordinate_descent(\n"
     ]
    },
    {
     "name": "stdout",
     "output_type": "stream",
     "text": [
      "{'alpha': 0.5555555555555556}\n",
      "{'alpha': 600.0}\n"
     ]
    },
    {
     "name": "stderr",
     "output_type": "stream",
     "text": [
      "C:\\Users\\44744\\anaconda3\\lib\\site-packages\\sklearn\\linear_model\\_coordinate_descent.py:529: ConvergenceWarning: Objective did not converge. You might want to increase the number of iterations. Duality gap: 0.0, tolerance: 0.0\n",
      "  model = cd_fast.enet_coordinate_descent(\n",
      "C:\\Users\\44744\\anaconda3\\lib\\site-packages\\sklearn\\linear_model\\_coordinate_descent.py:529: ConvergenceWarning: Objective did not converge. You might want to increase the number of iterations. Duality gap: 0.0, tolerance: 0.0\n",
      "  model = cd_fast.enet_coordinate_descent(\n"
     ]
    },
    {
     "name": "stdout",
     "output_type": "stream",
     "text": [
      "{'alpha': 0.5555555555555556}\n",
      "{'alpha': 61.53846153846154}\n"
     ]
    },
    {
     "name": "stderr",
     "output_type": "stream",
     "text": [
      "C:\\Users\\44744\\anaconda3\\lib\\site-packages\\sklearn\\linear_model\\_coordinate_descent.py:529: ConvergenceWarning: Objective did not converge. You might want to increase the number of iterations. Duality gap: 0.0, tolerance: 0.0\n",
      "  model = cd_fast.enet_coordinate_descent(\n",
      "C:\\Users\\44744\\anaconda3\\lib\\site-packages\\sklearn\\linear_model\\_coordinate_descent.py:529: ConvergenceWarning: Objective did not converge. You might want to increase the number of iterations. Duality gap: 0.0, tolerance: 0.0\n",
      "  model = cd_fast.enet_coordinate_descent(\n"
     ]
    },
    {
     "name": "stdout",
     "output_type": "stream",
     "text": [
      "{'alpha': 0.5555555555555556}\n",
      "{'alpha': 46.15384615384615}\n"
     ]
    },
    {
     "name": "stderr",
     "output_type": "stream",
     "text": [
      "C:\\Users\\44744\\anaconda3\\lib\\site-packages\\sklearn\\linear_model\\_coordinate_descent.py:529: ConvergenceWarning: Objective did not converge. You might want to increase the number of iterations. Duality gap: 0.0, tolerance: 0.0\n",
      "  model = cd_fast.enet_coordinate_descent(\n",
      "C:\\Users\\44744\\anaconda3\\lib\\site-packages\\sklearn\\linear_model\\_coordinate_descent.py:529: ConvergenceWarning: Objective did not converge. You might want to increase the number of iterations. Duality gap: 0.0, tolerance: 0.0\n",
      "  model = cd_fast.enet_coordinate_descent(\n"
     ]
    },
    {
     "name": "stdout",
     "output_type": "stream",
     "text": [
      "{'alpha': 0.5555555555555556}\n",
      "{'alpha': 600.0}\n"
     ]
    },
    {
     "name": "stderr",
     "output_type": "stream",
     "text": [
      "C:\\Users\\44744\\anaconda3\\lib\\site-packages\\sklearn\\linear_model\\_coordinate_descent.py:529: ConvergenceWarning: Objective did not converge. You might want to increase the number of iterations. Duality gap: 0.0, tolerance: 0.0\n",
      "  model = cd_fast.enet_coordinate_descent(\n",
      "C:\\Users\\44744\\anaconda3\\lib\\site-packages\\sklearn\\linear_model\\_coordinate_descent.py:529: ConvergenceWarning: Objective did not converge. You might want to increase the number of iterations. Duality gap: 0.0, tolerance: 0.0\n",
      "  model = cd_fast.enet_coordinate_descent(\n"
     ]
    },
    {
     "name": "stdout",
     "output_type": "stream",
     "text": [
      "{'alpha': 0.5555555555555556}\n",
      "{'alpha': 30.76923076923077}\n"
     ]
    },
    {
     "name": "stderr",
     "output_type": "stream",
     "text": [
      "C:\\Users\\44744\\anaconda3\\lib\\site-packages\\sklearn\\linear_model\\_coordinate_descent.py:529: ConvergenceWarning: Objective did not converge. You might want to increase the number of iterations. Duality gap: 0.0, tolerance: 0.0\n",
      "  model = cd_fast.enet_coordinate_descent(\n",
      "C:\\Users\\44744\\anaconda3\\lib\\site-packages\\sklearn\\linear_model\\_coordinate_descent.py:529: ConvergenceWarning: Objective did not converge. You might want to increase the number of iterations. Duality gap: 0.0, tolerance: 0.0\n",
      "  model = cd_fast.enet_coordinate_descent(\n"
     ]
    },
    {
     "name": "stdout",
     "output_type": "stream",
     "text": [
      "{'alpha': 0.5555555555555556}\n",
      "{'alpha': 123.07692307692308}\n"
     ]
    },
    {
     "name": "stderr",
     "output_type": "stream",
     "text": [
      "C:\\Users\\44744\\anaconda3\\lib\\site-packages\\sklearn\\linear_model\\_coordinate_descent.py:529: ConvergenceWarning: Objective did not converge. You might want to increase the number of iterations. Duality gap: 0.0, tolerance: 0.0\n",
      "  model = cd_fast.enet_coordinate_descent(\n",
      "C:\\Users\\44744\\anaconda3\\lib\\site-packages\\sklearn\\linear_model\\_coordinate_descent.py:529: ConvergenceWarning: Objective did not converge. You might want to increase the number of iterations. Duality gap: 0.0, tolerance: 0.0\n",
      "  model = cd_fast.enet_coordinate_descent(\n"
     ]
    },
    {
     "name": "stdout",
     "output_type": "stream",
     "text": [
      "{'alpha': 0.5555555555555556}\n",
      "{'alpha': 600.0}\n"
     ]
    },
    {
     "name": "stderr",
     "output_type": "stream",
     "text": [
      "C:\\Users\\44744\\anaconda3\\lib\\site-packages\\sklearn\\linear_model\\_coordinate_descent.py:529: ConvergenceWarning: Objective did not converge. You might want to increase the number of iterations. Duality gap: 0.0, tolerance: 0.0\n",
      "  model = cd_fast.enet_coordinate_descent(\n",
      "C:\\Users\\44744\\anaconda3\\lib\\site-packages\\sklearn\\linear_model\\_coordinate_descent.py:529: ConvergenceWarning: Objective did not converge. You might want to increase the number of iterations. Duality gap: 0.0, tolerance: 0.0\n",
      "  model = cd_fast.enet_coordinate_descent(\n"
     ]
    },
    {
     "name": "stdout",
     "output_type": "stream",
     "text": [
      "{'alpha': 0.5555555555555556}\n",
      "{'alpha': 600.0}\n"
     ]
    },
    {
     "name": "stderr",
     "output_type": "stream",
     "text": [
      "C:\\Users\\44744\\anaconda3\\lib\\site-packages\\sklearn\\linear_model\\_coordinate_descent.py:529: ConvergenceWarning: Objective did not converge. You might want to increase the number of iterations. Duality gap: 0.0, tolerance: 0.0\n",
      "  model = cd_fast.enet_coordinate_descent(\n",
      "C:\\Users\\44744\\anaconda3\\lib\\site-packages\\sklearn\\linear_model\\_coordinate_descent.py:529: ConvergenceWarning: Objective did not converge. You might want to increase the number of iterations. Duality gap: 0.0, tolerance: 0.0\n",
      "  model = cd_fast.enet_coordinate_descent(\n"
     ]
    },
    {
     "name": "stdout",
     "output_type": "stream",
     "text": [
      "{'alpha': 0.5555555555555556}\n",
      "{'alpha': 246.15384615384616}\n"
     ]
    },
    {
     "name": "stderr",
     "output_type": "stream",
     "text": [
      "C:\\Users\\44744\\anaconda3\\lib\\site-packages\\sklearn\\linear_model\\_coordinate_descent.py:529: ConvergenceWarning: Objective did not converge. You might want to increase the number of iterations. Duality gap: 0.0, tolerance: 0.0\n",
      "  model = cd_fast.enet_coordinate_descent(\n",
      "C:\\Users\\44744\\anaconda3\\lib\\site-packages\\sklearn\\linear_model\\_coordinate_descent.py:529: ConvergenceWarning: Objective did not converge. You might want to increase the number of iterations. Duality gap: 0.0, tolerance: 0.0\n",
      "  model = cd_fast.enet_coordinate_descent(\n"
     ]
    },
    {
     "name": "stdout",
     "output_type": "stream",
     "text": [
      "{'alpha': 0.5555555555555556}\n",
      "{'alpha': 138.46153846153845}\n"
     ]
    },
    {
     "name": "stderr",
     "output_type": "stream",
     "text": [
      "C:\\Users\\44744\\anaconda3\\lib\\site-packages\\sklearn\\linear_model\\_coordinate_descent.py:529: ConvergenceWarning: Objective did not converge. You might want to increase the number of iterations. Duality gap: 0.0, tolerance: 0.0\n",
      "  model = cd_fast.enet_coordinate_descent(\n",
      "C:\\Users\\44744\\anaconda3\\lib\\site-packages\\sklearn\\linear_model\\_coordinate_descent.py:529: ConvergenceWarning: Objective did not converge. You might want to increase the number of iterations. Duality gap: 0.0, tolerance: 0.0\n",
      "  model = cd_fast.enet_coordinate_descent(\n"
     ]
    },
    {
     "name": "stdout",
     "output_type": "stream",
     "text": [
      "{'alpha': 0.5555555555555556}\n",
      "{'alpha': 507.6923076923077}\n"
     ]
    },
    {
     "name": "stderr",
     "output_type": "stream",
     "text": [
      "C:\\Users\\44744\\anaconda3\\lib\\site-packages\\sklearn\\linear_model\\_coordinate_descent.py:529: ConvergenceWarning: Objective did not converge. You might want to increase the number of iterations. Duality gap: 0.0, tolerance: 0.0\n",
      "  model = cd_fast.enet_coordinate_descent(\n",
      "C:\\Users\\44744\\anaconda3\\lib\\site-packages\\sklearn\\linear_model\\_coordinate_descent.py:529: ConvergenceWarning: Objective did not converge. You might want to increase the number of iterations. Duality gap: 0.0, tolerance: 0.0\n",
      "  model = cd_fast.enet_coordinate_descent(\n"
     ]
    },
    {
     "name": "stdout",
     "output_type": "stream",
     "text": [
      "{'alpha': 0.5555555555555556}\n"
     ]
    },
    {
     "name": "stderr",
     "output_type": "stream",
     "text": [
      "C:\\Users\\44744\\anaconda3\\lib\\site-packages\\sklearn\\linear_model\\_ridge.py:190: UserWarning: Singular matrix in solving dual problem. Using least-squares solution instead.\n",
      "  warnings.warn(\"Singular matrix in solving dual problem. Using \"\n",
      "C:\\Users\\44744\\anaconda3\\lib\\site-packages\\sklearn\\linear_model\\_ridge.py:190: UserWarning: Singular matrix in solving dual problem. Using least-squares solution instead.\n",
      "  warnings.warn(\"Singular matrix in solving dual problem. Using \"\n"
     ]
    },
    {
     "name": "stdout",
     "output_type": "stream",
     "text": [
      "{'alpha': 0.0}\n"
     ]
    },
    {
     "name": "stderr",
     "output_type": "stream",
     "text": [
      "C:\\Users\\44744\\anaconda3\\lib\\site-packages\\sklearn\\linear_model\\_coordinate_descent.py:529: ConvergenceWarning: Objective did not converge. You might want to increase the number of iterations. Duality gap: 0.0, tolerance: 0.0\n",
      "  model = cd_fast.enet_coordinate_descent(\n",
      "C:\\Users\\44744\\anaconda3\\lib\\site-packages\\sklearn\\linear_model\\_coordinate_descent.py:529: ConvergenceWarning: Objective did not converge. You might want to increase the number of iterations. Duality gap: 0.0, tolerance: 0.0\n",
      "  model = cd_fast.enet_coordinate_descent(\n"
     ]
    },
    {
     "name": "stdout",
     "output_type": "stream",
     "text": [
      "{'alpha': 0.5555555555555556}\n",
      "{'alpha': 92.3076923076923}\n"
     ]
    },
    {
     "name": "stderr",
     "output_type": "stream",
     "text": [
      "C:\\Users\\44744\\anaconda3\\lib\\site-packages\\sklearn\\linear_model\\_coordinate_descent.py:529: ConvergenceWarning: Objective did not converge. You might want to increase the number of iterations. Duality gap: 0.0, tolerance: 0.0\n",
      "  model = cd_fast.enet_coordinate_descent(\n",
      "C:\\Users\\44744\\anaconda3\\lib\\site-packages\\sklearn\\linear_model\\_coordinate_descent.py:529: ConvergenceWarning: Objective did not converge. You might want to increase the number of iterations. Duality gap: 0.0, tolerance: 0.0\n",
      "  model = cd_fast.enet_coordinate_descent(\n"
     ]
    },
    {
     "name": "stdout",
     "output_type": "stream",
     "text": [
      "{'alpha': 0.5555555555555556}\n",
      "{'alpha': 307.6923076923077}\n"
     ]
    },
    {
     "name": "stderr",
     "output_type": "stream",
     "text": [
      "C:\\Users\\44744\\anaconda3\\lib\\site-packages\\sklearn\\linear_model\\_coordinate_descent.py:529: ConvergenceWarning: Objective did not converge. You might want to increase the number of iterations. Duality gap: 0.0, tolerance: 0.0\n",
      "  model = cd_fast.enet_coordinate_descent(\n",
      "C:\\Users\\44744\\anaconda3\\lib\\site-packages\\sklearn\\linear_model\\_coordinate_descent.py:529: ConvergenceWarning: Objective did not converge. You might want to increase the number of iterations. Duality gap: 0.0, tolerance: 0.0\n",
      "  model = cd_fast.enet_coordinate_descent(\n"
     ]
    },
    {
     "name": "stdout",
     "output_type": "stream",
     "text": [
      "{'alpha': 0.5555555555555556}\n",
      "{'alpha': 600.0}\n"
     ]
    },
    {
     "name": "stderr",
     "output_type": "stream",
     "text": [
      "C:\\Users\\44744\\anaconda3\\lib\\site-packages\\sklearn\\linear_model\\_coordinate_descent.py:529: ConvergenceWarning: Objective did not converge. You might want to increase the number of iterations. Duality gap: 0.0, tolerance: 0.0\n",
      "  model = cd_fast.enet_coordinate_descent(\n",
      "C:\\Users\\44744\\anaconda3\\lib\\site-packages\\sklearn\\linear_model\\_coordinate_descent.py:529: ConvergenceWarning: Objective did not converge. You might want to increase the number of iterations. Duality gap: 0.0, tolerance: 0.0\n",
      "  model = cd_fast.enet_coordinate_descent(\n"
     ]
    },
    {
     "name": "stdout",
     "output_type": "stream",
     "text": [
      "{'alpha': 0.5555555555555556}\n",
      "{'alpha': 600.0}\n"
     ]
    },
    {
     "name": "stderr",
     "output_type": "stream",
     "text": [
      "C:\\Users\\44744\\anaconda3\\lib\\site-packages\\sklearn\\linear_model\\_coordinate_descent.py:529: ConvergenceWarning: Objective did not converge. You might want to increase the number of iterations. Duality gap: 0.0, tolerance: 0.0\n",
      "  model = cd_fast.enet_coordinate_descent(\n",
      "C:\\Users\\44744\\anaconda3\\lib\\site-packages\\sklearn\\linear_model\\_coordinate_descent.py:529: ConvergenceWarning: Objective did not converge. You might want to increase the number of iterations. Duality gap: 0.0, tolerance: 0.0\n",
      "  model = cd_fast.enet_coordinate_descent(\n"
     ]
    },
    {
     "name": "stdout",
     "output_type": "stream",
     "text": [
      "{'alpha': 0.5555555555555556}\n",
      "{'alpha': 600.0}\n"
     ]
    },
    {
     "name": "stderr",
     "output_type": "stream",
     "text": [
      "C:\\Users\\44744\\anaconda3\\lib\\site-packages\\sklearn\\linear_model\\_coordinate_descent.py:529: ConvergenceWarning: Objective did not converge. You might want to increase the number of iterations. Duality gap: 0.0, tolerance: 0.0\n",
      "  model = cd_fast.enet_coordinate_descent(\n",
      "C:\\Users\\44744\\anaconda3\\lib\\site-packages\\sklearn\\linear_model\\_coordinate_descent.py:529: ConvergenceWarning: Objective did not converge. You might want to increase the number of iterations. Duality gap: 0.0, tolerance: 0.0\n",
      "  model = cd_fast.enet_coordinate_descent(\n"
     ]
    },
    {
     "name": "stdout",
     "output_type": "stream",
     "text": [
      "{'alpha': 0.5555555555555556}\n",
      "{'alpha': 600.0}\n"
     ]
    },
    {
     "name": "stderr",
     "output_type": "stream",
     "text": [
      "C:\\Users\\44744\\anaconda3\\lib\\site-packages\\sklearn\\linear_model\\_coordinate_descent.py:529: ConvergenceWarning: Objective did not converge. You might want to increase the number of iterations. Duality gap: 0.0, tolerance: 0.0\n",
      "  model = cd_fast.enet_coordinate_descent(\n",
      "C:\\Users\\44744\\anaconda3\\lib\\site-packages\\sklearn\\linear_model\\_coordinate_descent.py:529: ConvergenceWarning: Objective did not converge. You might want to increase the number of iterations. Duality gap: 0.0, tolerance: 0.0\n",
      "  model = cd_fast.enet_coordinate_descent(\n"
     ]
    },
    {
     "name": "stdout",
     "output_type": "stream",
     "text": [
      "{'alpha': 0.5555555555555556}\n",
      "{'alpha': 600.0}\n"
     ]
    },
    {
     "name": "stderr",
     "output_type": "stream",
     "text": [
      "C:\\Users\\44744\\anaconda3\\lib\\site-packages\\sklearn\\linear_model\\_coordinate_descent.py:529: ConvergenceWarning: Objective did not converge. You might want to increase the number of iterations. Duality gap: 0.0, tolerance: 0.0\n",
      "  model = cd_fast.enet_coordinate_descent(\n",
      "C:\\Users\\44744\\anaconda3\\lib\\site-packages\\sklearn\\linear_model\\_coordinate_descent.py:529: ConvergenceWarning: Objective did not converge. You might want to increase the number of iterations. Duality gap: 0.0, tolerance: 0.0\n",
      "  model = cd_fast.enet_coordinate_descent(\n"
     ]
    },
    {
     "name": "stdout",
     "output_type": "stream",
     "text": [
      "{'alpha': 0.5555555555555556}\n",
      "{'alpha': 30.76923076923077}\n"
     ]
    },
    {
     "name": "stderr",
     "output_type": "stream",
     "text": [
      "C:\\Users\\44744\\anaconda3\\lib\\site-packages\\sklearn\\linear_model\\_coordinate_descent.py:529: ConvergenceWarning: Objective did not converge. You might want to increase the number of iterations. Duality gap: 0.0, tolerance: 0.0\n",
      "  model = cd_fast.enet_coordinate_descent(\n",
      "C:\\Users\\44744\\anaconda3\\lib\\site-packages\\sklearn\\linear_model\\_coordinate_descent.py:529: ConvergenceWarning: Objective did not converge. You might want to increase the number of iterations. Duality gap: 0.0, tolerance: 0.0\n",
      "  model = cd_fast.enet_coordinate_descent(\n"
     ]
    },
    {
     "name": "stdout",
     "output_type": "stream",
     "text": [
      "{'alpha': 0.5555555555555556}\n",
      "{'alpha': 600.0}\n"
     ]
    },
    {
     "name": "stderr",
     "output_type": "stream",
     "text": [
      "C:\\Users\\44744\\anaconda3\\lib\\site-packages\\sklearn\\model_selection\\_search.py:765: UserWarning: With alpha=0, this algorithm does not converge well. You are advised to use the LinearRegression estimator\n",
      "  self.best_estimator_.fit(X, y, **fit_params)\n",
      "C:\\Users\\44744\\anaconda3\\lib\\site-packages\\sklearn\\linear_model\\_coordinate_descent.py:529: UserWarning: Coordinate descent with no regularization may lead to unexpected results and is discouraged.\n",
      "  model = cd_fast.enet_coordinate_descent(\n",
      "C:\\Users\\44744\\anaconda3\\lib\\site-packages\\sklearn\\linear_model\\_coordinate_descent.py:529: ConvergenceWarning: Objective did not converge. You might want to increase the number of iterations. Duality gap: 0.0, tolerance: 0.0\n",
      "  model = cd_fast.enet_coordinate_descent(\n",
      "<ipython-input-5-ff7f7926d1cd>:64: UserWarning: With alpha=0, this algorithm does not converge well. You are advised to use the LinearRegression estimator\n",
      "  lasso.fit(trainX, trainY)\n",
      "C:\\Users\\44744\\anaconda3\\lib\\site-packages\\sklearn\\linear_model\\_coordinate_descent.py:529: UserWarning: Coordinate descent with no regularization may lead to unexpected results and is discouraged.\n",
      "  model = cd_fast.enet_coordinate_descent(\n",
      "C:\\Users\\44744\\anaconda3\\lib\\site-packages\\sklearn\\linear_model\\_coordinate_descent.py:529: ConvergenceWarning: Objective did not converge. You might want to increase the number of iterations. Duality gap: 0.0, tolerance: 0.0\n",
      "  model = cd_fast.enet_coordinate_descent(\n"
     ]
    },
    {
     "name": "stdout",
     "output_type": "stream",
     "text": [
      "{'alpha': 0.0}\n",
      "{'alpha': 61.53846153846154}\n"
     ]
    },
    {
     "name": "stderr",
     "output_type": "stream",
     "text": [
      "C:\\Users\\44744\\anaconda3\\lib\\site-packages\\sklearn\\linear_model\\_coordinate_descent.py:529: ConvergenceWarning: Objective did not converge. You might want to increase the number of iterations. Duality gap: 0.0, tolerance: 0.0\n",
      "  model = cd_fast.enet_coordinate_descent(\n",
      "C:\\Users\\44744\\anaconda3\\lib\\site-packages\\sklearn\\linear_model\\_coordinate_descent.py:529: ConvergenceWarning: Objective did not converge. You might want to increase the number of iterations. Duality gap: 0.0, tolerance: 0.0\n",
      "  model = cd_fast.enet_coordinate_descent(\n"
     ]
    },
    {
     "name": "stdout",
     "output_type": "stream",
     "text": [
      "{'alpha': 0.5555555555555556}\n",
      "{'alpha': 30.76923076923077}\n"
     ]
    },
    {
     "name": "stderr",
     "output_type": "stream",
     "text": [
      "C:\\Users\\44744\\anaconda3\\lib\\site-packages\\sklearn\\linear_model\\_coordinate_descent.py:529: ConvergenceWarning: Objective did not converge. You might want to increase the number of iterations. Duality gap: 0.0, tolerance: 0.0\n",
      "  model = cd_fast.enet_coordinate_descent(\n",
      "C:\\Users\\44744\\anaconda3\\lib\\site-packages\\sklearn\\linear_model\\_coordinate_descent.py:529: ConvergenceWarning: Objective did not converge. You might want to increase the number of iterations. Duality gap: 0.0, tolerance: 0.0\n",
      "  model = cd_fast.enet_coordinate_descent(\n"
     ]
    },
    {
     "name": "stdout",
     "output_type": "stream",
     "text": [
      "{'alpha': 0.5555555555555556}\n",
      "{'alpha': 600.0}\n"
     ]
    },
    {
     "name": "stderr",
     "output_type": "stream",
     "text": [
      "C:\\Users\\44744\\anaconda3\\lib\\site-packages\\sklearn\\linear_model\\_coordinate_descent.py:529: ConvergenceWarning: Objective did not converge. You might want to increase the number of iterations. Duality gap: 0.0, tolerance: 0.0\n",
      "  model = cd_fast.enet_coordinate_descent(\n",
      "C:\\Users\\44744\\anaconda3\\lib\\site-packages\\sklearn\\linear_model\\_coordinate_descent.py:529: ConvergenceWarning: Objective did not converge. You might want to increase the number of iterations. Duality gap: 0.0, tolerance: 0.0\n",
      "  model = cd_fast.enet_coordinate_descent(\n"
     ]
    },
    {
     "name": "stdout",
     "output_type": "stream",
     "text": [
      "{'alpha': 0.5555555555555556}\n",
      "{'alpha': 200.0}\n"
     ]
    },
    {
     "name": "stderr",
     "output_type": "stream",
     "text": [
      "C:\\Users\\44744\\anaconda3\\lib\\site-packages\\sklearn\\linear_model\\_coordinate_descent.py:529: ConvergenceWarning: Objective did not converge. You might want to increase the number of iterations. Duality gap: 0.0, tolerance: 0.0\n",
      "  model = cd_fast.enet_coordinate_descent(\n",
      "C:\\Users\\44744\\anaconda3\\lib\\site-packages\\sklearn\\linear_model\\_coordinate_descent.py:529: ConvergenceWarning: Objective did not converge. You might want to increase the number of iterations. Duality gap: 0.0, tolerance: 0.0\n",
      "  model = cd_fast.enet_coordinate_descent(\n"
     ]
    },
    {
     "name": "stdout",
     "output_type": "stream",
     "text": [
      "{'alpha': 0.5555555555555556}\n",
      "{'alpha': 600.0}\n"
     ]
    },
    {
     "name": "stderr",
     "output_type": "stream",
     "text": [
      "C:\\Users\\44744\\anaconda3\\lib\\site-packages\\sklearn\\model_selection\\_search.py:765: UserWarning: With alpha=0, this algorithm does not converge well. You are advised to use the LinearRegression estimator\n",
      "  self.best_estimator_.fit(X, y, **fit_params)\n",
      "C:\\Users\\44744\\anaconda3\\lib\\site-packages\\sklearn\\linear_model\\_coordinate_descent.py:529: UserWarning: Coordinate descent with no regularization may lead to unexpected results and is discouraged.\n",
      "  model = cd_fast.enet_coordinate_descent(\n",
      "C:\\Users\\44744\\anaconda3\\lib\\site-packages\\sklearn\\linear_model\\_coordinate_descent.py:529: ConvergenceWarning: Objective did not converge. You might want to increase the number of iterations. Duality gap: 0.0, tolerance: 0.0\n",
      "  model = cd_fast.enet_coordinate_descent(\n",
      "<ipython-input-5-ff7f7926d1cd>:64: UserWarning: With alpha=0, this algorithm does not converge well. You are advised to use the LinearRegression estimator\n",
      "  lasso.fit(trainX, trainY)\n",
      "C:\\Users\\44744\\anaconda3\\lib\\site-packages\\sklearn\\linear_model\\_coordinate_descent.py:529: UserWarning: Coordinate descent with no regularization may lead to unexpected results and is discouraged.\n",
      "  model = cd_fast.enet_coordinate_descent(\n",
      "C:\\Users\\44744\\anaconda3\\lib\\site-packages\\sklearn\\linear_model\\_coordinate_descent.py:529: ConvergenceWarning: Objective did not converge. You might want to increase the number of iterations. Duality gap: 0.0, tolerance: 0.0\n",
      "  model = cd_fast.enet_coordinate_descent(\n"
     ]
    },
    {
     "name": "stdout",
     "output_type": "stream",
     "text": [
      "{'alpha': 0.0}\n",
      "{'alpha': 600.0}\n"
     ]
    },
    {
     "name": "stderr",
     "output_type": "stream",
     "text": [
      "C:\\Users\\44744\\anaconda3\\lib\\site-packages\\sklearn\\linear_model\\_coordinate_descent.py:529: ConvergenceWarning: Objective did not converge. You might want to increase the number of iterations. Duality gap: 0.0, tolerance: 0.0\n",
      "  model = cd_fast.enet_coordinate_descent(\n",
      "C:\\Users\\44744\\anaconda3\\lib\\site-packages\\sklearn\\linear_model\\_coordinate_descent.py:529: ConvergenceWarning: Objective did not converge. You might want to increase the number of iterations. Duality gap: 0.0, tolerance: 0.0\n",
      "  model = cd_fast.enet_coordinate_descent(\n"
     ]
    },
    {
     "name": "stdout",
     "output_type": "stream",
     "text": [
      "{'alpha': 0.5555555555555556}\n",
      "{'alpha': 61.53846153846154}\n"
     ]
    },
    {
     "name": "stderr",
     "output_type": "stream",
     "text": [
      "C:\\Users\\44744\\anaconda3\\lib\\site-packages\\sklearn\\linear_model\\_coordinate_descent.py:529: ConvergenceWarning: Objective did not converge. You might want to increase the number of iterations. Duality gap: 0.0, tolerance: 0.0\n",
      "  model = cd_fast.enet_coordinate_descent(\n",
      "C:\\Users\\44744\\anaconda3\\lib\\site-packages\\sklearn\\linear_model\\_coordinate_descent.py:529: ConvergenceWarning: Objective did not converge. You might want to increase the number of iterations. Duality gap: 0.0, tolerance: 0.0\n",
      "  model = cd_fast.enet_coordinate_descent(\n"
     ]
    },
    {
     "name": "stdout",
     "output_type": "stream",
     "text": [
      "{'alpha': 0.5555555555555556}\n",
      "{'alpha': 600.0}\n"
     ]
    },
    {
     "name": "stderr",
     "output_type": "stream",
     "text": [
      "C:\\Users\\44744\\anaconda3\\lib\\site-packages\\sklearn\\linear_model\\_coordinate_descent.py:529: ConvergenceWarning: Objective did not converge. You might want to increase the number of iterations. Duality gap: 0.0, tolerance: 0.0\n",
      "  model = cd_fast.enet_coordinate_descent(\n",
      "C:\\Users\\44744\\anaconda3\\lib\\site-packages\\sklearn\\linear_model\\_coordinate_descent.py:529: ConvergenceWarning: Objective did not converge. You might want to increase the number of iterations. Duality gap: 0.0, tolerance: 0.0\n",
      "  model = cd_fast.enet_coordinate_descent(\n"
     ]
    },
    {
     "name": "stdout",
     "output_type": "stream",
     "text": [
      "{'alpha': 0.5555555555555556}\n",
      "{'alpha': 30.76923076923077}\n"
     ]
    },
    {
     "name": "stderr",
     "output_type": "stream",
     "text": [
      "C:\\Users\\44744\\anaconda3\\lib\\site-packages\\sklearn\\linear_model\\_coordinate_descent.py:529: ConvergenceWarning: Objective did not converge. You might want to increase the number of iterations. Duality gap: 0.0, tolerance: 0.0\n",
      "  model = cd_fast.enet_coordinate_descent(\n",
      "C:\\Users\\44744\\anaconda3\\lib\\site-packages\\sklearn\\linear_model\\_coordinate_descent.py:529: ConvergenceWarning: Objective did not converge. You might want to increase the number of iterations. Duality gap: 0.0, tolerance: 0.0\n",
      "  model = cd_fast.enet_coordinate_descent(\n"
     ]
    },
    {
     "name": "stdout",
     "output_type": "stream",
     "text": [
      "{'alpha': 0.5555555555555556}\n",
      "{'alpha': 215.3846153846154}\n"
     ]
    },
    {
     "name": "stderr",
     "output_type": "stream",
     "text": [
      "C:\\Users\\44744\\anaconda3\\lib\\site-packages\\sklearn\\linear_model\\_coordinate_descent.py:529: ConvergenceWarning: Objective did not converge. You might want to increase the number of iterations. Duality gap: 0.0, tolerance: 0.0\n",
      "  model = cd_fast.enet_coordinate_descent(\n",
      "C:\\Users\\44744\\anaconda3\\lib\\site-packages\\sklearn\\linear_model\\_coordinate_descent.py:529: ConvergenceWarning: Objective did not converge. You might want to increase the number of iterations. Duality gap: 0.0, tolerance: 0.0\n",
      "  model = cd_fast.enet_coordinate_descent(\n"
     ]
    },
    {
     "name": "stdout",
     "output_type": "stream",
     "text": [
      "{'alpha': 0.5555555555555556}\n",
      "{'alpha': 200.0}\n"
     ]
    },
    {
     "name": "stderr",
     "output_type": "stream",
     "text": [
      "C:\\Users\\44744\\anaconda3\\lib\\site-packages\\sklearn\\linear_model\\_coordinate_descent.py:529: ConvergenceWarning: Objective did not converge. You might want to increase the number of iterations. Duality gap: 0.0, tolerance: 0.0\n",
      "  model = cd_fast.enet_coordinate_descent(\n",
      "C:\\Users\\44744\\anaconda3\\lib\\site-packages\\sklearn\\linear_model\\_coordinate_descent.py:529: ConvergenceWarning: Objective did not converge. You might want to increase the number of iterations. Duality gap: 0.0, tolerance: 0.0\n",
      "  model = cd_fast.enet_coordinate_descent(\n"
     ]
    },
    {
     "name": "stdout",
     "output_type": "stream",
     "text": [
      "{'alpha': 0.5555555555555556}\n",
      "{'alpha': 30.76923076923077}\n"
     ]
    },
    {
     "name": "stderr",
     "output_type": "stream",
     "text": [
      "C:\\Users\\44744\\anaconda3\\lib\\site-packages\\sklearn\\linear_model\\_coordinate_descent.py:529: ConvergenceWarning: Objective did not converge. You might want to increase the number of iterations. Duality gap: 0.0, tolerance: 0.0\n",
      "  model = cd_fast.enet_coordinate_descent(\n",
      "C:\\Users\\44744\\anaconda3\\lib\\site-packages\\sklearn\\linear_model\\_coordinate_descent.py:529: ConvergenceWarning: Objective did not converge. You might want to increase the number of iterations. Duality gap: 0.0, tolerance: 0.0\n",
      "  model = cd_fast.enet_coordinate_descent(\n"
     ]
    },
    {
     "name": "stdout",
     "output_type": "stream",
     "text": [
      "{'alpha': 0.5555555555555556}\n",
      "{'alpha': 600.0}\n"
     ]
    },
    {
     "name": "stderr",
     "output_type": "stream",
     "text": [
      "C:\\Users\\44744\\anaconda3\\lib\\site-packages\\sklearn\\linear_model\\_coordinate_descent.py:529: ConvergenceWarning: Objective did not converge. You might want to increase the number of iterations. Duality gap: 0.0, tolerance: 0.0\n",
      "  model = cd_fast.enet_coordinate_descent(\n",
      "C:\\Users\\44744\\anaconda3\\lib\\site-packages\\sklearn\\linear_model\\_coordinate_descent.py:529: ConvergenceWarning: Objective did not converge. You might want to increase the number of iterations. Duality gap: 0.0, tolerance: 0.0\n",
      "  model = cd_fast.enet_coordinate_descent(\n"
     ]
    },
    {
     "name": "stdout",
     "output_type": "stream",
     "text": [
      "{'alpha': 0.5555555555555556}\n",
      "{'alpha': 76.92307692307692}\n"
     ]
    },
    {
     "name": "stderr",
     "output_type": "stream",
     "text": [
      "C:\\Users\\44744\\anaconda3\\lib\\site-packages\\sklearn\\model_selection\\_search.py:765: UserWarning: With alpha=0, this algorithm does not converge well. You are advised to use the LinearRegression estimator\n",
      "  self.best_estimator_.fit(X, y, **fit_params)\n",
      "C:\\Users\\44744\\anaconda3\\lib\\site-packages\\sklearn\\linear_model\\_coordinate_descent.py:529: UserWarning: Coordinate descent with no regularization may lead to unexpected results and is discouraged.\n",
      "  model = cd_fast.enet_coordinate_descent(\n",
      "C:\\Users\\44744\\anaconda3\\lib\\site-packages\\sklearn\\linear_model\\_coordinate_descent.py:529: ConvergenceWarning: Objective did not converge. You might want to increase the number of iterations. Duality gap: 0.0, tolerance: 0.0\n",
      "  model = cd_fast.enet_coordinate_descent(\n",
      "<ipython-input-5-ff7f7926d1cd>:64: UserWarning: With alpha=0, this algorithm does not converge well. You are advised to use the LinearRegression estimator\n",
      "  lasso.fit(trainX, trainY)\n",
      "C:\\Users\\44744\\anaconda3\\lib\\site-packages\\sklearn\\linear_model\\_coordinate_descent.py:529: UserWarning: Coordinate descent with no regularization may lead to unexpected results and is discouraged.\n",
      "  model = cd_fast.enet_coordinate_descent(\n",
      "C:\\Users\\44744\\anaconda3\\lib\\site-packages\\sklearn\\linear_model\\_coordinate_descent.py:529: ConvergenceWarning: Objective did not converge. You might want to increase the number of iterations. Duality gap: 0.0, tolerance: 0.0\n",
      "  model = cd_fast.enet_coordinate_descent(\n"
     ]
    },
    {
     "name": "stdout",
     "output_type": "stream",
     "text": [
      "{'alpha': 0.0}\n",
      "{'alpha': 600.0}\n"
     ]
    },
    {
     "name": "stderr",
     "output_type": "stream",
     "text": [
      "C:\\Users\\44744\\anaconda3\\lib\\site-packages\\sklearn\\linear_model\\_coordinate_descent.py:529: ConvergenceWarning: Objective did not converge. You might want to increase the number of iterations. Duality gap: 0.0, tolerance: 0.0\n",
      "  model = cd_fast.enet_coordinate_descent(\n",
      "C:\\Users\\44744\\anaconda3\\lib\\site-packages\\sklearn\\linear_model\\_coordinate_descent.py:529: ConvergenceWarning: Objective did not converge. You might want to increase the number of iterations. Duality gap: 0.0, tolerance: 0.0\n",
      "  model = cd_fast.enet_coordinate_descent(\n"
     ]
    },
    {
     "name": "stdout",
     "output_type": "stream",
     "text": [
      "{'alpha': 0.5555555555555556}\n",
      "{'alpha': 600.0}\n"
     ]
    },
    {
     "name": "stderr",
     "output_type": "stream",
     "text": [
      "C:\\Users\\44744\\anaconda3\\lib\\site-packages\\sklearn\\linear_model\\_coordinate_descent.py:529: ConvergenceWarning: Objective did not converge. You might want to increase the number of iterations. Duality gap: 0.0, tolerance: 0.0\n",
      "  model = cd_fast.enet_coordinate_descent(\n",
      "C:\\Users\\44744\\anaconda3\\lib\\site-packages\\sklearn\\linear_model\\_coordinate_descent.py:529: ConvergenceWarning: Objective did not converge. You might want to increase the number of iterations. Duality gap: 0.0, tolerance: 0.0\n",
      "  model = cd_fast.enet_coordinate_descent(\n"
     ]
    },
    {
     "name": "stdout",
     "output_type": "stream",
     "text": [
      "{'alpha': 0.5555555555555556}\n"
     ]
    },
    {
     "name": "stderr",
     "output_type": "stream",
     "text": [
      "C:\\Users\\44744\\anaconda3\\lib\\site-packages\\sklearn\\linear_model\\_ridge.py:190: UserWarning: Singular matrix in solving dual problem. Using least-squares solution instead.\n",
      "  warnings.warn(\"Singular matrix in solving dual problem. Using \"\n",
      "C:\\Users\\44744\\anaconda3\\lib\\site-packages\\sklearn\\linear_model\\_ridge.py:190: UserWarning: Singular matrix in solving dual problem. Using least-squares solution instead.\n",
      "  warnings.warn(\"Singular matrix in solving dual problem. Using \"\n"
     ]
    },
    {
     "name": "stdout",
     "output_type": "stream",
     "text": [
      "{'alpha': 0.0}\n"
     ]
    },
    {
     "name": "stderr",
     "output_type": "stream",
     "text": [
      "C:\\Users\\44744\\anaconda3\\lib\\site-packages\\sklearn\\linear_model\\_coordinate_descent.py:529: ConvergenceWarning: Objective did not converge. You might want to increase the number of iterations. Duality gap: 0.0, tolerance: 0.0\n",
      "  model = cd_fast.enet_coordinate_descent(\n",
      "C:\\Users\\44744\\anaconda3\\lib\\site-packages\\sklearn\\linear_model\\_coordinate_descent.py:529: ConvergenceWarning: Objective did not converge. You might want to increase the number of iterations. Duality gap: 0.0, tolerance: 0.0\n",
      "  model = cd_fast.enet_coordinate_descent(\n"
     ]
    },
    {
     "name": "stdout",
     "output_type": "stream",
     "text": [
      "{'alpha': 0.5555555555555556}\n",
      "{'alpha': 600.0}\n"
     ]
    },
    {
     "name": "stderr",
     "output_type": "stream",
     "text": [
      "C:\\Users\\44744\\anaconda3\\lib\\site-packages\\sklearn\\linear_model\\_coordinate_descent.py:529: ConvergenceWarning: Objective did not converge. You might want to increase the number of iterations. Duality gap: 0.0, tolerance: 0.0\n",
      "  model = cd_fast.enet_coordinate_descent(\n",
      "C:\\Users\\44744\\anaconda3\\lib\\site-packages\\sklearn\\linear_model\\_coordinate_descent.py:529: ConvergenceWarning: Objective did not converge. You might want to increase the number of iterations. Duality gap: 0.0, tolerance: 0.0\n",
      "  model = cd_fast.enet_coordinate_descent(\n"
     ]
    },
    {
     "name": "stdout",
     "output_type": "stream",
     "text": [
      "{'alpha': 0.5555555555555556}\n",
      "{'alpha': 600.0}\n"
     ]
    },
    {
     "name": "stderr",
     "output_type": "stream",
     "text": [
      "C:\\Users\\44744\\anaconda3\\lib\\site-packages\\sklearn\\linear_model\\_coordinate_descent.py:529: ConvergenceWarning: Objective did not converge. You might want to increase the number of iterations. Duality gap: 0.0, tolerance: 0.0\n",
      "  model = cd_fast.enet_coordinate_descent(\n",
      "C:\\Users\\44744\\anaconda3\\lib\\site-packages\\sklearn\\linear_model\\_coordinate_descent.py:529: ConvergenceWarning: Objective did not converge. You might want to increase the number of iterations. Duality gap: 0.0, tolerance: 0.0\n",
      "  model = cd_fast.enet_coordinate_descent(\n"
     ]
    },
    {
     "name": "stdout",
     "output_type": "stream",
     "text": [
      "{'alpha': 0.5555555555555556}\n",
      "{'alpha': 600.0}\n"
     ]
    },
    {
     "name": "stderr",
     "output_type": "stream",
     "text": [
      "C:\\Users\\44744\\anaconda3\\lib\\site-packages\\sklearn\\linear_model\\_coordinate_descent.py:529: ConvergenceWarning: Objective did not converge. You might want to increase the number of iterations. Duality gap: 0.0, tolerance: 0.0\n",
      "  model = cd_fast.enet_coordinate_descent(\n",
      "C:\\Users\\44744\\anaconda3\\lib\\site-packages\\sklearn\\linear_model\\_coordinate_descent.py:529: ConvergenceWarning: Objective did not converge. You might want to increase the number of iterations. Duality gap: 0.0, tolerance: 0.0\n",
      "  model = cd_fast.enet_coordinate_descent(\n"
     ]
    },
    {
     "name": "stdout",
     "output_type": "stream",
     "text": [
      "{'alpha': 0.5555555555555556}\n"
     ]
    },
    {
     "name": "stderr",
     "output_type": "stream",
     "text": [
      "C:\\Users\\44744\\anaconda3\\lib\\site-packages\\sklearn\\linear_model\\_ridge.py:190: UserWarning: Singular matrix in solving dual problem. Using least-squares solution instead.\n",
      "  warnings.warn(\"Singular matrix in solving dual problem. Using \"\n",
      "C:\\Users\\44744\\anaconda3\\lib\\site-packages\\sklearn\\linear_model\\_ridge.py:190: UserWarning: Singular matrix in solving dual problem. Using least-squares solution instead.\n",
      "  warnings.warn(\"Singular matrix in solving dual problem. Using \"\n"
     ]
    },
    {
     "name": "stdout",
     "output_type": "stream",
     "text": [
      "{'alpha': 0.0}\n",
      "{'alpha': 0.5555555555555556}\n"
     ]
    },
    {
     "name": "stderr",
     "output_type": "stream",
     "text": [
      "C:\\Users\\44744\\anaconda3\\lib\\site-packages\\sklearn\\linear_model\\_coordinate_descent.py:529: ConvergenceWarning: Objective did not converge. You might want to increase the number of iterations. Duality gap: 0.0, tolerance: 0.0\n",
      "  model = cd_fast.enet_coordinate_descent(\n",
      "C:\\Users\\44744\\anaconda3\\lib\\site-packages\\sklearn\\linear_model\\_coordinate_descent.py:529: ConvergenceWarning: Objective did not converge. You might want to increase the number of iterations. Duality gap: 0.0, tolerance: 0.0\n",
      "  model = cd_fast.enet_coordinate_descent(\n"
     ]
    }
   ],
   "source": [
    "# filterPlateau = filterPlateau[~filterPlateau['DRUG_ID'].isin(toDropDrugs)]\n",
    "params = ['param_1', 'param_2','param_3','param_4']\n",
    "notIncludeColumns = ['CELL_LINE_NAME', 'COSMIC_ID', 'DRUG_ID', 'DRUGID_COSMICID','MAX_CONC']+params\n",
    "conc_labels = [\"fd_num_\"+str(i) for i in range(10)]\n",
    "resp_labels = ['norm_cells_'+str(i) for i in range(10)]\n",
    "pred_resp_labels = ['pred_norm_cells_'+str(i) for i in range(10)]\n",
    "fullPredLabels = ['DRUG_COSMICID'] + pred_resp_labels\n",
    "ridgeResults = pd.DataFrame(columns=fullPredLabels)\n",
    "lassoResults = pd.DataFrame(columns=fullPredLabels)\n",
    "combinedResults = pd.DataFrame(columns=fullPredLabels)\n",
    "trueResults = pd.DataFrame(columns= ['DRUG_COSMICID']+ resp_labels + params)\n",
    "df = None\n",
    "for drugId in trainTestSplit.keys():\n",
    "    drugProfile = drugProfiles[drugProfiles['DRUG_ID'] == int(drugId)]\n",
    "    trainData = drugProfile[drugProfile['DRUGID_COSMICID'].isin(trainTestSplit[str(drugId)][0])]\n",
    "    testData = drugProfile[drugProfile['DRUGID_COSMICID'].isin(trainTestSplit[str(drugId)][1])]\n",
    "    testDataCosmicIds = np.array(testData['DRUGID_COSMICID'])\n",
    "    notXValuesFilter = resp_labels + notIncludeColumns + conc_labels\n",
    "    trainXValues = trainData.drop(columns = notXValuesFilter)\n",
    "    trainYValues = trainData[resp_labels]\n",
    "\n",
    "    trainX = trainXValues.reset_index(drop=True).to_numpy()\n",
    "    trainY = trainYValues.reset_index(drop=True).to_numpy()\n",
    "\n",
    "    testXValues = testData.drop(columns = notXValuesFilter)\n",
    "    testYValues = testData[resp_labels]\n",
    "    testParamsValues = testData[params]\n",
    "\n",
    "    testX = testXValues.reset_index(drop=True).to_numpy()\n",
    "    testY = testYValues.reset_index(drop=True).to_numpy()\n",
    "    testParams = testParamsValues.reset_index(drop=True).to_numpy()\n",
    "\n",
    "    cv = RepeatedKFold(n_splits=5, n_repeats=3, random_state=1)\n",
    "    ridge_alphas = np.linspace(0, 600, 40)\n",
    "    ridge = Ridge()\n",
    "    grid = dict()\n",
    "    grid['alpha'] = ridge_alphas\n",
    "    gscv = GridSearchCV( \\\n",
    "        ridge, grid, scoring='neg_mean_absolute_error', \\\n",
    "        cv=cv, n_jobs=-1)\n",
    "    results = gscv.fit(trainX, trainY)\n",
    "    print(results.best_params_)\n",
    "\n",
    "    ridge = Ridge(alpha=results.best_params_['alpha'])\n",
    "    ridge.fit(trainX, trainY)\n",
    "    pred_train = ridge.predict(trainX)\n",
    "    pred_test= ridge.predict(testX)\n",
    "    resultsRidge = pd.DataFrame(testDataCosmicIds, columns=['DRUG_COSMICID'])\n",
    "    resultsRidge[pred_resp_labels] = pred_test\n",
    "    ridgeResults = ridgeResults.append(resultsRidge,ignore_index=True,sort=False)\n",
    "\n",
    "    cv = RepeatedKFold(n_splits=5, n_repeats=3, random_state=1)\n",
    "    lasso_alphas = np.linspace(0, 5, 10)\n",
    "    lasso = Lasso()\n",
    "    grid = dict()\n",
    "    grid['alpha'] = lasso_alphas\n",
    "    gscv = GridSearchCV( \\\n",
    "        lasso, grid, scoring='neg_mean_absolute_error', \\\n",
    "        cv=cv, n_jobs=-1)\n",
    "    results = gscv.fit(trainX, trainY)\n",
    "    print(results.best_params_)\n",
    "\n",
    "    lasso = Lasso(alpha=results.best_params_['alpha'])\n",
    "    lasso.fit(trainX, trainY)\n",
    "    pred_trainL = lasso.predict(trainX)\n",
    "    pred_testL= lasso.predict(testX)\n",
    "    resultsLasso = pd.DataFrame(testDataCosmicIds, columns=['DRUG_COSMICID'])\n",
    "    resultsLasso[pred_resp_labels] = pred_testL\n",
    "    lassoResults = lassoResults.append(resultsLasso,ignore_index=True,sort=False)\n",
    "\n",
    "    trueResult = pd.DataFrame(testDataCosmicIds, columns=['DRUG_COSMICID'])\n",
    "    trueResult[resp_labels] = testY\n",
    "    trueResult[params] = testParams\n",
    "    trueResults = trueResults.append(trueResult,ignore_index=True,sort=False)\n",
    "\n",
    "\n",
    "    combinedResult = np.add(pred_test, pred_testL)\n",
    "    divide2 = lambda i: float(i) / 2\n",
    "\n",
    "    vectorized_divide2 = np.vectorize(divide2)\n",
    "\n",
    "    combinedResult = np.asmatrix(vectorized_divide2(combinedResult))\n",
    "    resultsComb = pd.DataFrame(testDataCosmicIds, columns=['DRUG_COSMICID'])\n",
    "    resultsComb[pred_resp_labels] = combinedResult\n",
    "    combinedResults = combinedResults.append(resultsComb,ignore_index=True,sort=False)\n",
    "\n"
   ]
  },
  {
   "cell_type": "code",
   "execution_count": 6,
   "metadata": {},
   "outputs": [],
   "source": [
    "ridgeResults = ridgeResults.drop_duplicates()\n",
    "lassoResults = lassoResults.drop_duplicates()\n",
    "combinedResults = combinedResults.drop_duplicates()"
   ]
  },
  {
   "cell_type": "code",
   "execution_count": 7,
   "metadata": {},
   "outputs": [],
   "source": [
    "def ll4_R(x, c, a, b, d):\n",
    "    \"\"\" LL.4 function from R\n",
    "    https://www.rdocumentation.org/packages/drc/versions/2.5-12/topics/LL.4\n",
    "   \n",
    "    a-d - difference between max and min responses\n",
    "    np.exp( b* np.log(x) - e) -  np.exp((x-p)/s in Dennis Wang's sigmoid\n",
    "    b - hill slope = 1/s - shape parameter\n",
    "    np.log(x)- e/b == x-p in Dennis Wang's sigmoid\n",
    "\n",
    "    \"\"\"\n",
    "    return ( (a-d)/(1+np.exp(b*np.log(x)- c)) + d)\n",
    "\n",
    "def getOptimalParamters(drug_curves):\n",
    "    conc_labels = [\"fd_num_\"+str(i) for i in range(10)]\n",
    "    resp_labels = ['pred_norm_cells_'+str(i) for i in range(10)]\n",
    "    drug_curves['param_1'] = None\n",
    "    drug_curves['param_2'] = None\n",
    "    drug_curves['param_3'] = None\n",
    "    drug_curves['param_4'] = None\n",
    "    for ind in range(len(drug_curves)):\n",
    "        curve = drug_curves.loc[ind]\n",
    "        XData = [0, 0.111111111, 0.222222222, 0.333333333, 0.444444444, 0.555555556, 0.666666667, 0.777777778, 0.888888889, 1]\n",
    "        YData = curve[resp_labels].astype(float)\n",
    "        function = ll4_R\n",
    "        p0 = [0.4, 1.0, 1.0, 0.0]\n",
    "        try:\n",
    "            popt, pcov = curve_fit(function, XData, YData,p0, maxfev=6000, method='dogbox')\n",
    "            drug_curves.at[ind, 'param_1'] = popt[0]\n",
    "            drug_curves.at[ind, 'param_2'] = popt[1]\n",
    "            drug_curves.at[ind, 'param_3'] = popt[2]\n",
    "            drug_curves.at[ind, 'param_4'] = popt[3]\n",
    "        except:\n",
    "            print(fitFunc)\n",
    "    return drug_curves"
   ]
  },
  {
   "cell_type": "code",
   "execution_count": 8,
   "metadata": {},
   "outputs": [
    {
     "name": "stderr",
     "output_type": "stream",
     "text": [
      "<ipython-input-7-2617c76f3ef4>:11: RuntimeWarning: divide by zero encountered in log\n",
      "  return ( (a-d)/(1+np.exp(b*np.log(x)- c)) + d)\n"
     ]
    }
   ],
   "source": [
    "ridgeOptimal = getOptimalParamters(ridgeResults)\n",
    "lassoOptimal = getOptimalParamters(lassoResults)\n",
    "combinedOptimal = getOptimalParamters(combinedResults)"
   ]
  },
  {
   "cell_type": "code",
   "execution_count": 9,
   "metadata": {},
   "outputs": [],
   "source": [
    " def showTestPredResponses(drugIdCosmic):\n",
    "    sampleRidge = ridgeOptimal[ridgeOptimal['DRUG_COSMICID'] == drugIdCosmic].iloc[0:1,:]\n",
    "    ridgeY = sampleRidge[params]\n",
    "    ridgeY = np.array(ridgeY[params]).squeeze()\n",
    "    sampleLasso = lassoOptimal[lassoOptimal['DRUG_COSMICID'] == drugIdCosmic].iloc[0:1,:]\n",
    "    lassoY = sampleLasso[params]\n",
    "    lassoY = np.array(lassoY[params]).squeeze()\n",
    "    sampleComb = combinedOptimal[combinedOptimal['DRUG_COSMICID'] == drugIdCosmic].iloc[0:1,:]\n",
    "    combY = sampleComb[params]\n",
    "    combY = np.array(combY[params]).squeeze()\n",
    "    trueY = trueResults[trueResults['DRUG_COSMICID'] == drugIdCosmic].iloc[0:1,:]\n",
    "    trueY = np.array(trueY[params]).squeeze()\n",
    "    print(trueY)\n",
    "    xValues = np.linspace(0.0, 1.0, 100)\n",
    "    \n",
    "    plt.title(drugIdCosmic + \" dosage against response\")\n",
    "    plt.plot(xValues, ll4_R(xValues, *trueY), color=\"b\", label = \"True\")\n",
    "    plt.plot(xValues, ll4_R(xValues, *ridgeY), color=\"g\", label = \"Ridge\")\n",
    "    plt.plot(xValues, ll4_R(xValues, *lassoY), color=\"r\", label = \"Lasso\")\n",
    "    plt.plot(xValues, ll4_R(xValues, *combY), color=\"y\", label = \"Combined\")\n",
    "    plt.xlabel(\"Scaled dosage\")\n",
    "    plt.ylabel(\"Normalised response\")\n",
    "    plt.legend()\n",
    "    plt.show()"
   ]
  },
  {
   "cell_type": "code",
   "execution_count": 10,
   "metadata": {},
   "outputs": [
    {
     "data": {
      "text/html": [
       "<div>\n",
       "<style scoped>\n",
       "    .dataframe tbody tr th:only-of-type {\n",
       "        vertical-align: middle;\n",
       "    }\n",
       "\n",
       "    .dataframe tbody tr th {\n",
       "        vertical-align: top;\n",
       "    }\n",
       "\n",
       "    .dataframe thead th {\n",
       "        text-align: right;\n",
       "    }\n",
       "</style>\n",
       "<table border=\"1\" class=\"dataframe\">\n",
       "  <thead>\n",
       "    <tr style=\"text-align: right;\">\n",
       "      <th></th>\n",
       "      <th>DRUG_COSMICID</th>\n",
       "      <th>pred_norm_cells_0</th>\n",
       "      <th>pred_norm_cells_1</th>\n",
       "      <th>pred_norm_cells_2</th>\n",
       "      <th>pred_norm_cells_3</th>\n",
       "      <th>pred_norm_cells_4</th>\n",
       "      <th>pred_norm_cells_5</th>\n",
       "      <th>pred_norm_cells_6</th>\n",
       "      <th>pred_norm_cells_7</th>\n",
       "      <th>pred_norm_cells_8</th>\n",
       "      <th>pred_norm_cells_9</th>\n",
       "      <th>param_1</th>\n",
       "      <th>param_2</th>\n",
       "      <th>param_3</th>\n",
       "      <th>param_4</th>\n",
       "    </tr>\n",
       "  </thead>\n",
       "  <tbody>\n",
       "    <tr>\n",
       "      <th>0</th>\n",
       "      <td>344_910851</td>\n",
       "      <td>1.0</td>\n",
       "      <td>1.005281</td>\n",
       "      <td>0.991087</td>\n",
       "      <td>0.955347</td>\n",
       "      <td>0.814092</td>\n",
       "      <td>0.568372</td>\n",
       "      <td>0.247703</td>\n",
       "      <td>0.079905</td>\n",
       "      <td>0.009034</td>\n",
       "      <td>0.008795</td>\n",
       "      <td>-3.52785</td>\n",
       "      <td>0.993877</td>\n",
       "      <td>6.44986</td>\n",
       "      <td>-0.0411263</td>\n",
       "    </tr>\n",
       "    <tr>\n",
       "      <th>1</th>\n",
       "      <td>344_717431</td>\n",
       "      <td>1.0</td>\n",
       "      <td>1.006711</td>\n",
       "      <td>0.970414</td>\n",
       "      <td>0.892076</td>\n",
       "      <td>0.730219</td>\n",
       "      <td>0.520836</td>\n",
       "      <td>0.253120</td>\n",
       "      <td>0.072332</td>\n",
       "      <td>0.009794</td>\n",
       "      <td>0.008990</td>\n",
       "      <td>-2.72669</td>\n",
       "      <td>0.989729</td>\n",
       "      <td>4.85899</td>\n",
       "      <td>-0.0889876</td>\n",
       "    </tr>\n",
       "    <tr>\n",
       "      <th>2</th>\n",
       "      <td>344_910925</td>\n",
       "      <td>1.0</td>\n",
       "      <td>1.005215</td>\n",
       "      <td>1.003775</td>\n",
       "      <td>0.954249</td>\n",
       "      <td>0.819478</td>\n",
       "      <td>0.590336</td>\n",
       "      <td>0.254377</td>\n",
       "      <td>0.092560</td>\n",
       "      <td>0.010457</td>\n",
       "      <td>0.009910</td>\n",
       "      <td>-3.46004</td>\n",
       "      <td>0.996176</td>\n",
       "      <td>6.43433</td>\n",
       "      <td>-0.0419321</td>\n",
       "    </tr>\n",
       "    <tr>\n",
       "      <th>3</th>\n",
       "      <td>344_908457</td>\n",
       "      <td>1.0</td>\n",
       "      <td>1.006277</td>\n",
       "      <td>0.996330</td>\n",
       "      <td>0.976480</td>\n",
       "      <td>0.817182</td>\n",
       "      <td>0.524466</td>\n",
       "      <td>0.210221</td>\n",
       "      <td>0.036275</td>\n",
       "      <td>0.009939</td>\n",
       "      <td>0.010486</td>\n",
       "      <td>-4.0968</td>\n",
       "      <td>0.998875</td>\n",
       "      <td>7.1134</td>\n",
       "      <td>-0.0272093</td>\n",
       "    </tr>\n",
       "    <tr>\n",
       "      <th>4</th>\n",
       "      <td>344_910853</td>\n",
       "      <td>1.0</td>\n",
       "      <td>1.014037</td>\n",
       "      <td>0.996950</td>\n",
       "      <td>0.978522</td>\n",
       "      <td>0.847536</td>\n",
       "      <td>0.663841</td>\n",
       "      <td>0.414078</td>\n",
       "      <td>0.159243</td>\n",
       "      <td>0.008610</td>\n",
       "      <td>0.007495</td>\n",
       "      <td>-2.44753</td>\n",
       "      <td>1.00162</td>\n",
       "      <td>5.54168</td>\n",
       "      <td>-0.113599</td>\n",
       "    </tr>\n",
       "    <tr>\n",
       "      <th>...</th>\n",
       "      <td>...</td>\n",
       "      <td>...</td>\n",
       "      <td>...</td>\n",
       "      <td>...</td>\n",
       "      <td>...</td>\n",
       "      <td>...</td>\n",
       "      <td>...</td>\n",
       "      <td>...</td>\n",
       "      <td>...</td>\n",
       "      <td>...</td>\n",
       "      <td>...</td>\n",
       "      <td>...</td>\n",
       "      <td>...</td>\n",
       "      <td>...</td>\n",
       "      <td>...</td>\n",
       "    </tr>\n",
       "    <tr>\n",
       "      <th>1150</th>\n",
       "      <td>330_910688</td>\n",
       "      <td>1.0</td>\n",
       "      <td>1.009619</td>\n",
       "      <td>0.949806</td>\n",
       "      <td>0.960634</td>\n",
       "      <td>0.844255</td>\n",
       "      <td>0.753553</td>\n",
       "      <td>0.456619</td>\n",
       "      <td>0.296181</td>\n",
       "      <td>0.126444</td>\n",
       "      <td>0.114094</td>\n",
       "      <td>-2.37472</td>\n",
       "      <td>0.981454</td>\n",
       "      <td>5.66822</td>\n",
       "      <td>0.00984312</td>\n",
       "    </tr>\n",
       "    <tr>\n",
       "      <th>1151</th>\n",
       "      <td>330_908146</td>\n",
       "      <td>1.0</td>\n",
       "      <td>1.010005</td>\n",
       "      <td>0.948330</td>\n",
       "      <td>0.959325</td>\n",
       "      <td>0.841415</td>\n",
       "      <td>0.750883</td>\n",
       "      <td>0.454179</td>\n",
       "      <td>0.295861</td>\n",
       "      <td>0.127095</td>\n",
       "      <td>0.114743</td>\n",
       "      <td>-2.3567</td>\n",
       "      <td>0.981233</td>\n",
       "      <td>5.60972</td>\n",
       "      <td>0.00892323</td>\n",
       "    </tr>\n",
       "    <tr>\n",
       "      <th>1152</th>\n",
       "      <td>330_949088</td>\n",
       "      <td>1.0</td>\n",
       "      <td>1.010288</td>\n",
       "      <td>0.948458</td>\n",
       "      <td>0.957838</td>\n",
       "      <td>0.841026</td>\n",
       "      <td>0.748175</td>\n",
       "      <td>0.452564</td>\n",
       "      <td>0.292580</td>\n",
       "      <td>0.126652</td>\n",
       "      <td>0.114703</td>\n",
       "      <td>-2.37011</td>\n",
       "      <td>0.981131</td>\n",
       "      <td>5.61184</td>\n",
       "      <td>0.00981763</td>\n",
       "    </tr>\n",
       "    <tr>\n",
       "      <th>1153</th>\n",
       "      <td>1058_753531</td>\n",
       "      <td>1.0</td>\n",
       "      <td>1.039334</td>\n",
       "      <td>0.985735</td>\n",
       "      <td>0.897866</td>\n",
       "      <td>0.848696</td>\n",
       "      <td>0.684895</td>\n",
       "      <td>0.540590</td>\n",
       "      <td>0.344257</td>\n",
       "      <td>0.182004</td>\n",
       "      <td>0.185760</td>\n",
       "      <td>-1.37431</td>\n",
       "      <td>1.0051</td>\n",
       "      <td>3.77569</td>\n",
       "      <td>-0.0693079</td>\n",
       "    </tr>\n",
       "    <tr>\n",
       "      <th>1154</th>\n",
       "      <td>1058_909722</td>\n",
       "      <td>1.0</td>\n",
       "      <td>1.013354</td>\n",
       "      <td>0.899998</td>\n",
       "      <td>0.805053</td>\n",
       "      <td>0.644846</td>\n",
       "      <td>0.447843</td>\n",
       "      <td>0.321891</td>\n",
       "      <td>0.217718</td>\n",
       "      <td>0.141012</td>\n",
       "      <td>0.147992</td>\n",
       "      <td>-2.04602</td>\n",
       "      <td>0.998946</td>\n",
       "      <td>3.13619</td>\n",
       "      <td>0.00816384</td>\n",
       "    </tr>\n",
       "  </tbody>\n",
       "</table>\n",
       "<p>1155 rows × 15 columns</p>\n",
       "</div>"
      ],
      "text/plain": [
       "     DRUG_COSMICID  pred_norm_cells_0  pred_norm_cells_1  pred_norm_cells_2  \\\n",
       "0       344_910851                1.0           1.005281           0.991087   \n",
       "1       344_717431                1.0           1.006711           0.970414   \n",
       "2       344_910925                1.0           1.005215           1.003775   \n",
       "3       344_908457                1.0           1.006277           0.996330   \n",
       "4       344_910853                1.0           1.014037           0.996950   \n",
       "...            ...                ...                ...                ...   \n",
       "1150    330_910688                1.0           1.009619           0.949806   \n",
       "1151    330_908146                1.0           1.010005           0.948330   \n",
       "1152    330_949088                1.0           1.010288           0.948458   \n",
       "1153   1058_753531                1.0           1.039334           0.985735   \n",
       "1154   1058_909722                1.0           1.013354           0.899998   \n",
       "\n",
       "      pred_norm_cells_3  pred_norm_cells_4  pred_norm_cells_5  \\\n",
       "0              0.955347           0.814092           0.568372   \n",
       "1              0.892076           0.730219           0.520836   \n",
       "2              0.954249           0.819478           0.590336   \n",
       "3              0.976480           0.817182           0.524466   \n",
       "4              0.978522           0.847536           0.663841   \n",
       "...                 ...                ...                ...   \n",
       "1150           0.960634           0.844255           0.753553   \n",
       "1151           0.959325           0.841415           0.750883   \n",
       "1152           0.957838           0.841026           0.748175   \n",
       "1153           0.897866           0.848696           0.684895   \n",
       "1154           0.805053           0.644846           0.447843   \n",
       "\n",
       "      pred_norm_cells_6  pred_norm_cells_7  pred_norm_cells_8  \\\n",
       "0              0.247703           0.079905           0.009034   \n",
       "1              0.253120           0.072332           0.009794   \n",
       "2              0.254377           0.092560           0.010457   \n",
       "3              0.210221           0.036275           0.009939   \n",
       "4              0.414078           0.159243           0.008610   \n",
       "...                 ...                ...                ...   \n",
       "1150           0.456619           0.296181           0.126444   \n",
       "1151           0.454179           0.295861           0.127095   \n",
       "1152           0.452564           0.292580           0.126652   \n",
       "1153           0.540590           0.344257           0.182004   \n",
       "1154           0.321891           0.217718           0.141012   \n",
       "\n",
       "      pred_norm_cells_9  param_1   param_2  param_3     param_4  \n",
       "0              0.008795 -3.52785  0.993877  6.44986  -0.0411263  \n",
       "1              0.008990 -2.72669  0.989729  4.85899  -0.0889876  \n",
       "2              0.009910 -3.46004  0.996176  6.43433  -0.0419321  \n",
       "3              0.010486  -4.0968  0.998875   7.1134  -0.0272093  \n",
       "4              0.007495 -2.44753   1.00162  5.54168   -0.113599  \n",
       "...                 ...      ...       ...      ...         ...  \n",
       "1150           0.114094 -2.37472  0.981454  5.66822  0.00984312  \n",
       "1151           0.114743  -2.3567  0.981233  5.60972  0.00892323  \n",
       "1152           0.114703 -2.37011  0.981131  5.61184  0.00981763  \n",
       "1153           0.185760 -1.37431    1.0051  3.77569  -0.0693079  \n",
       "1154           0.147992 -2.04602  0.998946  3.13619  0.00816384  \n",
       "\n",
       "[1155 rows x 15 columns]"
      ]
     },
     "execution_count": 10,
     "metadata": {},
     "output_type": "execute_result"
    }
   ],
   "source": [
    "ridgeOptimal"
   ]
  },
  {
   "cell_type": "code",
   "execution_count": 11,
   "metadata": {},
   "outputs": [
    {
     "data": {
      "text/html": [
       "<div>\n",
       "<style scoped>\n",
       "    .dataframe tbody tr th:only-of-type {\n",
       "        vertical-align: middle;\n",
       "    }\n",
       "\n",
       "    .dataframe tbody tr th {\n",
       "        vertical-align: top;\n",
       "    }\n",
       "\n",
       "    .dataframe thead th {\n",
       "        text-align: right;\n",
       "    }\n",
       "</style>\n",
       "<table border=\"1\" class=\"dataframe\">\n",
       "  <thead>\n",
       "    <tr style=\"text-align: right;\">\n",
       "      <th></th>\n",
       "      <th>DRUG_COSMICID</th>\n",
       "      <th>pred_norm_cells_0</th>\n",
       "      <th>pred_norm_cells_1</th>\n",
       "      <th>pred_norm_cells_2</th>\n",
       "      <th>pred_norm_cells_3</th>\n",
       "      <th>pred_norm_cells_4</th>\n",
       "      <th>pred_norm_cells_5</th>\n",
       "      <th>pred_norm_cells_6</th>\n",
       "      <th>pred_norm_cells_7</th>\n",
       "      <th>pred_norm_cells_8</th>\n",
       "      <th>pred_norm_cells_9</th>\n",
       "      <th>param_1</th>\n",
       "      <th>param_2</th>\n",
       "      <th>param_3</th>\n",
       "      <th>param_4</th>\n",
       "    </tr>\n",
       "  </thead>\n",
       "  <tbody>\n",
       "    <tr>\n",
       "      <th>0</th>\n",
       "      <td>344_910851</td>\n",
       "      <td>1.0</td>\n",
       "      <td>1.007510</td>\n",
       "      <td>0.988981</td>\n",
       "      <td>0.938434</td>\n",
       "      <td>0.781109</td>\n",
       "      <td>0.537236</td>\n",
       "      <td>0.264595</td>\n",
       "      <td>0.087304</td>\n",
       "      <td>0.009848</td>\n",
       "      <td>0.009244</td>\n",
       "      <td>-3.08282</td>\n",
       "      <td>0.996528</td>\n",
       "      <td>5.57582</td>\n",
       "      <td>-0.0605653</td>\n",
       "    </tr>\n",
       "    <tr>\n",
       "      <th>1</th>\n",
       "      <td>344_717431</td>\n",
       "      <td>1.0</td>\n",
       "      <td>1.007510</td>\n",
       "      <td>0.988981</td>\n",
       "      <td>0.938434</td>\n",
       "      <td>0.781109</td>\n",
       "      <td>0.537236</td>\n",
       "      <td>0.264595</td>\n",
       "      <td>0.087304</td>\n",
       "      <td>0.009848</td>\n",
       "      <td>0.009244</td>\n",
       "      <td>-3.08282</td>\n",
       "      <td>0.996528</td>\n",
       "      <td>5.57582</td>\n",
       "      <td>-0.0605653</td>\n",
       "    </tr>\n",
       "    <tr>\n",
       "      <th>2</th>\n",
       "      <td>344_910925</td>\n",
       "      <td>1.0</td>\n",
       "      <td>1.007510</td>\n",
       "      <td>0.988981</td>\n",
       "      <td>0.938434</td>\n",
       "      <td>0.781109</td>\n",
       "      <td>0.537236</td>\n",
       "      <td>0.264595</td>\n",
       "      <td>0.087304</td>\n",
       "      <td>0.009848</td>\n",
       "      <td>0.009244</td>\n",
       "      <td>-3.08282</td>\n",
       "      <td>0.996528</td>\n",
       "      <td>5.57582</td>\n",
       "      <td>-0.0605653</td>\n",
       "    </tr>\n",
       "    <tr>\n",
       "      <th>3</th>\n",
       "      <td>344_908457</td>\n",
       "      <td>1.0</td>\n",
       "      <td>1.007510</td>\n",
       "      <td>0.988981</td>\n",
       "      <td>0.938434</td>\n",
       "      <td>0.781109</td>\n",
       "      <td>0.537236</td>\n",
       "      <td>0.264595</td>\n",
       "      <td>0.087304</td>\n",
       "      <td>0.009848</td>\n",
       "      <td>0.009244</td>\n",
       "      <td>-3.08282</td>\n",
       "      <td>0.996528</td>\n",
       "      <td>5.57582</td>\n",
       "      <td>-0.0605653</td>\n",
       "    </tr>\n",
       "    <tr>\n",
       "      <th>4</th>\n",
       "      <td>344_910853</td>\n",
       "      <td>1.0</td>\n",
       "      <td>1.007510</td>\n",
       "      <td>0.988981</td>\n",
       "      <td>0.938434</td>\n",
       "      <td>0.781109</td>\n",
       "      <td>0.537236</td>\n",
       "      <td>0.264595</td>\n",
       "      <td>0.087304</td>\n",
       "      <td>0.009848</td>\n",
       "      <td>0.009244</td>\n",
       "      <td>-3.08282</td>\n",
       "      <td>0.996528</td>\n",
       "      <td>5.57582</td>\n",
       "      <td>-0.0605653</td>\n",
       "    </tr>\n",
       "    <tr>\n",
       "      <th>...</th>\n",
       "      <td>...</td>\n",
       "      <td>...</td>\n",
       "      <td>...</td>\n",
       "      <td>...</td>\n",
       "      <td>...</td>\n",
       "      <td>...</td>\n",
       "      <td>...</td>\n",
       "      <td>...</td>\n",
       "      <td>...</td>\n",
       "      <td>...</td>\n",
       "      <td>...</td>\n",
       "      <td>...</td>\n",
       "      <td>...</td>\n",
       "      <td>...</td>\n",
       "      <td>...</td>\n",
       "    </tr>\n",
       "    <tr>\n",
       "      <th>1150</th>\n",
       "      <td>330_910688</td>\n",
       "      <td>1.0</td>\n",
       "      <td>1.009783</td>\n",
       "      <td>0.948195</td>\n",
       "      <td>0.960092</td>\n",
       "      <td>0.842280</td>\n",
       "      <td>0.752497</td>\n",
       "      <td>0.455634</td>\n",
       "      <td>0.296427</td>\n",
       "      <td>0.126874</td>\n",
       "      <td>0.114427</td>\n",
       "      <td>-2.36039</td>\n",
       "      <td>0.981115</td>\n",
       "      <td>5.63266</td>\n",
       "      <td>0.00894331</td>\n",
       "    </tr>\n",
       "    <tr>\n",
       "      <th>1151</th>\n",
       "      <td>330_908146</td>\n",
       "      <td>1.0</td>\n",
       "      <td>1.009783</td>\n",
       "      <td>0.948195</td>\n",
       "      <td>0.960092</td>\n",
       "      <td>0.842280</td>\n",
       "      <td>0.752497</td>\n",
       "      <td>0.455634</td>\n",
       "      <td>0.296427</td>\n",
       "      <td>0.126874</td>\n",
       "      <td>0.114427</td>\n",
       "      <td>-2.36039</td>\n",
       "      <td>0.981115</td>\n",
       "      <td>5.63266</td>\n",
       "      <td>0.00894331</td>\n",
       "    </tr>\n",
       "    <tr>\n",
       "      <th>1152</th>\n",
       "      <td>330_949088</td>\n",
       "      <td>1.0</td>\n",
       "      <td>1.009783</td>\n",
       "      <td>0.948195</td>\n",
       "      <td>0.960092</td>\n",
       "      <td>0.842280</td>\n",
       "      <td>0.752497</td>\n",
       "      <td>0.455634</td>\n",
       "      <td>0.296427</td>\n",
       "      <td>0.126874</td>\n",
       "      <td>0.114427</td>\n",
       "      <td>-2.36039</td>\n",
       "      <td>0.981115</td>\n",
       "      <td>5.63266</td>\n",
       "      <td>0.00894331</td>\n",
       "    </tr>\n",
       "    <tr>\n",
       "      <th>1153</th>\n",
       "      <td>1058_753531</td>\n",
       "      <td>1.0</td>\n",
       "      <td>1.001826</td>\n",
       "      <td>0.895540</td>\n",
       "      <td>0.746895</td>\n",
       "      <td>0.590662</td>\n",
       "      <td>0.424298</td>\n",
       "      <td>0.284846</td>\n",
       "      <td>0.204660</td>\n",
       "      <td>0.130675</td>\n",
       "      <td>0.142120</td>\n",
       "      <td>-2.02424</td>\n",
       "      <td>1.00247</td>\n",
       "      <td>2.86199</td>\n",
       "      <td>-0.00237134</td>\n",
       "    </tr>\n",
       "    <tr>\n",
       "      <th>1154</th>\n",
       "      <td>1058_909722</td>\n",
       "      <td>1.0</td>\n",
       "      <td>1.001826</td>\n",
       "      <td>0.895540</td>\n",
       "      <td>0.746895</td>\n",
       "      <td>0.590662</td>\n",
       "      <td>0.424298</td>\n",
       "      <td>0.284846</td>\n",
       "      <td>0.204660</td>\n",
       "      <td>0.130675</td>\n",
       "      <td>0.142120</td>\n",
       "      <td>-2.02424</td>\n",
       "      <td>1.00247</td>\n",
       "      <td>2.86199</td>\n",
       "      <td>-0.00237134</td>\n",
       "    </tr>\n",
       "  </tbody>\n",
       "</table>\n",
       "<p>1155 rows × 15 columns</p>\n",
       "</div>"
      ],
      "text/plain": [
       "     DRUG_COSMICID  pred_norm_cells_0  pred_norm_cells_1  pred_norm_cells_2  \\\n",
       "0       344_910851                1.0           1.007510           0.988981   \n",
       "1       344_717431                1.0           1.007510           0.988981   \n",
       "2       344_910925                1.0           1.007510           0.988981   \n",
       "3       344_908457                1.0           1.007510           0.988981   \n",
       "4       344_910853                1.0           1.007510           0.988981   \n",
       "...            ...                ...                ...                ...   \n",
       "1150    330_910688                1.0           1.009783           0.948195   \n",
       "1151    330_908146                1.0           1.009783           0.948195   \n",
       "1152    330_949088                1.0           1.009783           0.948195   \n",
       "1153   1058_753531                1.0           1.001826           0.895540   \n",
       "1154   1058_909722                1.0           1.001826           0.895540   \n",
       "\n",
       "      pred_norm_cells_3  pred_norm_cells_4  pred_norm_cells_5  \\\n",
       "0              0.938434           0.781109           0.537236   \n",
       "1              0.938434           0.781109           0.537236   \n",
       "2              0.938434           0.781109           0.537236   \n",
       "3              0.938434           0.781109           0.537236   \n",
       "4              0.938434           0.781109           0.537236   \n",
       "...                 ...                ...                ...   \n",
       "1150           0.960092           0.842280           0.752497   \n",
       "1151           0.960092           0.842280           0.752497   \n",
       "1152           0.960092           0.842280           0.752497   \n",
       "1153           0.746895           0.590662           0.424298   \n",
       "1154           0.746895           0.590662           0.424298   \n",
       "\n",
       "      pred_norm_cells_6  pred_norm_cells_7  pred_norm_cells_8  \\\n",
       "0              0.264595           0.087304           0.009848   \n",
       "1              0.264595           0.087304           0.009848   \n",
       "2              0.264595           0.087304           0.009848   \n",
       "3              0.264595           0.087304           0.009848   \n",
       "4              0.264595           0.087304           0.009848   \n",
       "...                 ...                ...                ...   \n",
       "1150           0.455634           0.296427           0.126874   \n",
       "1151           0.455634           0.296427           0.126874   \n",
       "1152           0.455634           0.296427           0.126874   \n",
       "1153           0.284846           0.204660           0.130675   \n",
       "1154           0.284846           0.204660           0.130675   \n",
       "\n",
       "      pred_norm_cells_9  param_1   param_2  param_3     param_4  \n",
       "0              0.009244 -3.08282  0.996528  5.57582  -0.0605653  \n",
       "1              0.009244 -3.08282  0.996528  5.57582  -0.0605653  \n",
       "2              0.009244 -3.08282  0.996528  5.57582  -0.0605653  \n",
       "3              0.009244 -3.08282  0.996528  5.57582  -0.0605653  \n",
       "4              0.009244 -3.08282  0.996528  5.57582  -0.0605653  \n",
       "...                 ...      ...       ...      ...         ...  \n",
       "1150           0.114427 -2.36039  0.981115  5.63266  0.00894331  \n",
       "1151           0.114427 -2.36039  0.981115  5.63266  0.00894331  \n",
       "1152           0.114427 -2.36039  0.981115  5.63266  0.00894331  \n",
       "1153           0.142120 -2.02424   1.00247  2.86199 -0.00237134  \n",
       "1154           0.142120 -2.02424   1.00247  2.86199 -0.00237134  \n",
       "\n",
       "[1155 rows x 15 columns]"
      ]
     },
     "execution_count": 11,
     "metadata": {},
     "output_type": "execute_result"
    }
   ],
   "source": [
    "lassoOptimal"
   ]
  },
  {
   "cell_type": "code",
   "execution_count": 12,
   "metadata": {},
   "outputs": [
    {
     "data": {
      "text/html": [
       "<div>\n",
       "<style scoped>\n",
       "    .dataframe tbody tr th:only-of-type {\n",
       "        vertical-align: middle;\n",
       "    }\n",
       "\n",
       "    .dataframe tbody tr th {\n",
       "        vertical-align: top;\n",
       "    }\n",
       "\n",
       "    .dataframe thead th {\n",
       "        text-align: right;\n",
       "    }\n",
       "</style>\n",
       "<table border=\"1\" class=\"dataframe\">\n",
       "  <thead>\n",
       "    <tr style=\"text-align: right;\">\n",
       "      <th></th>\n",
       "      <th>DRUG_COSMICID</th>\n",
       "      <th>pred_norm_cells_0</th>\n",
       "      <th>pred_norm_cells_1</th>\n",
       "      <th>pred_norm_cells_2</th>\n",
       "      <th>pred_norm_cells_3</th>\n",
       "      <th>pred_norm_cells_4</th>\n",
       "      <th>pred_norm_cells_5</th>\n",
       "      <th>pred_norm_cells_6</th>\n",
       "      <th>pred_norm_cells_7</th>\n",
       "      <th>pred_norm_cells_8</th>\n",
       "      <th>pred_norm_cells_9</th>\n",
       "      <th>param_1</th>\n",
       "      <th>param_2</th>\n",
       "      <th>param_3</th>\n",
       "      <th>param_4</th>\n",
       "    </tr>\n",
       "  </thead>\n",
       "  <tbody>\n",
       "    <tr>\n",
       "      <th>0</th>\n",
       "      <td>344_910851</td>\n",
       "      <td>1.0</td>\n",
       "      <td>1.006395</td>\n",
       "      <td>0.990034</td>\n",
       "      <td>0.946890</td>\n",
       "      <td>0.797600</td>\n",
       "      <td>0.552804</td>\n",
       "      <td>0.256149</td>\n",
       "      <td>0.083605</td>\n",
       "      <td>0.009441</td>\n",
       "      <td>0.009020</td>\n",
       "      <td>-3.29445</td>\n",
       "      <td>0.995042</td>\n",
       "      <td>5.98985</td>\n",
       "      <td>-0.0504714</td>\n",
       "    </tr>\n",
       "    <tr>\n",
       "      <th>1</th>\n",
       "      <td>344_717431</td>\n",
       "      <td>1.0</td>\n",
       "      <td>1.007110</td>\n",
       "      <td>0.979697</td>\n",
       "      <td>0.915255</td>\n",
       "      <td>0.755664</td>\n",
       "      <td>0.529036</td>\n",
       "      <td>0.258857</td>\n",
       "      <td>0.079818</td>\n",
       "      <td>0.009821</td>\n",
       "      <td>0.009117</td>\n",
       "      <td>-2.90906</td>\n",
       "      <td>0.992515</td>\n",
       "      <td>5.22278</td>\n",
       "      <td>-0.0736192</td>\n",
       "    </tr>\n",
       "    <tr>\n",
       "      <th>2</th>\n",
       "      <td>344_910925</td>\n",
       "      <td>1.0</td>\n",
       "      <td>1.006362</td>\n",
       "      <td>0.996378</td>\n",
       "      <td>0.946342</td>\n",
       "      <td>0.800293</td>\n",
       "      <td>0.563786</td>\n",
       "      <td>0.259486</td>\n",
       "      <td>0.089932</td>\n",
       "      <td>0.010152</td>\n",
       "      <td>0.009577</td>\n",
       "      <td>-3.25351</td>\n",
       "      <td>0.996263</td>\n",
       "      <td>5.96954</td>\n",
       "      <td>-0.0516132</td>\n",
       "    </tr>\n",
       "    <tr>\n",
       "      <th>3</th>\n",
       "      <td>344_908457</td>\n",
       "      <td>1.0</td>\n",
       "      <td>1.006893</td>\n",
       "      <td>0.992655</td>\n",
       "      <td>0.957457</td>\n",
       "      <td>0.799145</td>\n",
       "      <td>0.530851</td>\n",
       "      <td>0.237408</td>\n",
       "      <td>0.061790</td>\n",
       "      <td>0.009894</td>\n",
       "      <td>0.009865</td>\n",
       "      <td>-3.58337</td>\n",
       "      <td>0.997194</td>\n",
       "      <td>6.32448</td>\n",
       "      <td>-0.0396055</td>\n",
       "    </tr>\n",
       "    <tr>\n",
       "      <th>4</th>\n",
       "      <td>344_910853</td>\n",
       "      <td>1.0</td>\n",
       "      <td>1.010773</td>\n",
       "      <td>0.992966</td>\n",
       "      <td>0.958478</td>\n",
       "      <td>0.814322</td>\n",
       "      <td>0.600538</td>\n",
       "      <td>0.339337</td>\n",
       "      <td>0.123273</td>\n",
       "      <td>0.009229</td>\n",
       "      <td>0.008370</td>\n",
       "      <td>-2.6935</td>\n",
       "      <td>0.999762</td>\n",
       "      <td>5.42988</td>\n",
       "      <td>-0.0880254</td>\n",
       "    </tr>\n",
       "    <tr>\n",
       "      <th>...</th>\n",
       "      <td>...</td>\n",
       "      <td>...</td>\n",
       "      <td>...</td>\n",
       "      <td>...</td>\n",
       "      <td>...</td>\n",
       "      <td>...</td>\n",
       "      <td>...</td>\n",
       "      <td>...</td>\n",
       "      <td>...</td>\n",
       "      <td>...</td>\n",
       "      <td>...</td>\n",
       "      <td>...</td>\n",
       "      <td>...</td>\n",
       "      <td>...</td>\n",
       "      <td>...</td>\n",
       "    </tr>\n",
       "    <tr>\n",
       "      <th>1150</th>\n",
       "      <td>330_910688</td>\n",
       "      <td>1.0</td>\n",
       "      <td>1.009701</td>\n",
       "      <td>0.949000</td>\n",
       "      <td>0.960363</td>\n",
       "      <td>0.843267</td>\n",
       "      <td>0.753025</td>\n",
       "      <td>0.456127</td>\n",
       "      <td>0.296304</td>\n",
       "      <td>0.126659</td>\n",
       "      <td>0.114261</td>\n",
       "      <td>-2.36756</td>\n",
       "      <td>0.981284</td>\n",
       "      <td>5.65044</td>\n",
       "      <td>0.00939595</td>\n",
       "    </tr>\n",
       "    <tr>\n",
       "      <th>1151</th>\n",
       "      <td>330_908146</td>\n",
       "      <td>1.0</td>\n",
       "      <td>1.009894</td>\n",
       "      <td>0.948262</td>\n",
       "      <td>0.959708</td>\n",
       "      <td>0.841847</td>\n",
       "      <td>0.751690</td>\n",
       "      <td>0.454906</td>\n",
       "      <td>0.296144</td>\n",
       "      <td>0.126984</td>\n",
       "      <td>0.114585</td>\n",
       "      <td>-2.35853</td>\n",
       "      <td>0.981174</td>\n",
       "      <td>5.62115</td>\n",
       "      <td>0.0089317</td>\n",
       "    </tr>\n",
       "    <tr>\n",
       "      <th>1152</th>\n",
       "      <td>330_949088</td>\n",
       "      <td>1.0</td>\n",
       "      <td>1.010035</td>\n",
       "      <td>0.948326</td>\n",
       "      <td>0.958965</td>\n",
       "      <td>0.841653</td>\n",
       "      <td>0.750336</td>\n",
       "      <td>0.454099</td>\n",
       "      <td>0.294504</td>\n",
       "      <td>0.126763</td>\n",
       "      <td>0.114565</td>\n",
       "      <td>-2.36522</td>\n",
       "      <td>0.981123</td>\n",
       "      <td>5.62216</td>\n",
       "      <td>0.00937982</td>\n",
       "    </tr>\n",
       "    <tr>\n",
       "      <th>1153</th>\n",
       "      <td>1058_753531</td>\n",
       "      <td>1.0</td>\n",
       "      <td>1.020580</td>\n",
       "      <td>0.940637</td>\n",
       "      <td>0.822380</td>\n",
       "      <td>0.719679</td>\n",
       "      <td>0.554596</td>\n",
       "      <td>0.412718</td>\n",
       "      <td>0.274458</td>\n",
       "      <td>0.156339</td>\n",
       "      <td>0.163940</td>\n",
       "      <td>-1.32768</td>\n",
       "      <td>1.00666</td>\n",
       "      <td>2.83254</td>\n",
       "      <td>-0.102484</td>\n",
       "    </tr>\n",
       "    <tr>\n",
       "      <th>1154</th>\n",
       "      <td>1058_909722</td>\n",
       "      <td>1.0</td>\n",
       "      <td>1.007590</td>\n",
       "      <td>0.897769</td>\n",
       "      <td>0.775974</td>\n",
       "      <td>0.617754</td>\n",
       "      <td>0.436070</td>\n",
       "      <td>0.303368</td>\n",
       "      <td>0.211189</td>\n",
       "      <td>0.135844</td>\n",
       "      <td>0.145056</td>\n",
       "      <td>-2.01468</td>\n",
       "      <td>1.00084</td>\n",
       "      <td>2.97522</td>\n",
       "      <td>8.83573e-05</td>\n",
       "    </tr>\n",
       "  </tbody>\n",
       "</table>\n",
       "<p>1155 rows × 15 columns</p>\n",
       "</div>"
      ],
      "text/plain": [
       "     DRUG_COSMICID  pred_norm_cells_0  pred_norm_cells_1  pred_norm_cells_2  \\\n",
       "0       344_910851                1.0           1.006395           0.990034   \n",
       "1       344_717431                1.0           1.007110           0.979697   \n",
       "2       344_910925                1.0           1.006362           0.996378   \n",
       "3       344_908457                1.0           1.006893           0.992655   \n",
       "4       344_910853                1.0           1.010773           0.992966   \n",
       "...            ...                ...                ...                ...   \n",
       "1150    330_910688                1.0           1.009701           0.949000   \n",
       "1151    330_908146                1.0           1.009894           0.948262   \n",
       "1152    330_949088                1.0           1.010035           0.948326   \n",
       "1153   1058_753531                1.0           1.020580           0.940637   \n",
       "1154   1058_909722                1.0           1.007590           0.897769   \n",
       "\n",
       "      pred_norm_cells_3  pred_norm_cells_4  pred_norm_cells_5  \\\n",
       "0              0.946890           0.797600           0.552804   \n",
       "1              0.915255           0.755664           0.529036   \n",
       "2              0.946342           0.800293           0.563786   \n",
       "3              0.957457           0.799145           0.530851   \n",
       "4              0.958478           0.814322           0.600538   \n",
       "...                 ...                ...                ...   \n",
       "1150           0.960363           0.843267           0.753025   \n",
       "1151           0.959708           0.841847           0.751690   \n",
       "1152           0.958965           0.841653           0.750336   \n",
       "1153           0.822380           0.719679           0.554596   \n",
       "1154           0.775974           0.617754           0.436070   \n",
       "\n",
       "      pred_norm_cells_6  pred_norm_cells_7  pred_norm_cells_8  \\\n",
       "0              0.256149           0.083605           0.009441   \n",
       "1              0.258857           0.079818           0.009821   \n",
       "2              0.259486           0.089932           0.010152   \n",
       "3              0.237408           0.061790           0.009894   \n",
       "4              0.339337           0.123273           0.009229   \n",
       "...                 ...                ...                ...   \n",
       "1150           0.456127           0.296304           0.126659   \n",
       "1151           0.454906           0.296144           0.126984   \n",
       "1152           0.454099           0.294504           0.126763   \n",
       "1153           0.412718           0.274458           0.156339   \n",
       "1154           0.303368           0.211189           0.135844   \n",
       "\n",
       "      pred_norm_cells_9  param_1   param_2  param_3      param_4  \n",
       "0              0.009020 -3.29445  0.995042  5.98985   -0.0504714  \n",
       "1              0.009117 -2.90906  0.992515  5.22278   -0.0736192  \n",
       "2              0.009577 -3.25351  0.996263  5.96954   -0.0516132  \n",
       "3              0.009865 -3.58337  0.997194  6.32448   -0.0396055  \n",
       "4              0.008370  -2.6935  0.999762  5.42988   -0.0880254  \n",
       "...                 ...      ...       ...      ...          ...  \n",
       "1150           0.114261 -2.36756  0.981284  5.65044   0.00939595  \n",
       "1151           0.114585 -2.35853  0.981174  5.62115    0.0089317  \n",
       "1152           0.114565 -2.36522  0.981123  5.62216   0.00937982  \n",
       "1153           0.163940 -1.32768   1.00666  2.83254    -0.102484  \n",
       "1154           0.145056 -2.01468   1.00084  2.97522  8.83573e-05  \n",
       "\n",
       "[1155 rows x 15 columns]"
      ]
     },
     "execution_count": 12,
     "metadata": {},
     "output_type": "execute_result"
    }
   ],
   "source": [
    "combinedOptimal"
   ]
  },
  {
   "cell_type": "code",
   "execution_count": 13,
   "metadata": {},
   "outputs": [
    {
     "name": "stdout",
     "output_type": "stream",
     "text": [
      "[-5.0342477   0.96736163  7.13907037  0.104115  ]\n"
     ]
    },
    {
     "name": "stderr",
     "output_type": "stream",
     "text": [
      "<ipython-input-7-2617c76f3ef4>:11: RuntimeWarning: divide by zero encountered in log\n",
      "  return ( (a-d)/(1+np.exp(b*np.log(x)- c)) + d)\n",
      "<ipython-input-7-2617c76f3ef4>:11: RuntimeWarning: divide by zero encountered in log\n",
      "  return ( (a-d)/(1+np.exp(b*np.log(x)- c)) + d)\n",
      "<ipython-input-7-2617c76f3ef4>:11: RuntimeWarning: divide by zero encountered in log\n",
      "  return ( (a-d)/(1+np.exp(b*np.log(x)- c)) + d)\n",
      "<ipython-input-7-2617c76f3ef4>:11: RuntimeWarning: divide by zero encountered in log\n",
      "  return ( (a-d)/(1+np.exp(b*np.log(x)- c)) + d)\n"
     ]
    },
    {
     "data": {
      "image/png": "[encoded data removed]",
      "text/plain": [
       "<Figure size 432x288 with 1 Axes>"
      ]
     },
     "metadata": {
      "needs_background": "light"
     },
     "output_type": "display_data"
    },
    {
     "name": "stdout",
     "output_type": "stream",
     "text": [
      "[-3.02287583  1.02306243  3.82626242 -0.05723839]\n"
     ]
    },
    {
     "name": "stderr",
     "output_type": "stream",
     "text": [
      "<ipython-input-7-2617c76f3ef4>:11: RuntimeWarning: divide by zero encountered in log\n",
      "  return ( (a-d)/(1+np.exp(b*np.log(x)- c)) + d)\n",
      "<ipython-input-7-2617c76f3ef4>:11: RuntimeWarning: divide by zero encountered in log\n",
      "  return ( (a-d)/(1+np.exp(b*np.log(x)- c)) + d)\n",
      "<ipython-input-7-2617c76f3ef4>:11: RuntimeWarning: divide by zero encountered in log\n",
      "  return ( (a-d)/(1+np.exp(b*np.log(x)- c)) + d)\n",
      "<ipython-input-7-2617c76f3ef4>:11: RuntimeWarning: divide by zero encountered in log\n",
      "  return ( (a-d)/(1+np.exp(b*np.log(x)- c)) + d)\n"
     ]
    },
    {
     "data": {
      "image/png": "[encoded data removed]",
      "text/plain": [
       "<Figure size 432x288 with 1 Axes>"
      ]
     },
     "metadata": {
      "needs_background": "light"
     },
     "output_type": "display_data"
    },
    {
     "name": "stdout",
     "output_type": "stream",
     "text": [
      "[-6.99192806  0.96601063  8.64385529  0.02294492]\n"
     ]
    },
    {
     "name": "stderr",
     "output_type": "stream",
     "text": [
      "<ipython-input-7-2617c76f3ef4>:11: RuntimeWarning: divide by zero encountered in log\n",
      "  return ( (a-d)/(1+np.exp(b*np.log(x)- c)) + d)\n",
      "<ipython-input-7-2617c76f3ef4>:11: RuntimeWarning: divide by zero encountered in log\n",
      "  return ( (a-d)/(1+np.exp(b*np.log(x)- c)) + d)\n",
      "<ipython-input-7-2617c76f3ef4>:11: RuntimeWarning: divide by zero encountered in log\n",
      "  return ( (a-d)/(1+np.exp(b*np.log(x)- c)) + d)\n",
      "<ipython-input-7-2617c76f3ef4>:11: RuntimeWarning: divide by zero encountered in log\n",
      "  return ( (a-d)/(1+np.exp(b*np.log(x)- c)) + d)\n"
     ]
    },
    {
     "data": {
      "image/png": "[encoded data removed]",
      "text/plain": [
       "<Figure size 432x288 with 1 Axes>"
      ]
     },
     "metadata": {
      "needs_background": "light"
     },
     "output_type": "display_data"
    },
    {
     "name": "stdout",
     "output_type": "stream",
     "text": [
      "[-3.49359211  0.97852619  4.12186241  0.07888077]\n"
     ]
    },
    {
     "name": "stderr",
     "output_type": "stream",
     "text": [
      "<ipython-input-7-2617c76f3ef4>:11: RuntimeWarning: divide by zero encountered in log\n",
      "  return ( (a-d)/(1+np.exp(b*np.log(x)- c)) + d)\n",
      "<ipython-input-7-2617c76f3ef4>:11: RuntimeWarning: divide by zero encountered in log\n",
      "  return ( (a-d)/(1+np.exp(b*np.log(x)- c)) + d)\n",
      "<ipython-input-7-2617c76f3ef4>:11: RuntimeWarning: divide by zero encountered in log\n",
      "  return ( (a-d)/(1+np.exp(b*np.log(x)- c)) + d)\n",
      "<ipython-input-7-2617c76f3ef4>:11: RuntimeWarning: divide by zero encountered in log\n",
      "  return ( (a-d)/(1+np.exp(b*np.log(x)- c)) + d)\n"
     ]
    },
    {
     "data": {
      "image/png": "[encoded data removed]",
      "text/plain": [
       "<Figure size 432x288 with 1 Axes>"
      ]
     },
     "metadata": {
      "needs_background": "light"
     },
     "output_type": "display_data"
    },
    {
     "name": "stdout",
     "output_type": "stream",
     "text": [
      "[-5.72555531  0.9846722   9.19515313  0.01268663]\n"
     ]
    },
    {
     "name": "stderr",
     "output_type": "stream",
     "text": [
      "<ipython-input-7-2617c76f3ef4>:11: RuntimeWarning: divide by zero encountered in log\n",
      "  return ( (a-d)/(1+np.exp(b*np.log(x)- c)) + d)\n",
      "<ipython-input-7-2617c76f3ef4>:11: RuntimeWarning: divide by zero encountered in log\n",
      "  return ( (a-d)/(1+np.exp(b*np.log(x)- c)) + d)\n",
      "<ipython-input-7-2617c76f3ef4>:11: RuntimeWarning: divide by zero encountered in log\n",
      "  return ( (a-d)/(1+np.exp(b*np.log(x)- c)) + d)\n",
      "<ipython-input-7-2617c76f3ef4>:11: RuntimeWarning: divide by zero encountered in log\n",
      "  return ( (a-d)/(1+np.exp(b*np.log(x)- c)) + d)\n"
     ]
    },
    {
     "data": {
      "image/png": "[encoded data removed]",
      "text/plain": [
       "<Figure size 432x288 with 1 Axes>"
      ]
     },
     "metadata": {
      "needs_background": "light"
     },
     "output_type": "display_data"
    },
    {
     "name": "stdout",
     "output_type": "stream",
     "text": [
      "[-1.52016945e+01  1.00898697e+00  4.85331886e+01  6.61701559e-03]\n"
     ]
    },
    {
     "name": "stderr",
     "output_type": "stream",
     "text": [
      "<ipython-input-7-2617c76f3ef4>:11: RuntimeWarning: divide by zero encountered in log\n",
      "  return ( (a-d)/(1+np.exp(b*np.log(x)- c)) + d)\n",
      "<ipython-input-7-2617c76f3ef4>:11: RuntimeWarning: divide by zero encountered in log\n",
      "  return ( (a-d)/(1+np.exp(b*np.log(x)- c)) + d)\n",
      "<ipython-input-7-2617c76f3ef4>:11: RuntimeWarning: divide by zero encountered in log\n",
      "  return ( (a-d)/(1+np.exp(b*np.log(x)- c)) + d)\n",
      "<ipython-input-7-2617c76f3ef4>:11: RuntimeWarning: divide by zero encountered in log\n",
      "  return ( (a-d)/(1+np.exp(b*np.log(x)- c)) + d)\n"
     ]
    },
    {
     "data": {
      "image/png": "[encoded data removed]",
      "text/plain": [
       "<Figure size 432x288 with 1 Axes>"
      ]
     },
     "metadata": {
      "needs_background": "light"
     },
     "output_type": "display_data"
    },
    {
     "name": "stdout",
     "output_type": "stream",
     "text": [
      "[-2.30242512  0.99837985  3.27645968 -0.09001863]\n"
     ]
    },
    {
     "name": "stderr",
     "output_type": "stream",
     "text": [
      "<ipython-input-7-2617c76f3ef4>:11: RuntimeWarning: divide by zero encountered in log\n",
      "  return ( (a-d)/(1+np.exp(b*np.log(x)- c)) + d)\n",
      "<ipython-input-7-2617c76f3ef4>:11: RuntimeWarning: divide by zero encountered in log\n",
      "  return ( (a-d)/(1+np.exp(b*np.log(x)- c)) + d)\n",
      "<ipython-input-7-2617c76f3ef4>:11: RuntimeWarning: divide by zero encountered in log\n",
      "  return ( (a-d)/(1+np.exp(b*np.log(x)- c)) + d)\n",
      "<ipython-input-7-2617c76f3ef4>:11: RuntimeWarning: divide by zero encountered in log\n",
      "  return ( (a-d)/(1+np.exp(b*np.log(x)- c)) + d)\n"
     ]
    },
    {
     "data": {
      "image/png": "[encoded data removed]",
      "text/plain": [
       "<Figure size 432x288 with 1 Axes>"
      ]
     },
     "metadata": {
      "needs_background": "light"
     },
     "output_type": "display_data"
    },
    {
     "name": "stdout",
     "output_type": "stream",
     "text": [
      "[-8.78135753e+01  1.00386219e+00  1.47752583e+02  8.43069107e-02]\n"
     ]
    },
    {
     "name": "stderr",
     "output_type": "stream",
     "text": [
      "<ipython-input-7-2617c76f3ef4>:11: RuntimeWarning: divide by zero encountered in log\n",
      "  return ( (a-d)/(1+np.exp(b*np.log(x)- c)) + d)\n",
      "<ipython-input-7-2617c76f3ef4>:11: RuntimeWarning: divide by zero encountered in log\n",
      "  return ( (a-d)/(1+np.exp(b*np.log(x)- c)) + d)\n",
      "<ipython-input-7-2617c76f3ef4>:11: RuntimeWarning: divide by zero encountered in log\n",
      "  return ( (a-d)/(1+np.exp(b*np.log(x)- c)) + d)\n",
      "<ipython-input-7-2617c76f3ef4>:11: RuntimeWarning: divide by zero encountered in log\n",
      "  return ( (a-d)/(1+np.exp(b*np.log(x)- c)) + d)\n"
     ]
    },
    {
     "data": {
      "image/png": "[encoded data removed]",
      "text/plain": [
       "<Figure size 432x288 with 1 Axes>"
      ]
     },
     "metadata": {
      "needs_background": "light"
     },
     "output_type": "display_data"
    },
    {
     "name": "stdout",
     "output_type": "stream",
     "text": [
      "[-3.99503979  1.01256903  4.62688499  0.02476373]\n"
     ]
    },
    {
     "name": "stderr",
     "output_type": "stream",
     "text": [
      "<ipython-input-7-2617c76f3ef4>:11: RuntimeWarning: divide by zero encountered in log\n",
      "  return ( (a-d)/(1+np.exp(b*np.log(x)- c)) + d)\n",
      "<ipython-input-7-2617c76f3ef4>:11: RuntimeWarning: divide by zero encountered in log\n",
      "  return ( (a-d)/(1+np.exp(b*np.log(x)- c)) + d)\n",
      "<ipython-input-7-2617c76f3ef4>:11: RuntimeWarning: divide by zero encountered in log\n",
      "  return ( (a-d)/(1+np.exp(b*np.log(x)- c)) + d)\n",
      "<ipython-input-7-2617c76f3ef4>:11: RuntimeWarning: divide by zero encountered in log\n",
      "  return ( (a-d)/(1+np.exp(b*np.log(x)- c)) + d)\n"
     ]
    },
    {
     "data": {
      "image/png": "[encoded data removed]",
      "text/plain": [
       "<Figure size 432x288 with 1 Axes>"
      ]
     },
     "metadata": {
      "needs_background": "light"
     },
     "output_type": "display_data"
    }
   ],
   "source": [
    "max_int = len(combinedOptimal.index)\n",
    "rand_int = np.random.randint(0, max_int, 9)\n",
    "for index in rand_int:\n",
    "    showTestPredResponses(combinedOptimal.loc[index]['DRUG_COSMICID'])"
   ]
  },
  {
   "cell_type": "code",
   "execution_count": 14,
   "metadata": {},
   "outputs": [],
   "source": [
    "lassoOptimal.to_csv(_FOLDER2 +'lassoPredicted.csv', index=False)\n",
    "ridgeOptimal.to_csv(_FOLDER2 +'ridgePredicted.csv', index=False)\n",
    "combinedOptimal.to_csv(_FOLDER2 +'stackingPredicted.csv', index=False)\n",
    "trueResults.to_csv(_FOLDER2 +'trueResults.csv', index=False)"
   ]
  },
  {
   "cell_type": "code",
   "execution_count": null,
   "metadata": {},
   "outputs": [],
   "source": []
  }
 ],
 "metadata": {
  "kernelspec": {
   "display_name": "Python 3",
   "language": "python",
   "name": "python3"
  },
  "language_info": {
   "codemirror_mode": {
    "name": "ipython",
    "version": 3
   },
   "file_extension": ".py",
   "mimetype": "text/x-python",
   "name": "python",
   "nbconvert_exporter": "python",
   "pygments_lexer": "ipython3",
   "version": "3.8.5"
  }
 },
 "nbformat": 4,
 "nbformat_minor": 4
}
