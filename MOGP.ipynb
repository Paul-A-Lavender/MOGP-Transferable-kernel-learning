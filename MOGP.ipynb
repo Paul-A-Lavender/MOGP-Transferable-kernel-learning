{
 "cells": [
  {
   "cell_type": "code",
   "execution_count": 27,
   "metadata": {},
   "outputs": [
    {
     "name": "stdout",
     "output_type": "stream",
     "text": [
      "The autoreload extension is already loaded. To reload it, use:\n",
      "  %reload_ext autoreload\n"
     ]
    }
   ],
   "source": [
    "import math\n",
    "import torch\n",
    "import gpytorch\n",
    "from matplotlib import pyplot as plt\n",
    "import pandas as pd\n",
    "from torch.utils.data import Dataset, DataLoader\n",
    "import numpy as np\n",
    "from scipy.interpolate import make_interp_spline\n",
    "from sklearn.model_selection import train_test_split\n",
    "from gpytorch.kernels import Kernel\n",
    "import pickle\n",
    "%matplotlib inline\n",
    "%load_ext autoreload\n",
    "%autoreload 2"
   ]
  },
  {
   "cell_type": "code",
   "execution_count": 28,
   "metadata": {},
   "outputs": [],
   "source": [
    "# df = pd.read_csv('GDSC1_melanoma_BRAF_5conc_noreps_v3.csv')\n",
    "# X = df[['param_1', 'param_2', 'param_3',\n",
    "#        'param_4','ARID1A_mut', 'ARID2_mut', 'BRAF_mut', 'CDKN2A_mut',\n",
    "#        'EZH2_mut', 'MECOM_mut', 'NF1_mut', 'NRAS_mut', 'PLCB1_mut', 'PTEN_mut',\n",
    "#        'TP53_mut', 'loss.cnaSKCM3', 'loss.cnaSKCM4..BNC2.CDKN2A.JAK2.PSIP1.',\n",
    "#        'loss.cnaSKCM5..PAX5.', 'loss.cnaSKCM9', 'gain.cnaSKCM12..KRAS.',\n",
    "#        'gain.cnaSKCM21..FOXP1.MITF.', 'loss.cnaSKCM22', 'loss.cnaSKCM23',\n",
    "#        'loss.cnaSKCM24..loss.cnaSKCM25', 'loss.cnaSKCM26',\n",
    "#        'loss.cnaSKCM27..CASP1.', 'loss.cnaSKCM28', 'loss.cnaSKCM30']].values\n",
    "# y = df[['norm_cells_1', 'norm_cells_2', 'norm_cells_3',\n",
    "#        'norm_cells_4', 'norm_cells_5']].values\n",
    "\n",
    "X_df=None\n",
    "X_domain_info=None\n",
    "y_df=None\n",
    "with open('X_df.pkl', 'rb') as f:\n",
    "    X_df = pickle.load(f)\n",
    "with open('X_domain_info.pkl', 'rb') as f:\n",
    "    X_domain_info = pickle.load(f)\n",
    "with open('y_df.pkl', 'rb') as f:\n",
    "    y_df = pickle.load(f)\n",
    "\n",
    "num_conc=y_df.shape[1]\n",
    "X_train, X_test, y_train, y_test = train_test_split(X_df, y_df, test_size=0.1, random_state=42)\n",
    "\n",
    "X_train = np.array(X_train, dtype=np.float32)\n",
    "y_train = np.array(y_train, dtype=np.float32)\n",
    "X_test = np.array(X_test, dtype=np.float32)\n",
    "y_test = np.array(y_test, dtype=np.float32)"
   ]
  },
  {
   "cell_type": "code",
   "execution_count": 29,
   "metadata": {},
   "outputs": [],
   "source": [
    "\n",
    "\n",
    "X_train_tensor = torch.tensor(X_train)\n",
    "y_train_tensor = torch.tensor(y_train)\n",
    "X_test_tensor = torch.tensor(X_test)\n",
    "y_test_tensor = torch.tensor(y_test)\n"
   ]
  },
  {
   "cell_type": "code",
   "execution_count": 30,
   "metadata": {},
   "outputs": [],
   "source": [
    "class HomemadeRBF(Kernel):\\\n",
    "#TODO embed the domain information\n",
    "    def __init__(self, **kwargs):\n",
    "        super().__init__(**kwargs)\n",
    "        # Define a hyperparameter called 'scale'\n",
    "        self.homemade_lengthscale = torch.nn.Parameter(torch.tensor(1.0))\n",
    "        \n",
    "        # Register the hyperparameter\n",
    "        self.register_parameter(name='homemade_lengthscale', parameter=self.homemade_lengthscale)\n",
    "    def forward(self, x1, x2,**params):\n",
    "        # 扩展维度以便广播\n",
    "        x1_expanded = x1.unsqueeze(1)  # (8, 1, 28)\n",
    "        x2_expanded = x2.unsqueeze(0)  # (1, 80, 28)\n",
    "\n",
    "        variance_matrix = torch.var(x1_expanded - x2_expanded, dim=2)\n",
    "\n",
    "        return torch.exp(-variance_matrix/(2*(self.homemade_lengthscale**2)))\n",
    "            \n"
   ]
  },
  {
   "cell_type": "code",
   "execution_count": 31,
   "metadata": {},
   "outputs": [],
   "source": [
    "class QuadripleDRPKernel(Kernel):\n",
    "    def __init__(self, **kwargs):\n",
    "        super().__init__(**kwargs)\n",
    "        # Use a base kernel, e.g., RBFKernel\n",
    "        self.kernel_mu = gpytorch.kernels.RBFKernel()\n",
    "        self.kernel_met = gpytorch.kernels.RBFKernel()\n",
    "        self.kernel_cn = gpytorch.kernels.RBFKernel()\n",
    "        self.kernel_dc = gpytorch.kernels.RBFKernel()\n",
    "    \n",
    "    def forward(self, x1, x2, diag=False, last_dim_is_batch=False, **params):\n",
    "        # Apply the base kernel\n",
    "        filter_mu=0\n",
    "        filter_met=0\n",
    "        filter_cn=0\n",
    "        filter_dc=0\n",
    "        \n",
    "        # Use the scale hyperparameter\n",
    "        return self.scale * 1"
   ]
  },
  {
   "cell_type": "code",
   "execution_count": 32,
   "metadata": {},
   "outputs": [],
   "source": [
    "class MultitaskGPModel(gpytorch.models.ExactGP):\n",
    "    #TODO add input for domain information\n",
    "    def __init__(self, train_x, train_y, likelihood):\n",
    "        super(MultitaskGPModel, self).__init__(train_x, train_y, likelihood)\n",
    "        self.mean_module = gpytorch.means.MultitaskMean(\n",
    "            gpytorch.means.ConstantMean(), num_tasks=num_conc\n",
    "        )\n",
    "        self.covar_module = gpytorch.kernels.MultitaskKernel(\n",
    "            HomemadeRBF(), num_tasks=num_conc, rank=2\n",
    "        )\n",
    "\n",
    "    def forward(self, x):\n",
    "        mean_x = self.mean_module(x)\n",
    "        covar_x = self.covar_module(x)\n",
    "        return gpytorch.distributions.MultitaskMultivariateNormal(mean_x, covar_x)\n",
    "\n",
    "\n",
    "likelihood = gpytorch.likelihoods.MultitaskGaussianLikelihood(num_tasks=num_conc)\n",
    "model = MultitaskGPModel(X_train_tensor, y_train_tensor, likelihood)"
   ]
  },
  {
   "cell_type": "code",
   "execution_count": 33,
   "metadata": {},
   "outputs": [
    {
     "name": "stdout",
     "output_type": "stream",
     "text": [
      "Iter 1/50 - Loss: 1.128\n",
      "Iter 2/50 - Loss: 1.089\n",
      "Iter 3/50 - Loss: 1.050\n",
      "Iter 4/50 - Loss: 1.011\n",
      "Iter 5/50 - Loss: 0.972\n",
      "Iter 6/50 - Loss: 0.933\n",
      "Iter 7/50 - Loss: 0.894\n",
      "Iter 8/50 - Loss: 0.854\n",
      "Iter 9/50 - Loss: 0.814\n",
      "Iter 10/50 - Loss: 0.774\n",
      "Iter 11/50 - Loss: 0.734\n",
      "Iter 12/50 - Loss: 0.693\n",
      "Iter 13/50 - Loss: 0.653\n",
      "Iter 14/50 - Loss: 0.612\n",
      "Iter 15/50 - Loss: 0.571\n",
      "Iter 16/50 - Loss: 0.530\n",
      "Iter 17/50 - Loss: 0.490\n",
      "Iter 18/50 - Loss: 0.449\n",
      "Iter 19/50 - Loss: 0.409\n",
      "Iter 20/50 - Loss: 0.369\n",
      "Iter 21/50 - Loss: 0.330\n",
      "Iter 22/50 - Loss: 0.292\n",
      "Iter 23/50 - Loss: 0.255\n",
      "Iter 24/50 - Loss: 0.218\n",
      "Iter 25/50 - Loss: 0.182\n",
      "Iter 26/50 - Loss: 0.148\n",
      "Iter 27/50 - Loss: 0.115\n",
      "Iter 28/50 - Loss: 0.084\n",
      "Iter 29/50 - Loss: 0.053\n",
      "Iter 30/50 - Loss: 0.024\n",
      "Iter 31/50 - Loss: -0.004\n",
      "Iter 32/50 - Loss: -0.030\n",
      "Iter 33/50 - Loss: -0.055\n",
      "Iter 34/50 - Loss: -0.080\n",
      "Iter 35/50 - Loss: -0.105\n",
      "Iter 36/50 - Loss: -0.129\n",
      "Iter 37/50 - Loss: -0.155\n",
      "Iter 38/50 - Loss: -0.181\n",
      "Iter 39/50 - Loss: -0.208\n",
      "Iter 40/50 - Loss: -0.236\n",
      "Iter 41/50 - Loss: -0.263\n",
      "Iter 42/50 - Loss: -0.290\n",
      "Iter 43/50 - Loss: -0.316\n",
      "Iter 44/50 - Loss: -0.342\n",
      "Iter 45/50 - Loss: -0.366\n",
      "Iter 46/50 - Loss: -0.389\n",
      "Iter 47/50 - Loss: -0.411\n",
      "Iter 48/50 - Loss: -0.433\n",
      "Iter 49/50 - Loss: -0.453\n",
      "Iter 50/50 - Loss: -0.473\n"
     ]
    }
   ],
   "source": [
    "# this is for running the notebook in our testing framework\n",
    "import os\n",
    "smoke_test = ('CI' in os.environ)\n",
    "training_iterations = 2 if smoke_test else 50\n",
    "\n",
    "\n",
    "# Find optimal model hyperparameters\n",
    "model.train()\n",
    "likelihood.train()\n",
    "\n",
    "# Use the adam optimizer\n",
    "optimizer = torch.optim.Adam(model.parameters(), lr=0.1)  # Includes GaussianLikelihood parameters\n",
    "\n",
    "# \"Loss\" for GPs - the marginal log likelihood\n",
    "mll = gpytorch.mlls.ExactMarginalLogLikelihood(likelihood, model)\n",
    "\n",
    "for i in range(training_iterations):\n",
    "    optimizer.zero_grad()\n",
    "    output = model(X_train_tensor)\n",
    "    loss = -mll(output, y_train_tensor)\n",
    "    loss.backward()\n",
    "    print('Iter %d/%d - Loss: %.3f' % (i + 1, training_iterations, loss.item()))\n",
    "    optimizer.step()"
   ]
  },
  {
   "cell_type": "code",
   "execution_count": 34,
   "metadata": {},
   "outputs": [
    {
     "name": "stderr",
     "output_type": "stream",
     "text": [
      "c:\\Users\\25858\\anaconda3\\Lib\\site-packages\\gpytorch\\distributions\\multivariate_normal.py:319: NumericalWarning: Negative variance values detected. This is likely due to numerical instabilities. Rounding negative variances up to 1e-06.\n",
      "  warnings.warn(\n"
     ]
    }
   ],
   "source": [
    "def smooth_curve(x, y, num_points=300):\n",
    "    # 创建平滑的曲线\n",
    "    x_smooth = np.linspace(x.min(), x.max(), num_points)\n",
    "    y_smooth = make_interp_spline(x, y)(x_smooth)\n",
    "    return x_smooth, y_smooth\n",
    "\n",
    "# Set into eval mode\n",
    "model.eval()\n",
    "likelihood.eval()\n",
    "\n",
    "\n",
    "# Make predictions\n",
    "with torch.no_grad(), gpytorch.settings.fast_pred_var():\n",
    "    predictions = likelihood(model(X_test_tensor))\n",
    "    mean = predictions.mean\n",
    "    lower, upper = predictions.confidence_region()\n",
    "\n"
   ]
  },
  {
   "cell_type": "code",
   "execution_count": 42,
   "metadata": {},
   "outputs": [
    {
     "name": "stdout",
     "output_type": "stream",
     "text": [
      "Num 12 Chosen for display\n"
     ]
    },
    {
     "data": {
      "image/png": "[encoded data removed]",
      "text/plain": [
       "<Figure size 1000x600 with 1 Axes>"
      ]
     },
     "metadata": {},
     "output_type": "display_data"
    }
   ],
   "source": [
    "\n",
    "x = np.arange(len(mean[0]))\n",
    "\n",
    "random_num = np.random.randint(0, len(mean), size=1)[0]\n",
    "y_pred=mean[random_num]\n",
    "y_true=y_test_tensor[random_num]\n",
    "print(\"Num \"+str(random_num)+\" Chosen for display\")\n",
    "x = np.linspace(0, len(y_pred) - 1, len(y_pred))\n",
    "# 创建图形\n",
    "plt.figure(figsize=(10, 6))\n",
    "plt.plot(x, y_pred, label='Predicted', color='blue')\n",
    "plt.plot(x, y_true, label='True', color='red')\n",
    "plt.fill_between(x, lower[random_num].numpy(), upper[random_num].numpy(), alpha=0.5)\n",
    "plt.ylim(-0.1, 1.1)\n",
    "# 添加标题和标签\n",
    "plt.title('Comparison of Two Smoothed Curves')\n",
    "plt.xlabel('X-axis')\n",
    "plt.ylabel('Y-axis')\n",
    "plt.legend()\n",
    "plt.grid(True)\n"
   ]
  }
 ],
 "metadata": {
  "kernelspec": {
   "display_name": "base",
   "language": "python",
   "name": "python3"
  },
  "language_info": {
   "codemirror_mode": {
    "name": "ipython",
    "version": 3
   },
   "file_extension": ".py",
   "mimetype": "text/x-python",
   "name": "python",
   "nbconvert_exporter": "python",
   "pygments_lexer": "ipython3",
   "version": "3.12.4"
  }
 },
 "nbformat": 4,
 "nbformat_minor": 2
}
