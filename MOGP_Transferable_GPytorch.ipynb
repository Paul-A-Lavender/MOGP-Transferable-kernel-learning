{
 "cells": [
  {
   "cell_type": "code",
   "execution_count": 1,
   "metadata": {},
   "outputs": [],
   "source": [
    "import torch\n",
    "import gpytorch\n",
    "from matplotlib import pyplot as plt\n",
    "import pandas as pd\n",
    "from torch.utils.data import  DataLoader\n",
    "import numpy as np\n",
    "from gpytorch.kernels import Kernel\n",
    "import pickle\n",
    "\n",
    "from gpytorch.kernels import Kernel, RBFKernel\n",
    "\n",
    "import torch.nn as nn\n",
    "import logging\n",
    "from itertools import product\n",
    "from sklearn.model_selection import KFold\n",
    "from torch.utils.data import DataLoader, Subset,TensorDataset\n",
    "\n",
    "from utils.HelperFunctions import *\n",
    "from utils.Models import *\n",
    "from utils.Kernels import *\n",
    "%matplotlib inline\n",
    "%load_ext autoreload\n",
    "%autoreload 2"
   ]
  },
  {
   "cell_type": "code",
   "execution_count": null,
   "metadata": {},
   "outputs": [],
   "source": [
    "param_grid = {\n",
    "    'models':[Linear_Model_Of_Corregionalization,MultitaskGP],\n",
    "    'kernels': [K_MS_with_Feat_Scaling,K_MS,K_Alpha_Beta,RBFKernel],\n",
    "    'lrs': torch.log(torch.logspace(0.003,0.3,5)).tolist(),\n",
    "    'gammas':torch.linspace(0.2,0.8,5).tolist(),\n",
    "    'STEP_SIZEs':torch.linspace(10,100,5).tolist()\n",
    "}\n"
   ]
  },
  {
   "cell_type": "code",
   "execution_count": 3,
   "metadata": {},
   "outputs": [
    {
     "data": {
      "text/plain": [
       "[0.20000000298023224,\n",
       " 0.3500000238418579,\n",
       " 0.5,\n",
       " 0.6499999761581421,\n",
       " 0.800000011920929]"
      ]
     },
     "execution_count": 3,
     "metadata": {},
     "output_type": "execute_result"
    }
   ],
   "source": [
    "torch.linspace(0.2,0.8,5).tolist()"
   ]
  },
  {
   "cell_type": "markdown",
   "metadata": {},
   "source": [
    "# Global variables and configuration"
   ]
  },
  {
   "cell_type": "code",
   "execution_count": 55,
   "metadata": {},
   "outputs": [
    {
     "name": "stdout",
     "output_type": "stream",
     "text": [
      "StreamHandler already exists\n",
      "GPU is not available!\n"
     ]
    }
   ],
   "source": [
    "# 创建一个logger\n",
    "logger = logging.getLogger('my_logger')\n",
    "logger.setLevel(logging.DEBUG)\n",
    "\n",
    "# 创建文件处理器，写入日志文件\n",
    "fh = logging.FileHandler('app.log')\n",
    "fh.setLevel(logging.DEBUG)\n",
    "\n",
    "# 创建控制台处理器，输出到控制台\n",
    "ch = logging.StreamHandler()\n",
    "\n",
    "# 设置日志格式\n",
    "formatter = logging.Formatter('%(asctime)s - %(levelname)s - %(message)s')\n",
    "fh.setFormatter(formatter)\n",
    "\n",
    "# 将处理器添加到logger中\n",
    "# 创建控制台处理器，输出到控制台\n",
    "ch = logging.StreamHandler()\n",
    "ch.setLevel(logging.DEBUG)\n",
    "ch.setFormatter(formatter)\n",
    "\n",
    "if not any(isinstance(handler, logging.StreamHandler) for handler in logger.handlers):\n",
    "    logger.addHandler(fh)\n",
    "    logger.addHandler(ch)\n",
    "    print(\"StreamHandler added\")\n",
    "else:\n",
    "    print(\"StreamHandler already exists\")\n",
    "\n",
    "if torch.cuda.is_available():\n",
    "    print(\"GPU is available!\")\n",
    "else:\n",
    "    print(\"GPU is not available!\")\n",
    "USE_TOY_DATASET=False"
   ]
  },
  {
   "cell_type": "code",
   "execution_count": 65,
   "metadata": {},
   "outputs": [
    {
     "name": "stdout",
     "output_type": "stream",
     "text": [
      "(153, 1084)\n",
      "(153, 10)\n",
      "(153, 1)\n",
      "torch.Size([137, 1084])\n",
      "torch.Size([137, 1])\n",
      "torch.Size([137, 10])\n",
      "NUMS_DOMAIN: 8.0\n",
      "torch.Size([137, 1085])\n",
      "torch.Size([16, 1085])\n"
     ]
    }
   ],
   "source": [
    "# X_path=\"data/X_df_toy.pkl\"\n",
    "# y_path=\"data/y_df_toy.pkl\"\n",
    "\n",
    "# X_path=\"data/full_shots_Shikonin/X_df.pkl\"\n",
    "# y_path=\"data/full_shots_Shikonin/y_df.pkl\"\n",
    "# X_domain_path=\"data/full_shots_Shikonin/X_domain_info.pkl\"\n",
    "\n",
    "Global=config()\n",
    "\n",
    "# X_path=\"data/X_df_2_shots.pkl\"\n",
    "# y_path=\"data/y_df_2_shots.pkl\"\n",
    "# X_domain_path=\"data/X_domain_info_2_shots.pkl\"\n",
    "\n",
    "# X_path=\"data/2_shots_4_params_sigmoid/X_df.pkl\"\n",
    "# y_path=\"data/2_shots_4_params_sigmoid/y_df.pkl\"\n",
    "# X_domain_path=\"data/2_shots_4_params_sigmoid/X_domain_info.pkl\"\n",
    "\n",
    "X_path=\"data/8_shots/X_df.pkl\"\n",
    "y_path=\"data/8_shots/y_df.pkl\"\n",
    "X_domain_path=\"data/8_shots/X_domain_info.pkl\"\n",
    "\n",
    "# X_path=\"data/2_shots/X_df.pkl\"\n",
    "# y_path=\"data/2_shots/y_df.pkl\"\n",
    "# X_domain_path=\"data/2_shots/X_domain_info.pkl\"\n",
    "(X_train_tensor,X_D_train_tensor,y_train_tensor),(X_test_tensor,X_D_test_tensor,y_test_tensor)=load_dataset(X_path,y_path,X_domain_path=X_domain_path)\n",
    "\n",
    "print(X_train_tensor.shape)\n",
    "print(X_D_train_tensor.shape)\n",
    "print(y_train_tensor.shape)\n",
    "\n",
    "Global.NUM_CONC=y_train_tensor.shape[1]\n",
    "\n",
    "Global.NUM_FEAT=X_train_tensor.shape[1]\n",
    "Global.NUM_DOMAIN_FEAT=X_D_train_tensor.shape[1]\n",
    "NUMS_DOMAIN, max_indices_row = torch.max(X_D_train_tensor, dim=0)\n",
    "NUMS_DOMAIN.add_(1)\n",
    "\n",
    "\n",
    "print(f'NUMS_DOMAIN: {NUMS_DOMAIN.item()}')\n",
    "Global.NUMS_DOMAIN=NUMS_DOMAIN.long()\n",
    "X_train_tensor = torch.cat((X_D_train_tensor, X_train_tensor), dim=1)\n",
    "X_test_tensor = torch.cat((X_D_test_tensor, X_test_tensor), dim=1)\n",
    "print(X_train_tensor.shape)\n",
    "print(X_test_tensor.shape)\n",
    "\n",
    "with open(X_path, 'rb') as f:\n",
    "    X_df = pickle.load(f)\n"
   ]
  },
  {
   "cell_type": "markdown",
   "metadata": {},
   "source": [
    "# Tests"
   ]
  },
  {
   "cell_type": "code",
   "execution_count": 66,
   "metadata": {},
   "outputs": [],
   "source": [
    "Global.lr=0.1\n",
    "Global.gamma=0.5\n",
    "Global.STEP_SIZE=50\n",
    "Global.NUMS_DOMAIN_FEATURE=1"
   ]
  },
  {
   "cell_type": "code",
   "execution_count": 67,
   "metadata": {},
   "outputs": [],
   "source": [
    "params= [\n",
    "    # [MultitaskGP, RBFKernel, 0.18, 55, 0.8],\n",
    "    # [Linear_Model_Of_Corregionalization, RBFKernel, 0.1, 60, 0.8],\n",
    "    # [MultitaskGP, K_MS, 0.18, 55, 0.65],\n",
    "    [Linear_Model_Of_Corregionalization, K_Alpha_Beta,0.69, 33, 0.2],\n",
    "    # [MultitaskGP, K_MS_with_Feat_Scaling, 0.18, 55,0.65],\n",
    "]"
   ]
  },
  {
   "cell_type": "code",
   "execution_count": 68,
   "metadata": {},
   "outputs": [
    {
     "name": "stderr",
     "output_type": "stream",
     "text": [
      "2024-09-06 17:30:36,416 - INFO - --------------------------------\n",
      "2024-09-06 17:30:36,417 - INFO - FOLD 1\n",
      "2024-09-06 17:30:36,419 - INFO - training starts for model <class '__main__.Linear_Model_Of_Corregionalization'> with kernel <class '__main__.K_Alpha_Beta'>; lr: 0.69; step_size:33; gamma:0.2\n",
      "2024-09-06 17:30:36,429 - DEBUG - Completed\n"
     ]
    },
    {
     "name": "stdout",
     "output_type": "stream",
     "text": [
      "X_train_tensor shape: torch.Size([137, 1085])\n",
      "y_train_tensor shape: torch.Size([137, 10])\n",
      "X_train_tensor shape: torch.Size([16, 1085])\n",
      "y_train_tensor shape: torch.Size([16, 10])\n"
     ]
    },
    {
     "name": "stderr",
     "output_type": "stream",
     "text": [
      "2024-09-06 17:30:43,535 - DEBUG - Iter 33/500 - Loss: 0.994\n",
      "2024-09-06 17:30:50,710 - DEBUG - Iter 66/500 - Loss: -0.366\n",
      "2024-09-06 17:30:57,406 - DEBUG - Iter 99/500 - Loss: -0.950\n",
      "2024-09-06 17:31:03,999 - DEBUG - Iter 132/500 - Loss: -1.126\n",
      "2024-09-06 17:31:10,418 - DEBUG - Iter 165/500 - Loss: -1.244\n",
      "2024-09-06 17:31:16,901 - DEBUG - Iter 198/500 - Loss: -1.267\n",
      "2024-09-06 17:31:16,901 - INFO - Early cut off at epoch 197 with loss of -1.2670520544052124\n",
      "2024-09-06 17:31:17,309 - INFO - NLL: -1.0605; RMSE: 0.2341; NMSE: 1.1836\n",
      "2024-09-06 17:31:17,311 - INFO - --------------------------------\n",
      "2024-09-06 17:31:17,312 - INFO - FOLD 2\n",
      "2024-09-06 17:31:17,314 - INFO - training starts for model <class '__main__.Linear_Model_Of_Corregionalization'> with kernel <class '__main__.K_Alpha_Beta'>; lr: 0.69; step_size:33; gamma:0.2\n",
      "2024-09-06 17:31:17,322 - DEBUG - Completed\n"
     ]
    },
    {
     "name": "stdout",
     "output_type": "stream",
     "text": [
      "X_train_tensor shape: torch.Size([137, 1085])\n",
      "y_train_tensor shape: torch.Size([137, 10])\n",
      "X_train_tensor shape: torch.Size([16, 1085])\n",
      "y_train_tensor shape: torch.Size([16, 10])\n"
     ]
    },
    {
     "name": "stderr",
     "output_type": "stream",
     "text": [
      "2024-09-06 17:31:24,059 - DEBUG - Iter 33/500 - Loss: 0.762\n",
      "2024-09-06 17:31:30,470 - DEBUG - Iter 66/500 - Loss: -0.256\n",
      "2024-09-06 17:31:36,892 - DEBUG - Iter 99/500 - Loss: -0.817\n",
      "2024-09-06 17:31:43,333 - DEBUG - Iter 132/500 - Loss: -1.068\n",
      "2024-09-06 17:31:49,819 - DEBUG - Iter 165/500 - Loss: -1.060\n",
      "2024-09-06 17:31:56,226 - DEBUG - Iter 198/500 - Loss: -1.057\n",
      "2024-09-06 17:31:56,227 - INFO - Early cut off at epoch 197 with loss of -1.0574140548706055\n",
      "2024-09-06 17:31:56,636 - INFO - NLL: -0.6869; RMSE: 0.2151; NMSE: 1.0260\n",
      "2024-09-06 17:31:56,638 - INFO - --------------------------------\n",
      "2024-09-06 17:31:56,638 - INFO - FOLD 3\n",
      "2024-09-06 17:31:56,640 - INFO - training starts for model <class '__main__.Linear_Model_Of_Corregionalization'> with kernel <class '__main__.K_Alpha_Beta'>; lr: 0.69; step_size:33; gamma:0.2\n",
      "2024-09-06 17:31:56,651 - DEBUG - Completed\n"
     ]
    },
    {
     "name": "stdout",
     "output_type": "stream",
     "text": [
      "X_train_tensor shape: torch.Size([137, 1085])\n",
      "y_train_tensor shape: torch.Size([137, 10])\n",
      "X_train_tensor shape: torch.Size([16, 1085])\n",
      "y_train_tensor shape: torch.Size([16, 10])\n"
     ]
    },
    {
     "name": "stderr",
     "output_type": "stream",
     "text": [
      "2024-09-06 17:32:03,175 - DEBUG - Iter 33/500 - Loss: 0.865\n",
      "2024-09-06 17:32:09,555 - DEBUG - Iter 66/500 - Loss: -0.427\n",
      "2024-09-06 17:32:15,953 - DEBUG - Iter 99/500 - Loss: -0.909\n",
      "2024-09-06 17:32:22,497 - DEBUG - Iter 132/500 - Loss: -1.283\n",
      "2024-09-06 17:32:29,147 - DEBUG - Iter 165/500 - Loss: -1.313\n",
      "2024-09-06 17:32:35,682 - DEBUG - Iter 198/500 - Loss: -1.266\n",
      "2024-09-06 17:32:42,132 - DEBUG - Iter 231/500 - Loss: -1.285\n",
      "2024-09-06 17:32:42,132 - INFO - Early cut off at epoch 230 with loss of -1.2849138975143433\n",
      "2024-09-06 17:32:42,551 - INFO - NLL: -1.0192; RMSE: 0.2338; NMSE: 1.1233\n",
      "2024-09-06 17:32:42,554 - INFO - --------------------------------\n",
      "2024-09-06 17:32:42,554 - INFO - FOLD 4\n",
      "2024-09-06 17:32:42,557 - INFO - training starts for model <class '__main__.Linear_Model_Of_Corregionalization'> with kernel <class '__main__.K_Alpha_Beta'>; lr: 0.69; step_size:33; gamma:0.2\n",
      "2024-09-06 17:32:42,568 - DEBUG - Completed\n"
     ]
    },
    {
     "name": "stdout",
     "output_type": "stream",
     "text": [
      "X_train_tensor shape: torch.Size([138, 1085])\n",
      "y_train_tensor shape: torch.Size([138, 10])\n",
      "X_train_tensor shape: torch.Size([15, 1085])\n",
      "y_train_tensor shape: torch.Size([15, 10])\n"
     ]
    },
    {
     "name": "stderr",
     "output_type": "stream",
     "text": [
      "2024-09-06 17:32:49,111 - DEBUG - Iter 33/500 - Loss: 0.988\n",
      "2024-09-06 17:32:55,579 - DEBUG - Iter 66/500 - Loss: -0.291\n",
      "2024-09-06 17:33:02,004 - DEBUG - Iter 99/500 - Loss: -1.083\n",
      "2024-09-06 17:33:08,389 - DEBUG - Iter 132/500 - Loss: -1.240\n",
      "2024-09-06 17:33:14,789 - DEBUG - Iter 165/500 - Loss: -1.294\n",
      "2024-09-06 17:33:21,251 - DEBUG - Iter 198/500 - Loss: -1.320\n",
      "2024-09-06 17:33:27,812 - DEBUG - Iter 231/500 - Loss: -1.318\n",
      "2024-09-06 17:33:34,181 - DEBUG - Iter 264/500 - Loss: -1.295\n",
      "2024-09-06 17:33:34,181 - INFO - Early cut off at epoch 263 with loss of -1.2946045398712158\n",
      "2024-09-06 17:33:34,598 - INFO - NLL: -1.0275; RMSE: 0.2289; NMSE: 1.0977\n",
      "2024-09-06 17:33:34,599 - INFO - --------------------------------\n",
      "2024-09-06 17:33:34,600 - INFO - FOLD 5\n",
      "2024-09-06 17:33:34,602 - INFO - training starts for model <class '__main__.Linear_Model_Of_Corregionalization'> with kernel <class '__main__.K_Alpha_Beta'>; lr: 0.69; step_size:33; gamma:0.2\n",
      "2024-09-06 17:33:34,610 - DEBUG - Completed\n"
     ]
    },
    {
     "name": "stdout",
     "output_type": "stream",
     "text": [
      "X_train_tensor shape: torch.Size([138, 1085])\n",
      "y_train_tensor shape: torch.Size([138, 10])\n",
      "X_train_tensor shape: torch.Size([15, 1085])\n",
      "y_train_tensor shape: torch.Size([15, 10])\n"
     ]
    },
    {
     "name": "stderr",
     "output_type": "stream",
     "text": [
      "2024-09-06 17:33:41,300 - DEBUG - Iter 33/500 - Loss: 0.859\n",
      "2024-09-06 17:33:47,802 - DEBUG - Iter 66/500 - Loss: -0.574\n",
      "2024-09-06 17:33:54,312 - DEBUG - Iter 99/500 - Loss: -1.142\n",
      "2024-09-06 17:34:00,834 - DEBUG - Iter 132/500 - Loss: -1.240\n",
      "2024-09-06 17:34:07,250 - DEBUG - Iter 165/500 - Loss: -1.265\n",
      "2024-09-06 17:34:07,250 - INFO - Early cut off at epoch 164 with loss of -1.2648550271987915\n",
      "2024-09-06 17:34:07,659 - INFO - NLL: -1.0786; RMSE: 0.2127; NMSE: 1.0915\n",
      "2024-09-06 17:34:07,661 - INFO - --------------------------------\n",
      "2024-09-06 17:34:07,662 - INFO - FOLD 6\n",
      "2024-09-06 17:34:07,664 - INFO - training starts for model <class '__main__.Linear_Model_Of_Corregionalization'> with kernel <class '__main__.K_Alpha_Beta'>; lr: 0.69; step_size:33; gamma:0.2\n",
      "2024-09-06 17:34:07,672 - DEBUG - Completed\n"
     ]
    },
    {
     "name": "stdout",
     "output_type": "stream",
     "text": [
      "X_train_tensor shape: torch.Size([138, 1085])\n",
      "y_train_tensor shape: torch.Size([138, 10])\n",
      "X_train_tensor shape: torch.Size([15, 1085])\n",
      "y_train_tensor shape: torch.Size([15, 10])\n"
     ]
    },
    {
     "name": "stderr",
     "output_type": "stream",
     "text": [
      "2024-09-06 17:34:14,170 - DEBUG - Iter 33/500 - Loss: 1.086\n",
      "2024-09-06 17:34:20,687 - DEBUG - Iter 66/500 - Loss: -0.409\n",
      "2024-09-06 17:34:27,216 - DEBUG - Iter 99/500 - Loss: -1.112\n",
      "2024-09-06 17:34:33,651 - DEBUG - Iter 132/500 - Loss: -1.273\n",
      "2024-09-06 17:34:40,077 - DEBUG - Iter 165/500 - Loss: -1.269\n",
      "2024-09-06 17:34:40,077 - INFO - Early cut off at epoch 164 with loss of -1.2690616846084595\n",
      "2024-09-06 17:34:40,489 - INFO - NLL: -1.1983; RMSE: 0.1749; NMSE: 0.9057\n",
      "2024-09-06 17:34:40,491 - INFO - --------------------------------\n",
      "2024-09-06 17:34:40,492 - INFO - FOLD 7\n",
      "2024-09-06 17:34:40,494 - INFO - training starts for model <class '__main__.Linear_Model_Of_Corregionalization'> with kernel <class '__main__.K_Alpha_Beta'>; lr: 0.69; step_size:33; gamma:0.2\n",
      "2024-09-06 17:34:40,502 - DEBUG - Completed\n"
     ]
    },
    {
     "name": "stdout",
     "output_type": "stream",
     "text": [
      "X_train_tensor shape: torch.Size([138, 1085])\n",
      "y_train_tensor shape: torch.Size([138, 10])\n",
      "X_train_tensor shape: torch.Size([15, 1085])\n",
      "y_train_tensor shape: torch.Size([15, 10])\n"
     ]
    },
    {
     "name": "stderr",
     "output_type": "stream",
     "text": [
      "2024-09-06 17:34:46,950 - DEBUG - Iter 33/500 - Loss: 0.807\n",
      "2024-09-06 17:34:53,615 - DEBUG - Iter 66/500 - Loss: -0.537\n",
      "2024-09-06 17:35:00,131 - DEBUG - Iter 99/500 - Loss: -0.980\n",
      "2024-09-06 17:35:06,525 - DEBUG - Iter 132/500 - Loss: -1.227\n",
      "2024-09-06 17:35:12,924 - DEBUG - Iter 165/500 - Loss: -1.307\n",
      "2024-09-06 17:35:19,410 - DEBUG - Iter 198/500 - Loss: -1.313\n",
      "2024-09-06 17:35:26,151 - DEBUG - Iter 231/500 - Loss: -1.288\n",
      "2024-09-06 17:35:26,152 - INFO - Early cut off at epoch 230 with loss of -1.2880754470825195\n",
      "2024-09-06 17:35:26,563 - INFO - NLL: -1.1406; RMSE: 0.1964; NMSE: 0.9450\n",
      "2024-09-06 17:35:26,565 - INFO - --------------------------------\n",
      "2024-09-06 17:35:26,565 - INFO - FOLD 8\n",
      "2024-09-06 17:35:26,568 - INFO - training starts for model <class '__main__.Linear_Model_Of_Corregionalization'> with kernel <class '__main__.K_Alpha_Beta'>; lr: 0.69; step_size:33; gamma:0.2\n",
      "2024-09-06 17:35:26,578 - DEBUG - Completed\n"
     ]
    },
    {
     "name": "stdout",
     "output_type": "stream",
     "text": [
      "X_train_tensor shape: torch.Size([138, 1085])\n",
      "y_train_tensor shape: torch.Size([138, 10])\n",
      "X_train_tensor shape: torch.Size([15, 1085])\n",
      "y_train_tensor shape: torch.Size([15, 10])\n"
     ]
    },
    {
     "name": "stderr",
     "output_type": "stream",
     "text": [
      "2024-09-06 17:35:33,012 - DEBUG - Iter 33/500 - Loss: 0.953\n",
      "2024-09-06 17:35:39,506 - DEBUG - Iter 66/500 - Loss: -0.255\n",
      "2024-09-06 17:35:46,022 - DEBUG - Iter 99/500 - Loss: -1.009\n",
      "2024-09-06 17:35:52,635 - DEBUG - Iter 132/500 - Loss: -1.232\n",
      "2024-09-06 17:35:59,024 - DEBUG - Iter 165/500 - Loss: -1.283\n",
      "2024-09-06 17:36:05,603 - DEBUG - Iter 198/500 - Loss: -1.281\n",
      "2024-09-06 17:36:05,603 - INFO - Early cut off at epoch 197 with loss of -1.2814234495162964\n",
      "2024-09-06 17:36:06,035 - INFO - NLL: -1.0681; RMSE: 0.1981; NMSE: 0.9976\n",
      "2024-09-06 17:36:06,038 - INFO - --------------------------------\n",
      "2024-09-06 17:36:06,039 - INFO - FOLD 9\n",
      "2024-09-06 17:36:06,041 - INFO - training starts for model <class '__main__.Linear_Model_Of_Corregionalization'> with kernel <class '__main__.K_Alpha_Beta'>; lr: 0.69; step_size:33; gamma:0.2\n",
      "2024-09-06 17:36:06,054 - DEBUG - Completed\n"
     ]
    },
    {
     "name": "stdout",
     "output_type": "stream",
     "text": [
      "X_train_tensor shape: torch.Size([138, 1085])\n",
      "y_train_tensor shape: torch.Size([138, 10])\n",
      "X_train_tensor shape: torch.Size([15, 1085])\n",
      "y_train_tensor shape: torch.Size([15, 10])\n"
     ]
    },
    {
     "name": "stderr",
     "output_type": "stream",
     "text": [
      "2024-09-06 17:36:12,481 - DEBUG - Iter 33/500 - Loss: 0.824\n",
      "2024-09-06 17:36:18,991 - DEBUG - Iter 66/500 - Loss: -0.329\n",
      "2024-09-06 17:36:25,472 - DEBUG - Iter 99/500 - Loss: -1.062\n",
      "2024-09-06 17:36:31,972 - DEBUG - Iter 132/500 - Loss: -1.230\n",
      "2024-09-06 17:36:38,415 - DEBUG - Iter 165/500 - Loss: -1.294\n",
      "2024-09-06 17:36:38,417 - INFO - Early cut off at epoch 164 with loss of -1.2944279909133911\n",
      "2024-09-06 17:36:38,820 - INFO - NLL: -0.9007; RMSE: 0.2395; NMSE: 1.1651\n",
      "2024-09-06 17:36:38,822 - INFO - --------------------------------\n",
      "2024-09-06 17:36:38,823 - INFO - FOLD 10\n",
      "2024-09-06 17:36:38,825 - INFO - training starts for model <class '__main__.Linear_Model_Of_Corregionalization'> with kernel <class '__main__.K_Alpha_Beta'>; lr: 0.69; step_size:33; gamma:0.2\n",
      "2024-09-06 17:36:38,835 - DEBUG - Completed\n"
     ]
    },
    {
     "name": "stdout",
     "output_type": "stream",
     "text": [
      "X_train_tensor shape: torch.Size([138, 1085])\n",
      "y_train_tensor shape: torch.Size([138, 10])\n",
      "X_train_tensor shape: torch.Size([15, 1085])\n",
      "y_train_tensor shape: torch.Size([15, 10])\n"
     ]
    },
    {
     "name": "stderr",
     "output_type": "stream",
     "text": [
      "2024-09-06 17:36:45,328 - DEBUG - Iter 33/500 - Loss: 1.011\n",
      "2024-09-06 17:36:51,880 - DEBUG - Iter 66/500 - Loss: -0.301\n",
      "2024-09-06 17:36:58,356 - DEBUG - Iter 99/500 - Loss: -1.171\n",
      "2024-09-06 17:37:04,853 - DEBUG - Iter 132/500 - Loss: -1.290\n",
      "2024-09-06 17:37:11,477 - DEBUG - Iter 165/500 - Loss: -1.299\n",
      "2024-09-06 17:37:11,478 - INFO - Early cut off at epoch 164 with loss of -1.2993133068084717\n",
      "2024-09-06 17:37:11,885 - INFO - NLL: -0.8710; RMSE: 0.2460; NMSE: 1.1389\n"
     ]
    }
   ],
   "source": [
    "X = torch.cat((X_train_tensor, X_test_tensor), dim=0)\n",
    "y = torch.cat((y_train_tensor, y_test_tensor), dim=0)\n",
    "dataset = TensorDataset(X, y)\n",
    "\n",
    "# 定义 KFold，n_splits=10 表示 10-fold 交叉验证\n",
    "k_folds = 10\n",
    "kfold = KFold(n_splits=k_folds, shuffle=True, random_state=42)\n",
    "\n",
    "# 用于存储每个 fold 的结果\n",
    "fold_results = {}\n",
    "m=[]\n",
    "nlls=[]\n",
    "for each_param in params:\n",
    "        Global.lr=each_param[2]\n",
    "        Global.STEP_SIZE=each_param[3]\n",
    "        Global.gamma=each_param[4]\n",
    "        for fold, (train_idx, val_idx) in enumerate(kfold.split(dataset)):\n",
    "            logger.info('--------------------------------')\n",
    "            logger.info(f'FOLD {fold+1}')\n",
    "\n",
    "            \n",
    "            # 创建训练和验证数据集\n",
    "            train_subset = Subset(dataset, train_idx)\n",
    "            val_subset = Subset(dataset, val_idx)\n",
    "            \n",
    "            # 创建数据加载器\n",
    "            train_loader = DataLoader(train_subset, batch_size=32, shuffle=True)\n",
    "            val_loader = DataLoader(val_subset, batch_size=32, shuffle=False)\n",
    "            X_train_tensor,y_train_tensor=dataloader2tensor(train_loader)\n",
    "            X_test_tensor,y_test_tensor=dataloader2tensor(val_loader)\n",
    "            try:\n",
    "                md,n=run_test(X_train_tensor,y_train_tensor,X_test_tensor,y_test_tensor,model=each_param[0],kernel=each_param[1],config=Global,logger=logger)\n",
    "                m.append(md)\n",
    "                nlls.append(n)\n",
    "            except Exception as e:\n",
    "                logger.error(f\"发生了一个异常: {e}\")\n",
    "                continue\n"
   ]
  },
  {
   "cell_type": "code",
   "execution_count": 46,
   "metadata": {},
   "outputs": [],
   "source": [
    "param_grid = {\n",
    "    'models':[Linear_Model_Of_Corregionalization],\n",
    "    'kernels': [RBFKernel],\n",
    "    'lrs': [0.69 ],\n",
    "    'gammas':[0.5],\n",
    "    'STEP_SIZEs':[33]\n",
    "}\n",
    "\n",
    "\n",
    "param_combinations = list(product(*param_grid.values()))"
   ]
  },
  {
   "cell_type": "code",
   "execution_count": 47,
   "metadata": {},
   "outputs": [],
   "source": [
    "for each_param in param_combinations:\n",
    "    Global.lr=each_param[2]\n",
    "    Global.gamma=each_param[3]\n",
    "    Global.STEP_SIZE=each_param[4]\n",
    "    run_test(X_train_tensor,y_train_tensor,X_test_tensor,y_test_tensor,model=each_param[0],kernel=each_param[1],config=Global)"
   ]
  }
 ],
 "metadata": {
  "kernelspec": {
   "display_name": "base",
   "language": "python",
   "name": "python3"
  },
  "language_info": {
   "codemirror_mode": {
    "name": "ipython",
    "version": 3
   },
   "file_extension": ".py",
   "mimetype": "text/x-python",
   "name": "python",
   "nbconvert_exporter": "python",
   "pygments_lexer": "ipython3",
   "version": "3.12.4"
  }
 },
 "nbformat": 4,
 "nbformat_minor": 2
}
