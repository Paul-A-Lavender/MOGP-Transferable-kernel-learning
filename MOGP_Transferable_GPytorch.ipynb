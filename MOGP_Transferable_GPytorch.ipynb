{
 "cells": [
  {
   "cell_type": "code",
   "execution_count": 54,
   "metadata": {},
   "outputs": [
    {
     "name": "stdout",
     "output_type": "stream",
     "text": [
      "The autoreload extension is already loaded. To reload it, use:\n",
      "  %reload_ext autoreload\n"
     ]
    }
   ],
   "source": [
    "import math\n",
    "import torch\n",
    "import gpytorch\n",
    "from matplotlib import pyplot as plt\n",
    "import pandas as pd\n",
    "from torch.utils.data import Dataset, DataLoader\n",
    "import numpy as np\n",
    "from scipy.interpolate import make_interp_spline\n",
    "from sklearn.model_selection import train_test_split\n",
    "from gpytorch.kernels import Kernel\n",
    "import pickle\n",
    "from sklearn.preprocessing import StandardScaler\n",
    "from gpytorch.means import Mean\n",
    "from sklearn.metrics import mean_squared_error\n",
    "from gpytorch.kernels import Kernel, RBFKernel,ScaleKernel\n",
    "from gpytorch.constraints import Interval\n",
    "from gpytorch.settings import cholesky_jitter\n",
    "from gpytorch.models import ApproximateGP\n",
    "from gpytorch.variational import CholeskyVariationalDistribution, VariationalStrategy\n",
    "import torch.nn as nn\n",
    "import logging\n",
    "from itertools import product\n",
    "from sklearn.model_selection import KFold\n",
    "from torch.utils.data import DataLoader, Subset,TensorDataset\n",
    "%matplotlib inline\n",
    "%load_ext autoreload\n",
    "%autoreload 2"
   ]
  },
  {
   "cell_type": "markdown",
   "metadata": {},
   "source": [
    "# Global variables and configuration"
   ]
  },
  {
   "cell_type": "code",
   "execution_count": 55,
   "metadata": {},
   "outputs": [
    {
     "name": "stdout",
     "output_type": "stream",
     "text": [
      "StreamHandler already exists\n",
      "GPU is not available!\n"
     ]
    }
   ],
   "source": [
    "# 创建一个logger\n",
    "logger = logging.getLogger('my_logger')\n",
    "logger.setLevel(logging.DEBUG)\n",
    "\n",
    "# 创建文件处理器，写入日志文件\n",
    "fh = logging.FileHandler('app.log')\n",
    "fh.setLevel(logging.DEBUG)\n",
    "\n",
    "# 创建控制台处理器，输出到控制台\n",
    "ch = logging.StreamHandler()\n",
    "\n",
    "# 设置日志格式\n",
    "formatter = logging.Formatter('%(asctime)s - %(levelname)s - %(message)s')\n",
    "fh.setFormatter(formatter)\n",
    "\n",
    "# 将处理器添加到logger中\n",
    "# 创建控制台处理器，输出到控制台\n",
    "ch = logging.StreamHandler()\n",
    "ch.setLevel(logging.DEBUG)\n",
    "ch.setFormatter(formatter)\n",
    "\n",
    "if not any(isinstance(handler, logging.StreamHandler) for handler in logger.handlers):\n",
    "    logger.addHandler(fh)\n",
    "    logger.addHandler(ch)\n",
    "    print(\"StreamHandler added\")\n",
    "else:\n",
    "    print(\"StreamHandler already exists\")\n",
    "\n",
    "if torch.cuda.is_available():\n",
    "    print(\"GPU is available!\")\n",
    "else:\n",
    "    print(\"GPU is not available!\")\n",
    "USE_TOY_DATASET=False"
   ]
  },
  {
   "cell_type": "markdown",
   "metadata": {},
   "source": [
    "# Helper functions"
   ]
  },
  {
   "cell_type": "code",
   "execution_count": 56,
   "metadata": {},
   "outputs": [],
   "source": [
    "def load_dataset(X_path,y_path,X_domain_path=None,do_standardisation=False,test_size=0.1,random_state=42):\n",
    "    X_df=None\n",
    "    X_domain_info=None\n",
    "    y_df=None\n",
    "    with open(X_path, 'rb') as f:\n",
    "        X_df = pickle.load(f)\n",
    "    with open(y_path, 'rb') as f:\n",
    "        y_df = pickle.load(f)\n",
    "    print(X_df.shape)\n",
    "    print(y_df.shape)\n",
    "    if X_domain_path!=None:\n",
    "        with open(X_domain_path, 'rb') as f:\n",
    "            X_domain_info = pickle.load(f)\n",
    "        print(X_domain_info.shape)\n",
    "        X_train, X_test, y_train, y_test,X_D_train,X_D_test = train_test_split(X_df, y_df,X_domain_info, test_size=test_size, random_state=random_state)\n",
    "    else:\n",
    "        X_train, X_test, y_train, y_test= train_test_split(X_df, y_df, test_size=test_size, random_state=random_state)\n",
    "    X_train = np.array(X_train, dtype=np.float32)\n",
    "    y_train = np.array(y_train, dtype=np.float32)\n",
    "\n",
    "    if X_domain_path!=None:\n",
    "        X_D_train = np.array(X_D_train, dtype=np.float32)\n",
    "        X_D_test = np.array(X_D_test, dtype=np.float32)\n",
    "\n",
    "    X_test = np.array(X_test, dtype=np.float32)\n",
    "    y_test = np.array(y_test, dtype=np.float32)\n",
    "    if do_standardisation:\n",
    "        print(\"Performing standardisation\")\n",
    "        scaler = StandardScaler()\n",
    "        X_train = scaler.fit_transform(X_train)\n",
    "        X_test = scaler.transform(X_test)\n",
    "\n",
    "    X_train_tensor = torch.tensor(X_train)\n",
    "    y_train_tensor = torch.tensor(y_train)\n",
    "    if X_domain_path!=None:\n",
    "        X_D_train_tensor = torch.tensor(X_D_train)\n",
    "        X_D_test_tensor = torch.tensor(X_D_test)\n",
    "\n",
    "    X_test_tensor = torch.tensor(X_test)\n",
    "    y_test_tensor = torch.tensor(y_test)\n",
    "\n",
    "    if X_domain_path!=None: \n",
    "        return (X_train_tensor,X_D_train_tensor,y_train_tensor),(X_test_tensor,X_D_test_tensor,y_test_tensor)\n",
    "    else:\n",
    "        return (X_train_tensor,y_train_tensor),(X_test_tensor,y_test_tensor)\n",
    "\n",
    "def sigmoid_4_param(x, x0, L, k, d):\n",
    "    \"\"\" Comparing with Dennis Wang's sigmoid:\n",
    "    x0 -  p - position, correlation with IC50 or EC50\n",
    "        bounds [0, 1]\n",
    "    L = 1 in Dennis Wang's sigmoid, protect from devision by zero if x is too small \n",
    "        L<1 inverted sigmoid, l=100 - lower upper and lower boundso sigmpoid on y axis (y= [0.1, 0.11])\n",
    "        bounds [0.8, 10]\n",
    "    k = -1/s (s -shape parameter)  default = -10 k=0 straight line, k<0 sigmoid around k=-10\n",
    "        bounds [1, -100]\n",
    "    d - determines the vertical position of the sigmoid - shift on y axis - better fitting then Dennis Wang's sigmoid\n",
    "         bounds [0, 0.9]\n",
    "    parameters_bound ((0, 0.8, -100, 0), (1, 10, 1, 0.9))\n",
    "    \"\"\"\n",
    "    return ( 1/ (L + np.exp(-k*(x-x0))) + d)\n",
    "\n",
    "def overwrite_to_test():\n",
    "    VAR=0.09\n",
    "    AMP=1.0\n",
    "    train_size=100\n",
    "\n",
    "    X_sin=torch.linspace(0, 1, train_size)\n",
    "    X_cos=torch.linspace(0, 1, train_size)\n",
    "    X_sig=torch.linspace(0, 1, train_size)\n",
    "    y_sin = AMP*torch.sin(X_sin * (2 * math.pi)) + torch.randn(X_sin.size()) * math.sqrt(VAR)\n",
    "    y_cos = AMP*torch.cos(X_cos * (2 * math.pi)) + torch.randn(X_cos.size()) * math.sqrt(VAR)\n",
    "    y_sig = AMP*(torch.sigmoid(15*(X_sig-0.5))-0.5)*2+torch.randn(X_cos.size()) * math.sqrt(VAR)\n",
    "    # Training data is 100 points in [0,1] inclusive regularly spaced\n",
    "    X_train_tensor = torch.linspace(0, 1, train_size)\n",
    "    # True function is sin(2*pi*x) with Gaussian noise\n",
    "\n",
    "    num_conc=1\n",
    "    num_feat=1\n",
    "    nums_domain=torch.Tensor([3])\n",
    "    num_data=train_size\n",
    "\n",
    "    X_sin = X_sin.unsqueeze(1)\n",
    "    X_cos = X_cos.unsqueeze(1)\n",
    "    X_sig = X_sig.unsqueeze(1)\n",
    "    y_sin = y_sin.unsqueeze(1)\n",
    "    y_cos = y_cos.unsqueeze(1)\n",
    "    y_sig = y_sig.unsqueeze(1)\n",
    "\n",
    "    X_sin_domain=torch.zeros(train_size,1)\n",
    "    X_cos_domain=torch.ones(train_size,1)\n",
    "    X_sig_domain=torch.ones(train_size,1)*2\n",
    "    X_sin_cat = torch.cat((X_sin_domain, X_sin), dim=1)\n",
    "    X_cos_cat = torch.cat((X_cos_domain, X_cos), dim=1)\n",
    "    X_sig_cat = torch.cat((X_sig_domain, X_sig), dim=1)\n",
    "    X_train_tensor = torch.cat((X_sin_cat, X_cos_cat,X_sig_cat), dim=0)\n",
    "    y_train_tensor = torch.cat((y_sin, y_cos,y_sig), dim=0)\n",
    "\n",
    "    f, ax = plt.subplots(1, 3, figsize=(12, 3))\n",
    "    for i in range(3):\n",
    "        ax[i].plot(X_train_tensor[i*train_size:(i+1)*train_size,1:].squeeze().numpy(),y_train_tensor[i*train_size:(i+1)*train_size], 'k*')\n",
    "        axis=X_train_tensor[i*train_size:(i+1)*train_size,1:].flatten().numpy()\n",
    "        ax[i].set_ylim([-3, 3])\n",
    "        ax[i].legend(['Observed Data', 'Mean', 'Confidence'])\n",
    "\n",
    "    # indices = torch.randperm(X_train_tensor.size(0))\n",
    "    # X_train_tensor = X_train_tensor[indices]\n",
    "    # y_train_tensor = y_train_tensor[indices]\n",
    "\n",
    "    test_size=50\n",
    "    X_sin=torch.linspace(0, 1, test_size)\n",
    "    X_cos=torch.linspace(0, 1, test_size)\n",
    "    X_sig=torch.linspace(0, 1, test_size)\n",
    "\n",
    "    X_sin_domain=torch.zeros(test_size,1)\n",
    "    X_cos_domain=torch.ones(test_size,1)\n",
    "    X_sig_domain=torch.ones(test_size,1)*2\n",
    "\n",
    "    X_sin = X_sin.unsqueeze(1)\n",
    "    X_cos = X_cos.unsqueeze(1)\n",
    "    X_sig = X_sig.unsqueeze(1)\n",
    "\n",
    "    y_sin =AMP* torch.sin(X_sin * (2 * math.pi)) + torch.randn(X_sin.size()) * math.sqrt(VAR)\n",
    "    y_cos =AMP* torch.cos(X_cos * (2 * math.pi)) + torch.randn(X_cos.size()) * math.sqrt(VAR)\n",
    "    y_sig =AMP* (torch.sigmoid(15*(X_sig-0.5))-0.5)*2+torch.randn(X_cos.size()) * math.sqrt(VAR)\n",
    "\n",
    "    X_sin_cat = torch.cat((X_sin_domain, X_sin), dim=1)\n",
    "    X_cos_cat = torch.cat((X_cos_domain, X_cos), dim=1)\n",
    "    X_sig_cat = torch.cat((X_sig_domain, X_sig), dim=1)\n",
    "\n",
    "    # X_test_tensor =X_sin_cat\n",
    "    # y_test_tensor =y_sin\n",
    "    \n",
    "    X_test_tensor = torch.cat((X_sin_cat, X_cos_cat,X_sig_cat), dim=0)\n",
    "    y_test_tensor = torch.cat((y_sin, y_cos,y_sig), dim=0)\n",
    "\n",
    "    # X_test_tensor = torch.cat((X_sin_cat, X_cos_cat), dim=0)\n",
    "    # y_test_tensor = torch.cat((y_sin, y_cos), dim=0)  \n",
    "\n",
    "def dataloader2tensor(data_loader):\n",
    "    all_inputs = []\n",
    "    all_labels = []\n",
    "\n",
    "    # 遍历 DataLoader 并将所有批次数据合并成一个大张量\n",
    "    for inputs, labels in data_loader:\n",
    "        all_inputs.append(inputs)\n",
    "        all_labels.append(labels)\n",
    "\n",
    "    # 使用 torch.cat 将所有小批量张量合并成一个大张量\n",
    "    X_tensor = torch.cat(all_inputs, dim=0)\n",
    "    y_tensor = torch.cat(all_labels, dim=0)\n",
    "\n",
    "    # 现在，X_train_tensor 和 y_train_tensor 是重新合并后的大张量\n",
    "    print(f\"X_train_tensor shape: {X_tensor.shape}\")\n",
    "    print(f\"y_train_tensor shape: {y_tensor.shape}\")\n",
    "    return X_tensor,y_tensor\n",
    "\n"
   ]
  },
  {
   "cell_type": "code",
   "execution_count": 57,
   "metadata": {},
   "outputs": [],
   "source": [
    "class config():\n",
    "    NUMS_DOMAIN=None\n",
    "    NUMS_DOMAIN_FEATURE=None\n",
    "    NUMS_DOMAIN_AS_INT=None\n",
    "    NUM_CONC=None\n",
    "    STEP_SIZE=None\n",
    "    lr=None\n",
    "    gamma=None\n",
    "    def __init__(self, NUMS_DOMAIN=None,\n",
    "                 NUMS_DOMAIN_FEATURE=None,\n",
    "                 NUMS_DOMAIN_AS_INT=None,\n",
    "                 NUM_CONC=None,\n",
    "                 STEP_SIZE=None,\n",
    "                 lr=None,\n",
    "                 gamma=None,\n",
    "                 NUM_FEAT=None,):\n",
    "        self.NUMS_DOMAIN=NUMS_DOMAIN\n",
    "        self.NUMS_DOMAIN_FEATURE=NUMS_DOMAIN_FEATURE\n",
    "        self.NUMS_DOMAIN_AS_INT=NUMS_DOMAIN_AS_INT\n",
    "        self.NUM_CONC=NUM_CONC\n",
    "        self.STEP_SIZE=STEP_SIZE\n",
    "        self.lr=lr\n",
    "        self.gamma=gamma\n",
    "        self.NUM_FEAT=NUM_FEAT\n"
   ]
  },
  {
   "cell_type": "markdown",
   "metadata": {},
   "source": [
    "## run_test"
   ]
  },
  {
   "cell_type": "code",
   "execution_count": 58,
   "metadata": {},
   "outputs": [],
   "source": [
    "def run_test(X_train_tensor,y_train_tensor,X_test_tensor,y_test_tensor,model,kernel,config):\n",
    "    logger.info(f'training starts for model {str(model)} with kernel {str(kernel)}; lr: {config.lr}; step_size:{config.STEP_SIZE}; gamma:{config.gamma}')\n",
    "    likelihood = gpytorch.likelihoods.MultitaskGaussianLikelihood(num_tasks=config.NUM_CONC)\n",
    "\n",
    "    m = model(X_train_tensor, y_train_tensor, likelihood,kernel,config)\n",
    "\n",
    "    training_iterations = 500\n",
    "\n",
    "    # Find optimal model hyperparameters\n",
    "    m.train()\n",
    "    likelihood.train()\n",
    "    \n",
    "    optimizer = torch.optim.Adam(m.parameters(), lr=config.lr)\n",
    "    STEP_SIZE=config.STEP_SIZE\n",
    "    scheduler = torch.optim.lr_scheduler.StepLR(optimizer, step_size=STEP_SIZE, gamma=config.gamma)\n",
    "    # \"Loss\" for GPs - the marginal log likelihood\n",
    "    mll = gpytorch.mlls.ExactMarginalLogLikelihood(likelihood, m)\n",
    "    last_loss=1\n",
    "    avg_loss=0\n",
    "    this_loss=0\n",
    "    for i in range(training_iterations):\n",
    "        # try:\n",
    "            optimizer.zero_grad()\n",
    "            output = m(X_train_tensor)\n",
    "            loss = -mll(output, y_train_tensor)\n",
    "            loss.backward()\n",
    "                \n",
    "            this_loss=loss.item()\n",
    "            avg_loss+=this_loss\n",
    "            optimizer.step()  # 更新参数\n",
    "            scheduler.step()  # 更新学习率\n",
    "            \n",
    "            if i%STEP_SIZE==STEP_SIZE-1:\n",
    "                logger.debug('Iter %d/%d - Loss: %.3f' % (i + 1, training_iterations, loss.item()))\n",
    "                avg_loss=avg_loss/STEP_SIZE\n",
    "                if abs((this_loss-avg_loss)/avg_loss)<0.01 or ((this_loss-avg_loss)/avg_loss>0.30 and i>250):\n",
    "                    logger.info(f'Early cut off at epoch {i} with loss of {this_loss }')\n",
    "                    break\n",
    "                        \n",
    "                avg_loss=0\n",
    "                    \n",
    "        # except Exception as e:\n",
    "        #     logger.error(f\"发生了一个异常: {e}\")\n",
    "        #     continue\n",
    "        \n",
    "    m.eval()\n",
    "    likelihood.eval()\n",
    "    # Make predictions\n",
    "    with torch.no_grad(), gpytorch.settings.fast_pred_var():\n",
    "        distribution = likelihood(m(X_test_tensor))\n",
    "        mean = distribution.mean\n",
    "        lower, upper = distribution.confidence_region()\n",
    "    nll = -torch.distributions.Normal(mean, distribution.variance.sqrt()).log_prob(y_test_tensor).mean().item()\n",
    "\n",
    "    rmse=torch.sqrt(torch.tensor(mean_squared_error(y_test_tensor.numpy(), mean.numpy()))).item() \n",
    "    nmse = rmse / torch.var(y_test_tensor).item()\n",
    "\n",
    "    logger.info(f'NLL: {nll:.4f}; RMSE: {rmse:.4f}; NMSE: {nmse:.4f}')\n",
    "    return m,nll\n",
    "\n"
   ]
  },
  {
   "cell_type": "markdown",
   "metadata": {},
   "source": [
    "# Kernels"
   ]
  },
  {
   "cell_type": "markdown",
   "metadata": {},
   "source": [
    "## Kernel Exponential Squared"
   ]
  },
  {
   "cell_type": "code",
   "execution_count": 59,
   "metadata": {},
   "outputs": [],
   "source": [
    "class Kernel_Exponential_Squared(Kernel):\n",
    "    def __init__(self,config, **kwargs):\n",
    "        super().__init__(**kwargs)\n",
    "        self.height_scales=torch.nn.Parameter(torch.ones((config.NUMS_DOMAIN)))\n",
    "        self.length_scales=torch.nn.Parameter(torch.ones((config.NUMS_DOMAIN))) \n",
    "        self.register_parameter(name='height_scales', parameter=self.height_scales)\n",
    "        self.register_parameter(name='length_scales', parameter=self.length_scales)\n",
    "        self.config=config\n",
    "    def forward(self, x1, x2, diag=False, last_dim_is_batch=False, **params):\n",
    "        # x1_domain   =   x1[:, :num_domain_feat]\n",
    "        # x1_genetics =   x1[:, num_domain_feat:]\n",
    "        # x2_domain   =   x2[:, :num_domain_feat]\n",
    "        # x2_genetics =   x2[:, num_domain_feat:]\n",
    "\n",
    "        x1_domain   =   x1[:, :self.config.NUMS_DOMAIN_FEATURE]\n",
    "        x1_genetics =   x1\n",
    "        x2_domain   =   x2[:, :self.config.NUMS_DOMAIN_FEATURE]\n",
    "        x2_genetics =   x2\n",
    "\n",
    "        dist_mat=self.covar_dist(x1_genetics, x2_genetics, square_dist=True, diag=diag, **params)\n",
    "        height_scales_parsed_1 = self.height_scales[x1_domain.long()].flatten()\n",
    "        height_scales_parsed_2 = self.height_scales[x2_domain.long()].flatten()\n",
    "        length_scales_parsed_1 = self.length_scales[x1_domain.long()].flatten()\n",
    "        length_scales_parsed_2 = self.length_scales[x2_domain.long()].flatten()\n",
    "\n",
    "        part_L1L2T=torch.sqrt(torch.outer(length_scales_parsed_1*length_scales_parsed_1,length_scales_parsed_2.T*length_scales_parsed_2.T))\n",
    "        part_L1L1T=length_scales_parsed_1*length_scales_parsed_1\n",
    "        part_L2L2T=length_scales_parsed_2*length_scales_parsed_2\n",
    "        part_L1sqrL2sqr=torch.outer(part_L1L1T,torch.ones_like(part_L2L2T).T)+torch.outer(torch.ones_like(part_L1L1T),part_L2L2T)\n",
    "\n",
    "        part_1=torch.outer(height_scales_parsed_1,height_scales_parsed_2.T)\n",
    "        part_2=torch.sqrt(2*part_L1L2T/part_L1sqrL2sqr)\n",
    "        part_3=torch.exp(-dist_mat/part_L1sqrL2sqr)\n",
    "\n",
    "        result=part_1*part_2*part_3\n",
    "        if diag:\n",
    "            return result.diag()\n",
    "        return result"
   ]
  },
  {
   "cell_type": "markdown",
   "metadata": {},
   "source": [
    "## K_MS"
   ]
  },
  {
   "cell_type": "code",
   "execution_count": 60,
   "metadata": {},
   "outputs": [],
   "source": [
    "  \n",
    "class K_MS(Kernel):\n",
    "    def __init__(self,config, **kwargs):\n",
    "        super().__init__(**kwargs)\n",
    "        self.domain_coefficient=torch.nn.Parameter(torch.rand((config.NUMS_DOMAIN))*2-1)\n",
    "        self.K_ES=Kernel_Exponential_Squared(config)\n",
    "        self.register_parameter(name='domain_coefficient', parameter=self.domain_coefficient)\n",
    "        self.config=config\n",
    "    def forward(self, x1, x2, diag=False, last_dim_is_batch=False, **params):\n",
    "        x1_domain   =   x1[:, :self.config.NUMS_DOMAIN_FEATURE]\n",
    "        x2_domain   =   x2[:, :self.config.NUMS_DOMAIN_FEATURE]\n",
    "\n",
    "        domain_coefficient_parsed_1=self.domain_coefficient[x1_domain.long()].flatten()\n",
    "        domain_coefficient_parsed_2=self.domain_coefficient[x2_domain.long()].flatten()\n",
    "        domain_scaler=torch.outer(torch.tanh(domain_coefficient_parsed_1),torch.tanh(domain_coefficient_parsed_2.T))\n",
    "\n",
    "        domain_mat=torch.outer(x1_domain.flatten()+1,1/(x2_domain.flatten().T+1))\n",
    "        mask = (domain_mat == 1.0)\n",
    "\n",
    "        # 等于1的位置置0\n",
    "        domain_mat[mask] = 0.0\n",
    "\n",
    "        # 不等于1的位置置1\n",
    "        domain_mat[~mask] = 1.0\n",
    "        # print(domain_scaler)\n",
    "\n",
    "        \n",
    "        base_cov=self.K_ES(x1,x2,diag=diag, last_dim_is_batch=last_dim_is_batch, **params)\n",
    "\n",
    "        final_scaler=(domain_scaler-1.0)*domain_mat+1.0\n",
    "        return base_cov*final_scaler\n"
   ]
  },
  {
   "cell_type": "markdown",
   "metadata": {},
   "source": [
    "## K_Alpha_Beta"
   ]
  },
  {
   "cell_type": "code",
   "execution_count": 61,
   "metadata": {},
   "outputs": [],
   "source": [
    "class K_Alpha_Beta(Kernel):\n",
    "    def __init__(self,config, **kwargs):\n",
    "        super().__init__(**kwargs)\n",
    "        self.kernels=[]\n",
    "        for _ in range(config.NUMS_DOMAIN):\n",
    "            self.kernels.append(RBFKernel())\n",
    "        self.config=config\n",
    "        self.alpha= torch.nn.Parameter(torch.rand(config.NUMS_DOMAIN))\n",
    "        self.beta=torch.nn.Parameter(torch.rand(config.NUMS_DOMAIN))\n",
    "        self.register_parameter(name='alpha', parameter=self.alpha)\n",
    "        self.register_parameter(name='beta', parameter=self.beta)\n",
    "    def forward(self, x1, x2, diag=False, last_dim_is_batch=False, **params):#\n",
    "        x1_domain   =   x1[:, :self.config.NUMS_DOMAIN_FEATURE]\n",
    "        x2_domain   =   x2[:, :self.config.NUMS_DOMAIN_FEATURE]\n",
    "        x1_num_data=x1_domain.shape[0]\n",
    "        x2_num_data=x2_domain.shape[0]\n",
    "        cov_mats_alpha=torch.zeros([x1_num_data,x2_num_data])\n",
    "        cov_mats_beta=torch.zeros([x1_num_data,x2_num_data])\n",
    "\n",
    "        alpha_reparameterized=torch.sqrt(self.alpha*self.alpha)\n",
    "        beta_reparameterized=torch.sqrt(self.beta*self.beta)\n",
    "        for i in range(self.config.NUMS_DOMAIN):\n",
    "            cov_mats_alpha=cov_mats_alpha.add(self.kernels[i](x1, x2, diag=diag, last_dim_is_batch=last_dim_is_batch, **params)*alpha_reparameterized[i])\n",
    "            cov_mats_beta=cov_mats_beta.add(self.kernels[i](x1, x2, diag=diag, last_dim_is_batch=last_dim_is_batch, **params)*beta_reparameterized[i])\n",
    "\n",
    "        domain_mat_alpha=torch.outer(x1_domain.flatten()+1,1/(x2_domain.flatten().T+1))\n",
    "        domain_mat_beta=torch.outer(x1_domain.flatten()+1,1/(x2_domain.flatten().T+1))\n",
    "        mask = (domain_mat_alpha == 1.0)\n",
    "        domain_mat_alpha[mask] = 0.0\n",
    "        domain_mat_alpha[~mask] = 1.0\n",
    "        domain_mat_beta[mask] = 1.0\n",
    "        domain_mat_beta[~mask] = 0.0\n",
    "\n",
    "        \n",
    "        result=cov_mats_alpha*domain_mat_alpha+cov_mats_beta*domain_mat_beta\n",
    "        if diag:\n",
    "            return result.diag()\n",
    "        return result"
   ]
  },
  {
   "cell_type": "markdown",
   "metadata": {},
   "source": [
    "## Transferable quadriple"
   ]
  },
  {
   "cell_type": "code",
   "execution_count": 62,
   "metadata": {},
   "outputs": [],
   "source": [
    "  \n",
    "class K_MS_with_Feat_Scaling(Kernel):\n",
    "    def __init__(self,config, **kwargs):\n",
    "        super().__init__(**kwargs)\n",
    "        \n",
    "        self.domain_coefficient=torch.nn.Parameter(torch.rand(config.NUMS_DOMAIN)*2-1)\n",
    "        self.K_ES=Kernel_Exponential_Squared(config)\n",
    "        self.register_parameter(name='domain_coefficient', parameter=self.domain_coefficient)\n",
    "        \n",
    "        \n",
    "        feature_relateness_init=torch.ones(config.NUM_FEAT)\n",
    "        self.feature_relateness=torch.nn.Parameter(feature_relateness_init)\n",
    "        self.register_parameter(name='feature_relateness', parameter=self.feature_relateness)\n",
    "        self.config=config\n",
    "        \n",
    "    \n",
    "    def forward(self, x1, x2, diag=False, last_dim_is_batch=False, **params):\n",
    "        x1_domain   =   x1[:, :self.config.NUMS_DOMAIN_FEATURE]\n",
    "        x2_domain   =   x2[:, :self.config.NUMS_DOMAIN_FEATURE]\n",
    "        x1_genetic   =   x1[:, self.config.NUMS_DOMAIN_FEATURE:]\n",
    "        x2_genetic   =   x2[:, self.config.NUMS_DOMAIN_FEATURE:]        \n",
    "        \n",
    "        feature_scaler_rep=(torch.tanh(self.feature_relateness)+1.0)\n",
    "        x1_scaled=x1_genetic*torch.outer(torch.ones(x1.shape[0]),feature_scaler_rep)\n",
    "        x2_scaled=x2_genetic*torch.outer(torch.ones(x2.shape[0]),feature_scaler_rep)\n",
    "        domain_coefficient_parsed_1=self.domain_coefficient[x1_domain.long()].flatten()\n",
    "        domain_coefficient_parsed_2=self.domain_coefficient[x2_domain.long()].flatten()\n",
    "        domain_scaler=torch.outer(torch.tanh(domain_coefficient_parsed_1),torch.tanh(domain_coefficient_parsed_2.T))\n",
    "        domain_mat=torch.outer(x1_domain.flatten()+1,1/(x2_domain.flatten().T+1))\n",
    "        mask = (domain_mat == 1.0)\n",
    "\n",
    "        # 等于1的位置置0\n",
    "        domain_mat[mask] = 0.0\n",
    "\n",
    "        # 不等于1的位置置1\n",
    "        domain_mat[~mask] = 1.0\n",
    "        # print(domain_scaler)\n",
    "        x1_cat=torch.cat((x1_domain, x1_scaled), dim=1)\n",
    "        x2_cat=torch.cat((x2_domain, x2_scaled), dim=1)\n",
    "        base_cov=self.K_ES(x1_cat,x2_cat,diag=diag, last_dim_is_batch=last_dim_is_batch, **params)\n",
    "\n",
    "        final_scaler=(domain_scaler-1.0)*domain_mat+1.0\n",
    "        return base_cov*final_scaler\n"
   ]
  },
  {
   "cell_type": "markdown",
   "metadata": {},
   "source": [
    "# Models"
   ]
  },
  {
   "cell_type": "markdown",
   "metadata": {},
   "source": [
    "## Linear model of corregionalization"
   ]
  },
  {
   "cell_type": "code",
   "execution_count": 63,
   "metadata": {},
   "outputs": [],
   "source": [
    "class Linear_Model_Of_Corregionalization(gpytorch.models.ExactGP):\n",
    "    #TODO add input for domain information\n",
    "    def __init__(self, train_x, train_y,likelihood,kernel,config):\n",
    "        super(Linear_Model_Of_Corregionalization, self).__init__(train_x, train_y, likelihood)\n",
    "        self.mean_module = gpytorch.means.MultitaskMean(\n",
    "            gpytorch.means.ConstantMean(), num_tasks=config.NUM_CONC\n",
    "        )\n",
    "        kernels=[]\n",
    "        if kernel==RBFKernel:\n",
    "            for _ in range(config.NUM_CONC):\n",
    "                kernels.append(kernel())\n",
    "        else:\n",
    "            for _ in range(config.NUM_CONC):\n",
    "                kernels.append(kernel(config))\n",
    "        self.covar_module =gpytorch.kernels.LCMKernel(\n",
    "            kernels, num_tasks=config.NUM_CONC, rank=config.NUM_CONC\n",
    "        )\n",
    "\n",
    "        logger.debug(\"Completed\")\n",
    "\n",
    "    def forward(self, x):\n",
    "        mean_x = self.mean_module(x)\n",
    "        covar_x = self.covar_module(x)\n",
    "        return gpytorch.distributions.MultitaskMultivariateNormal(mean_x, covar_x)"
   ]
  },
  {
   "cell_type": "markdown",
   "metadata": {},
   "source": [
    "## Multitask GP"
   ]
  },
  {
   "cell_type": "code",
   "execution_count": 64,
   "metadata": {},
   "outputs": [],
   "source": [
    "class MultitaskGP(gpytorch.models.ExactGP):\n",
    "    #TODO add input for domain information\n",
    "    def __init__(self, train_x, train_y,likelihood,kernel,config):\n",
    "        super(MultitaskGP, self).__init__(train_x, train_y, likelihood)\n",
    "        self.mean_module = gpytorch.means.MultitaskMean(\n",
    "            gpytorch.means.ConstantMean(), num_tasks=config.NUM_CONC\n",
    "        )\n",
    "        kernels=[]\n",
    "        \n",
    "        if kernel==RBFKernel:\n",
    "            kern=kernel()\n",
    "        else:\n",
    "            kern=kernel(config)\n",
    "                \n",
    "        self.covar_module =gpytorch.kernels.MultitaskKernel(\n",
    "            kern, num_tasks=config.NUM_CONC, rank=config.NUM_CONC\n",
    "        )\n",
    "        #     self.covar_module = gpytorch.kernels.MultitaskKernel(\n",
    "        #         K_MS(),  # 2 latent GP's\n",
    "\n",
    "        #     num_tasks=num_conc, rank=num_conc-1\n",
    "        # )\n",
    "\n",
    "    def forward(self, x):\n",
    "        mean_x = self.mean_module(x)\n",
    "        covar_x = self.covar_module(x)\n",
    "        return gpytorch.distributions.MultitaskMultivariateNormal(mean_x, covar_x)"
   ]
  },
  {
   "cell_type": "code",
   "execution_count": 65,
   "metadata": {},
   "outputs": [
    {
     "name": "stdout",
     "output_type": "stream",
     "text": [
      "(153, 1084)\n",
      "(153, 10)\n",
      "(153, 1)\n",
      "torch.Size([137, 1084])\n",
      "torch.Size([137, 1])\n",
      "torch.Size([137, 10])\n",
      "NUMS_DOMAIN: 8.0\n",
      "torch.Size([137, 1085])\n",
      "torch.Size([16, 1085])\n"
     ]
    }
   ],
   "source": [
    "# X_path=\"data/X_df_toy.pkl\"\n",
    "# y_path=\"data/y_df_toy.pkl\"\n",
    "\n",
    "# X_path=\"data/full_shots_Shikonin/X_df.pkl\"\n",
    "# y_path=\"data/full_shots_Shikonin/y_df.pkl\"\n",
    "# X_domain_path=\"data/full_shots_Shikonin/X_domain_info.pkl\"\n",
    "\n",
    "Global=config()\n",
    "\n",
    "# X_path=\"data/X_df_2_shots.pkl\"\n",
    "# y_path=\"data/y_df_2_shots.pkl\"\n",
    "# X_domain_path=\"data/X_domain_info_2_shots.pkl\"\n",
    "\n",
    "# X_path=\"data/2_shots_4_params_sigmoid/X_df.pkl\"\n",
    "# y_path=\"data/2_shots_4_params_sigmoid/y_df.pkl\"\n",
    "# X_domain_path=\"data/2_shots_4_params_sigmoid/X_domain_info.pkl\"\n",
    "\n",
    "X_path=\"data/8_shots/X_df.pkl\"\n",
    "y_path=\"data/8_shots/y_df.pkl\"\n",
    "X_domain_path=\"data/8_shots/X_domain_info.pkl\"\n",
    "\n",
    "# X_path=\"data/2_shots/X_df.pkl\"\n",
    "# y_path=\"data/2_shots/y_df.pkl\"\n",
    "# X_domain_path=\"data/2_shots/X_domain_info.pkl\"\n",
    "(X_train_tensor,X_D_train_tensor,y_train_tensor),(X_test_tensor,X_D_test_tensor,y_test_tensor)=load_dataset(X_path,y_path,X_domain_path=X_domain_path)\n",
    "\n",
    "print(X_train_tensor.shape)\n",
    "print(X_D_train_tensor.shape)\n",
    "print(y_train_tensor.shape)\n",
    "\n",
    "Global.NUM_CONC=y_train_tensor.shape[1]\n",
    "\n",
    "Global.NUM_FEAT=X_train_tensor.shape[1]\n",
    "Global.NUM_DOMAIN_FEAT=X_D_train_tensor.shape[1]\n",
    "NUMS_DOMAIN, max_indices_row = torch.max(X_D_train_tensor, dim=0)\n",
    "NUMS_DOMAIN.add_(1)\n",
    "\n",
    "\n",
    "print(f'NUMS_DOMAIN: {NUMS_DOMAIN.item()}')\n",
    "Global.NUMS_DOMAIN=NUMS_DOMAIN.long()\n",
    "X_train_tensor = torch.cat((X_D_train_tensor, X_train_tensor), dim=1)\n",
    "X_test_tensor = torch.cat((X_D_test_tensor, X_test_tensor), dim=1)\n",
    "print(X_train_tensor.shape)\n",
    "print(X_test_tensor.shape)\n",
    "\n",
    "with open(X_path, 'rb') as f:\n",
    "    X_df = pickle.load(f)\n"
   ]
  },
  {
   "cell_type": "markdown",
   "metadata": {},
   "source": [
    "# Tests"
   ]
  },
  {
   "cell_type": "code",
   "execution_count": 66,
   "metadata": {},
   "outputs": [],
   "source": [
    "Global.lr=0.1\n",
    "Global.gamma=0.5\n",
    "Global.STEP_SIZE=50\n",
    "Global.NUMS_DOMAIN_FEATURE=1"
   ]
  },
  {
   "cell_type": "code",
   "execution_count": 67,
   "metadata": {},
   "outputs": [],
   "source": [
    "params= [\n",
    "    # [MultitaskGP, RBFKernel, 0.18, 55, 0.8],\n",
    "    # [Linear_Model_Of_Corregionalization, RBFKernel, 0.1, 60, 0.8],\n",
    "    # [MultitaskGP, K_MS, 0.18, 55, 0.65],\n",
    "    [Linear_Model_Of_Corregionalization, K_Alpha_Beta,0.69, 33, 0.2],\n",
    "    # [MultitaskGP, K_MS_with_Feat_Scaling, 0.18, 55,0.65],\n",
    "]"
   ]
  },
  {
   "cell_type": "code",
   "execution_count": 68,
   "metadata": {},
   "outputs": [
    {
     "name": "stderr",
     "output_type": "stream",
     "text": [
      "2024-09-06 17:30:36,416 - INFO - --------------------------------\n",
      "2024-09-06 17:30:36,417 - INFO - FOLD 1\n",
      "2024-09-06 17:30:36,419 - INFO - training starts for model <class '__main__.Linear_Model_Of_Corregionalization'> with kernel <class '__main__.K_Alpha_Beta'>; lr: 0.69; step_size:33; gamma:0.2\n",
      "2024-09-06 17:30:36,429 - DEBUG - Completed\n"
     ]
    },
    {
     "name": "stdout",
     "output_type": "stream",
     "text": [
      "X_train_tensor shape: torch.Size([137, 1085])\n",
      "y_train_tensor shape: torch.Size([137, 10])\n",
      "X_train_tensor shape: torch.Size([16, 1085])\n",
      "y_train_tensor shape: torch.Size([16, 10])\n"
     ]
    },
    {
     "name": "stderr",
     "output_type": "stream",
     "text": [
      "2024-09-06 17:30:43,535 - DEBUG - Iter 33/500 - Loss: 0.994\n",
      "2024-09-06 17:30:50,710 - DEBUG - Iter 66/500 - Loss: -0.366\n",
      "2024-09-06 17:30:57,406 - DEBUG - Iter 99/500 - Loss: -0.950\n",
      "2024-09-06 17:31:03,999 - DEBUG - Iter 132/500 - Loss: -1.126\n",
      "2024-09-06 17:31:10,418 - DEBUG - Iter 165/500 - Loss: -1.244\n",
      "2024-09-06 17:31:16,901 - DEBUG - Iter 198/500 - Loss: -1.267\n",
      "2024-09-06 17:31:16,901 - INFO - Early cut off at epoch 197 with loss of -1.2670520544052124\n",
      "2024-09-06 17:31:17,309 - INFO - NLL: -1.0605; RMSE: 0.2341; NMSE: 1.1836\n",
      "2024-09-06 17:31:17,311 - INFO - --------------------------------\n",
      "2024-09-06 17:31:17,312 - INFO - FOLD 2\n",
      "2024-09-06 17:31:17,314 - INFO - training starts for model <class '__main__.Linear_Model_Of_Corregionalization'> with kernel <class '__main__.K_Alpha_Beta'>; lr: 0.69; step_size:33; gamma:0.2\n",
      "2024-09-06 17:31:17,322 - DEBUG - Completed\n"
     ]
    },
    {
     "name": "stdout",
     "output_type": "stream",
     "text": [
      "X_train_tensor shape: torch.Size([137, 1085])\n",
      "y_train_tensor shape: torch.Size([137, 10])\n",
      "X_train_tensor shape: torch.Size([16, 1085])\n",
      "y_train_tensor shape: torch.Size([16, 10])\n"
     ]
    },
    {
     "name": "stderr",
     "output_type": "stream",
     "text": [
      "2024-09-06 17:31:24,059 - DEBUG - Iter 33/500 - Loss: 0.762\n",
      "2024-09-06 17:31:30,470 - DEBUG - Iter 66/500 - Loss: -0.256\n",
      "2024-09-06 17:31:36,892 - DEBUG - Iter 99/500 - Loss: -0.817\n",
      "2024-09-06 17:31:43,333 - DEBUG - Iter 132/500 - Loss: -1.068\n",
      "2024-09-06 17:31:49,819 - DEBUG - Iter 165/500 - Loss: -1.060\n",
      "2024-09-06 17:31:56,226 - DEBUG - Iter 198/500 - Loss: -1.057\n",
      "2024-09-06 17:31:56,227 - INFO - Early cut off at epoch 197 with loss of -1.0574140548706055\n",
      "2024-09-06 17:31:56,636 - INFO - NLL: -0.6869; RMSE: 0.2151; NMSE: 1.0260\n",
      "2024-09-06 17:31:56,638 - INFO - --------------------------------\n",
      "2024-09-06 17:31:56,638 - INFO - FOLD 3\n",
      "2024-09-06 17:31:56,640 - INFO - training starts for model <class '__main__.Linear_Model_Of_Corregionalization'> with kernel <class '__main__.K_Alpha_Beta'>; lr: 0.69; step_size:33; gamma:0.2\n",
      "2024-09-06 17:31:56,651 - DEBUG - Completed\n"
     ]
    },
    {
     "name": "stdout",
     "output_type": "stream",
     "text": [
      "X_train_tensor shape: torch.Size([137, 1085])\n",
      "y_train_tensor shape: torch.Size([137, 10])\n",
      "X_train_tensor shape: torch.Size([16, 1085])\n",
      "y_train_tensor shape: torch.Size([16, 10])\n"
     ]
    },
    {
     "name": "stderr",
     "output_type": "stream",
     "text": [
      "2024-09-06 17:32:03,175 - DEBUG - Iter 33/500 - Loss: 0.865\n",
      "2024-09-06 17:32:09,555 - DEBUG - Iter 66/500 - Loss: -0.427\n",
      "2024-09-06 17:32:15,953 - DEBUG - Iter 99/500 - Loss: -0.909\n",
      "2024-09-06 17:32:22,497 - DEBUG - Iter 132/500 - Loss: -1.283\n",
      "2024-09-06 17:32:29,147 - DEBUG - Iter 165/500 - Loss: -1.313\n",
      "2024-09-06 17:32:35,682 - DEBUG - Iter 198/500 - Loss: -1.266\n",
      "2024-09-06 17:32:42,132 - DEBUG - Iter 231/500 - Loss: -1.285\n",
      "2024-09-06 17:32:42,132 - INFO - Early cut off at epoch 230 with loss of -1.2849138975143433\n",
      "2024-09-06 17:32:42,551 - INFO - NLL: -1.0192; RMSE: 0.2338; NMSE: 1.1233\n",
      "2024-09-06 17:32:42,554 - INFO - --------------------------------\n",
      "2024-09-06 17:32:42,554 - INFO - FOLD 4\n",
      "2024-09-06 17:32:42,557 - INFO - training starts for model <class '__main__.Linear_Model_Of_Corregionalization'> with kernel <class '__main__.K_Alpha_Beta'>; lr: 0.69; step_size:33; gamma:0.2\n",
      "2024-09-06 17:32:42,568 - DEBUG - Completed\n"
     ]
    },
    {
     "name": "stdout",
     "output_type": "stream",
     "text": [
      "X_train_tensor shape: torch.Size([138, 1085])\n",
      "y_train_tensor shape: torch.Size([138, 10])\n",
      "X_train_tensor shape: torch.Size([15, 1085])\n",
      "y_train_tensor shape: torch.Size([15, 10])\n"
     ]
    },
    {
     "name": "stderr",
     "output_type": "stream",
     "text": [
      "2024-09-06 17:32:49,111 - DEBUG - Iter 33/500 - Loss: 0.988\n",
      "2024-09-06 17:32:55,579 - DEBUG - Iter 66/500 - Loss: -0.291\n",
      "2024-09-06 17:33:02,004 - DEBUG - Iter 99/500 - Loss: -1.083\n",
      "2024-09-06 17:33:08,389 - DEBUG - Iter 132/500 - Loss: -1.240\n",
      "2024-09-06 17:33:14,789 - DEBUG - Iter 165/500 - Loss: -1.294\n",
      "2024-09-06 17:33:21,251 - DEBUG - Iter 198/500 - Loss: -1.320\n",
      "2024-09-06 17:33:27,812 - DEBUG - Iter 231/500 - Loss: -1.318\n",
      "2024-09-06 17:33:34,181 - DEBUG - Iter 264/500 - Loss: -1.295\n",
      "2024-09-06 17:33:34,181 - INFO - Early cut off at epoch 263 with loss of -1.2946045398712158\n",
      "2024-09-06 17:33:34,598 - INFO - NLL: -1.0275; RMSE: 0.2289; NMSE: 1.0977\n",
      "2024-09-06 17:33:34,599 - INFO - --------------------------------\n",
      "2024-09-06 17:33:34,600 - INFO - FOLD 5\n",
      "2024-09-06 17:33:34,602 - INFO - training starts for model <class '__main__.Linear_Model_Of_Corregionalization'> with kernel <class '__main__.K_Alpha_Beta'>; lr: 0.69; step_size:33; gamma:0.2\n",
      "2024-09-06 17:33:34,610 - DEBUG - Completed\n"
     ]
    },
    {
     "name": "stdout",
     "output_type": "stream",
     "text": [
      "X_train_tensor shape: torch.Size([138, 1085])\n",
      "y_train_tensor shape: torch.Size([138, 10])\n",
      "X_train_tensor shape: torch.Size([15, 1085])\n",
      "y_train_tensor shape: torch.Size([15, 10])\n"
     ]
    },
    {
     "name": "stderr",
     "output_type": "stream",
     "text": [
      "2024-09-06 17:33:41,300 - DEBUG - Iter 33/500 - Loss: 0.859\n",
      "2024-09-06 17:33:47,802 - DEBUG - Iter 66/500 - Loss: -0.574\n",
      "2024-09-06 17:33:54,312 - DEBUG - Iter 99/500 - Loss: -1.142\n",
      "2024-09-06 17:34:00,834 - DEBUG - Iter 132/500 - Loss: -1.240\n",
      "2024-09-06 17:34:07,250 - DEBUG - Iter 165/500 - Loss: -1.265\n",
      "2024-09-06 17:34:07,250 - INFO - Early cut off at epoch 164 with loss of -1.2648550271987915\n",
      "2024-09-06 17:34:07,659 - INFO - NLL: -1.0786; RMSE: 0.2127; NMSE: 1.0915\n",
      "2024-09-06 17:34:07,661 - INFO - --------------------------------\n",
      "2024-09-06 17:34:07,662 - INFO - FOLD 6\n",
      "2024-09-06 17:34:07,664 - INFO - training starts for model <class '__main__.Linear_Model_Of_Corregionalization'> with kernel <class '__main__.K_Alpha_Beta'>; lr: 0.69; step_size:33; gamma:0.2\n",
      "2024-09-06 17:34:07,672 - DEBUG - Completed\n"
     ]
    },
    {
     "name": "stdout",
     "output_type": "stream",
     "text": [
      "X_train_tensor shape: torch.Size([138, 1085])\n",
      "y_train_tensor shape: torch.Size([138, 10])\n",
      "X_train_tensor shape: torch.Size([15, 1085])\n",
      "y_train_tensor shape: torch.Size([15, 10])\n"
     ]
    },
    {
     "name": "stderr",
     "output_type": "stream",
     "text": [
      "2024-09-06 17:34:14,170 - DEBUG - Iter 33/500 - Loss: 1.086\n",
      "2024-09-06 17:34:20,687 - DEBUG - Iter 66/500 - Loss: -0.409\n",
      "2024-09-06 17:34:27,216 - DEBUG - Iter 99/500 - Loss: -1.112\n",
      "2024-09-06 17:34:33,651 - DEBUG - Iter 132/500 - Loss: -1.273\n",
      "2024-09-06 17:34:40,077 - DEBUG - Iter 165/500 - Loss: -1.269\n",
      "2024-09-06 17:34:40,077 - INFO - Early cut off at epoch 164 with loss of -1.2690616846084595\n",
      "2024-09-06 17:34:40,489 - INFO - NLL: -1.1983; RMSE: 0.1749; NMSE: 0.9057\n",
      "2024-09-06 17:34:40,491 - INFO - --------------------------------\n",
      "2024-09-06 17:34:40,492 - INFO - FOLD 7\n",
      "2024-09-06 17:34:40,494 - INFO - training starts for model <class '__main__.Linear_Model_Of_Corregionalization'> with kernel <class '__main__.K_Alpha_Beta'>; lr: 0.69; step_size:33; gamma:0.2\n",
      "2024-09-06 17:34:40,502 - DEBUG - Completed\n"
     ]
    },
    {
     "name": "stdout",
     "output_type": "stream",
     "text": [
      "X_train_tensor shape: torch.Size([138, 1085])\n",
      "y_train_tensor shape: torch.Size([138, 10])\n",
      "X_train_tensor shape: torch.Size([15, 1085])\n",
      "y_train_tensor shape: torch.Size([15, 10])\n"
     ]
    },
    {
     "name": "stderr",
     "output_type": "stream",
     "text": [
      "2024-09-06 17:34:46,950 - DEBUG - Iter 33/500 - Loss: 0.807\n",
      "2024-09-06 17:34:53,615 - DEBUG - Iter 66/500 - Loss: -0.537\n",
      "2024-09-06 17:35:00,131 - DEBUG - Iter 99/500 - Loss: -0.980\n",
      "2024-09-06 17:35:06,525 - DEBUG - Iter 132/500 - Loss: -1.227\n",
      "2024-09-06 17:35:12,924 - DEBUG - Iter 165/500 - Loss: -1.307\n",
      "2024-09-06 17:35:19,410 - DEBUG - Iter 198/500 - Loss: -1.313\n",
      "2024-09-06 17:35:26,151 - DEBUG - Iter 231/500 - Loss: -1.288\n",
      "2024-09-06 17:35:26,152 - INFO - Early cut off at epoch 230 with loss of -1.2880754470825195\n",
      "2024-09-06 17:35:26,563 - INFO - NLL: -1.1406; RMSE: 0.1964; NMSE: 0.9450\n",
      "2024-09-06 17:35:26,565 - INFO - --------------------------------\n",
      "2024-09-06 17:35:26,565 - INFO - FOLD 8\n",
      "2024-09-06 17:35:26,568 - INFO - training starts for model <class '__main__.Linear_Model_Of_Corregionalization'> with kernel <class '__main__.K_Alpha_Beta'>; lr: 0.69; step_size:33; gamma:0.2\n",
      "2024-09-06 17:35:26,578 - DEBUG - Completed\n"
     ]
    },
    {
     "name": "stdout",
     "output_type": "stream",
     "text": [
      "X_train_tensor shape: torch.Size([138, 1085])\n",
      "y_train_tensor shape: torch.Size([138, 10])\n",
      "X_train_tensor shape: torch.Size([15, 1085])\n",
      "y_train_tensor shape: torch.Size([15, 10])\n"
     ]
    },
    {
     "name": "stderr",
     "output_type": "stream",
     "text": [
      "2024-09-06 17:35:33,012 - DEBUG - Iter 33/500 - Loss: 0.953\n",
      "2024-09-06 17:35:39,506 - DEBUG - Iter 66/500 - Loss: -0.255\n",
      "2024-09-06 17:35:46,022 - DEBUG - Iter 99/500 - Loss: -1.009\n",
      "2024-09-06 17:35:52,635 - DEBUG - Iter 132/500 - Loss: -1.232\n",
      "2024-09-06 17:35:59,024 - DEBUG - Iter 165/500 - Loss: -1.283\n",
      "2024-09-06 17:36:05,603 - DEBUG - Iter 198/500 - Loss: -1.281\n",
      "2024-09-06 17:36:05,603 - INFO - Early cut off at epoch 197 with loss of -1.2814234495162964\n",
      "2024-09-06 17:36:06,035 - INFO - NLL: -1.0681; RMSE: 0.1981; NMSE: 0.9976\n",
      "2024-09-06 17:36:06,038 - INFO - --------------------------------\n",
      "2024-09-06 17:36:06,039 - INFO - FOLD 9\n",
      "2024-09-06 17:36:06,041 - INFO - training starts for model <class '__main__.Linear_Model_Of_Corregionalization'> with kernel <class '__main__.K_Alpha_Beta'>; lr: 0.69; step_size:33; gamma:0.2\n",
      "2024-09-06 17:36:06,054 - DEBUG - Completed\n"
     ]
    },
    {
     "name": "stdout",
     "output_type": "stream",
     "text": [
      "X_train_tensor shape: torch.Size([138, 1085])\n",
      "y_train_tensor shape: torch.Size([138, 10])\n",
      "X_train_tensor shape: torch.Size([15, 1085])\n",
      "y_train_tensor shape: torch.Size([15, 10])\n"
     ]
    },
    {
     "name": "stderr",
     "output_type": "stream",
     "text": [
      "2024-09-06 17:36:12,481 - DEBUG - Iter 33/500 - Loss: 0.824\n",
      "2024-09-06 17:36:18,991 - DEBUG - Iter 66/500 - Loss: -0.329\n",
      "2024-09-06 17:36:25,472 - DEBUG - Iter 99/500 - Loss: -1.062\n",
      "2024-09-06 17:36:31,972 - DEBUG - Iter 132/500 - Loss: -1.230\n",
      "2024-09-06 17:36:38,415 - DEBUG - Iter 165/500 - Loss: -1.294\n",
      "2024-09-06 17:36:38,417 - INFO - Early cut off at epoch 164 with loss of -1.2944279909133911\n",
      "2024-09-06 17:36:38,820 - INFO - NLL: -0.9007; RMSE: 0.2395; NMSE: 1.1651\n",
      "2024-09-06 17:36:38,822 - INFO - --------------------------------\n",
      "2024-09-06 17:36:38,823 - INFO - FOLD 10\n",
      "2024-09-06 17:36:38,825 - INFO - training starts for model <class '__main__.Linear_Model_Of_Corregionalization'> with kernel <class '__main__.K_Alpha_Beta'>; lr: 0.69; step_size:33; gamma:0.2\n",
      "2024-09-06 17:36:38,835 - DEBUG - Completed\n"
     ]
    },
    {
     "name": "stdout",
     "output_type": "stream",
     "text": [
      "X_train_tensor shape: torch.Size([138, 1085])\n",
      "y_train_tensor shape: torch.Size([138, 10])\n",
      "X_train_tensor shape: torch.Size([15, 1085])\n",
      "y_train_tensor shape: torch.Size([15, 10])\n"
     ]
    },
    {
     "name": "stderr",
     "output_type": "stream",
     "text": [
      "2024-09-06 17:36:45,328 - DEBUG - Iter 33/500 - Loss: 1.011\n",
      "2024-09-06 17:36:51,880 - DEBUG - Iter 66/500 - Loss: -0.301\n",
      "2024-09-06 17:36:58,356 - DEBUG - Iter 99/500 - Loss: -1.171\n",
      "2024-09-06 17:37:04,853 - DEBUG - Iter 132/500 - Loss: -1.290\n",
      "2024-09-06 17:37:11,477 - DEBUG - Iter 165/500 - Loss: -1.299\n",
      "2024-09-06 17:37:11,478 - INFO - Early cut off at epoch 164 with loss of -1.2993133068084717\n",
      "2024-09-06 17:37:11,885 - INFO - NLL: -0.8710; RMSE: 0.2460; NMSE: 1.1389\n"
     ]
    }
   ],
   "source": [
    "X = torch.cat((X_train_tensor, X_test_tensor), dim=0)\n",
    "y = torch.cat((y_train_tensor, y_test_tensor), dim=0)\n",
    "dataset = TensorDataset(X, y)\n",
    "\n",
    "# 定义 KFold，n_splits=10 表示 10-fold 交叉验证\n",
    "k_folds = 10\n",
    "kfold = KFold(n_splits=k_folds, shuffle=True, random_state=42)\n",
    "\n",
    "# 用于存储每个 fold 的结果\n",
    "fold_results = {}\n",
    "m=[]\n",
    "nlls=[]\n",
    "for each_param in params:\n",
    "        Global.lr=each_param[2]\n",
    "        Global.STEP_SIZE=each_param[3]\n",
    "        Global.gamma=each_param[4]\n",
    "        for fold, (train_idx, val_idx) in enumerate(kfold.split(dataset)):\n",
    "            logger.info('--------------------------------')\n",
    "            logger.info(f'FOLD {fold+1}')\n",
    "\n",
    "            \n",
    "            # 创建训练和验证数据集\n",
    "            train_subset = Subset(dataset, train_idx)\n",
    "            val_subset = Subset(dataset, val_idx)\n",
    "            \n",
    "            # 创建数据加载器\n",
    "            train_loader = DataLoader(train_subset, batch_size=32, shuffle=True)\n",
    "            val_loader = DataLoader(val_subset, batch_size=32, shuffle=False)\n",
    "            X_train_tensor,y_train_tensor=dataloader2tensor(train_loader)\n",
    "            X_test_tensor,y_test_tensor=dataloader2tensor(val_loader)\n",
    "            try:\n",
    "                md,n=run_test(X_train_tensor,y_train_tensor,X_test_tensor,y_test_tensor,model=each_param[0],kernel=each_param[1],config=Global)\n",
    "                m.append(md)\n",
    "                nlls.append(n)\n",
    "            except Exception as e:\n",
    "                logger.error(f\"发生了一个异常: {e}\")\n",
    "                continue\n"
   ]
  },
  {
   "cell_type": "code",
   "execution_count": 69,
   "metadata": {},
   "outputs": [
    {
     "name": "stdout",
     "output_type": "stream",
     "text": [
      "Kernel: LCMKernel\n",
      "  Parameter name: covar_module_list.0.task_covar_module.covar_factor\n",
      "  Parameter name: covar_module_list.0.task_covar_module.raw_var\n",
      "  Parameter name: covar_module_list.0.data_covar_module.alpha\n",
      "  Parameter name: covar_module_list.0.data_covar_module.beta\n",
      "  Parameter name: covar_module_list.1.task_covar_module.covar_factor\n",
      "  Parameter name: covar_module_list.1.task_covar_module.raw_var\n",
      "  Parameter name: covar_module_list.1.data_covar_module.alpha\n",
      "  Parameter name: covar_module_list.1.data_covar_module.beta\n",
      "  Parameter name: covar_module_list.2.task_covar_module.covar_factor\n",
      "  Parameter name: covar_module_list.2.task_covar_module.raw_var\n",
      "  Parameter name: covar_module_list.2.data_covar_module.alpha\n",
      "  Parameter name: covar_module_list.2.data_covar_module.beta\n",
      "  Parameter name: covar_module_list.3.task_covar_module.covar_factor\n",
      "  Parameter name: covar_module_list.3.task_covar_module.raw_var\n",
      "  Parameter name: covar_module_list.3.data_covar_module.alpha\n",
      "  Parameter name: covar_module_list.3.data_covar_module.beta\n",
      "  Parameter name: covar_module_list.4.task_covar_module.covar_factor\n",
      "  Parameter name: covar_module_list.4.task_covar_module.raw_var\n",
      "  Parameter name: covar_module_list.4.data_covar_module.alpha\n",
      "  Parameter name: covar_module_list.4.data_covar_module.beta\n",
      "  Parameter name: covar_module_list.5.task_covar_module.covar_factor\n",
      "  Parameter name: covar_module_list.5.task_covar_module.raw_var\n",
      "  Parameter name: covar_module_list.5.data_covar_module.alpha\n",
      "  Parameter name: covar_module_list.5.data_covar_module.beta\n",
      "  Parameter name: covar_module_list.6.task_covar_module.covar_factor\n",
      "  Parameter name: covar_module_list.6.task_covar_module.raw_var\n",
      "  Parameter name: covar_module_list.6.data_covar_module.alpha\n",
      "  Parameter name: covar_module_list.6.data_covar_module.beta\n",
      "  Parameter name: covar_module_list.7.task_covar_module.covar_factor\n",
      "  Parameter name: covar_module_list.7.task_covar_module.raw_var\n",
      "  Parameter name: covar_module_list.7.data_covar_module.alpha\n",
      "  Parameter name: covar_module_list.7.data_covar_module.beta\n",
      "  Parameter name: covar_module_list.8.task_covar_module.covar_factor\n",
      "  Parameter name: covar_module_list.8.task_covar_module.raw_var\n",
      "  Parameter name: covar_module_list.8.data_covar_module.alpha\n",
      "  Parameter name: covar_module_list.8.data_covar_module.beta\n",
      "  Parameter name: covar_module_list.9.task_covar_module.covar_factor\n",
      "  Parameter name: covar_module_list.9.task_covar_module.raw_var\n",
      "  Parameter name: covar_module_list.9.data_covar_module.alpha\n",
      "  Parameter name: covar_module_list.9.data_covar_module.beta\n"
     ]
    }
   ],
   "source": [
    "def print_kernel_params(kernel, depth=0):\n",
    "    indent = \"  \" * depth\n",
    "    # 打印当前核函数的类型和名称\n",
    "    print(f\"{indent}Kernel: {kernel.__class__.__name__}\")\n",
    "    \n",
    "    # 获取当前核函数的参数\n",
    "    for name, param in kernel.named_parameters():\n",
    "        print(f\"{indent}  Parameter name: {name}\")\n",
    "        # print(f\"{indent}  Parameter value: {param.item()}\")\n",
    "\n",
    "    # 如果是组合核函数，则递归进入子核函数\n",
    "    if hasattr(kernel, 'kernels'):  # 处理AdditiveKernel, ProductKernel等组合核\n",
    "        for i, sub_kernel in enumerate(kernel.kernels):\n",
    "            print(f\"{indent}  Sub-kernel {i + 1}:\")\n",
    "            print_kernel_params(sub_kernel, depth + 1)\n",
    "    elif hasattr(kernel, 'base_kernel'):  # 处理嵌套的核函数（如 ScaleKernel）\n",
    "        print_kernel_params(kernel.base_kernel, depth + 1)\n",
    "\n",
    "\n",
    "\n",
    "# 从模型的 covar_module 开始递归搜索核函数参数\n",
    "print_kernel_params(m[0].covar_module)\n"
   ]
  },
  {
   "cell_type": "code",
   "execution_count": 70,
   "metadata": {},
   "outputs": [],
   "source": [
    "# print(m[0].covar_module.covar_module_list[2].data_covar_module.beta)"
   ]
  },
  {
   "cell_type": "code",
   "execution_count": null,
   "metadata": {},
   "outputs": [],
   "source": []
  },
  {
   "cell_type": "code",
   "execution_count": 76,
   "metadata": {},
   "outputs": [
    {
     "data": {
      "image/png": "[encoded data removed]",
      "text/plain": [
       "<Figure size 640x480 with 2 Axes>"
      ]
     },
     "metadata": {},
     "output_type": "display_data"
    }
   ],
   "source": [
    "alpha_list = []\n",
    "\n",
    "# 迭代 covar_module_list 的前 9 个元素\n",
    "for i in range(9):\n",
    "    # 提取每个模块的 alpha 值（假设 alpha 是张量）\n",
    "    alpha = m[0].covar_module.covar_module_list[i].data_covar_module.beta\n",
    "    \n",
    "    # 将 alpha 视作列向量（n x 1），需要增加维度\n",
    "    alpha_column = alpha.view(-1, 1)\n",
    "    \n",
    "    # 将列向量添加到列表中\n",
    "    alpha_list.append(alpha_column)\n",
    "\n",
    "# 将 9 个列向量水平堆叠成一个矩阵\n",
    "alpha_matrix = torch.cat(alpha_list, dim=1).detach().numpy()\n",
    "# 创建热图\n",
    "plt.pcolormesh(alpha_matrix, cmap='viridis')\n",
    "\n",
    "# 添加颜色条\n",
    "plt.colorbar()\n",
    "\n",
    "# 显示图像\n",
    "plt.show()\n",
    "# print(data)"
   ]
  },
  {
   "cell_type": "code",
   "execution_count": 75,
   "metadata": {},
   "outputs": [
    {
     "data": {
      "image/png": "[encoded data removed]",
      "text/plain": [
       "<Figure size 1000x1000 with 10 Axes>"
      ]
     },
     "metadata": {},
     "output_type": "display_data"
    }
   ],
   "source": [
    "# 创建一个 3x3 的子图网格\n",
    "fig, axes = plt.subplots(3, 3, figsize=(10, 10))\n",
    "\n",
    "# 遍历每个子图并绘制热图\n",
    "for i, ax in enumerate(axes.flat):  # axes.flat 将 3x3 网格展平为一维数组\n",
    "    alpha_list = []\n",
    "    # 迭代 covar_module_list 的前 9 个元素\n",
    "    for j in range(9):\n",
    "        # 提取每个模块的 alpha 值（假设 alpha 是张量）\n",
    "        alpha = m[i].covar_module.covar_module_list[j].data_covar_module.beta\n",
    "        \n",
    "        # 将 alpha 视作列向量（n x 1），需要增加维度\n",
    "        alpha_column = alpha.view(-1, 1)\n",
    "        \n",
    "        # 将列向量添加到列表中\n",
    "        alpha_list.append(alpha_column)\n",
    "\n",
    "    # 将 9 个列向量水平堆叠成一个矩阵\n",
    "    alpha_matrix = torch.cat(alpha_list, dim=1).detach().numpy()\n",
    "    im = ax.imshow(alpha_matrix)\n",
    "    ax.set_title(f'Fold {i+1}; NLL:{round(nlls[i],3)}')  # 设置每个热图的标题\n",
    "\n",
    "# 调整子图间的间距\n",
    "plt.tight_layout()\n",
    "\n",
    "# 为最后一个热图添加颜色条\n",
    "fig.colorbar(im, ax=axes.ravel().tolist())  # 使用最后一个图的颜色条\n",
    "\n",
    "# 显示图像\n",
    "plt.show()"
   ]
  },
  {
   "cell_type": "code",
   "execution_count": 73,
   "metadata": {},
   "outputs": [
    {
     "ename": "AttributeError",
     "evalue": "'LCMKernel' object has no attribute 'data_covar_module'",
     "output_type": "error",
     "traceback": [
      "\u001b[1;31m---------------------------------------------------------------------------\u001b[0m",
      "\u001b[1;31mAttributeError\u001b[0m                            Traceback (most recent call last)",
      "Cell \u001b[1;32mIn[73], line 1\u001b[0m\n\u001b[1;32m----> 1\u001b[0m h\u001b[38;5;241m=\u001b[39mm[\u001b[38;5;241m0\u001b[39m]\u001b[38;5;241m.\u001b[39mcovar_module\u001b[38;5;241m.\u001b[39mdata_covar_module\u001b[38;5;241m.\u001b[39mdomain_coefficient\n\u001b[0;32m      2\u001b[0m h\u001b[38;5;241m=\u001b[39mtorch\u001b[38;5;241m.\u001b[39mtanh(h)\n\u001b[0;32m      3\u001b[0m data\u001b[38;5;241m=\u001b[39mtorch\u001b[38;5;241m.\u001b[39mouter(h\u001b[38;5;241m.\u001b[39mT,h)\u001b[38;5;241m.\u001b[39mdetach()\u001b[38;5;241m.\u001b[39mnumpy()\n",
      "File \u001b[1;32mc:\\Users\\25858\\anaconda3\\Lib\\site-packages\\torch\\nn\\modules\\module.py:1709\u001b[0m, in \u001b[0;36mModule.__getattr__\u001b[1;34m(self, name)\u001b[0m\n\u001b[0;32m   1707\u001b[0m     \u001b[38;5;28;01mif\u001b[39;00m name \u001b[38;5;129;01min\u001b[39;00m modules:\n\u001b[0;32m   1708\u001b[0m         \u001b[38;5;28;01mreturn\u001b[39;00m modules[name]\n\u001b[1;32m-> 1709\u001b[0m \u001b[38;5;28;01mraise\u001b[39;00m \u001b[38;5;167;01mAttributeError\u001b[39;00m(\u001b[38;5;124mf\u001b[39m\u001b[38;5;124m\"\u001b[39m\u001b[38;5;124m'\u001b[39m\u001b[38;5;132;01m{\u001b[39;00m\u001b[38;5;28mtype\u001b[39m(\u001b[38;5;28mself\u001b[39m)\u001b[38;5;241m.\u001b[39m\u001b[38;5;18m__name__\u001b[39m\u001b[38;5;132;01m}\u001b[39;00m\u001b[38;5;124m'\u001b[39m\u001b[38;5;124m object has no attribute \u001b[39m\u001b[38;5;124m'\u001b[39m\u001b[38;5;132;01m{\u001b[39;00mname\u001b[38;5;132;01m}\u001b[39;00m\u001b[38;5;124m'\u001b[39m\u001b[38;5;124m\"\u001b[39m)\n",
      "\u001b[1;31mAttributeError\u001b[0m: 'LCMKernel' object has no attribute 'data_covar_module'"
     ]
    }
   ],
   "source": [
    "h=m[0].covar_module.data_covar_module.domain_coefficient\n",
    "h=torch.tanh(h)\n",
    "data=torch.outer(h.T,h).detach().numpy()\n",
    "np.fill_diagonal(data, 1)\n",
    "# 创建热图\n",
    "plt.pcolormesh(data, cmap='viridis')\n",
    "\n",
    "# 添加颜色条\n",
    "plt.colorbar()\n",
    "\n",
    "# 显示图像\n",
    "plt.show()\n",
    "print(data)"
   ]
  },
  {
   "cell_type": "code",
   "execution_count": 52,
   "metadata": {},
   "outputs": [
    {
     "data": {
      "image/png": "[encoded data removed]",
      "text/plain": [
       "<Figure size 1000x1000 with 10 Axes>"
      ]
     },
     "metadata": {},
     "output_type": "display_data"
    }
   ],
   "source": [
    "\n",
    "# 创建一个 3x3 的子图网格\n",
    "fig, axes = plt.subplots(3, 3, figsize=(10, 10))\n",
    "\n",
    "# 遍历每个子图并绘制热图\n",
    "for i, ax in enumerate(axes.flat):  # axes.flat 将 3x3 网格展平为一维数组\n",
    "    h=m[i+1].covar_module.data_covar_module.domain_coefficient\n",
    "    h=torch.tanh(h)\n",
    "    data=torch.outer(h.T,h).detach().numpy()\n",
    "    np.fill_diagonal(data, 1)\n",
    "    im = ax.imshow(data, cmap='viridis')\n",
    "    ax.set_title(f'Fold {i+1}; NLL:{round(nlls[i+1],3)}')  # 设置每个热图的标题\n",
    "\n",
    "# 调整子图间的间距\n",
    "plt.tight_layout()\n",
    "\n",
    "# 为最后一个热图添加颜色条\n",
    "fig.colorbar(im, ax=axes.ravel().tolist())  # 使用最后一个图的颜色条\n",
    "\n",
    "# 显示图像\n",
    "plt.show()"
   ]
  },
  {
   "cell_type": "code",
   "execution_count": 46,
   "metadata": {},
   "outputs": [],
   "source": [
    "\n",
    "# param_grid = {\n",
    "#     'models':[Linear_Model_Of_Corregionalization,MultitaskGP],\n",
    "#     'kernels': [Quadriple_Kernel_Exponential_Squared],\n",
    "#     'lrs': torch.log(torch.logspace(0.003,0.3,5)).tolist(),\n",
    "#     'gammas':torch.linspace(0.2,0.8,5).tolist(),\n",
    "#     'STEP_SIZEs':torch.linspace(10,100,5).tolist()\n",
    "# }\n",
    "\n",
    "# param_grid = {\n",
    "#     'models':[Linear_Model_Of_Corregionalization],\n",
    "#     'kernels': [RBFKernel],\n",
    "#     'lrs': [0.69 ],\n",
    "#     'gammas':[0.5],\n",
    "#     'STEP_SIZEs':[33]\n",
    "# }\n",
    "\n",
    "\n",
    "# param_combinations = list(product(*param_grid.values()))"
   ]
  },
  {
   "cell_type": "code",
   "execution_count": 47,
   "metadata": {},
   "outputs": [],
   "source": [
    "# for each_param in param_combinations:\n",
    "#     Global.lr=each_param[2]\n",
    "#     Global.gamma=each_param[3]\n",
    "#     Global.STEP_SIZE=each_param[4]\n",
    "#     run_test(X_train_tensor,y_train_tensor,X_test_tensor,y_test_tensor,model=each_param[0],kernel=each_param[1],config=Global)"
   ]
  },
  {
   "cell_type": "code",
   "execution_count": 48,
   "metadata": {},
   "outputs": [],
   "source": [
    "if USE_TOY_DATASET == True:\n",
    "    # Get into evaluation (predictive posterior) mode\n",
    "    model.eval()\n",
    "    likelihood.eval()\n",
    "\n",
    "    # Test points are regularly spaced along [0,1]\n",
    "    # Make predictions by feeding model through likelihood\n",
    "    with torch.no_grad(), gpytorch.settings.fast_pred_var():\n",
    "        observed_pred = likelihood(model(X_test_tensor))\n",
    "\n",
    "    with torch.no_grad():\n",
    "        # Initialize plot\n",
    "        f, ax = plt.subplots(1, 3, figsize=(12, 3))\n",
    "\n",
    "        lower, upper = observed_pred.confidence_region()\n",
    "        mean=observed_pred.mean.numpy()\n",
    "        for i in range(3):\n",
    "            ax[i].plot(X_test_tensor[i*50:(i+1)*50,1:].squeeze().numpy(),mean[i*50:(i+1)*50], 'k*')\n",
    "            ax[i].fill_between(X_test_tensor[i*50:(i+1)*50,1:].flatten().numpy(), lower[i*50:(i+1)*50].squeeze().numpy(), upper[i*50:(i+1)*50].squeeze().numpy(), alpha=0.5)\n",
    "            ax[i].set_ylim([-3, 3])\n",
    "            ax[i].legend(['Observed Data', 'Mean', 'Confidence'])\n"
   ]
  }
 ],
 "metadata": {
  "kernelspec": {
   "display_name": "base",
   "language": "python",
   "name": "python3"
  },
  "language_info": {
   "codemirror_mode": {
    "name": "ipython",
    "version": 3
   },
   "file_extension": ".py",
   "mimetype": "text/x-python",
   "name": "python",
   "nbconvert_exporter": "python",
   "pygments_lexer": "ipython3",
   "version": "3.12.4"
  }
 },
 "nbformat": 4,
 "nbformat_minor": 2
}
